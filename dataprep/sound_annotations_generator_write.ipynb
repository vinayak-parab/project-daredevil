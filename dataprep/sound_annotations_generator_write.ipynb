{
 "cells": [
  {
   "cell_type": "code",
   "execution_count": 16,
   "metadata": {},
   "outputs": [],
   "source": [
    "# Clip dataset\n",
    "import numpy as np\n",
    "import os\n",
    "import json\n",
    "import datetime\n",
    "from subprocess import Popen, PIPE, run\n",
    "import re"
   ]
  },
  {
   "cell_type": "markdown",
   "metadata": {},
   "source": [
    "# Todo : Generalise a bit better"
   ]
  },
  {
   "cell_type": "code",
   "execution_count": 17,
   "metadata": {},
   "outputs": [],
   "source": [
    "root_dir = \"/hdd/sound_sn/SoccerNet-code/data/\"\n",
    "train_file = \"/hdd/SoccerNet-code/data/listgame_Train_300.npy\"\n",
    "valid_file = \"/hdd/SoccerNet-code/data/listgame_Valid_100.npy\"\n",
    "test_file = \"/hdd/SoccerNet-code/data/listgame_Test_100.npy\""
   ]
  },
  {
   "cell_type": "markdown",
   "metadata": {},
   "source": [
    "# load integrity of dicts"
   ]
  },
  {
   "cell_type": "code",
   "execution_count": 23,
   "metadata": {},
   "outputs": [],
   "source": [
    "with open('train_lang_dict.json','r') as fp:\n",
    "        train_lang_load = json.load(fp)"
   ]
  },
  {
   "cell_type": "code",
   "execution_count": 24,
   "metadata": {},
   "outputs": [],
   "source": [
    "with open('valid_lang_dict.json','r') as fp:\n",
    "        valid_lang_load = json.load(fp)"
   ]
  },
  {
   "cell_type": "code",
   "execution_count": 25,
   "metadata": {},
   "outputs": [],
   "source": [
    "with open('test_lang_dict.json','r') as fp:\n",
    "        test_lang_load = json.load(fp)"
   ]
  },
  {
   "cell_type": "markdown",
   "metadata": {},
   "source": [
    "# read dict and write labels to folders"
   ]
  },
  {
   "cell_type": "code",
   "execution_count": 42,
   "metadata": {},
   "outputs": [],
   "source": [
    "def write_lang_label(root_dir,soccer_game_path, lang,verbose=False):\n",
    "    \"\"\" writes a file 'lang_label.json' that contains information of language used in soccer matches\n",
    "    \"\"\"\n",
    "    if verbose:\n",
    "        print(root_dir+soccer_game_path, lang)\n",
    "    \n",
    "    lang_label = {'lang': lang}\n",
    "    with open(root_dir+soccer_game_path+'/'+'lang_label_test.json','w') as fp:\n",
    "        json.dump(lang_label,fp)\n",
    "        fp.close()"
   ]
  },
  {
   "cell_type": "markdown",
   "metadata": {},
   "source": [
    "# Write to train, valid and test"
   ]
  },
  {
   "cell_type": "code",
   "execution_count": 43,
   "metadata": {},
   "outputs": [],
   "source": [
    "npy_file_train = np.load(train_file)\n",
    "\n",
    "for e in npy_file:\n",
    "    write_lang_label(root_dir,e,train_lang_load[e])    "
   ]
  },
  {
   "cell_type": "code",
   "execution_count": 44,
   "metadata": {},
   "outputs": [],
   "source": [
    "npy_file_valid = np.load(valid_file)\n",
    "\n",
    "for e in npy_file_valid:\n",
    "    write_lang_label(root_dir,e,valid_lang_load[e])    "
   ]
  },
  {
   "cell_type": "code",
   "execution_count": 45,
   "metadata": {},
   "outputs": [],
   "source": [
    "npy_file_test = np.load(test_file)\n",
    "\n",
    "for e in npy_file_test:\n",
    "    write_lang_label(root_dir,e,test_lang_load[e])    "
   ]
  },
  {
   "cell_type": "markdown",
   "metadata": {},
   "source": [
    "# Generate train_file_sound that pairs with npy_file for training\n"
   ]
  },
  {
   "cell_type": "code",
   "execution_count": 10,
   "metadata": {},
   "outputs": [],
   "source": [
    "# Todo : use train_file to read in sound_labels.txt"
   ]
  },
  {
   "cell_type": "code",
   "execution_count": 135,
   "metadata": {},
   "outputs": [
    {
     "name": "stdout",
     "output_type": "stream",
     "text": [
      "/home/olav/master\n"
     ]
    }
   ],
   "source": [
    "%%bash\n",
    "pwd"
   ]
  },
  {
   "cell_type": "code",
   "execution_count": 136,
   "metadata": {},
   "outputs": [],
   "source": [
    "import json"
   ]
  },
  {
   "cell_type": "code",
   "execution_count": 137,
   "metadata": {},
   "outputs": [],
   "source": [
    "soundlabel = {'label':'german'}"
   ]
  },
  {
   "cell_type": "code",
   "execution_count": 138,
   "metadata": {},
   "outputs": [],
   "source": [
    "with open('soundlabel.json','w') as fp:\n",
    "    json.dump(soundlabel,fp)"
   ]
  },
  {
   "cell_type": "code",
   "execution_count": 18,
   "metadata": {},
   "outputs": [],
   "source": [
    "with open('testlabel.json', 'r') as fp:\n",
    "    data = json.load(fp)"
   ]
  },
  {
   "cell_type": "code",
   "execution_count": 139,
   "metadata": {},
   "outputs": [
    {
     "data": {
      "text/plain": [
       "{'label': 'german'}"
      ]
     },
     "execution_count": 139,
     "metadata": {},
     "output_type": "execute_result"
    }
   ],
   "source": [
    "data"
   ]
  },
  {
   "cell_type": "code",
   "execution_count": null,
   "metadata": {},
   "outputs": [],
   "source": []
  }
 ],
 "metadata": {
  "kernelspec": {
   "display_name": "project-pheonix",
   "language": "python",
   "name": "project-pheonix"
  },
  "language_info": {
   "codemirror_mode": {
    "name": "ipython",
    "version": 3
   },
   "file_extension": ".py",
   "mimetype": "text/x-python",
   "name": "python",
   "nbconvert_exporter": "python",
   "pygments_lexer": "ipython3",
   "version": "3.6.9"
  }
 },
 "nbformat": 4,
 "nbformat_minor": 2
}
