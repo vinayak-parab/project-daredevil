{
 "cells": [
  {
   "cell_type": "markdown",
   "metadata": {},
   "source": [
    "# Todo\n",
    "\n",
    "# 1. print annotations\n",
    "# 2. print language annotations\n",
    "# 3. add ability to pick a subset containing specific languages (list of languages as parameter maybe?)\n",
    "\n"
   ]
  },
  {
   "cell_type": "code",
   "execution_count": 44,
   "metadata": {},
   "outputs": [],
   "source": [
    "\n",
    "\n",
    "# dataset for sound\n",
    "from torch.utils.data import Dataset, DataLoader\n",
    "import numpy as np\n",
    "import torch\n",
    "import os\n",
    "import json\n",
    "import torchvision\n",
    "import datetime\n",
    "from subprocess import Popen, PIPE\n",
    "import re\n",
    "\n",
    "class soccernet_dataset_sound(Dataset):\n",
    "    \"\"\"Soccernet Dataset\"\"\"\n",
    "    \n",
    "    def __init__(self,npy_file,\n",
    "                 root_dir):\n",
    "        self.npy_file = np.load(npy_file)\n",
    "        self.samples = list()\n",
    "        self.root_dir = root_dir\n",
    "        for e in self.npy_file:\n",
    "            path, annotations = self.get_annotations(e)\n",
    "            language = self.get_lang_label(e)\n",
    "\n",
    "            for annotation in annotations:\n",
    "                # Check that annotations hold correct labels\n",
    "                        if (\"card\" in annotation[\"label\"]) or (\"subs\" in annotation[\"label\"]) or (\"soccer\" in annotation[\"label\"]):\n",
    "                            self.samples.append([path,annotation,\"soccernet\",language])\n",
    "\n",
    "\n",
    "    def __len__(self):\n",
    "        return len(self.samples)\n",
    "\n",
    "    def __getitem__(self,idx):\n",
    "        \"\"\"Returns a sample containing video path, clip and label\"\"\"\n",
    "        if torch.is_tensor(idx):\n",
    "            idx.tolist()\n",
    "        \n",
    "        # get annotations\n",
    "        time_half = int(self.samples[idx][1][\"gameTime\"][0])\n",
    "        time_minute = int(self.samples[idx][1][\"gameTime\"][-5:-3])\n",
    "        time_second = int(self.samples[idx][1][\"gameTime\"][-2:])\n",
    "        annotation = self.samples[idx][1]\n",
    "        \n",
    "\n",
    "        # Get label\n",
    "        if (\"card\" in annotation[\"label\"]): label = 0\n",
    "        elif (\"subs\" in annotation[\"label\"]): label = 1\n",
    "        elif (\"soccer\" in annotation[\"label\"]): label = 2\n",
    "        elif (\"background\" in annotation[\"label\"]): label = 3\n",
    "        else: \n",
    "            print(\"Warning, label not compatible with set\")\n",
    "            return\n",
    "            \n",
    "        vidpath = str(self.samples[idx][0])\n",
    "\n",
    "        sample = {'vidpath': vidpath,'annotation':annotation,'label':label,'lang':self.samples[idx][3],'idx':idx}\n",
    "        \n",
    "        return sample\n",
    "            \n",
    "    def get_annotations(self,path):\n",
    "        \"\"\" Reads json files and returns \"\"\"\n",
    "        with open(self.root_dir+path+\"/Labels.json\") as jsonfile:\n",
    "            json_label = json.load(jsonfile)\n",
    "        \n",
    "        labels = [e for e in json_label['annotations']]\n",
    "        \n",
    "        return path,labels\n",
    "    \n",
    "\n",
    "    def get_lang_label(self,path):\n",
    "        \"\"\" Reads json files and returns \"\"\"\n",
    "        with open(self.root_dir+path+\"/lang_label_test.json\") as jsonfile:\n",
    "            json_label = json.load(jsonfile)\n",
    "        \n",
    "        return json_label\n",
    "\n",
    "\n",
    "    def describe(self):\n",
    "        card = 0\n",
    "        subs = 0\n",
    "        goal = 0\n",
    "        background = 0\n",
    "\n",
    "        for sample in self.samples:\n",
    "            annotation = sample[1]\n",
    "        # Get label\n",
    "            if (\"card\" in annotation[\"label\"]): card += 1\n",
    "            elif (\"subs\" in annotation[\"label\"]): subs +=1\n",
    "            elif (\"soccer\" in annotation[\"label\"]): goal += 1\n",
    "            elif (\"background\" in annotation[\"label\"]): background += 1\n",
    "\n",
    "        print(\"Description of dataset\\n\\n\")\n",
    "        print(\"\\n ********* Classes *********\")\n",
    "        print(\"\\n card = 0\\n subs = 1\\n goals = 2\\n background = 3\")\n",
    "\n",
    "        print(\"\\n ********* Distribution and count *********\")\n",
    "        print(f\"\\n N card: {card} \\n N subs: {subs} \\n N goal: {goal} \\n N background: {background} \\n \\n Total : {card+subs+goal+background}\")\n",
    "        \n",
    "        print(\"\\n\\n ********* Configuration *********\")\n",
    "        print(f\"\\n npy_file: {self.npy_file} \\n tshift: {self.tshift} \\n root_dir: {self.root_dir} \\n transform: {self.transform} \\n frame_center: {self.frame_center} \\n nframes: {self.nframes} \\n stride_frames: {self.stride_frames} \\n background: {self.background}\")\n",
    "        print(\"\\n\\n ********* End of description *********\")"
   ]
  },
  {
   "cell_type": "markdown",
   "metadata": {},
   "source": [
    "# Paths"
   ]
  },
  {
   "cell_type": "code",
   "execution_count": 45,
   "metadata": {},
   "outputs": [],
   "source": [
    "root_dir = \"/hdd/sound_sn/SoccerNet-code/data/\"\n",
    "train_file = \"/hdd/SoccerNet-code/data/listgame_Train_300.npy\"\n",
    "valid_file = \"/hdd/SoccerNet-code/data/listgame_Valid_100.npy\"\n",
    "test_file = \"/hdd/SoccerNet-code/data/listgame_Test_100.npy\""
   ]
  },
  {
   "cell_type": "markdown",
   "metadata": {},
   "source": [
    "# Test case"
   ]
  },
  {
   "cell_type": "code",
   "execution_count": 46,
   "metadata": {},
   "outputs": [],
   "source": [
    "npy_file = train_file"
   ]
  },
  {
   "cell_type": "code",
   "execution_count": 47,
   "metadata": {},
   "outputs": [],
   "source": [
    "sdata = soccernet_dataset_sound(root_dir=root_dir,npy_file=npy_file)"
   ]
  },
  {
   "cell_type": "code",
   "execution_count": 48,
   "metadata": {},
   "outputs": [
    {
     "data": {
      "text/plain": [
       "<__main__.soccernet_dataset_sound at 0x7f8338fd0a20>"
      ]
     },
     "execution_count": 48,
     "metadata": {},
     "output_type": "execute_result"
    }
   ],
   "source": [
    "sdata"
   ]
  },
  {
   "cell_type": "code",
   "execution_count": 49,
   "metadata": {},
   "outputs": [
    {
     "data": {
      "text/plain": [
       "{'vidpath': 'england_epl/2014-2015/2015-02-21 - 18-00 Chelsea 1 - 1 Burnley',\n",
       " 'annotation': {'gameTime': '1 - 13:10',\n",
       "  'label': 'soccer-ball',\n",
       "  'team': 'home'},\n",
       " 'label': 2,\n",
       " 'lang': {'lang': 'esp'},\n",
       " 'idx': 0}"
      ]
     },
     "execution_count": 49,
     "metadata": {},
     "output_type": "execute_result"
    }
   ],
   "source": [
    "sdata[0]"
   ]
  },
  {
   "cell_type": "code",
   "execution_count": 43,
   "metadata": {},
   "outputs": [
    {
     "data": {
      "text/plain": [
       "{'vidpath': 'england_epl/2014-2015/2015-02-21 - 18-00 Crystal Palace 1 - 2 Arsenal',\n",
       " 'annotation': {'gameTime': '1 - 45:07',\n",
       "  'label': 'soccer-ball',\n",
       "  'team': 'away'},\n",
       " 'label': 2,\n",
       " 'idx': 13}"
      ]
     },
     "execution_count": 43,
     "metadata": {},
     "output_type": "execute_result"
    }
   ],
   "source": [
    "sdata[13]"
   ]
  },
  {
   "cell_type": "markdown",
   "metadata": {},
   "source": [
    "# TODO : Create custom sampler for language, home away team etc\n",
    "\n",
    "1. Need ability to sample based on language, team etc without creating horrible imbalances"
   ]
  },
  {
   "cell_type": "code",
   "execution_count": null,
   "metadata": {},
   "outputs": [],
   "source": []
  },
  {
   "cell_type": "markdown",
   "metadata": {},
   "source": [
    "# Load .wav\n",
    "\n",
    "1. load .wav at specific point in time\n",
    "    - Evaluate how much ram is used\n",
    "    - visually look at wave format\n",
    "    - Convert to Spectogram with window sizes of 10-15 ms\n",
    "    \n",
    "2. Train and test a simple model based on wave data or spectogram. ( .. classification task, with small temporal windows at first .. use dataloader as in clipdataset )"
   ]
  },
  {
   "cell_type": "code",
   "execution_count": null,
   "metadata": {},
   "outputs": [],
   "source": [
    "import torchaudio"
   ]
  }
 ],
 "metadata": {
  "kernelspec": {
   "display_name": "Python 3",
   "language": "python",
   "name": "python3"
  },
  "language_info": {
   "codemirror_mode": {
    "name": "ipython",
    "version": 3
   },
   "file_extension": ".py",
   "mimetype": "text/x-python",
   "name": "python",
   "nbconvert_exporter": "python",
   "pygments_lexer": "ipython3",
   "version": "3.6.9"
  }
 },
 "nbformat": 4,
 "nbformat_minor": 2
}
