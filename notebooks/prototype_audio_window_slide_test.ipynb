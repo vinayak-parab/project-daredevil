{
 "cells": [
  {
   "cell_type": "code",
   "execution_count": 1,
   "metadata": {},
   "outputs": [
    {
     "name": "stderr",
     "output_type": "stream",
     "text": [
      "/home/oarongve/.local/share/virtualenvs/project-daredevil-8eBKzQn6/lib/python3.6/site-packages/torchaudio/backend/utils.py:54: UserWarning: \"sox\" backend is being deprecated. The default backend will be changed to \"sox_io\" backend in 0.8.0 and \"sox\" backend will be removed in 0.9.0. Please migrate to \"sox_io\" backend. Please refer to https://github.com/pytorch/audio/issues/903 for the detail.\n",
      "  '\"sox\" backend is being deprecated. '\n"
     ]
    }
   ],
   "source": [
    "import numpy as np\n",
    "import os, sys\n",
    "sys.path.append('../')\n",
    "from src.datasets.soccernet_generic import soccernet_dataset_generic\n",
    "from src.utils.helper import samples_by_language\n",
    "import src.utils.training_helper as training_helper\n",
    "import torch\n",
    "from torch.utils.data import Dataset, DataLoader"
   ]
  },
  {
   "cell_type": "code",
   "execution_count": 2,
   "metadata": {},
   "outputs": [],
   "source": [
    "root_dir = \"/work/oarongve/data/sound_dataset/SoccerNet-code/data/\"\n",
    "train_list = \"/work/oarongve/data/sound_dataset/SoccerNet-code/data/listgame_Train_300.npy\"\n",
    "valid_list = \"/work/oarongve/data/sound_dataset/SoccerNet-code/data/listgame_Valid_100.npy\"\n",
    "test_list = \"/work/oarongve/data/sound_dataset/SoccerNet-code/data/listgame_Test_100.npy\"\n"
   ]
  },
  {
   "cell_type": "code",
   "execution_count": 3,
   "metadata": {},
   "outputs": [],
   "source": [
    "# Disable warnings\n",
    "import warnings\n",
    "warnings.filterwarnings('ignore')"
   ]
  },
  {
   "cell_type": "code",
   "execution_count": 4,
   "metadata": {},
   "outputs": [
    {
     "name": "stdout",
     "output_type": "stream",
     "text": [
      "Mon Dec 14 00:28:22 2020       \n",
      "+-----------------------------------------------------------------------------+\n",
      "| NVIDIA-SMI 418.165.02   Driver Version: 418.165.02   CUDA Version: 10.1     |\n",
      "|-------------------------------+----------------------+----------------------+\n",
      "| GPU  Name        Persistence-M| Bus-Id        Disp.A | Volatile Uncorr. ECC |\n",
      "| Fan  Temp  Perf  Pwr:Usage/Cap|         Memory-Usage | GPU-Util  Compute M. |\n",
      "|===============================+======================+======================|\n",
      "|   0  Tesla V100-SXM3...  On   | 00000000:BE:00.0 Off |                    0 |\n",
      "| N/A   34C    P0    49W / 350W |      0MiB / 32480MiB |      0%      Default |\n",
      "+-------------------------------+----------------------+----------------------+\n",
      "                                                                               \n",
      "+-----------------------------------------------------------------------------+\n",
      "| Processes:                                                       GPU Memory |\n",
      "|  GPU       PID   Type   Process name                             Usage      |\n",
      "|=============================================================================|\n",
      "|  No running processes found                                                 |\n",
      "+-----------------------------------------------------------------------------+\n"
     ]
    }
   ],
   "source": [
    "%%bash\n",
    "nvidia-smi"
   ]
  },
  {
   "cell_type": "code",
   "execution_count": 5,
   "metadata": {},
   "outputs": [],
   "source": [
    "langpath_train = '/work/oarongve/project-daredevil/project-daredevil/language-annotations/annotations/train_lang_dict.json'\n",
    "langpath_valid = '/work/oarongve/project-daredevil/project-daredevil/language-annotations/annotations/valid_lang_dict.json'\n",
    "langpath_test = '/work/oarongve/project-daredevil/project-daredevil/language-annotations/annotations/test_lang_dict.json'\n",
    "\n",
    "samples_train_all = samples_by_language(langpath_train,train_list,'all')\n",
    "samples_valid_all = samples_by_language(langpath_valid,valid_list,'all')\n",
    "samples_test_all = samples_by_language(langpath_test,test_list,'all')\n"
   ]
  },
  {
   "cell_type": "code",
   "execution_count": 6,
   "metadata": {},
   "outputs": [],
   "source": [
    "train_set_all = soccernet_dataset_generic(npy_file=train_list,root_dir=root_dir,lang='all',lang_dict=langpath_train)\n",
    "valid_set_all = soccernet_dataset_generic(npy_file=valid_list,root_dir=root_dir,lang='all',lang_dict=langpath_valid)\n",
    "test_set_all = soccernet_dataset_generic(npy_file=valid_list,root_dir=root_dir,lang='all',lang_dict=langpath_valid)\n"
   ]
  },
  {
   "cell_type": "code",
   "execution_count": 7,
   "metadata": {},
   "outputs": [],
   "source": [
    "params = {'batch_size': 32,\n",
    "         'shuffle': True,\n",
    "         'num_workers':4}\n",
    "\n",
    "# window size\n",
    "\n",
    "w = 8\n",
    "\n",
    "device = torch.device(\"cuda:0\" if torch.cuda.is_available() else \"cpu\")"
   ]
  },
  {
   "cell_type": "code",
   "execution_count": 8,
   "metadata": {},
   "outputs": [
    {
     "name": "stderr",
     "output_type": "stream",
     "text": [
      "100%|██████████| 300/300 [00:42<00:00,  7.02it/s]\n",
      "100%|██████████| 100/100 [00:17<00:00,  5.77it/s]\n",
      "100%|██████████| 100/100 [00:17<00:00,  5.78it/s]\n",
      "100%|██████████| 300/300 [00:17<00:00, 17.31it/s]\n",
      "100%|██████████| 100/100 [00:05<00:00, 17.48it/s]\n",
      "100%|██████████| 100/100 [00:05<00:00, 17.66it/s]\n",
      "100%|██████████| 300/300 [00:03<00:00, 83.00it/s]\n",
      "100%|██████████| 100/100 [00:01<00:00, 87.08it/s]\n",
      "100%|██████████| 100/100 [00:01<00:00, 87.70it/s]\n"
     ]
    }
   ],
   "source": [
    "train_set_all.load_waves()\n",
    "valid_set_all.load_waves()\n",
    "test_set_all.load_waves()\n",
    "\n",
    "train_set_all.generate_mel_spectrograms(load_features=True)\n",
    "valid_set_all.generate_mel_spectrograms(load_features=True)\n",
    "test_set_all.generate_mel_spectrograms(load_features=True)\n",
    "\n",
    "train_set_all.load_resnet_features()\n",
    "valid_set_all.load_resnet_features()\n",
    "test_set_all.load_resnet_features()"
   ]
  },
  {
   "cell_type": "code",
   "execution_count": 9,
   "metadata": {},
   "outputs": [],
   "source": [
    "# window size\n",
    "train_set_all.set_window_size(w)\n",
    "valid_set_all.set_window_size(w)\n"
   ]
  },
  {
   "cell_type": "code",
   "execution_count": 10,
   "metadata": {},
   "outputs": [],
   "source": [
    "trainloader_all = DataLoader(train_set_all,**params)\n",
    "validloader_all = DataLoader(valid_set_all,**params)\n"
   ]
  },
  {
   "cell_type": "code",
   "execution_count": 11,
   "metadata": {},
   "outputs": [
    {
     "data": {
      "text/plain": [
       "torch.Size([128, 320])"
      ]
     },
     "execution_count": 11,
     "metadata": {},
     "output_type": "execute_result"
    }
   ],
   "source": [
    "train_set_all[0]['ms_spot'].shape"
   ]
  },
  {
   "cell_type": "markdown",
   "metadata": {},
   "source": [
    "# Case 1: Trained on all, test and evaluate on all, english, other"
   ]
  },
  {
   "cell_type": "code",
   "execution_count": 13,
   "metadata": {},
   "outputs": [],
   "source": [
    "window_positions = ['center','forward','back']"
   ]
  },
  {
   "cell_type": "code",
   "execution_count": 16,
   "metadata": {},
   "outputs": [],
   "source": [
    "import torchvision\n",
    "import torch.optim as optim\n",
    "import torch.nn as nn\n",
    "def generate_model():\n",
    "    model = torchvision.models.resnet18(pretrained=True)\n",
    "    model.conv1 = nn.Conv2d(1,64,kernel_size=(7,7),stride=(2,2),padding=(3,3),bias=False)\n",
    "    model.fc = nn.Linear(512,4,bias=True)\n",
    "    #resnet.features.conv0 = nn.Conv2d(1, 96, kernel_size=(7, 7), stride=(2, 2), padding=(3, 3), bias=False)\n",
    "    #resnet.classifier = nn.Linear(in_features=densenet.classifier.in_features, out_features=3,bias=True)\n",
    "\n",
    "\n",
    "    criterion = nn.CrossEntropyLoss()\n",
    "    optimizer = optim.SGD(model.parameters(), lr=0.001, momentum=0.9)\n",
    "    return model, criterion,optimizer"
   ]
  },
  {
   "cell_type": "code",
   "execution_count": 17,
   "metadata": {},
   "outputs": [
    {
     "name": "stdout",
     "output_type": "stream",
     "text": [
      "new best acc\n",
      " Accuracy : 0.6066666841506958\n",
      "new best acc\n",
      " Accuracy : 0.681538462638855\n",
      " Accuracy : 0.5917948484420776\n",
      " Accuracy : 0.6507692337036133\n",
      " Accuracy : 0.6441025733947754\n",
      " Accuracy : 0.4984615445137024\n",
      " Accuracy : 0.6487179398536682\n",
      " Accuracy : 0.6743589639663696\n",
      " Accuracy : 0.6179487109184265\n",
      "new best acc\n",
      " Accuracy : 0.7128205299377441\n",
      "new best acc\n",
      " Accuracy : 0.7133333086967468\n",
      "new best acc\n",
      " Accuracy : 0.717435896396637\n",
      " Accuracy : 0.7158974409103394\n",
      "new best acc\n",
      " Accuracy : 0.7189743518829346\n",
      " Accuracy : 0.7158974409103394\n",
      " Accuracy : 0.7041025757789612\n",
      " Accuracy : 0.7107692360877991\n",
      " Accuracy : 0.7184615135192871\n",
      " Accuracy : 0.7143589854240417\n",
      " Accuracy : 0.7123076915740967\n",
      " Accuracy : 0.7092307806015015\n",
      " Accuracy : 0.7138461470603943\n",
      " Accuracy : 0.7148718237876892\n",
      " Accuracy : 0.7097436189651489\n",
      " Accuracy : 0.708717942237854\n",
      "Finished Training\n",
      "Accuracy : 0.7189743518829346\n",
      "new best acc\n",
      " Accuracy : 0.6066666841506958\n",
      "new best acc\n",
      " Accuracy : 0.6143589615821838\n",
      " Accuracy : 0.6117948889732361\n",
      "new best acc\n",
      " Accuracy : 0.6502563953399658\n",
      " Accuracy : 0.552307665348053\n",
      " Accuracy : 0.6394872069358826\n",
      " Accuracy : 0.6041025519371033\n",
      " Accuracy : 0.6189743876457214\n",
      " Accuracy : 0.5579487085342407\n",
      "new best acc\n",
      " Accuracy : 0.6764102578163147\n",
      " Accuracy : 0.6764102578163147\n",
      "new best acc\n",
      " Accuracy : 0.6784615516662598\n",
      " Accuracy : 0.6712820529937744\n",
      "new best acc\n",
      " Accuracy : 0.6794871687889099\n",
      "new best acc\n",
      " Accuracy : 0.6820513010025024\n",
      " Accuracy : 0.6774358749389648\n",
      " Accuracy : 0.6784615516662598\n",
      "new best acc\n",
      " Accuracy : 0.6825640797615051\n",
      " Accuracy : 0.6784615516662598\n",
      " Accuracy : 0.6794871687889099\n",
      " Accuracy : 0.6764102578163147\n",
      " Accuracy : 0.6825640797615051\n",
      " Accuracy : 0.6800000071525574\n",
      " Accuracy : 0.6784615516662598\n",
      " Accuracy : 0.6794871687889099\n",
      "Finished Training\n",
      "Accuracy : 0.6825640797615051\n",
      "new best acc\n",
      " Accuracy : 0.44871795177459717\n",
      "new best acc\n",
      " Accuracy : 0.5733333230018616\n",
      " Accuracy : 0.54666668176651\n",
      " Accuracy : 0.5015384554862976\n",
      " Accuracy : 0.48153847455978394\n",
      " Accuracy : 0.563076913356781\n",
      "new best acc\n",
      " Accuracy : 0.5846154093742371\n",
      " Accuracy : 0.37487179040908813\n",
      "new best acc\n",
      " Accuracy : 0.59025639295578\n",
      "new best acc\n",
      " Accuracy : 0.6399999856948853\n",
      "new best acc\n",
      " Accuracy : 0.645641028881073\n",
      "new best acc\n",
      " Accuracy : 0.6523076891899109\n",
      " Accuracy : 0.6476923227310181\n",
      " Accuracy : 0.6471794843673706\n",
      " Accuracy : 0.6502563953399658\n",
      " Accuracy : 0.6502563953399658\n",
      "new best acc\n",
      " Accuracy : 0.6528205275535583\n",
      " Accuracy : 0.6482051014900208\n",
      "new best acc\n",
      " Accuracy : 0.6538461446762085\n",
      " Accuracy : 0.6502563953399658\n",
      "new best acc\n",
      " Accuracy : 0.654358983039856\n",
      " Accuracy : 0.6538461446762085\n",
      " Accuracy : 0.6528205275535583\n",
      " Accuracy : 0.653333306312561\n",
      " Accuracy : 0.6497436165809631\n",
      "Finished Training\n",
      "Accuracy : 0.654358983039856\n"
     ]
    }
   ],
   "source": [
    "window_pos_accs = list()\n",
    "for pos in window_positions:\n",
    "    train_set_all.set_window_position(pos)\n",
    "    valid_set_all.set_window_position(pos)\n",
    "    \n",
    "    trainloader = DataLoader(train_set_all,**params)\n",
    "    validloader = DataLoader(valid_set_all,**params)\n",
    "    \n",
    "    model, criterion,optimizer = generate_model()\n",
    "    # Scheduler\n",
    "    scheduler = torch.optim.lr_scheduler.StepLR(optimizer, 10, gamma=0.1)\n",
    "    resnet,eng = training_helper.train_model_ws(model=model,\n",
    "           epochs=25,\n",
    "           trainloader=trainloader,\n",
    "           validloader=validloader,\n",
    "           criterion=criterion,\n",
    "           optimizer=optimizer,\n",
    "           scheduler=scheduler,\n",
    "           device=device,\n",
    "        tensorboard_name=\"window_size_25e_v5_\"+str(pos))\n",
    "    \n",
    "    best_acc = training_helper.evaluate_model(resnet,validloader,device)\n",
    "    window_pos_accs.append(best_acc)\n",
    "    "
   ]
  },
  {
   "cell_type": "code",
   "execution_count": 18,
   "metadata": {},
   "outputs": [
    {
     "name": "stdout",
     "output_type": "stream",
     "text": [
      "[tensor(0.7190), tensor(0.6826), tensor(0.6544)]\n"
     ]
    }
   ],
   "source": [
    "print(window_pos_accs)"
   ]
  },
  {
   "cell_type": "code",
   "execution_count": null,
   "metadata": {},
   "outputs": [],
   "source": []
  }
 ],
 "metadata": {
  "kernelspec": {
   "display_name": "project-daredevil",
   "language": "python",
   "name": "project-daredevil"
  },
  "language_info": {
   "codemirror_mode": {
    "name": "ipython",
    "version": 3
   },
   "file_extension": ".py",
   "mimetype": "text/x-python",
   "name": "python",
   "nbconvert_exporter": "python",
   "pygments_lexer": "ipython3",
   "version": "3.6.9"
  }
 },
 "nbformat": 4,
 "nbformat_minor": 2
}
