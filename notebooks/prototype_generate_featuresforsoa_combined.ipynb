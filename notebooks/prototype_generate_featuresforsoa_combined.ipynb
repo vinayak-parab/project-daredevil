{
 "cells": [
  {
   "cell_type": "code",
   "execution_count": 1,
   "metadata": {},
   "outputs": [
    {
     "name": "stderr",
     "output_type": "stream",
     "text": [
      "/home/oarongve/.local/share/virtualenvs/project-daredevil-8eBKzQn6/lib/python3.6/site-packages/torchaudio/backend/utils.py:54: UserWarning: \"sox\" backend is being deprecated. The default backend will be changed to \"sox_io\" backend in 0.8.0 and \"sox\" backend will be removed in 0.9.0. Please migrate to \"sox_io\" backend. Please refer to https://github.com/pytorch/audio/issues/903 for the detail.\n",
      "  '\"sox\" backend is being deprecated. '\n"
     ]
    }
   ],
   "source": [
    "import numpy as np\n",
    "import os, sys\n",
    "sys.path.append('../')\n",
    "from src.datasets.soccernet_generic_full_games_v2 import soccernet_dataset_generic\n",
    "from src.utils.helper import samples_by_language\n",
    "import src.utils.training_helper as training_helper\n",
    "import torch\n",
    "from torch.utils.data import Dataset, DataLoader"
   ]
  },
  {
   "cell_type": "code",
   "execution_count": 2,
   "metadata": {},
   "outputs": [],
   "source": [
    "root_dir = \"/work/oarongve/data/sound_dataset/SoccerNet-code/data/\"\n",
    "train_list = \"/work/oarongve/data/sound_dataset/SoccerNet-code/data/listgame_Train_300.npy\"\n",
    "valid_list = \"/work/oarongve/data/sound_dataset/SoccerNet-code/data/listgame_Valid_100.npy\"\n",
    "test_list = \"/work/oarongve/data/sound_dataset/SoccerNet-code/data/listgame_Test_100.npy\"\n"
   ]
  },
  {
   "cell_type": "code",
   "execution_count": 3,
   "metadata": {},
   "outputs": [],
   "source": [
    "# Disable warnings\n",
    "import warnings\n",
    "warnings.filterwarnings('ignore')"
   ]
  },
  {
   "cell_type": "code",
   "execution_count": 4,
   "metadata": {},
   "outputs": [
    {
     "name": "stdout",
     "output_type": "stream",
     "text": [
      "Mon Dec 14 22:06:19 2020       \n",
      "+-----------------------------------------------------------------------------+\n",
      "| NVIDIA-SMI 418.165.02   Driver Version: 418.165.02   CUDA Version: 10.1     |\n",
      "|-------------------------------+----------------------+----------------------+\n",
      "| GPU  Name        Persistence-M| Bus-Id        Disp.A | Volatile Uncorr. ECC |\n",
      "| Fan  Temp  Perf  Pwr:Usage/Cap|         Memory-Usage | GPU-Util  Compute M. |\n",
      "|===============================+======================+======================|\n",
      "|   0  Tesla V100-SXM3...  On   | 00000000:E7:00.0 Off |                    0 |\n",
      "| N/A   38C    P0    70W / 350W |   2743MiB / 32480MiB |      0%      Default |\n",
      "+-------------------------------+----------------------+----------------------+\n",
      "                                                                               \n",
      "+-----------------------------------------------------------------------------+\n",
      "| Processes:                                                       GPU Memory |\n",
      "|  GPU       PID   Type   Process name                             Usage      |\n",
      "|=============================================================================|\n",
      "|    0     24286      C   .../project-daredevil-8eBKzQn6/bin/python3  1327MiB |\n",
      "|    0     34200      C   .../project-daredevil-8eBKzQn6/bin/python3  1403MiB |\n",
      "+-----------------------------------------------------------------------------+\n"
     ]
    }
   ],
   "source": [
    "%%bash\n",
    "nvidia-smi"
   ]
  },
  {
   "cell_type": "code",
   "execution_count": 5,
   "metadata": {},
   "outputs": [],
   "source": [
    "langpath_train = '/work/oarongve/project-daredevil/project-daredevil/language-annotations/annotations/train_lang_dict.json'\n",
    "langpath_valid = '/work/oarongve/project-daredevil/project-daredevil/language-annotations/annotations/valid_lang_dict.json'\n",
    "langpath_test = '/work/oarongve/project-daredevil/project-daredevil/language-annotations/annotations/test_lang_dict.json'\n",
    "\n",
    "samples_train_all = samples_by_language(langpath_train,train_list,'all')\n",
    "samples_valid_all = samples_by_language(langpath_valid,valid_list,'all')\n",
    "samples_test_all = samples_by_language(langpath_test,test_list,'all')\n"
   ]
  },
  {
   "cell_type": "code",
   "execution_count": null,
   "metadata": {},
   "outputs": [],
   "source": []
  },
  {
   "cell_type": "code",
   "execution_count": 6,
   "metadata": {},
   "outputs": [],
   "source": [
    "train_set_all = soccernet_dataset_generic(npy_file=train_list,root_dir=root_dir,lang='all',lang_dict=langpath_train)\n",
    "valid_set_all = soccernet_dataset_generic(npy_file=valid_list,root_dir=root_dir,lang='all',lang_dict=langpath_valid)\n"
   ]
  },
  {
   "cell_type": "code",
   "execution_count": 7,
   "metadata": {},
   "outputs": [
    {
     "name": "stderr",
     "output_type": "stream",
     "text": [
      "100%|██████████| 300/300 [00:52<00:00,  5.69it/s]\n",
      "100%|██████████| 100/100 [00:17<00:00,  5.73it/s]\n",
      "100%|██████████| 300/300 [00:17<00:00, 17.55it/s]\n",
      "100%|██████████| 100/100 [00:05<00:00, 17.70it/s]\n",
      "100%|██████████| 300/300 [00:03<00:00, 81.60it/s]\n",
      "100%|██████████| 100/100 [00:01<00:00, 82.40it/s]\n",
      "100%|██████████| 300/300 [00:03<00:00, 75.87it/s]\n",
      "100%|██████████| 100/100 [00:01<00:00, 77.80it/s]\n"
     ]
    }
   ],
   "source": [
    "train_set_all.load_waves()\n",
    "valid_set_all.load_waves()\n",
    "\n",
    "train_set_all.generate_mel_spectrograms(load_features=True)\n",
    "valid_set_all.generate_mel_spectrograms(load_features=True)\n",
    "\n",
    "train_set_all.load_resnet_features()\n",
    "valid_set_all.load_resnet_features()\n",
    "\n",
    "train_set_all.load_audio_resnet()\n",
    "valid_set_all.load_audio_resnet()"
   ]
  },
  {
   "cell_type": "code",
   "execution_count": 10,
   "metadata": {},
   "outputs": [],
   "source": [
    "resnet_visual = train_set_all[0]['resnet_features']\n",
    "resnet_audio = train_set_all[0]['resnet_audio_feature']"
   ]
  },
  {
   "cell_type": "code",
   "execution_count": 62,
   "metadata": {},
   "outputs": [
    {
     "name": "stdout",
     "output_type": "stream",
     "text": [
      "5602\n",
      "5397\n",
      "5397\n",
      "5586\n",
      "5399\n",
      "5375\n",
      "5817\n",
      "5680\n",
      "4818\n",
      "5672\n",
      "5399\n",
      "5530\n",
      "5398\n",
      "5604\n",
      "5495\n",
      "5399\n",
      "5400\n",
      "5399\n",
      "5604\n",
      "5888\n",
      "5683\n",
      "5593\n",
      "5741\n",
      "5721\n",
      "5390\n",
      "5695\n",
      "5584\n",
      "5398\n",
      "5399\n",
      "5397\n",
      "5399\n",
      "5398\n",
      "5425\n",
      "5912\n",
      "5399\n",
      "5381\n",
      "5660\n",
      "5399\n",
      "5399\n",
      "5399\n",
      "5399\n",
      "5399\n",
      "5857\n",
      "5482\n",
      "5399\n",
      "5957\n",
      "5400\n",
      "5825\n",
      "5395\n",
      "5649\n"
     ]
    }
   ],
   "source": [
    "for i in range(len(train_set_all)):\n",
    "    resnet_visual = train_set_all[i]['resnet_features']\n",
    "    resnet_audio = train_set_all[i]['resnet_audio_feature']\n",
    "    audio_shape, resnet_shape = resnet_audio.shape[0],resnet_visual.shape[0]\n",
    "\n",
    "    if audio_shape != resnet_shape:\n",
    "        cutoff = min(audio_shape,resnet_shape)\n",
    "        print(cutoff)\n",
    "        resnet_visual = resnet_visual[:cutoff,:]\n",
    "        resnet_audio = resnet_audio[:cutoff,:]\n",
    "    \n",
    "    ## normalize\n",
    "    resnet_visual = (resnet_visual - np.min(resnet_visual)) - (np.max(resnet_visual) - np.min(resnet_visual))\n",
    "    resnet_audio = (resnet_audio - np.min(resnet_audio)) - (np.max(resnet_audio) - np.min(resnet_audio)) \n",
    "    \n",
    "    half = train_set_all[i]['half']\n",
    "    path = root_dir+train_set_all[i]['vidpath']\n",
    "    savename = path+\"/audio_resnet_combined_norm_h\"+str(half)+\".npy\"\n",
    "    combined = np.concatenate((resnet_visual,resnet_audio),axis=1)\n",
    "    np.save(savename,combined)"
   ]
  },
  {
   "cell_type": "markdown",
   "metadata": {},
   "source": [
    "# Validset"
   ]
  },
  {
   "cell_type": "code",
   "execution_count": 10,
   "metadata": {},
   "outputs": [
    {
     "name": "stdout",
     "output_type": "stream",
     "text": [
      "5397\n",
      "5404\n",
      "5508\n",
      "5418\n",
      "5396\n",
      "5653\n",
      "5984\n",
      "5785\n",
      "5399\n",
      "5399\n",
      "5397\n",
      "5507\n",
      "5319\n",
      "5359\n"
     ]
    }
   ],
   "source": [
    "for i in range(len(valid_set_all)):\n",
    "    resnet_visual = valid_set_all[i]['resnet_features']\n",
    "    resnet_audio = valid_set_all[i]['resnet_audio_feature']\n",
    "    audio_shape, resnet_shape = resnet_audio.shape[0],resnet_visual.shape[0]\n",
    "    if audio_shape != resnet_shape:\n",
    "        cutoff = min(audio_shape,resnet_shape)\n",
    "        print(cutoff)\n",
    "        resnet_visual = resnet_visual[:cutoff,:]\n",
    "        resnet_audio = resnet_audio[:cutoff,:]\n",
    "    \n",
    "    ## normalize\n",
    "    resnet_visual = (resnet_visual - np.min(resnet_visual)) - (np.max(resnet_visual) - np.min(resnet_visual))\n",
    "    resnet_audio = (resnet_audio - np.min(resnet_audio)) - (np.max(resnet_audio) - np.min(resnet_audio)) \n",
    "    \n",
    "    half = valid_set_all[i]['half']\n",
    "    path = root_dir+valid_set_all[i]['vidpath']\n",
    "    savename = path+\"/audio_resnet_combined_norm_h\"+str(half)+\".npy\"\n",
    "    combined = np.concatenate((resnet_visual,resnet_audio),axis=1)\n",
    "    np.save(savename,combined)"
   ]
  },
  {
   "cell_type": "code",
   "execution_count": 11,
   "metadata": {},
   "outputs": [
    {
     "name": "stdout",
     "output_type": "stream",
     "text": [
      "5397\n",
      "5404\n",
      "5508\n",
      "5418\n",
      "5396\n",
      "5653\n",
      "5984\n",
      "5785\n",
      "5399\n",
      "5399\n",
      "5397\n",
      "5507\n",
      "5319\n",
      "5359\n"
     ]
    }
   ],
   "source": [
    "for i in range(len(valid_set_all)):\n",
    "    resnet_visual = valid_set_all[i]['resnet_features']\n",
    "    resnet_audio = valid_set_all[i]['resnet_audio_feature']\n",
    "    audio_shape, resnet_shape = resnet_audio.shape[0],resnet_visual.shape[0]\n",
    "    if audio_shape != resnet_shape:\n",
    "        cutoff = min(audio_shape,resnet_shape)\n",
    "        print(cutoff)\n",
    "        resnet_visual = resnet_visual[:cutoff,:]\n",
    "        resnet_audio = resnet_audio[:cutoff,:]\n",
    "    \n",
    "    ## normalize\n",
    "    #resnet_visual = (resnet_visual - np.min(resnet_visual)) - (np.max(resnet_visual) - np.min(resnet_visual))\n",
    "    #resnet_audio = (resnet_audio - np.min(resnet_audio)) - (np.max(resnet_audio) - np.min(resnet_audio)) \n",
    "    \n",
    "    half = valid_set_all[i]['half']\n",
    "    path = root_dir+valid_set_all[i]['vidpath']\n",
    "    savename = path+\"/audio_resnet_combined_h\"+str(half)+\".npy\"\n",
    "    combined = np.concatenate((resnet_visual,resnet_audio),axis=1)\n",
    "    np.save(savename,combined)"
   ]
  },
  {
   "cell_type": "markdown",
   "metadata": {},
   "source": [
    "# HERE: Test set"
   ]
  },
  {
   "cell_type": "code",
   "execution_count": 12,
   "metadata": {},
   "outputs": [
    {
     "name": "stderr",
     "output_type": "stream",
     "text": [
      "100%|██████████| 100/100 [00:18<00:00,  5.46it/s]\n",
      "100%|██████████| 100/100 [00:06<00:00, 16.09it/s]\n",
      "100%|██████████| 100/100 [00:01<00:00, 73.53it/s]\n",
      "100%|██████████| 100/100 [00:01<00:00, 74.06it/s]\n"
     ]
    }
   ],
   "source": [
    "\n",
    "test_set_all = soccernet_dataset_generic(npy_file=test_list,root_dir=root_dir,lang='all',lang_dict=langpath_test)\n",
    "test_set_all.load_waves()\n",
    "test_set_all.generate_mel_spectrograms(load_features=True)\n",
    "test_set_all.load_resnet_features()\n",
    "test_set_all.load_audio_resnet()\n"
   ]
  },
  {
   "cell_type": "code",
   "execution_count": 13,
   "metadata": {},
   "outputs": [
    {
     "name": "stdout",
     "output_type": "stream",
     "text": [
      "6086\n",
      "5679\n",
      "5613\n",
      "5399\n",
      "5611\n",
      "5511\n",
      "5399\n",
      "5778\n",
      "5399\n",
      "5398\n",
      "5084\n",
      "5854\n",
      "5393\n",
      "5398\n",
      "5398\n",
      "5396\n",
      "5398\n",
      "5398\n",
      "5398\n",
      "5621\n",
      "5394\n",
      "5393\n",
      "5848\n",
      "5399\n",
      "5399\n"
     ]
    }
   ],
   "source": [
    "for i in range(len(test_set_all)):\n",
    "    resnet_visual = test_set_all[i]['resnet_features']\n",
    "    resnet_audio = test_set_all[i]['resnet_audio_feature']\n",
    "    audio_shape, resnet_shape = resnet_audio.shape[0],resnet_visual.shape[0]\n",
    "    if audio_shape != resnet_shape:\n",
    "        cutoff = min(audio_shape,resnet_shape)\n",
    "        print(cutoff)\n",
    "        resnet_visual = resnet_visual[:cutoff,:]\n",
    "        resnet_audio = resnet_audio[:cutoff,:]\n",
    "    \n",
    "    ## normalize\n",
    "    resnet_visual = (resnet_visual - np.min(resnet_visual)) - (np.max(resnet_visual) - np.min(resnet_visual))\n",
    "    resnet_audio = (resnet_audio - np.min(resnet_audio)) - (np.max(resnet_audio) - np.min(resnet_audio)) \n",
    "    \n",
    "    half = test_set_all[i]['half']\n",
    "    path = root_dir+test_set_all[i]['vidpath']\n",
    "    savename = path+\"/audio_resnet_combined_norm_h\"+str(half)+\".npy\"\n",
    "    combined = np.concatenate((resnet_visual,resnet_audio),axis=1)\n",
    "    np.save(savename,combined)"
   ]
  },
  {
   "cell_type": "code",
   "execution_count": 14,
   "metadata": {},
   "outputs": [
    {
     "name": "stdout",
     "output_type": "stream",
     "text": [
      "6086\n",
      "5679\n",
      "5613\n",
      "5399\n",
      "5611\n",
      "5511\n",
      "5399\n",
      "5778\n",
      "5399\n",
      "5398\n",
      "5084\n",
      "5854\n",
      "5393\n",
      "5398\n",
      "5398\n",
      "5396\n",
      "5398\n",
      "5398\n",
      "5398\n",
      "5621\n",
      "5394\n",
      "5393\n",
      "5848\n",
      "5399\n",
      "5399\n"
     ]
    }
   ],
   "source": [
    "for i in range(len(test_set_all)):\n",
    "    resnet_visual = test_set_all[i]['resnet_features']\n",
    "    resnet_audio = test_set_all[i]['resnet_audio_feature']\n",
    "    audio_shape, resnet_shape = resnet_audio.shape[0],resnet_visual.shape[0]\n",
    "    if audio_shape != resnet_shape:\n",
    "        cutoff = min(audio_shape,resnet_shape)\n",
    "        print(cutoff)\n",
    "        resnet_visual = resnet_visual[:cutoff,:]\n",
    "        resnet_audio = resnet_audio[:cutoff,:]\n",
    "    \n",
    "    ## normalize\n",
    "    #resnet_visual = (resnet_visual - np.min(resnet_visual)) - (np.max(resnet_visual) - np.min(resnet_visual))\n",
    "    #resnet_audio = (resnet_audio - np.min(resnet_audio)) - (np.max(resnet_audio) - np.min(resnet_audio)) \n",
    "    \n",
    "    half = test_set_all[i]['half']\n",
    "    path = root_dir+test_set_all[i]['vidpath']\n",
    "    savename = path+\"/audio_resnet_combined_h\"+str(half)+\".npy\"\n",
    "    combined = np.concatenate((resnet_visual,resnet_audio),axis=1)\n",
    "    np.save(savename,combined)"
   ]
  },
  {
   "cell_type": "code",
   "execution_count": 59,
   "metadata": {},
   "outputs": [
    {
     "ename": "TypeError",
     "evalue": "_save_dispatcher() missing 2 required positional arguments: 'file' and 'arr'",
     "output_type": "error",
     "traceback": [
      "\u001b[0;31m---------------------------------------------------------------------------\u001b[0m",
      "\u001b[0;31mTypeError\u001b[0m                                 Traceback (most recent call last)",
      "\u001b[0;32m<ipython-input-59-75029b4d67c2>\u001b[0m in \u001b[0;36m<module>\u001b[0;34m\u001b[0m\n\u001b[0;32m----> 1\u001b[0;31m \u001b[0mnp\u001b[0m\u001b[0;34m.\u001b[0m\u001b[0msave\u001b[0m\u001b[0;34m(\u001b[0m\u001b[0;34m)\u001b[0m\u001b[0;34m\u001b[0m\u001b[0;34m\u001b[0m\u001b[0m\n\u001b[0m",
      "\u001b[0;32m<__array_function__ internals>\u001b[0m in \u001b[0;36msave\u001b[0;34m(*args, **kwargs)\u001b[0m\n",
      "\u001b[0;31mTypeError\u001b[0m: _save_dispatcher() missing 2 required positional arguments: 'file' and 'arr'"
     ]
    }
   ],
   "source": [
    "np.save()"
   ]
  },
  {
   "cell_type": "code",
   "execution_count": 20,
   "metadata": {},
   "outputs": [
    {
     "data": {
      "text/plain": [
       "(5400, 512)"
      ]
     },
     "execution_count": 20,
     "metadata": {},
     "output_type": "execute_result"
    }
   ],
   "source": [
    "resnet_audio.shape"
   ]
  },
  {
   "cell_type": "code",
   "execution_count": 17,
   "metadata": {},
   "outputs": [
    {
     "data": {
      "text/plain": [
       "1.6719587"
      ]
     },
     "execution_count": 17,
     "metadata": {},
     "output_type": "execute_result"
    }
   ],
   "source": [
    "resnet_visual.var()"
   ]
  },
  {
   "cell_type": "code",
   "execution_count": 9,
   "metadata": {},
   "outputs": [],
   "source": [
    "def pad_by_wsize(w,data):\n",
    "    \n",
    "    right_idx = data.size()[1] - (data.size()[1] % 20)\n",
    "    \n",
    "    pleft = torch.zeros((128,(w//2)*40))\n",
    "    pright = torch.zeros((128,(w//2)*40))\n",
    "    data = torch.cat((pleft,data[:,:right_idx],pright),1)\n",
    "    \n",
    "    return data\n",
    "    "
   ]
  },
  {
   "cell_type": "code",
   "execution_count": 10,
   "metadata": {},
   "outputs": [],
   "source": [
    "def normalize_data(data,idx):\n",
    "    left, right = idx\n",
    "    sample = data[:,left:right]\n",
    "    sample = ( sample - torch.min(sample) ) / ( torch.max(sample) - torch.min(sample))\n",
    "    return sample"
   ]
  },
  {
   "cell_type": "code",
   "execution_count": 11,
   "metadata": {},
   "outputs": [],
   "source": [
    "import torchvision\n",
    "import torch.optim as optim\n",
    "import torch.nn as nn\n",
    "def generate_model():\n",
    "    model = torchvision.models.resnet18(pretrained=True)\n",
    "    model.conv1 = nn.Conv2d(1,64,kernel_size=(7,7),stride=(2,2),padding=(3,3),bias=False)\n",
    "    model.fc = nn.Linear(512,4,bias=True)\n",
    "    #resnet.features.conv0 = nn.Conv2d(1, 96, kernel_size=(7, 7), stride=(2, 2), padding=(3, 3), bias=False)\n",
    "    #resnet.classifier = nn.Linear(in_features=densenet.classifier.in_features, out_features=3,bias=True)\n",
    "\n",
    "\n",
    "    criterion = nn.CrossEntropyLoss()\n",
    "    optimizer = optim.SGD(model.parameters(), lr=0.001, momentum=0.9)\n",
    "    return model, criterion,optimizer"
   ]
  },
  {
   "cell_type": "code",
   "execution_count": 12,
   "metadata": {},
   "outputs": [],
   "source": [
    "class Identity(nn.Module):\n",
    "    def __init__(self):\n",
    "        super().__init__()\n",
    "\n",
    "    def forward(self, x):\n",
    "        return x"
   ]
  },
  {
   "cell_type": "code",
   "execution_count": 13,
   "metadata": {},
   "outputs": [],
   "source": [
    "w = 8"
   ]
  },
  {
   "cell_type": "code",
   "execution_count": 14,
   "metadata": {},
   "outputs": [],
   "source": [
    "model,_,_ = generate_model()\n",
    "model.load_state_dict(torch.load(\"./best_model_\"+str(w)+\".pth\"))\n",
    "model.fc = Identity()"
   ]
  },
  {
   "cell_type": "code",
   "execution_count": 15,
   "metadata": {},
   "outputs": [
    {
     "name": "stdout",
     "output_type": "stream",
     "text": [
      "Mon Dec 14 22:02:25 2020       \n",
      "+-----------------------------------------------------------------------------+\n",
      "| NVIDIA-SMI 418.165.02   Driver Version: 418.165.02   CUDA Version: 10.1     |\n",
      "|-------------------------------+----------------------+----------------------+\n",
      "| GPU  Name        Persistence-M| Bus-Id        Disp.A | Volatile Uncorr. ECC |\n",
      "| Fan  Temp  Perf  Pwr:Usage/Cap|         Memory-Usage | GPU-Util  Compute M. |\n",
      "|===============================+======================+======================|\n",
      "|   0  Tesla V100-SXM3...  On   | 00000000:E7:00.0 Off |                    0 |\n",
      "| N/A   40C    P0    70W / 350W |   4036MiB / 32480MiB |      5%      Default |\n",
      "+-------------------------------+----------------------+----------------------+\n",
      "                                                                               \n",
      "+-----------------------------------------------------------------------------+\n",
      "| Processes:                                                       GPU Memory |\n",
      "|  GPU       PID   Type   Process name                             Usage      |\n",
      "|=============================================================================|\n",
      "|    0     24286      C   .../project-daredevil-8eBKzQn6/bin/python3  1327MiB |\n",
      "|    0     34200      C   .../project-daredevil-8eBKzQn6/bin/python3  1403MiB |\n",
      "|    0     78172      C   .../project-daredevil-8eBKzQn6/bin/python3  1293MiB |\n",
      "+-----------------------------------------------------------------------------+\n"
     ]
    }
   ],
   "source": [
    "%%bash\n",
    "nvidia-smi"
   ]
  },
  {
   "cell_type": "code",
   "execution_count": 76,
   "metadata": {},
   "outputs": [],
   "source": [
    "data = train_set_all[0]['ms']\n",
    "data = pad_by_wsize(w,d)\n",
    "device = torch.device(\"cuda:0\" if torch.cuda.is_available() else \"cpu\")"
   ]
  },
  {
   "cell_type": "code",
   "execution_count": 168,
   "metadata": {},
   "outputs": [
    {
     "data": {
      "text/plain": [
       "1"
      ]
     },
     "execution_count": 168,
     "metadata": {},
     "output_type": "execute_result"
    }
   ],
   "source": [
    "train_set_all[2]['half']"
   ]
  },
  {
   "cell_type": "markdown",
   "metadata": {},
   "source": [
    "# Training set"
   ]
  },
  {
   "cell_type": "code",
   "execution_count": 170,
   "metadata": {},
   "outputs": [
    {
     "name": "stdout",
     "output_type": "stream",
     "text": [
      "saved for /work/oarongve/data/sound_dataset/SoccerNet-code/data/england_epl/2014-2015/2015-02-21 - 18-00 Chelsea 1 - 1 Burnley/resnet18_audio_feat_v1_h1.npy\n",
      "saved for /work/oarongve/data/sound_dataset/SoccerNet-code/data/england_epl/2014-2015/2015-02-21 - 18-00 Chelsea 1 - 1 Burnley/resnet18_audio_feat_v1_h2.npy\n",
      "saved for /work/oarongve/data/sound_dataset/SoccerNet-code/data/england_epl/2014-2015/2015-02-21 - 18-00 Crystal Palace 1 - 2 Arsenal/resnet18_audio_feat_v1_h1.npy\n",
      "saved for /work/oarongve/data/sound_dataset/SoccerNet-code/data/england_epl/2014-2015/2015-02-21 - 18-00 Crystal Palace 1 - 2 Arsenal/resnet18_audio_feat_v1_h2.npy\n",
      "saved for /work/oarongve/data/sound_dataset/SoccerNet-code/data/england_epl/2014-2015/2015-02-21 - 18-00 Swansea 2 - 1 Manchester United/resnet18_audio_feat_v1_h1.npy\n",
      "saved for /work/oarongve/data/sound_dataset/SoccerNet-code/data/england_epl/2014-2015/2015-02-21 - 18-00 Swansea 2 - 1 Manchester United/resnet18_audio_feat_v1_h2.npy\n",
      "saved for /work/oarongve/data/sound_dataset/SoccerNet-code/data/england_epl/2014-2015/2015-02-22 - 19-15 Southampton 0 - 2 Liverpool/resnet18_audio_feat_v1_h1.npy\n",
      "saved for /work/oarongve/data/sound_dataset/SoccerNet-code/data/england_epl/2014-2015/2015-02-22 - 19-15 Southampton 0 - 2 Liverpool/resnet18_audio_feat_v1_h2.npy\n",
      "saved for /work/oarongve/data/sound_dataset/SoccerNet-code/data/england_epl/2015-2016/2015-08-08 - 19-30 Chelsea 2 - 2 Swansea/resnet18_audio_feat_v1_h1.npy\n",
      "saved for /work/oarongve/data/sound_dataset/SoccerNet-code/data/england_epl/2015-2016/2015-08-08 - 19-30 Chelsea 2 - 2 Swansea/resnet18_audio_feat_v1_h2.npy\n",
      "saved for /work/oarongve/data/sound_dataset/SoccerNet-code/data/england_epl/2015-2016/2015-08-29 - 17-00 Chelsea 1 - 2 Crystal Palace/resnet18_audio_feat_v1_h1.npy\n",
      "saved for /work/oarongve/data/sound_dataset/SoccerNet-code/data/england_epl/2015-2016/2015-08-29 - 17-00 Chelsea 1 - 2 Crystal Palace/resnet18_audio_feat_v1_h2.npy\n",
      "saved for /work/oarongve/data/sound_dataset/SoccerNet-code/data/england_epl/2015-2016/2015-08-29 - 17-00 Manchester City 2 - 0 Watford/resnet18_audio_feat_v1_h1.npy\n",
      "saved for /work/oarongve/data/sound_dataset/SoccerNet-code/data/england_epl/2015-2016/2015-08-29 - 17-00 Manchester City 2 - 0 Watford/resnet18_audio_feat_v1_h2.npy\n",
      "saved for /work/oarongve/data/sound_dataset/SoccerNet-code/data/england_epl/2015-2016/2015-09-12 - 14-45 Everton 3 - 1 Chelsea/resnet18_audio_feat_v1_h1.npy\n",
      "saved for /work/oarongve/data/sound_dataset/SoccerNet-code/data/england_epl/2015-2016/2015-09-12 - 14-45 Everton 3 - 1 Chelsea/resnet18_audio_feat_v1_h2.npy\n",
      "saved for /work/oarongve/data/sound_dataset/SoccerNet-code/data/england_epl/2015-2016/2015-09-12 - 17-00 Crystal Palace 0 - 1 Manchester City/resnet18_audio_feat_v1_h1.npy\n",
      "saved for /work/oarongve/data/sound_dataset/SoccerNet-code/data/england_epl/2015-2016/2015-09-12 - 17-00 Crystal Palace 0 - 1 Manchester City/resnet18_audio_feat_v1_h2.npy\n",
      "saved for /work/oarongve/data/sound_dataset/SoccerNet-code/data/england_epl/2015-2016/2015-09-19 - 19-30 Manchester City 1 - 2 West Ham/resnet18_audio_feat_v1_h1.npy\n",
      "saved for /work/oarongve/data/sound_dataset/SoccerNet-code/data/england_epl/2015-2016/2015-09-19 - 19-30 Manchester City 1 - 2 West Ham/resnet18_audio_feat_v1_h2.npy\n",
      "saved for /work/oarongve/data/sound_dataset/SoccerNet-code/data/england_epl/2015-2016/2015-09-26 - 17-00 Liverpool 3 - 2 Aston Villa/resnet18_audio_feat_v1_h1.npy\n",
      "saved for /work/oarongve/data/sound_dataset/SoccerNet-code/data/england_epl/2015-2016/2015-09-26 - 17-00 Liverpool 3 - 2 Aston Villa/resnet18_audio_feat_v1_h2.npy\n",
      "saved for /work/oarongve/data/sound_dataset/SoccerNet-code/data/england_epl/2015-2016/2015-10-17 - 17-00 Chelsea 2 - 0 Aston Villa/resnet18_audio_feat_v1_h1.npy\n",
      "saved for /work/oarongve/data/sound_dataset/SoccerNet-code/data/england_epl/2015-2016/2015-10-17 - 17-00 Chelsea 2 - 0 Aston Villa/resnet18_audio_feat_v1_h2.npy\n",
      "saved for /work/oarongve/data/sound_dataset/SoccerNet-code/data/england_epl/2015-2016/2015-10-31 - 15-45 Chelsea 1 - 3 Liverpool/resnet18_audio_feat_v1_h1.npy\n",
      "saved for /work/oarongve/data/sound_dataset/SoccerNet-code/data/england_epl/2015-2016/2015-10-31 - 15-45 Chelsea 1 - 3 Liverpool/resnet18_audio_feat_v1_h2.npy\n",
      "saved for /work/oarongve/data/sound_dataset/SoccerNet-code/data/england_epl/2015-2016/2015-11-07 - 18-00 Manchester United 2 - 0 West Brom/resnet18_audio_feat_v1_h1.npy\n",
      "saved for /work/oarongve/data/sound_dataset/SoccerNet-code/data/england_epl/2015-2016/2015-11-07 - 18-00 Manchester United 2 - 0 West Brom/resnet18_audio_feat_v1_h2.npy\n",
      "saved for /work/oarongve/data/sound_dataset/SoccerNet-code/data/england_epl/2015-2016/2015-11-21 - 20-30 Manchester City 1 - 4 Liverpool/resnet18_audio_feat_v1_h1.npy\n",
      "saved for /work/oarongve/data/sound_dataset/SoccerNet-code/data/england_epl/2015-2016/2015-11-21 - 20-30 Manchester City 1 - 4 Liverpool/resnet18_audio_feat_v1_h2.npy\n",
      "saved for /work/oarongve/data/sound_dataset/SoccerNet-code/data/england_epl/2015-2016/2015-11-29 - 15-00 Tottenham 0 - 0 Chelsea/resnet18_audio_feat_v1_h1.npy\n",
      "saved for /work/oarongve/data/sound_dataset/SoccerNet-code/data/england_epl/2015-2016/2015-11-29 - 15-00 Tottenham 0 - 0 Chelsea/resnet18_audio_feat_v1_h2.npy\n",
      "saved for /work/oarongve/data/sound_dataset/SoccerNet-code/data/england_epl/2015-2016/2015-12-05 - 20-30 Chelsea 0 - 1 Bournemouth/resnet18_audio_feat_v1_h1.npy\n",
      "saved for /work/oarongve/data/sound_dataset/SoccerNet-code/data/england_epl/2015-2016/2015-12-05 - 20-30 Chelsea 0 - 1 Bournemouth/resnet18_audio_feat_v1_h2.npy\n",
      "saved for /work/oarongve/data/sound_dataset/SoccerNet-code/data/england_epl/2015-2016/2015-12-19 - 18-00 Chelsea 3 - 1 Sunderland/resnet18_audio_feat_v1_h1.npy\n",
      "saved for /work/oarongve/data/sound_dataset/SoccerNet-code/data/england_epl/2015-2016/2015-12-19 - 18-00 Chelsea 3 - 1 Sunderland/resnet18_audio_feat_v1_h2.npy\n",
      "saved for /work/oarongve/data/sound_dataset/SoccerNet-code/data/england_epl/2015-2016/2015-12-26 - 18-00 Manchester City 4 - 1 Sunderland/resnet18_audio_feat_v1_h1.npy\n",
      "saved for /work/oarongve/data/sound_dataset/SoccerNet-code/data/england_epl/2015-2016/2015-12-26 - 18-00 Manchester City 4 - 1 Sunderland/resnet18_audio_feat_v1_h2.npy\n",
      "saved for /work/oarongve/data/sound_dataset/SoccerNet-code/data/england_epl/2015-2016/2016-01-03 - 16-30 Crystal Palace 0 - 3 Chelsea/resnet18_audio_feat_v1_h1.npy\n",
      "saved for /work/oarongve/data/sound_dataset/SoccerNet-code/data/england_epl/2015-2016/2016-01-03 - 16-30 Crystal Palace 0 - 3 Chelsea/resnet18_audio_feat_v1_h2.npy\n",
      "saved for /work/oarongve/data/sound_dataset/SoccerNet-code/data/england_epl/2015-2016/2016-01-13 - 22-45 Chelsea 2 - 2 West Brom/resnet18_audio_feat_v1_h1.npy\n",
      "saved for /work/oarongve/data/sound_dataset/SoccerNet-code/data/england_epl/2015-2016/2016-01-13 - 22-45 Chelsea 2 - 2 West Brom/resnet18_audio_feat_v1_h2.npy\n",
      "saved for /work/oarongve/data/sound_dataset/SoccerNet-code/data/england_epl/2015-2016/2016-02-07 - 19-00 Chelsea 1 - 1 Manchester United/resnet18_audio_feat_v1_h1.npy\n",
      "saved for /work/oarongve/data/sound_dataset/SoccerNet-code/data/england_epl/2015-2016/2016-02-07 - 19-00 Chelsea 1 - 1 Manchester United/resnet18_audio_feat_v1_h2.npy\n",
      "saved for /work/oarongve/data/sound_dataset/SoccerNet-code/data/england_epl/2015-2016/2016-02-14 - 19-15 Manchester City 1 - 2 Tottenham/resnet18_audio_feat_v1_h1.npy\n",
      "saved for /work/oarongve/data/sound_dataset/SoccerNet-code/data/england_epl/2015-2016/2016-02-14 - 19-15 Manchester City 1 - 2 Tottenham/resnet18_audio_feat_v1_h2.npy\n",
      "saved for /work/oarongve/data/sound_dataset/SoccerNet-code/data/england_epl/2015-2016/2016-03-02 - 23-00 Liverpool 3 - 0 Manchester City/resnet18_audio_feat_v1_h1.npy\n",
      "saved for /work/oarongve/data/sound_dataset/SoccerNet-code/data/england_epl/2015-2016/2016-03-02 - 23-00 Liverpool 3 - 0 Manchester City/resnet18_audio_feat_v1_h2.npy\n",
      "saved for /work/oarongve/data/sound_dataset/SoccerNet-code/data/england_epl/2015-2016/2016-03-05 - 18-00 Chelsea 1 - 1 Stoke City/resnet18_audio_feat_v1_h1.npy\n",
      "saved for /work/oarongve/data/sound_dataset/SoccerNet-code/data/england_epl/2015-2016/2016-03-05 - 18-00 Chelsea 1 - 1 Stoke City/resnet18_audio_feat_v1_h2.npy\n",
      "saved for /work/oarongve/data/sound_dataset/SoccerNet-code/data/england_epl/2015-2016/2016-03-19 - 18-00 Chelsea 2 - 2 West Ham/resnet18_audio_feat_v1_h1.npy\n"
     ]
    },
    {
     "name": "stdout",
     "output_type": "stream",
     "text": [
      "saved for /work/oarongve/data/sound_dataset/SoccerNet-code/data/england_epl/2015-2016/2016-03-19 - 18-00 Chelsea 2 - 2 West Ham/resnet18_audio_feat_v1_h2.npy\n",
      "saved for /work/oarongve/data/sound_dataset/SoccerNet-code/data/england_epl/2015-2016/2016-04-09 - 17-00 Swansea 1 - 0 Chelsea/resnet18_audio_feat_v1_h1.npy\n",
      "saved for /work/oarongve/data/sound_dataset/SoccerNet-code/data/england_epl/2015-2016/2016-04-09 - 17-00 Swansea 1 - 0 Chelsea/resnet18_audio_feat_v1_h2.npy\n",
      "saved for /work/oarongve/data/sound_dataset/SoccerNet-code/data/england_epl/2015-2016/2016-04-09 - 19-30 Manchester City 2 - 1 West Brom/resnet18_audio_feat_v1_h1.npy\n",
      "saved for /work/oarongve/data/sound_dataset/SoccerNet-code/data/england_epl/2015-2016/2016-04-09 - 19-30 Manchester City 2 - 1 West Brom/resnet18_audio_feat_v1_h2.npy\n",
      "saved for /work/oarongve/data/sound_dataset/SoccerNet-code/data/england_epl/2015-2016/2016-05-07 - 17-00 Sunderland 3 - 2 Chelsea/resnet18_audio_feat_v1_h1.npy\n",
      "saved for /work/oarongve/data/sound_dataset/SoccerNet-code/data/england_epl/2015-2016/2016-05-07 - 17-00 Sunderland 3 - 2 Chelsea/resnet18_audio_feat_v1_h2.npy\n",
      "saved for /work/oarongve/data/sound_dataset/SoccerNet-code/data/england_epl/2016-2017/2016-08-14 - 18-00 Arsenal 3 - 4 Liverpool/resnet18_audio_feat_v1_h1.npy\n",
      "saved for /work/oarongve/data/sound_dataset/SoccerNet-code/data/england_epl/2016-2017/2016-08-14 - 18-00 Arsenal 3 - 4 Liverpool/resnet18_audio_feat_v1_h2.npy\n",
      "saved for /work/oarongve/data/sound_dataset/SoccerNet-code/data/england_epl/2016-2017/2016-08-20 - 17-00 Burnley 2 - 0 Liverpool/resnet18_audio_feat_v1_h1.npy\n",
      "saved for /work/oarongve/data/sound_dataset/SoccerNet-code/data/england_epl/2016-2017/2016-08-20 - 17-00 Burnley 2 - 0 Liverpool/resnet18_audio_feat_v1_h2.npy\n",
      "saved for /work/oarongve/data/sound_dataset/SoccerNet-code/data/england_epl/2016-2017/2016-08-20 - 19-30 Leicester 0 - 0 Arsenal/resnet18_audio_feat_v1_h1.npy\n",
      "saved for /work/oarongve/data/sound_dataset/SoccerNet-code/data/england_epl/2016-2017/2016-08-20 - 19-30 Leicester 0 - 0 Arsenal/resnet18_audio_feat_v1_h2.npy\n",
      "saved for /work/oarongve/data/sound_dataset/SoccerNet-code/data/england_epl/2016-2017/2016-09-10 - 17-00 Arsenal 2 - 1 Southampton/resnet18_audio_feat_v1_h1.npy\n",
      "saved for /work/oarongve/data/sound_dataset/SoccerNet-code/data/england_epl/2016-2017/2016-09-10 - 17-00 Arsenal 2 - 1 Southampton/resnet18_audio_feat_v1_h2.npy\n",
      "saved for /work/oarongve/data/sound_dataset/SoccerNet-code/data/england_epl/2016-2017/2016-09-16 - 22-00 Chelsea 1 - 2 Liverpool/resnet18_audio_feat_v1_h1.npy\n",
      "saved for /work/oarongve/data/sound_dataset/SoccerNet-code/data/england_epl/2016-2017/2016-09-16 - 22-00 Chelsea 1 - 2 Liverpool/resnet18_audio_feat_v1_h2.npy\n",
      "saved for /work/oarongve/data/sound_dataset/SoccerNet-code/data/england_epl/2016-2017/2016-09-17 - 17-00 Hull City 1 - 4 Arsenal/resnet18_audio_feat_v1_h1.npy\n",
      "saved for /work/oarongve/data/sound_dataset/SoccerNet-code/data/england_epl/2016-2017/2016-09-17 - 17-00 Hull City 1 - 4 Arsenal/resnet18_audio_feat_v1_h2.npy\n",
      "saved for /work/oarongve/data/sound_dataset/SoccerNet-code/data/england_epl/2016-2017/2016-09-24 - 19-30 Arsenal 3 - 0 Chelsea/resnet18_audio_feat_v1_h1.npy\n",
      "saved for /work/oarongve/data/sound_dataset/SoccerNet-code/data/england_epl/2016-2017/2016-09-24 - 19-30 Arsenal 3 - 0 Chelsea/resnet18_audio_feat_v1_h2.npy\n",
      "saved for /work/oarongve/data/sound_dataset/SoccerNet-code/data/england_epl/2016-2017/2016-10-17 - 22-00 Liverpool 0 - 0 Manchester United/resnet18_audio_feat_v1_h1.npy\n",
      "saved for /work/oarongve/data/sound_dataset/SoccerNet-code/data/england_epl/2016-2017/2016-10-17 - 22-00 Liverpool 0 - 0 Manchester United/resnet18_audio_feat_v1_h2.npy\n",
      "saved for /work/oarongve/data/sound_dataset/SoccerNet-code/data/england_epl/2016-2017/2016-10-22 - 19-30 Liverpool 2 - 1 West Brom/resnet18_audio_feat_v1_h1.npy\n",
      "saved for /work/oarongve/data/sound_dataset/SoccerNet-code/data/england_epl/2016-2017/2016-10-22 - 19-30 Liverpool 2 - 1 West Brom/resnet18_audio_feat_v1_h2.npy\n",
      "saved for /work/oarongve/data/sound_dataset/SoccerNet-code/data/england_epl/2016-2017/2016-10-29 - 14-30 Sunderland 1 - 4 Arsenal/resnet18_audio_feat_v1_h1.npy\n",
      "saved for /work/oarongve/data/sound_dataset/SoccerNet-code/data/england_epl/2016-2017/2016-10-29 - 14-30 Sunderland 1 - 4 Arsenal/resnet18_audio_feat_v1_h2.npy\n",
      "saved for /work/oarongve/data/sound_dataset/SoccerNet-code/data/england_epl/2016-2017/2016-10-29 - 17-00 Tottenham 1 - 1 Leicester/resnet18_audio_feat_v1_h1.npy\n",
      "saved for /work/oarongve/data/sound_dataset/SoccerNet-code/data/england_epl/2016-2017/2016-10-29 - 17-00 Tottenham 1 - 1 Leicester/resnet18_audio_feat_v1_h2.npy\n",
      "saved for /work/oarongve/data/sound_dataset/SoccerNet-code/data/england_epl/2016-2017/2016-11-06 - 17-15 Liverpool 6 - 1 Watford/resnet18_audio_feat_v1_h1.npy\n",
      "saved for /work/oarongve/data/sound_dataset/SoccerNet-code/data/england_epl/2016-2017/2016-11-06 - 17-15 Liverpool 6 - 1 Watford/resnet18_audio_feat_v1_h2.npy\n",
      "saved for /work/oarongve/data/sound_dataset/SoccerNet-code/data/england_epl/2016-2017/2016-11-06 - 19-30 Leicester 1 - 2 West Brom/resnet18_audio_feat_v1_h1.npy\n",
      "saved for /work/oarongve/data/sound_dataset/SoccerNet-code/data/england_epl/2016-2017/2016-11-06 - 19-30 Leicester 1 - 2 West Brom/resnet18_audio_feat_v1_h2.npy\n",
      "saved for /work/oarongve/data/sound_dataset/SoccerNet-code/data/england_epl/2016-2017/2016-11-19 - 18-00 Southampton 0 - 0 Liverpool/resnet18_audio_feat_v1_h1.npy\n",
      "saved for /work/oarongve/data/sound_dataset/SoccerNet-code/data/england_epl/2016-2017/2016-11-19 - 18-00 Southampton 0 - 0 Liverpool/resnet18_audio_feat_v1_h2.npy\n",
      "saved for /work/oarongve/data/sound_dataset/SoccerNet-code/data/england_epl/2016-2017/2016-11-26 - 18-00 Liverpool 2 - 0 Sunderland/resnet18_audio_feat_v1_h1.npy\n",
      "saved for /work/oarongve/data/sound_dataset/SoccerNet-code/data/england_epl/2016-2017/2016-11-26 - 18-00 Liverpool 2 - 0 Sunderland/resnet18_audio_feat_v1_h2.npy\n",
      "saved for /work/oarongve/data/sound_dataset/SoccerNet-code/data/england_epl/2016-2017/2016-12-10 - 20-30 Leicester 4 - 2 Manchester City/resnet18_audio_feat_v1_h1.npy\n",
      "saved for /work/oarongve/data/sound_dataset/SoccerNet-code/data/england_epl/2016-2017/2016-12-10 - 20-30 Leicester 4 - 2 Manchester City/resnet18_audio_feat_v1_h2.npy\n",
      "saved for /work/oarongve/data/sound_dataset/SoccerNet-code/data/england_epl/2016-2017/2016-12-11 - 19-30 Liverpool 2 - 2 West Ham/resnet18_audio_feat_v1_h1.npy\n",
      "saved for /work/oarongve/data/sound_dataset/SoccerNet-code/data/england_epl/2016-2017/2016-12-11 - 19-30 Liverpool 2 - 2 West Ham/resnet18_audio_feat_v1_h2.npy\n",
      "saved for /work/oarongve/data/sound_dataset/SoccerNet-code/data/england_epl/2016-2017/2016-12-14 - 22-45 Middlesbrough 0 - 3 Liverpool/resnet18_audio_feat_v1_h1.npy\n",
      "saved for /work/oarongve/data/sound_dataset/SoccerNet-code/data/england_epl/2016-2017/2016-12-14 - 22-45 Middlesbrough 0 - 3 Liverpool/resnet18_audio_feat_v1_h2.npy\n",
      "saved for /work/oarongve/data/sound_dataset/SoccerNet-code/data/england_epl/2016-2017/2016-12-19 - 23-00 Everton 0 - 1 Liverpool/resnet18_audio_feat_v1_h1.npy\n",
      "saved for /work/oarongve/data/sound_dataset/SoccerNet-code/data/england_epl/2016-2017/2016-12-19 - 23-00 Everton 0 - 1 Liverpool/resnet18_audio_feat_v1_h2.npy\n",
      "saved for /work/oarongve/data/sound_dataset/SoccerNet-code/data/england_epl/2016-2017/2016-12-27 - 20-15 Liverpool 4 - 1 Stoke City/resnet18_audio_feat_v1_h1.npy\n",
      "saved for /work/oarongve/data/sound_dataset/SoccerNet-code/data/england_epl/2016-2017/2016-12-27 - 20-15 Liverpool 4 - 1 Stoke City/resnet18_audio_feat_v1_h2.npy\n",
      "saved for /work/oarongve/data/sound_dataset/SoccerNet-code/data/england_epl/2016-2017/2016-12-31 - 20-30 Liverpool 1 - 0 Manchester City/resnet18_audio_feat_v1_h1.npy\n",
      "saved for /work/oarongve/data/sound_dataset/SoccerNet-code/data/england_epl/2016-2017/2016-12-31 - 20-30 Liverpool 1 - 0 Manchester City/resnet18_audio_feat_v1_h2.npy\n",
      "saved for /work/oarongve/data/sound_dataset/SoccerNet-code/data/england_epl/2016-2017/2017-01-02 - 15-30 Middlesbrough 0 - 0 Leicester/resnet18_audio_feat_v1_h1.npy\n",
      "saved for /work/oarongve/data/sound_dataset/SoccerNet-code/data/england_epl/2016-2017/2017-01-02 - 15-30 Middlesbrough 0 - 0 Leicester/resnet18_audio_feat_v1_h2.npy\n"
     ]
    },
    {
     "name": "stdout",
     "output_type": "stream",
     "text": [
      "saved for /work/oarongve/data/sound_dataset/SoccerNet-code/data/england_epl/2016-2017/2017-01-02 - 18-00 Sunderland 2 - 2 Liverpool/resnet18_audio_feat_v1_h1.npy\n",
      "saved for /work/oarongve/data/sound_dataset/SoccerNet-code/data/england_epl/2016-2017/2017-01-02 - 18-00 Sunderland 2 - 2 Liverpool/resnet18_audio_feat_v1_h2.npy\n",
      "saved for /work/oarongve/data/sound_dataset/SoccerNet-code/data/england_epl/2016-2017/2017-01-14 - 20-30 Leicester 0 - 3 Chelsea/resnet18_audio_feat_v1_h1.npy\n",
      "saved for /work/oarongve/data/sound_dataset/SoccerNet-code/data/england_epl/2016-2017/2017-01-14 - 20-30 Leicester 0 - 3 Chelsea/resnet18_audio_feat_v1_h2.npy\n",
      "saved for /work/oarongve/data/sound_dataset/SoccerNet-code/data/england_epl/2016-2017/2017-01-15 - 19-00 Manchester United 1 - 1 Liverpool/resnet18_audio_feat_v1_h1.npy\n",
      "saved for /work/oarongve/data/sound_dataset/SoccerNet-code/data/england_epl/2016-2017/2017-01-15 - 19-00 Manchester United 1 - 1 Liverpool/resnet18_audio_feat_v1_h2.npy\n",
      "saved for /work/oarongve/data/sound_dataset/SoccerNet-code/data/england_epl/2016-2017/2017-01-31 - 23-00 Liverpool 1 - 1 Chelsea/resnet18_audio_feat_v1_h1.npy\n",
      "saved for /work/oarongve/data/sound_dataset/SoccerNet-code/data/england_epl/2016-2017/2017-01-31 - 23-00 Liverpool 1 - 1 Chelsea/resnet18_audio_feat_v1_h2.npy\n",
      "saved for /work/oarongve/data/sound_dataset/SoccerNet-code/data/england_epl/2016-2017/2017-02-27 - 23-00 Leicester 3 - 1 Liverpool/resnet18_audio_feat_v1_h1.npy\n",
      "saved for /work/oarongve/data/sound_dataset/SoccerNet-code/data/england_epl/2016-2017/2017-02-27 - 23-00 Leicester 3 - 1 Liverpool/resnet18_audio_feat_v1_h2.npy\n",
      "saved for /work/oarongve/data/sound_dataset/SoccerNet-code/data/england_epl/2016-2017/2017-04-26 - 21-45 Arsenal 1 - 0 Leicester/resnet18_audio_feat_v1_h1.npy\n",
      "saved for /work/oarongve/data/sound_dataset/SoccerNet-code/data/england_epl/2016-2017/2017-04-26 - 21-45 Arsenal 1 - 0 Leicester/resnet18_audio_feat_v1_h2.npy\n",
      "saved for /work/oarongve/data/sound_dataset/SoccerNet-code/data/england_epl/2016-2017/2017-05-13 - 14-30 Manchester City 2 - 1 Leicester/resnet18_audio_feat_v1_h1.npy\n",
      "saved for /work/oarongve/data/sound_dataset/SoccerNet-code/data/england_epl/2016-2017/2017-05-13 - 14-30 Manchester City 2 - 1 Leicester/resnet18_audio_feat_v1_h2.npy\n",
      "saved for /work/oarongve/data/sound_dataset/SoccerNet-code/data/europe_uefa-champions-league/2014-2015/2014-11-04 - 22-45 Arsenal 3 - 3 Anderlecht/resnet18_audio_feat_v1_h1.npy\n",
      "saved for /work/oarongve/data/sound_dataset/SoccerNet-code/data/europe_uefa-champions-league/2014-2015/2014-11-04 - 22-45 Arsenal 3 - 3 Anderlecht/resnet18_audio_feat_v1_h2.npy\n",
      "saved for /work/oarongve/data/sound_dataset/SoccerNet-code/data/europe_uefa-champions-league/2014-2015/2014-11-04 - 22-45 Dortmund 4 - 1 Galatasaray/resnet18_audio_feat_v1_h1.npy\n",
      "saved for /work/oarongve/data/sound_dataset/SoccerNet-code/data/europe_uefa-champions-league/2014-2015/2014-11-04 - 22-45 Dortmund 4 - 1 Galatasaray/resnet18_audio_feat_v1_h2.npy\n",
      "saved for /work/oarongve/data/sound_dataset/SoccerNet-code/data/europe_uefa-champions-league/2014-2015/2014-11-05 - 22-45 Bayern Munich 2 - 0 AS Roma/resnet18_audio_feat_v1_h1.npy\n",
      "saved for /work/oarongve/data/sound_dataset/SoccerNet-code/data/europe_uefa-champions-league/2014-2015/2014-11-05 - 22-45 Bayern Munich 2 - 0 AS Roma/resnet18_audio_feat_v1_h2.npy\n",
      "saved for /work/oarongve/data/sound_dataset/SoccerNet-code/data/europe_uefa-champions-league/2014-2015/2014-12-09 - 22-45 Benfica 0 - 0 Bayer Leverkusen/resnet18_audio_feat_v1_h1.npy\n",
      "saved for /work/oarongve/data/sound_dataset/SoccerNet-code/data/europe_uefa-champions-league/2014-2015/2014-12-09 - 22-45 Benfica 0 - 0 Bayer Leverkusen/resnet18_audio_feat_v1_h2.npy\n",
      "saved for /work/oarongve/data/sound_dataset/SoccerNet-code/data/europe_uefa-champions-league/2014-2015/2014-12-09 - 22-45 Dortmund 1 - 1 Anderlecht/resnet18_audio_feat_v1_h1.npy\n",
      "saved for /work/oarongve/data/sound_dataset/SoccerNet-code/data/europe_uefa-champions-league/2014-2015/2014-12-09 - 22-45 Dortmund 1 - 1 Anderlecht/resnet18_audio_feat_v1_h2.npy\n",
      "saved for /work/oarongve/data/sound_dataset/SoccerNet-code/data/europe_uefa-champions-league/2014-2015/2014-12-09 - 22-45 Liverpool 1 - 1 Basel/resnet18_audio_feat_v1_h1.npy\n",
      "saved for /work/oarongve/data/sound_dataset/SoccerNet-code/data/europe_uefa-champions-league/2014-2015/2014-12-09 - 22-45 Liverpool 1 - 1 Basel/resnet18_audio_feat_v1_h2.npy\n",
      "saved for /work/oarongve/data/sound_dataset/SoccerNet-code/data/europe_uefa-champions-league/2014-2015/2014-12-10 - 22-45 Barcelona 3 - 1 Paris SG/resnet18_audio_feat_v1_h1.npy\n",
      "saved for /work/oarongve/data/sound_dataset/SoccerNet-code/data/europe_uefa-champions-league/2014-2015/2014-12-10 - 22-45 Barcelona 3 - 1 Paris SG/resnet18_audio_feat_v1_h2.npy\n",
      "saved for /work/oarongve/data/sound_dataset/SoccerNet-code/data/europe_uefa-champions-league/2014-2015/2014-12-10 - 22-45 Bayern Munich 3 - 0 CSKA Moscow/resnet18_audio_feat_v1_h1.npy\n",
      "saved for /work/oarongve/data/sound_dataset/SoccerNet-code/data/europe_uefa-champions-league/2014-2015/2014-12-10 - 22-45 Bayern Munich 3 - 0 CSKA Moscow/resnet18_audio_feat_v1_h2.npy\n",
      "saved for /work/oarongve/data/sound_dataset/SoccerNet-code/data/europe_uefa-champions-league/2014-2015/2015-02-17 - 22-45 Paris SG 1 - 1 Chelsea/resnet18_audio_feat_v1_h1.npy\n",
      "saved for /work/oarongve/data/sound_dataset/SoccerNet-code/data/europe_uefa-champions-league/2014-2015/2015-02-17 - 22-45 Paris SG 1 - 1 Chelsea/resnet18_audio_feat_v1_h2.npy\n",
      "saved for /work/oarongve/data/sound_dataset/SoccerNet-code/data/europe_uefa-champions-league/2014-2015/2015-02-17 - 22-45 Shakhtar Donetsk 0 - 0 Bayern Munich/resnet18_audio_feat_v1_h1.npy\n",
      "saved for /work/oarongve/data/sound_dataset/SoccerNet-code/data/europe_uefa-champions-league/2014-2015/2015-02-17 - 22-45 Shakhtar Donetsk 0 - 0 Bayern Munich/resnet18_audio_feat_v1_h2.npy\n",
      "saved for /work/oarongve/data/sound_dataset/SoccerNet-code/data/europe_uefa-champions-league/2014-2015/2015-02-18 - 22-45 Schalke 0 - 2 Real Madrid/resnet18_audio_feat_v1_h1.npy\n",
      "saved for /work/oarongve/data/sound_dataset/SoccerNet-code/data/europe_uefa-champions-league/2014-2015/2015-02-18 - 22-45 Schalke 0 - 2 Real Madrid/resnet18_audio_feat_v1_h2.npy\n",
      "saved for /work/oarongve/data/sound_dataset/SoccerNet-code/data/europe_uefa-champions-league/2014-2015/2015-02-25 - 22-45 Arsenal 1 - 3 Monaco/resnet18_audio_feat_v1_h1.npy\n",
      "saved for /work/oarongve/data/sound_dataset/SoccerNet-code/data/europe_uefa-champions-league/2014-2015/2015-02-25 - 22-45 Arsenal 1 - 3 Monaco/resnet18_audio_feat_v1_h2.npy\n",
      "saved for /work/oarongve/data/sound_dataset/SoccerNet-code/data/europe_uefa-champions-league/2014-2015/2015-02-25 - 22-45 Bayer Leverkusen 1 - 0 Atl. Madrid/resnet18_audio_feat_v1_h1.npy\n",
      "saved for /work/oarongve/data/sound_dataset/SoccerNet-code/data/europe_uefa-champions-league/2014-2015/2015-02-25 - 22-45 Bayer Leverkusen 1 - 0 Atl. Madrid/resnet18_audio_feat_v1_h2.npy\n",
      "saved for /work/oarongve/data/sound_dataset/SoccerNet-code/data/europe_uefa-champions-league/2014-2015/2015-03-10 - 22-45 FC Porto 4 - 0 Basel/resnet18_audio_feat_v1_h1.npy\n",
      "saved for /work/oarongve/data/sound_dataset/SoccerNet-code/data/europe_uefa-champions-league/2014-2015/2015-03-10 - 22-45 FC Porto 4 - 0 Basel/resnet18_audio_feat_v1_h2.npy\n",
      "saved for /work/oarongve/data/sound_dataset/SoccerNet-code/data/europe_uefa-champions-league/2014-2015/2015-03-18 - 22-45 Barcelona 1 - 0 Manchester City/resnet18_audio_feat_v1_h1.npy\n",
      "saved for /work/oarongve/data/sound_dataset/SoccerNet-code/data/europe_uefa-champions-league/2014-2015/2015-03-18 - 22-45 Barcelona 1 - 0 Manchester City/resnet18_audio_feat_v1_h2.npy\n",
      "saved for /work/oarongve/data/sound_dataset/SoccerNet-code/data/europe_uefa-champions-league/2014-2015/2015-03-18 - 22-45 Dortmund 0 - 3 Juventus/resnet18_audio_feat_v1_h1.npy\n",
      "saved for /work/oarongve/data/sound_dataset/SoccerNet-code/data/europe_uefa-champions-league/2014-2015/2015-03-18 - 22-45 Dortmund 0 - 3 Juventus/resnet18_audio_feat_v1_h2.npy\n",
      "saved for /work/oarongve/data/sound_dataset/SoccerNet-code/data/europe_uefa-champions-league/2014-2015/2015-04-14 - 21-45 Atl. Madrid 0 - 0 Real Madrid/resnet18_audio_feat_v1_h1.npy\n",
      "saved for /work/oarongve/data/sound_dataset/SoccerNet-code/data/europe_uefa-champions-league/2014-2015/2015-04-14 - 21-45 Atl. Madrid 0 - 0 Real Madrid/resnet18_audio_feat_v1_h2.npy\n"
     ]
    },
    {
     "name": "stdout",
     "output_type": "stream",
     "text": [
      "saved for /work/oarongve/data/sound_dataset/SoccerNet-code/data/europe_uefa-champions-league/2014-2015/2015-04-14 - 21-45 Juventus 1 - 0 Monaco/resnet18_audio_feat_v1_h1.npy\n",
      "saved for /work/oarongve/data/sound_dataset/SoccerNet-code/data/europe_uefa-champions-league/2014-2015/2015-04-14 - 21-45 Juventus 1 - 0 Monaco/resnet18_audio_feat_v1_h2.npy\n",
      "saved for /work/oarongve/data/sound_dataset/SoccerNet-code/data/europe_uefa-champions-league/2014-2015/2015-04-21 - 21-45 Bayern Munich 6 - 1 FC Porto/resnet18_audio_feat_v1_h1.npy\n",
      "saved for /work/oarongve/data/sound_dataset/SoccerNet-code/data/europe_uefa-champions-league/2014-2015/2015-04-21 - 21-45 Bayern Munich 6 - 1 FC Porto/resnet18_audio_feat_v1_h2.npy\n",
      "saved for /work/oarongve/data/sound_dataset/SoccerNet-code/data/europe_uefa-champions-league/2014-2015/2015-04-22 - 21-45 Monaco 0 - 0 Juventus/resnet18_audio_feat_v1_h1.npy\n",
      "saved for /work/oarongve/data/sound_dataset/SoccerNet-code/data/europe_uefa-champions-league/2014-2015/2015-04-22 - 21-45 Monaco 0 - 0 Juventus/resnet18_audio_feat_v1_h2.npy\n",
      "saved for /work/oarongve/data/sound_dataset/SoccerNet-code/data/europe_uefa-champions-league/2014-2015/2015-05-06 - 21-45 Barcelona 3 - 0 Bayern Munich/resnet18_audio_feat_v1_h1.npy\n",
      "saved for /work/oarongve/data/sound_dataset/SoccerNet-code/data/europe_uefa-champions-league/2014-2015/2015-05-06 - 21-45 Barcelona 3 - 0 Bayern Munich/resnet18_audio_feat_v1_h2.npy\n",
      "saved for /work/oarongve/data/sound_dataset/SoccerNet-code/data/europe_uefa-champions-league/2014-2015/2015-05-12 - 21-45 Bayern Munich 3 - 2 Barcelona/resnet18_audio_feat_v1_h1.npy\n",
      "saved for /work/oarongve/data/sound_dataset/SoccerNet-code/data/europe_uefa-champions-league/2014-2015/2015-05-12 - 21-45 Bayern Munich 3 - 2 Barcelona/resnet18_audio_feat_v1_h2.npy\n",
      "saved for /work/oarongve/data/sound_dataset/SoccerNet-code/data/europe_uefa-champions-league/2015-2016/2015-09-15 - 21-45 Galatasaray 0 - 2 Atl. Madrid/resnet18_audio_feat_v1_h1.npy\n",
      "saved for /work/oarongve/data/sound_dataset/SoccerNet-code/data/europe_uefa-champions-league/2015-2016/2015-09-15 - 21-45 Galatasaray 0 - 2 Atl. Madrid/resnet18_audio_feat_v1_h2.npy\n",
      "saved for /work/oarongve/data/sound_dataset/SoccerNet-code/data/europe_uefa-champions-league/2015-2016/2015-09-15 - 21-45 Manchester City 1 - 2 Juventus/resnet18_audio_feat_v1_h1.npy\n",
      "saved for /work/oarongve/data/sound_dataset/SoccerNet-code/data/europe_uefa-champions-league/2015-2016/2015-09-15 - 21-45 Manchester City 1 - 2 Juventus/resnet18_audio_feat_v1_h2.npy\n",
      "saved for /work/oarongve/data/sound_dataset/SoccerNet-code/data/europe_uefa-champions-league/2015-2016/2015-09-15 - 21-45 Paris SG 2 - 0 Malmo FF/resnet18_audio_feat_v1_h1.npy\n",
      "saved for /work/oarongve/data/sound_dataset/SoccerNet-code/data/europe_uefa-champions-league/2015-2016/2015-09-15 - 21-45 Paris SG 2 - 0 Malmo FF/resnet18_audio_feat_v1_h2.npy\n",
      "saved for /work/oarongve/data/sound_dataset/SoccerNet-code/data/europe_uefa-champions-league/2015-2016/2015-09-15 - 21-45 Real Madrid 4 - 0 Shakhtar Donetsk/resnet18_audio_feat_v1_h1.npy\n",
      "saved for /work/oarongve/data/sound_dataset/SoccerNet-code/data/europe_uefa-champions-league/2015-2016/2015-09-15 - 21-45 Real Madrid 4 - 0 Shakhtar Donetsk/resnet18_audio_feat_v1_h2.npy\n",
      "saved for /work/oarongve/data/sound_dataset/SoccerNet-code/data/europe_uefa-champions-league/2015-2016/2015-09-15 - 21-45 Sevilla 3 - 0 B. Monchengladbach/resnet18_audio_feat_v1_h1.npy\n",
      "saved for /work/oarongve/data/sound_dataset/SoccerNet-code/data/europe_uefa-champions-league/2015-2016/2015-09-15 - 21-45 Sevilla 3 - 0 B. Monchengladbach/resnet18_audio_feat_v1_h2.npy\n",
      "saved for /work/oarongve/data/sound_dataset/SoccerNet-code/data/europe_uefa-champions-league/2015-2016/2015-09-16 - 21-45 AS Roma 1 - 1 Barcelona/resnet18_audio_feat_v1_h1.npy\n",
      "saved for /work/oarongve/data/sound_dataset/SoccerNet-code/data/europe_uefa-champions-league/2015-2016/2015-09-16 - 21-45 AS Roma 1 - 1 Barcelona/resnet18_audio_feat_v1_h2.npy\n",
      "saved for /work/oarongve/data/sound_dataset/SoccerNet-code/data/europe_uefa-champions-league/2015-2016/2015-09-16 - 21-45 Bayer Leverkusen 4 - 1 BATE/resnet18_audio_feat_v1_h1.npy\n",
      "saved for /work/oarongve/data/sound_dataset/SoccerNet-code/data/europe_uefa-champions-league/2015-2016/2015-09-16 - 21-45 Bayer Leverkusen 4 - 1 BATE/resnet18_audio_feat_v1_h2.npy\n",
      "saved for /work/oarongve/data/sound_dataset/SoccerNet-code/data/europe_uefa-champions-league/2015-2016/2015-09-16 - 21-45 Gent 1 - 1 Lyon/resnet18_audio_feat_v1_h1.npy\n",
      "saved for /work/oarongve/data/sound_dataset/SoccerNet-code/data/europe_uefa-champions-league/2015-2016/2015-09-16 - 21-45 Gent 1 - 1 Lyon/resnet18_audio_feat_v1_h2.npy\n",
      "saved for /work/oarongve/data/sound_dataset/SoccerNet-code/data/europe_uefa-champions-league/2015-2016/2015-09-29 - 21-45 Arsenal 2 - 3 Olympiakos Piraeus/resnet18_audio_feat_v1_h1.npy\n",
      "saved for /work/oarongve/data/sound_dataset/SoccerNet-code/data/europe_uefa-champions-league/2015-2016/2015-09-29 - 21-45 Arsenal 2 - 3 Olympiakos Piraeus/resnet18_audio_feat_v1_h2.npy\n",
      "saved for /work/oarongve/data/sound_dataset/SoccerNet-code/data/europe_uefa-champions-league/2015-2016/2015-09-29 - 21-45 Lyon 0 - 1 Valencia/resnet18_audio_feat_v1_h1.npy\n",
      "saved for /work/oarongve/data/sound_dataset/SoccerNet-code/data/europe_uefa-champions-league/2015-2016/2015-09-29 - 21-45 Lyon 0 - 1 Valencia/resnet18_audio_feat_v1_h2.npy\n",
      "saved for /work/oarongve/data/sound_dataset/SoccerNet-code/data/europe_uefa-champions-league/2015-2016/2015-10-20 - 21-45 Arsenal 2 - 0 Bayern Munich/resnet18_audio_feat_v1_h1.npy\n",
      "saved for /work/oarongve/data/sound_dataset/SoccerNet-code/data/europe_uefa-champions-league/2015-2016/2015-10-20 - 21-45 Arsenal 2 - 0 Bayern Munich/resnet18_audio_feat_v1_h2.npy\n",
      "saved for /work/oarongve/data/sound_dataset/SoccerNet-code/data/europe_uefa-champions-league/2015-2016/2015-11-03 - 18-00 FC Astana 0 - 0 Atl. Madrid/resnet18_audio_feat_v1_h1.npy\n",
      "saved for /work/oarongve/data/sound_dataset/SoccerNet-code/data/europe_uefa-champions-league/2015-2016/2015-11-03 - 18-00 FC Astana 0 - 0 Atl. Madrid/resnet18_audio_feat_v1_h2.npy\n",
      "saved for /work/oarongve/data/sound_dataset/SoccerNet-code/data/europe_uefa-champions-league/2015-2016/2015-11-03 - 22-45 B. Monchengladbach 1 - 1 Juventus/resnet18_audio_feat_v1_h1.npy\n",
      "saved for /work/oarongve/data/sound_dataset/SoccerNet-code/data/europe_uefa-champions-league/2015-2016/2015-11-03 - 22-45 B. Monchengladbach 1 - 1 Juventus/resnet18_audio_feat_v1_h2.npy\n",
      "saved for /work/oarongve/data/sound_dataset/SoccerNet-code/data/europe_uefa-champions-league/2015-2016/2015-11-03 - 22-45 Manchester United 1 - 0 CSKA Moscow/resnet18_audio_feat_v1_h1.npy\n",
      "saved for /work/oarongve/data/sound_dataset/SoccerNet-code/data/europe_uefa-champions-league/2015-2016/2015-11-03 - 22-45 Manchester United 1 - 0 CSKA Moscow/resnet18_audio_feat_v1_h2.npy\n",
      "saved for /work/oarongve/data/sound_dataset/SoccerNet-code/data/europe_uefa-champions-league/2015-2016/2015-11-03 - 22-45 PSV 2 - 0 Wolfsburg/resnet18_audio_feat_v1_h1.npy\n",
      "saved for /work/oarongve/data/sound_dataset/SoccerNet-code/data/europe_uefa-champions-league/2015-2016/2015-11-03 - 22-45 PSV 2 - 0 Wolfsburg/resnet18_audio_feat_v1_h2.npy\n",
      "saved for /work/oarongve/data/sound_dataset/SoccerNet-code/data/europe_uefa-champions-league/2015-2016/2015-11-04 - 22-45 Bayern Munich 5 - 1 Arsenal/resnet18_audio_feat_v1_h1.npy\n",
      "saved for /work/oarongve/data/sound_dataset/SoccerNet-code/data/europe_uefa-champions-league/2015-2016/2015-11-04 - 22-45 Bayern Munich 5 - 1 Arsenal/resnet18_audio_feat_v1_h2.npy\n",
      "saved for /work/oarongve/data/sound_dataset/SoccerNet-code/data/europe_uefa-champions-league/2015-2016/2015-11-04 - 22-45 Gent 1 - 0 Valencia/resnet18_audio_feat_v1_h1.npy\n",
      "saved for /work/oarongve/data/sound_dataset/SoccerNet-code/data/europe_uefa-champions-league/2015-2016/2015-11-04 - 22-45 Gent 1 - 0 Valencia/resnet18_audio_feat_v1_h2.npy\n",
      "saved for /work/oarongve/data/sound_dataset/SoccerNet-code/data/europe_uefa-champions-league/2015-2016/2015-11-04 - 22-45 Lyon 0 - 2 Zenit Petersburg/resnet18_audio_feat_v1_h1.npy\n",
      "saved for /work/oarongve/data/sound_dataset/SoccerNet-code/data/europe_uefa-champions-league/2015-2016/2015-11-04 - 22-45 Lyon 0 - 2 Zenit Petersburg/resnet18_audio_feat_v1_h2.npy\n"
     ]
    },
    {
     "name": "stdout",
     "output_type": "stream",
     "text": [
      "saved for /work/oarongve/data/sound_dataset/SoccerNet-code/data/europe_uefa-champions-league/2015-2016/2015-11-04 - 22-45 Maccabi Tel Aviv 1 - 3 FC Porto/resnet18_audio_feat_v1_h1.npy\n",
      "saved for /work/oarongve/data/sound_dataset/SoccerNet-code/data/europe_uefa-champions-league/2015-2016/2015-11-04 - 22-45 Maccabi Tel Aviv 1 - 3 FC Porto/resnet18_audio_feat_v1_h2.npy\n",
      "saved for /work/oarongve/data/sound_dataset/SoccerNet-code/data/europe_uefa-champions-league/2015-2016/2015-11-24 - 20-00 Zenit Petersburg 2 - 0 Valencia/resnet18_audio_feat_v1_h1.npy\n",
      "saved for /work/oarongve/data/sound_dataset/SoccerNet-code/data/europe_uefa-champions-league/2015-2016/2015-11-24 - 20-00 Zenit Petersburg 2 - 0 Valencia/resnet18_audio_feat_v1_h2.npy\n",
      "saved for /work/oarongve/data/sound_dataset/SoccerNet-code/data/europe_uefa-champions-league/2015-2016/2015-11-24 - 22-45 Barcelona 6 - 1 AS Roma/resnet18_audio_feat_v1_h1.npy\n",
      "saved for /work/oarongve/data/sound_dataset/SoccerNet-code/data/europe_uefa-champions-league/2015-2016/2015-11-24 - 22-45 Barcelona 6 - 1 AS Roma/resnet18_audio_feat_v1_h2.npy\n",
      "saved for /work/oarongve/data/sound_dataset/SoccerNet-code/data/europe_uefa-champions-league/2015-2016/2015-11-24 - 22-45 Bayern Munich 4 - 0 Olympiakos Piraeus/resnet18_audio_feat_v1_h1.npy\n",
      "saved for /work/oarongve/data/sound_dataset/SoccerNet-code/data/europe_uefa-champions-league/2015-2016/2015-11-24 - 22-45 Bayern Munich 4 - 0 Olympiakos Piraeus/resnet18_audio_feat_v1_h2.npy\n",
      "saved for /work/oarongve/data/sound_dataset/SoccerNet-code/data/europe_uefa-champions-league/2015-2016/2015-11-24 - 22-45 FC Porto 0 - 2 Dyn. Kiev/resnet18_audio_feat_v1_h1.npy\n",
      "saved for /work/oarongve/data/sound_dataset/SoccerNet-code/data/europe_uefa-champions-league/2015-2016/2015-11-24 - 22-45 FC Porto 0 - 2 Dyn. Kiev/resnet18_audio_feat_v1_h2.npy\n",
      "saved for /work/oarongve/data/sound_dataset/SoccerNet-code/data/europe_uefa-champions-league/2015-2016/2015-11-24 - 22-45 Maccabi Tel Aviv 0 - 4 Chelsea/resnet18_audio_feat_v1_h1.npy\n",
      "saved for /work/oarongve/data/sound_dataset/SoccerNet-code/data/europe_uefa-champions-league/2015-2016/2015-11-24 - 22-45 Maccabi Tel Aviv 0 - 4 Chelsea/resnet18_audio_feat_v1_h2.npy\n",
      "saved for /work/oarongve/data/sound_dataset/SoccerNet-code/data/europe_uefa-champions-league/2015-2016/2015-11-25 - 20-00 CSKA Moscow 0 - 2 Wolfsburg/resnet18_audio_feat_v1_h1.npy\n",
      "saved for /work/oarongve/data/sound_dataset/SoccerNet-code/data/europe_uefa-champions-league/2015-2016/2015-11-25 - 20-00 CSKA Moscow 0 - 2 Wolfsburg/resnet18_audio_feat_v1_h2.npy\n",
      "saved for /work/oarongve/data/sound_dataset/SoccerNet-code/data/europe_uefa-champions-league/2015-2016/2015-11-25 - 22-45 Atl. Madrid 2 - 0 Galatasaray/resnet18_audio_feat_v1_h1.npy\n",
      "saved for /work/oarongve/data/sound_dataset/SoccerNet-code/data/europe_uefa-champions-league/2015-2016/2015-11-25 - 22-45 Atl. Madrid 2 - 0 Galatasaray/resnet18_audio_feat_v1_h2.npy\n",
      "saved for /work/oarongve/data/sound_dataset/SoccerNet-code/data/europe_uefa-champions-league/2015-2016/2015-11-25 - 22-45 B. Monchengladbach 4 - 2 Sevilla/resnet18_audio_feat_v1_h1.npy\n",
      "saved for /work/oarongve/data/sound_dataset/SoccerNet-code/data/europe_uefa-champions-league/2015-2016/2015-11-25 - 22-45 B. Monchengladbach 4 - 2 Sevilla/resnet18_audio_feat_v1_h2.npy\n",
      "saved for /work/oarongve/data/sound_dataset/SoccerNet-code/data/europe_uefa-champions-league/2015-2016/2015-11-25 - 22-45 Malmo FF 0 - 5 Paris SG/resnet18_audio_feat_v1_h1.npy\n",
      "saved for /work/oarongve/data/sound_dataset/SoccerNet-code/data/europe_uefa-champions-league/2015-2016/2015-11-25 - 22-45 Malmo FF 0 - 5 Paris SG/resnet18_audio_feat_v1_h2.npy\n",
      "saved for /work/oarongve/data/sound_dataset/SoccerNet-code/data/europe_uefa-champions-league/2015-2016/2015-12-09 - 22-45 D. Zagreb 0 - 2 Bayern Munich/resnet18_audio_feat_v1_h1.npy\n",
      "saved for /work/oarongve/data/sound_dataset/SoccerNet-code/data/europe_uefa-champions-league/2015-2016/2015-12-09 - 22-45 D. Zagreb 0 - 2 Bayern Munich/resnet18_audio_feat_v1_h2.npy\n",
      "saved for /work/oarongve/data/sound_dataset/SoccerNet-code/data/europe_uefa-champions-league/2016-2017/2016-09-13 - 21-45 Barcelona 7 - 0 Celtic/resnet18_audio_feat_v1_h1.npy\n",
      "saved for /work/oarongve/data/sound_dataset/SoccerNet-code/data/europe_uefa-champions-league/2016-2017/2016-09-13 - 21-45 Barcelona 7 - 0 Celtic/resnet18_audio_feat_v1_h2.npy\n",
      "saved for /work/oarongve/data/sound_dataset/SoccerNet-code/data/europe_uefa-champions-league/2016-2017/2016-09-13 - 21-45 Dyn. Kiev 1 - 2 Napoli/resnet18_audio_feat_v1_h1.npy\n",
      "saved for /work/oarongve/data/sound_dataset/SoccerNet-code/data/europe_uefa-champions-league/2016-2017/2016-09-13 - 21-45 Dyn. Kiev 1 - 2 Napoli/resnet18_audio_feat_v1_h2.npy\n",
      "saved for /work/oarongve/data/sound_dataset/SoccerNet-code/data/europe_uefa-champions-league/2016-2017/2016-09-28 - 21-45 Ludogorets 1 - 3 Paris SG/resnet18_audio_feat_v1_h1.npy\n",
      "saved for /work/oarongve/data/sound_dataset/SoccerNet-code/data/europe_uefa-champions-league/2016-2017/2016-09-28 - 21-45 Ludogorets 1 - 3 Paris SG/resnet18_audio_feat_v1_h2.npy\n",
      "saved for /work/oarongve/data/sound_dataset/SoccerNet-code/data/europe_uefa-champions-league/2016-2017/2016-10-19 - 21-45 Barcelona 4 - 0 Manchester City/resnet18_audio_feat_v1_h1.npy\n",
      "saved for /work/oarongve/data/sound_dataset/SoccerNet-code/data/europe_uefa-champions-league/2016-2017/2016-10-19 - 21-45 Barcelona 4 - 0 Manchester City/resnet18_audio_feat_v1_h2.npy\n",
      "saved for /work/oarongve/data/sound_dataset/SoccerNet-code/data/europe_uefa-champions-league/2016-2017/2016-11-23 - 22-45 Celtic 0 - 2 Barcelona/resnet18_audio_feat_v1_h1.npy\n",
      "saved for /work/oarongve/data/sound_dataset/SoccerNet-code/data/europe_uefa-champions-league/2016-2017/2016-11-23 - 22-45 Celtic 0 - 2 Barcelona/resnet18_audio_feat_v1_h2.npy\n",
      "saved for /work/oarongve/data/sound_dataset/SoccerNet-code/data/europe_uefa-champions-league/2016-2017/2016-11-23 - 22-45 Napoli 0 - 0 Dyn. Kiev/resnet18_audio_feat_v1_h1.npy\n",
      "saved for /work/oarongve/data/sound_dataset/SoccerNet-code/data/europe_uefa-champions-league/2016-2017/2016-11-23 - 22-45 Napoli 0 - 0 Dyn. Kiev/resnet18_audio_feat_v1_h2.npy\n",
      "saved for /work/oarongve/data/sound_dataset/SoccerNet-code/data/europe_uefa-champions-league/2016-2017/2016-12-06 - 22-45 Benfica 1 - 2 Napoli/resnet18_audio_feat_v1_h1.npy\n",
      "saved for /work/oarongve/data/sound_dataset/SoccerNet-code/data/europe_uefa-champions-league/2016-2017/2016-12-06 - 22-45 Benfica 1 - 2 Napoli/resnet18_audio_feat_v1_h2.npy\n",
      "saved for /work/oarongve/data/sound_dataset/SoccerNet-code/data/europe_uefa-champions-league/2016-2017/2017-02-14 - 22-45 Paris SG 4 - 0 Barcelona/resnet18_audio_feat_v1_h1.npy\n",
      "saved for /work/oarongve/data/sound_dataset/SoccerNet-code/data/europe_uefa-champions-league/2016-2017/2017-02-14 - 22-45 Paris SG 4 - 0 Barcelona/resnet18_audio_feat_v1_h2.npy\n",
      "saved for /work/oarongve/data/sound_dataset/SoccerNet-code/data/europe_uefa-champions-league/2016-2017/2017-02-15 - 22-45 Real Madrid 3 - 1 Napoli/resnet18_audio_feat_v1_h1.npy\n",
      "saved for /work/oarongve/data/sound_dataset/SoccerNet-code/data/europe_uefa-champions-league/2016-2017/2017-02-15 - 22-45 Real Madrid 3 - 1 Napoli/resnet18_audio_feat_v1_h2.npy\n",
      "saved for /work/oarongve/data/sound_dataset/SoccerNet-code/data/europe_uefa-champions-league/2016-2017/2017-03-07 - 22-45 Napoli 1 - 3 Real Madrid/resnet18_audio_feat_v1_h1.npy\n",
      "saved for /work/oarongve/data/sound_dataset/SoccerNet-code/data/europe_uefa-champions-league/2016-2017/2017-03-07 - 22-45 Napoli 1 - 3 Real Madrid/resnet18_audio_feat_v1_h2.npy\n",
      "saved for /work/oarongve/data/sound_dataset/SoccerNet-code/data/europe_uefa-champions-league/2016-2017/2017-04-18 - 21-45 Real Madrid 4 - 2 Bayern Munich/resnet18_audio_feat_v1_h1.npy\n",
      "saved for /work/oarongve/data/sound_dataset/SoccerNet-code/data/europe_uefa-champions-league/2016-2017/2017-04-18 - 21-45 Real Madrid 4 - 2 Bayern Munich/resnet18_audio_feat_v1_h2.npy\n",
      "saved for /work/oarongve/data/sound_dataset/SoccerNet-code/data/france_ligue-1/2014-2015/2015-04-05 - 22-00 Marseille 2 - 3 Paris SG/resnet18_audio_feat_v1_h1.npy\n",
      "saved for /work/oarongve/data/sound_dataset/SoccerNet-code/data/france_ligue-1/2014-2015/2015-04-05 - 22-00 Marseille 2 - 3 Paris SG/resnet18_audio_feat_v1_h2.npy\n"
     ]
    },
    {
     "name": "stdout",
     "output_type": "stream",
     "text": [
      "saved for /work/oarongve/data/sound_dataset/SoccerNet-code/data/france_ligue-1/2015-2016/2015-09-26 - 18-30 Nantes 1 - 4 Paris SG/resnet18_audio_feat_v1_h1.npy\n",
      "saved for /work/oarongve/data/sound_dataset/SoccerNet-code/data/france_ligue-1/2015-2016/2015-09-26 - 18-30 Nantes 1 - 4 Paris SG/resnet18_audio_feat_v1_h2.npy\n",
      "saved for /work/oarongve/data/sound_dataset/SoccerNet-code/data/france_ligue-1/2015-2016/2015-11-07 - 19-00 Paris SG 5 - 0 Toulouse/resnet18_audio_feat_v1_h1.npy\n",
      "saved for /work/oarongve/data/sound_dataset/SoccerNet-code/data/france_ligue-1/2015-2016/2015-11-07 - 19-00 Paris SG 5 - 0 Toulouse/resnet18_audio_feat_v1_h2.npy\n",
      "saved for /work/oarongve/data/sound_dataset/SoccerNet-code/data/france_ligue-1/2016-2017/2016-08-12 - 21-00 Bastia 0 - 1 Paris SG/resnet18_audio_feat_v1_h1.npy\n",
      "saved for /work/oarongve/data/sound_dataset/SoccerNet-code/data/france_ligue-1/2016-2017/2016-08-12 - 21-00 Bastia 0 - 1 Paris SG/resnet18_audio_feat_v1_h2.npy\n",
      "saved for /work/oarongve/data/sound_dataset/SoccerNet-code/data/france_ligue-1/2016-2017/2016-09-16 - 21-45 Caen 0 - 6 Paris SG/resnet18_audio_feat_v1_h1.npy\n",
      "saved for /work/oarongve/data/sound_dataset/SoccerNet-code/data/france_ligue-1/2016-2017/2016-09-16 - 21-45 Caen 0 - 6 Paris SG/resnet18_audio_feat_v1_h2.npy\n",
      "saved for /work/oarongve/data/sound_dataset/SoccerNet-code/data/france_ligue-1/2016-2017/2016-09-23 - 21-45 Toulouse 2 - 0 Paris SG/resnet18_audio_feat_v1_h1.npy\n",
      "saved for /work/oarongve/data/sound_dataset/SoccerNet-code/data/france_ligue-1/2016-2017/2016-09-23 - 21-45 Toulouse 2 - 0 Paris SG/resnet18_audio_feat_v1_h2.npy\n",
      "saved for /work/oarongve/data/sound_dataset/SoccerNet-code/data/france_ligue-1/2016-2017/2016-10-01 - 18-00 Paris SG 2 - 0 Bordeaux/resnet18_audio_feat_v1_h1.npy\n",
      "saved for /work/oarongve/data/sound_dataset/SoccerNet-code/data/france_ligue-1/2016-2017/2016-10-01 - 18-00 Paris SG 2 - 0 Bordeaux/resnet18_audio_feat_v1_h2.npy\n",
      "saved for /work/oarongve/data/sound_dataset/SoccerNet-code/data/france_ligue-1/2016-2017/2016-10-15 - 18-00 Nancy 1 - 2 Paris SG/resnet18_audio_feat_v1_h1.npy\n",
      "saved for /work/oarongve/data/sound_dataset/SoccerNet-code/data/france_ligue-1/2016-2017/2016-10-15 - 18-00 Nancy 1 - 2 Paris SG/resnet18_audio_feat_v1_h2.npy\n",
      "saved for /work/oarongve/data/sound_dataset/SoccerNet-code/data/france_ligue-1/2016-2017/2016-10-28 - 21-45 Lille 0 - 1 Paris SG/resnet18_audio_feat_v1_h1.npy\n",
      "saved for /work/oarongve/data/sound_dataset/SoccerNet-code/data/france_ligue-1/2016-2017/2016-10-28 - 21-45 Lille 0 - 1 Paris SG/resnet18_audio_feat_v1_h2.npy\n",
      "saved for /work/oarongve/data/sound_dataset/SoccerNet-code/data/france_ligue-1/2016-2017/2016-11-06 - 22-45 Paris SG 4 - 0 Rennes/resnet18_audio_feat_v1_h1.npy\n",
      "saved for /work/oarongve/data/sound_dataset/SoccerNet-code/data/france_ligue-1/2016-2017/2016-11-06 - 22-45 Paris SG 4 - 0 Rennes/resnet18_audio_feat_v1_h2.npy\n",
      "saved for /work/oarongve/data/sound_dataset/SoccerNet-code/data/france_ligue-1/2016-2017/2016-11-19 - 19-00 Paris SG 2 - 0 Nantes/resnet18_audio_feat_v1_h1.npy\n",
      "saved for /work/oarongve/data/sound_dataset/SoccerNet-code/data/france_ligue-1/2016-2017/2016-11-19 - 19-00 Paris SG 2 - 0 Nantes/resnet18_audio_feat_v1_h2.npy\n",
      "saved for /work/oarongve/data/sound_dataset/SoccerNet-code/data/france_ligue-1/2016-2017/2016-11-27 - 22-45 Lyon 1 - 2 Paris SG/resnet18_audio_feat_v1_h1.npy\n",
      "saved for /work/oarongve/data/sound_dataset/SoccerNet-code/data/france_ligue-1/2016-2017/2016-11-27 - 22-45 Lyon 1 - 2 Paris SG/resnet18_audio_feat_v1_h2.npy\n",
      "saved for /work/oarongve/data/sound_dataset/SoccerNet-code/data/france_ligue-1/2016-2017/2016-12-11 - 22-45 Paris SG 2 - 2 Nice/resnet18_audio_feat_v1_h1.npy\n",
      "saved for /work/oarongve/data/sound_dataset/SoccerNet-code/data/france_ligue-1/2016-2017/2016-12-11 - 22-45 Paris SG 2 - 2 Nice/resnet18_audio_feat_v1_h2.npy\n",
      "saved for /work/oarongve/data/sound_dataset/SoccerNet-code/data/france_ligue-1/2016-2017/2016-12-17 - 19-00 Guingamp 2 - 1 Paris SG/resnet18_audio_feat_v1_h1.npy\n",
      "saved for /work/oarongve/data/sound_dataset/SoccerNet-code/data/france_ligue-1/2016-2017/2016-12-17 - 19-00 Guingamp 2 - 1 Paris SG/resnet18_audio_feat_v1_h2.npy\n",
      "saved for /work/oarongve/data/sound_dataset/SoccerNet-code/data/france_ligue-1/2016-2017/2016-12-21 - 22-50 Paris SG 5 - 0 Lorient/resnet18_audio_feat_v1_h1.npy\n",
      "saved for /work/oarongve/data/sound_dataset/SoccerNet-code/data/france_ligue-1/2016-2017/2016-12-21 - 22-50 Paris SG 5 - 0 Lorient/resnet18_audio_feat_v1_h2.npy\n",
      "saved for /work/oarongve/data/sound_dataset/SoccerNet-code/data/france_ligue-1/2016-2017/2017-01-21 - 19-00 Nantes 0 - 2 Paris SG/resnet18_audio_feat_v1_h1.npy\n",
      "saved for /work/oarongve/data/sound_dataset/SoccerNet-code/data/france_ligue-1/2016-2017/2017-01-21 - 19-00 Nantes 0 - 2 Paris SG/resnet18_audio_feat_v1_h2.npy\n",
      "saved for /work/oarongve/data/sound_dataset/SoccerNet-code/data/france_ligue-1/2016-2017/2017-02-10 - 22-45 Bordeaux 0 - 3 Paris SG/resnet18_audio_feat_v1_h1.npy\n",
      "saved for /work/oarongve/data/sound_dataset/SoccerNet-code/data/france_ligue-1/2016-2017/2017-02-10 - 22-45 Bordeaux 0 - 3 Paris SG/resnet18_audio_feat_v1_h2.npy\n",
      "saved for /work/oarongve/data/sound_dataset/SoccerNet-code/data/france_ligue-1/2016-2017/2017-02-19 - 23-00 Paris SG 0 - 0 Toulouse/resnet18_audio_feat_v1_h1.npy\n",
      "saved for /work/oarongve/data/sound_dataset/SoccerNet-code/data/france_ligue-1/2016-2017/2017-02-19 - 23-00 Paris SG 0 - 0 Toulouse/resnet18_audio_feat_v1_h2.npy\n",
      "saved for /work/oarongve/data/sound_dataset/SoccerNet-code/data/france_ligue-1/2016-2017/2017-02-26 - 23-00 Marseille 1 - 5 Paris SG/resnet18_audio_feat_v1_h1.npy\n",
      "saved for /work/oarongve/data/sound_dataset/SoccerNet-code/data/france_ligue-1/2016-2017/2017-02-26 - 23-00 Marseille 1 - 5 Paris SG/resnet18_audio_feat_v1_h2.npy\n",
      "saved for /work/oarongve/data/sound_dataset/SoccerNet-code/data/france_ligue-1/2016-2017/2017-03-12 - 23-00 Lorient 1 - 2 Paris SG/resnet18_audio_feat_v1_h1.npy\n",
      "saved for /work/oarongve/data/sound_dataset/SoccerNet-code/data/france_ligue-1/2016-2017/2017-03-12 - 23-00 Lorient 1 - 2 Paris SG/resnet18_audio_feat_v1_h2.npy\n",
      "saved for /work/oarongve/data/sound_dataset/SoccerNet-code/data/france_ligue-1/2016-2017/2017-03-19 - 23-00 Paris SG 2 - 1 Lyon/resnet18_audio_feat_v1_h1.npy\n",
      "saved for /work/oarongve/data/sound_dataset/SoccerNet-code/data/france_ligue-1/2016-2017/2017-03-19 - 23-00 Paris SG 2 - 1 Lyon/resnet18_audio_feat_v1_h2.npy\n",
      "saved for /work/oarongve/data/sound_dataset/SoccerNet-code/data/france_ligue-1/2016-2017/2017-04-14 - 21-45 Angers 0 - 2 Paris SG/resnet18_audio_feat_v1_h1.npy\n",
      "saved for /work/oarongve/data/sound_dataset/SoccerNet-code/data/france_ligue-1/2016-2017/2017-04-14 - 21-45 Angers 0 - 2 Paris SG/resnet18_audio_feat_v1_h2.npy\n",
      "saved for /work/oarongve/data/sound_dataset/SoccerNet-code/data/france_ligue-1/2016-2017/2017-04-18 - 19-30 Metz 2 - 3 Paris SG/resnet18_audio_feat_v1_h1.npy\n",
      "saved for /work/oarongve/data/sound_dataset/SoccerNet-code/data/france_ligue-1/2016-2017/2017-04-18 - 19-30 Metz 2 - 3 Paris SG/resnet18_audio_feat_v1_h2.npy\n",
      "saved for /work/oarongve/data/sound_dataset/SoccerNet-code/data/france_ligue-1/2016-2017/2017-04-22 - 18-00 Paris SG 2 - 0 Montpellier/resnet18_audio_feat_v1_h1.npy\n",
      "saved for /work/oarongve/data/sound_dataset/SoccerNet-code/data/france_ligue-1/2016-2017/2017-04-22 - 18-00 Paris SG 2 - 0 Montpellier/resnet18_audio_feat_v1_h2.npy\n",
      "saved for /work/oarongve/data/sound_dataset/SoccerNet-code/data/france_ligue-1/2016-2017/2017-04-30 - 22-00 Nice 3 - 1 Paris SG/resnet18_audio_feat_v1_h1.npy\n",
      "saved for /work/oarongve/data/sound_dataset/SoccerNet-code/data/france_ligue-1/2016-2017/2017-04-30 - 22-00 Nice 3 - 1 Paris SG/resnet18_audio_feat_v1_h2.npy\n",
      "saved for /work/oarongve/data/sound_dataset/SoccerNet-code/data/france_ligue-1/2016-2017/2017-05-06 - 18-00 Paris SG 5 - 0 Bastia/resnet18_audio_feat_v1_h1.npy\n",
      "saved for /work/oarongve/data/sound_dataset/SoccerNet-code/data/france_ligue-1/2016-2017/2017-05-06 - 18-00 Paris SG 5 - 0 Bastia/resnet18_audio_feat_v1_h2.npy\n",
      "saved for /work/oarongve/data/sound_dataset/SoccerNet-code/data/france_ligue-1/2016-2017/2017-05-20 - 22-00 Paris SG 1 - 1 Caen/resnet18_audio_feat_v1_h1.npy\n",
      "saved for /work/oarongve/data/sound_dataset/SoccerNet-code/data/france_ligue-1/2016-2017/2017-05-20 - 22-00 Paris SG 1 - 1 Caen/resnet18_audio_feat_v1_h2.npy\n"
     ]
    },
    {
     "name": "stdout",
     "output_type": "stream",
     "text": [
      "saved for /work/oarongve/data/sound_dataset/SoccerNet-code/data/germany_bundesliga/2014-2015/2015-02-21 - 17-30 Paderborn 0 - 6 Bayern Munich/resnet18_audio_feat_v1_h1.npy\n",
      "saved for /work/oarongve/data/sound_dataset/SoccerNet-code/data/germany_bundesliga/2014-2015/2015-02-21 - 17-30 Paderborn 0 - 6 Bayern Munich/resnet18_audio_feat_v1_h2.npy\n",
      "saved for /work/oarongve/data/sound_dataset/SoccerNet-code/data/germany_bundesliga/2014-2015/2015-04-11 - 16-30 Bayern Munich 3 - 0 Eintracht Frankfurt/resnet18_audio_feat_v1_h1.npy\n",
      "saved for /work/oarongve/data/sound_dataset/SoccerNet-code/data/germany_bundesliga/2014-2015/2015-04-11 - 16-30 Bayern Munich 3 - 0 Eintracht Frankfurt/resnet18_audio_feat_v1_h2.npy\n",
      "saved for /work/oarongve/data/sound_dataset/SoccerNet-code/data/germany_bundesliga/2014-2015/2015-04-25 - 16-30 Dortmund 2 - 0 Eintracht Frankfurt/resnet18_audio_feat_v1_h1.npy\n",
      "saved for /work/oarongve/data/sound_dataset/SoccerNet-code/data/germany_bundesliga/2014-2015/2015-04-25 - 16-30 Dortmund 2 - 0 Eintracht Frankfurt/resnet18_audio_feat_v1_h2.npy\n",
      "saved for /work/oarongve/data/sound_dataset/SoccerNet-code/data/germany_bundesliga/2014-2015/2015-05-09 - 16-30 Dortmund 2 - 0 Hertha Berlin/resnet18_audio_feat_v1_h1.npy\n",
      "saved for /work/oarongve/data/sound_dataset/SoccerNet-code/data/germany_bundesliga/2014-2015/2015-05-09 - 16-30 Dortmund 2 - 0 Hertha Berlin/resnet18_audio_feat_v1_h2.npy\n",
      "saved for /work/oarongve/data/sound_dataset/SoccerNet-code/data/germany_bundesliga/2014-2015/2015-05-16 - 16-30 Wolfsburg 2 - 1 Dortmund/resnet18_audio_feat_v1_h1.npy\n",
      "saved for /work/oarongve/data/sound_dataset/SoccerNet-code/data/germany_bundesliga/2014-2015/2015-05-16 - 16-30 Wolfsburg 2 - 1 Dortmund/resnet18_audio_feat_v1_h2.npy\n",
      "saved for /work/oarongve/data/sound_dataset/SoccerNet-code/data/germany_bundesliga/2015-2016/2015-08-22 - 16-30 Hoffenheim 1 - 2 Bayern Munich/resnet18_audio_feat_v1_h1.npy\n",
      "saved for /work/oarongve/data/sound_dataset/SoccerNet-code/data/germany_bundesliga/2015-2016/2015-08-22 - 16-30 Hoffenheim 1 - 2 Bayern Munich/resnet18_audio_feat_v1_h2.npy\n",
      "saved for /work/oarongve/data/sound_dataset/SoccerNet-code/data/germany_bundesliga/2015-2016/2015-08-30 - 16-30 Dortmund 3 - 1 Hertha Berlin/resnet18_audio_feat_v1_h1.npy\n",
      "saved for /work/oarongve/data/sound_dataset/SoccerNet-code/data/germany_bundesliga/2015-2016/2015-08-30 - 16-30 Dortmund 3 - 1 Hertha Berlin/resnet18_audio_feat_v1_h2.npy\n",
      "saved for /work/oarongve/data/sound_dataset/SoccerNet-code/data/germany_bundesliga/2015-2016/2015-09-19 - 16-30 Darmstadt 0 - 3 Bayern Munich/resnet18_audio_feat_v1_h1.npy\n",
      "saved for /work/oarongve/data/sound_dataset/SoccerNet-code/data/germany_bundesliga/2015-2016/2015-09-19 - 16-30 Darmstadt 0 - 3 Bayern Munich/resnet18_audio_feat_v1_h2.npy\n",
      "saved for /work/oarongve/data/sound_dataset/SoccerNet-code/data/germany_bundesliga/2015-2016/2015-09-22 - 21-00 Bayern Munich 5 - 1 Wolfsburg/resnet18_audio_feat_v1_h1.npy\n",
      "saved for /work/oarongve/data/sound_dataset/SoccerNet-code/data/germany_bundesliga/2015-2016/2015-09-22 - 21-00 Bayern Munich 5 - 1 Wolfsburg/resnet18_audio_feat_v1_h2.npy\n",
      "saved for /work/oarongve/data/sound_dataset/SoccerNet-code/data/germany_bundesliga/2015-2016/2015-09-26 - 16-30 1. FSV Mainz 05 0 - 3 Bayern Munich/resnet18_audio_feat_v1_h1.npy\n",
      "saved for /work/oarongve/data/sound_dataset/SoccerNet-code/data/germany_bundesliga/2015-2016/2015-09-26 - 16-30 1. FSV Mainz 05 0 - 3 Bayern Munich/resnet18_audio_feat_v1_h2.npy\n",
      "saved for /work/oarongve/data/sound_dataset/SoccerNet-code/data/germany_bundesliga/2015-2016/2015-12-12 - 17-30 Bayern Munich 2 - 0 Ingolstadt/resnet18_audio_feat_v1_h1.npy\n",
      "saved for /work/oarongve/data/sound_dataset/SoccerNet-code/data/germany_bundesliga/2015-2016/2015-12-12 - 17-30 Bayern Munich 2 - 0 Ingolstadt/resnet18_audio_feat_v1_h2.npy\n",
      "saved for /work/oarongve/data/sound_dataset/SoccerNet-code/data/germany_bundesliga/2015-2016/2016-01-31 - 19-30 Bayern Munich 2 - 0 Hoffenheim/resnet18_audio_feat_v1_h1.npy\n",
      "saved for /work/oarongve/data/sound_dataset/SoccerNet-code/data/germany_bundesliga/2015-2016/2016-01-31 - 19-30 Bayern Munich 2 - 0 Hoffenheim/resnet18_audio_feat_v1_h2.npy\n",
      "saved for /work/oarongve/data/sound_dataset/SoccerNet-code/data/germany_bundesliga/2015-2016/2016-04-02 - 16-30 Bayern Munich 1 - 0 Eintracht Frankfurt/resnet18_audio_feat_v1_h1.npy\n",
      "saved for /work/oarongve/data/sound_dataset/SoccerNet-code/data/germany_bundesliga/2015-2016/2016-04-02 - 16-30 Bayern Munich 1 - 0 Eintracht Frankfurt/resnet18_audio_feat_v1_h2.npy\n",
      "saved for /work/oarongve/data/sound_dataset/SoccerNet-code/data/germany_bundesliga/2015-2016/2016-04-09 - 16-30 VfB Stuttgart 1 - 3 Bayern Munich/resnet18_audio_feat_v1_h1.npy\n",
      "saved for /work/oarongve/data/sound_dataset/SoccerNet-code/data/germany_bundesliga/2015-2016/2016-04-09 - 16-30 VfB Stuttgart 1 - 3 Bayern Munich/resnet18_audio_feat_v1_h2.npy\n",
      "saved for /work/oarongve/data/sound_dataset/SoccerNet-code/data/germany_bundesliga/2015-2016/2016-04-16 - 19-30 Bayern Munich 3 - 0 Schalke/resnet18_audio_feat_v1_h1.npy\n",
      "saved for /work/oarongve/data/sound_dataset/SoccerNet-code/data/germany_bundesliga/2015-2016/2016-04-16 - 19-30 Bayern Munich 3 - 0 Schalke/resnet18_audio_feat_v1_h2.npy\n",
      "saved for /work/oarongve/data/sound_dataset/SoccerNet-code/data/germany_bundesliga/2016-2017/2016-09-17 - 16-30 Dortmund 6 - 0 Darmstadt/resnet18_audio_feat_v1_h1.npy\n",
      "saved for /work/oarongve/data/sound_dataset/SoccerNet-code/data/germany_bundesliga/2016-2017/2016-09-17 - 16-30 Dortmund 6 - 0 Darmstadt/resnet18_audio_feat_v1_h2.npy\n",
      "saved for /work/oarongve/data/sound_dataset/SoccerNet-code/data/germany_bundesliga/2016-2017/2016-09-20 - 21-00 Wolfsburg 1 - 5 Dortmund/resnet18_audio_feat_v1_h1.npy\n",
      "saved for /work/oarongve/data/sound_dataset/SoccerNet-code/data/germany_bundesliga/2016-2017/2016-09-20 - 21-00 Wolfsburg 1 - 5 Dortmund/resnet18_audio_feat_v1_h2.npy\n",
      "saved for /work/oarongve/data/sound_dataset/SoccerNet-code/data/germany_bundesliga/2016-2017/2016-09-23 - 21-30 Dortmund 3 - 1 SC Freiburg/resnet18_audio_feat_v1_h1.npy\n",
      "saved for /work/oarongve/data/sound_dataset/SoccerNet-code/data/germany_bundesliga/2016-2017/2016-09-23 - 21-30 Dortmund 3 - 1 SC Freiburg/resnet18_audio_feat_v1_h2.npy\n",
      "saved for /work/oarongve/data/sound_dataset/SoccerNet-code/data/germany_bundesliga/2016-2017/2016-10-14 - 21-30 Dortmund 1 - 1 Hertha Berlin/resnet18_audio_feat_v1_h1.npy\n",
      "saved for /work/oarongve/data/sound_dataset/SoccerNet-code/data/germany_bundesliga/2016-2017/2016-10-14 - 21-30 Dortmund 1 - 1 Hertha Berlin/resnet18_audio_feat_v1_h2.npy\n",
      "saved for /work/oarongve/data/sound_dataset/SoccerNet-code/data/germany_bundesliga/2016-2017/2016-10-22 - 16-30 Ingolstadt 3 - 3 Dortmund/resnet18_audio_feat_v1_h1.npy\n",
      "saved for /work/oarongve/data/sound_dataset/SoccerNet-code/data/germany_bundesliga/2016-2017/2016-10-22 - 16-30 Ingolstadt 3 - 3 Dortmund/resnet18_audio_feat_v1_h2.npy\n",
      "saved for /work/oarongve/data/sound_dataset/SoccerNet-code/data/germany_bundesliga/2016-2017/2016-10-29 - 19-30 Dortmund 0 - 0 Schalke/resnet18_audio_feat_v1_h1.npy\n",
      "saved for /work/oarongve/data/sound_dataset/SoccerNet-code/data/germany_bundesliga/2016-2017/2016-10-29 - 19-30 Dortmund 0 - 0 Schalke/resnet18_audio_feat_v1_h2.npy\n",
      "saved for /work/oarongve/data/sound_dataset/SoccerNet-code/data/germany_bundesliga/2016-2017/2016-11-26 - 17-30 Eintracht Frankfurt 2 - 1 Dortmund/resnet18_audio_feat_v1_h1.npy\n",
      "saved for /work/oarongve/data/sound_dataset/SoccerNet-code/data/germany_bundesliga/2016-2017/2016-11-26 - 17-30 Eintracht Frankfurt 2 - 1 Dortmund/resnet18_audio_feat_v1_h2.npy\n",
      "saved for /work/oarongve/data/sound_dataset/SoccerNet-code/data/germany_bundesliga/2016-2017/2016-12-10 - 17-30 FC Koln 1 - 1 Dortmund/resnet18_audio_feat_v1_h1.npy\n",
      "saved for /work/oarongve/data/sound_dataset/SoccerNet-code/data/germany_bundesliga/2016-2017/2016-12-10 - 17-30 FC Koln 1 - 1 Dortmund/resnet18_audio_feat_v1_h2.npy\n",
      "saved for /work/oarongve/data/sound_dataset/SoccerNet-code/data/germany_bundesliga/2016-2017/2016-12-20 - 22-00 Dortmund 1 - 1 FC Augsburg/resnet18_audio_feat_v1_h1.npy\n",
      "saved for /work/oarongve/data/sound_dataset/SoccerNet-code/data/germany_bundesliga/2016-2017/2016-12-20 - 22-00 Dortmund 1 - 1 FC Augsburg/resnet18_audio_feat_v1_h2.npy\n"
     ]
    },
    {
     "name": "stdout",
     "output_type": "stream",
     "text": [
      "saved for /work/oarongve/data/sound_dataset/SoccerNet-code/data/germany_bundesliga/2016-2017/2017-02-04 - 20-30 Dortmund 1 - 0 RB Leipzig/resnet18_audio_feat_v1_h1.npy\n",
      "saved for /work/oarongve/data/sound_dataset/SoccerNet-code/data/germany_bundesliga/2016-2017/2017-02-04 - 20-30 Dortmund 1 - 0 RB Leipzig/resnet18_audio_feat_v1_h2.npy\n",
      "saved for /work/oarongve/data/sound_dataset/SoccerNet-code/data/germany_bundesliga/2016-2017/2017-02-11 - 17-30 Darmstadt 2 - 1 Dortmund/resnet18_audio_feat_v1_h1.npy\n",
      "saved for /work/oarongve/data/sound_dataset/SoccerNet-code/data/germany_bundesliga/2016-2017/2017-02-11 - 17-30 Darmstadt 2 - 1 Dortmund/resnet18_audio_feat_v1_h2.npy\n",
      "saved for /work/oarongve/data/sound_dataset/SoccerNet-code/data/germany_bundesliga/2016-2017/2017-02-18 - 17-30 Dortmund 3 - 0 Wolfsburg/resnet18_audio_feat_v1_h1.npy\n",
      "saved for /work/oarongve/data/sound_dataset/SoccerNet-code/data/germany_bundesliga/2016-2017/2017-02-18 - 17-30 Dortmund 3 - 0 Wolfsburg/resnet18_audio_feat_v1_h2.npy\n",
      "saved for /work/oarongve/data/sound_dataset/SoccerNet-code/data/germany_bundesliga/2016-2017/2017-03-17 - 22-30 Dortmund 1 - 0 Ingolstadt/resnet18_audio_feat_v1_h1.npy\n",
      "saved for /work/oarongve/data/sound_dataset/SoccerNet-code/data/germany_bundesliga/2016-2017/2017-03-17 - 22-30 Dortmund 1 - 0 Ingolstadt/resnet18_audio_feat_v1_h2.npy\n",
      "saved for /work/oarongve/data/sound_dataset/SoccerNet-code/data/germany_bundesliga/2016-2017/2017-04-01 - 16-30 Schalke 1 - 1 Dortmund/resnet18_audio_feat_v1_h1.npy\n",
      "saved for /work/oarongve/data/sound_dataset/SoccerNet-code/data/germany_bundesliga/2016-2017/2017-04-01 - 16-30 Schalke 1 - 1 Dortmund/resnet18_audio_feat_v1_h2.npy\n",
      "saved for /work/oarongve/data/sound_dataset/SoccerNet-code/data/germany_bundesliga/2016-2017/2017-04-15 - 16-30 Dortmund 3 - 1 Eintracht Frankfurt/resnet18_audio_feat_v1_h1.npy\n",
      "saved for /work/oarongve/data/sound_dataset/SoccerNet-code/data/germany_bundesliga/2016-2017/2017-04-15 - 16-30 Dortmund 3 - 1 Eintracht Frankfurt/resnet18_audio_feat_v1_h2.npy\n",
      "saved for /work/oarongve/data/sound_dataset/SoccerNet-code/data/germany_bundesliga/2016-2017/2017-05-13 - 16-30 FC Augsburg 1 - 1 Dortmund/resnet18_audio_feat_v1_h1.npy\n",
      "saved for /work/oarongve/data/sound_dataset/SoccerNet-code/data/germany_bundesliga/2016-2017/2017-05-13 - 16-30 FC Augsburg 1 - 1 Dortmund/resnet18_audio_feat_v1_h2.npy\n",
      "saved for /work/oarongve/data/sound_dataset/SoccerNet-code/data/italy_serie-a/2014-2015/2015-02-15 - 14-30 AC Milan 1 - 1 Empoli/resnet18_audio_feat_v1_h1.npy\n",
      "saved for /work/oarongve/data/sound_dataset/SoccerNet-code/data/italy_serie-a/2014-2015/2015-02-15 - 14-30 AC Milan 1 - 1 Empoli/resnet18_audio_feat_v1_h2.npy\n",
      "saved for /work/oarongve/data/sound_dataset/SoccerNet-code/data/italy_serie-a/2014-2015/2015-04-11 - 21-45 Verona 0 - 3 Inter/resnet18_audio_feat_v1_h1.npy\n",
      "saved for /work/oarongve/data/sound_dataset/SoccerNet-code/data/italy_serie-a/2014-2015/2015-04-11 - 21-45 Verona 0 - 3 Inter/resnet18_audio_feat_v1_h2.npy\n",
      "saved for /work/oarongve/data/sound_dataset/SoccerNet-code/data/italy_serie-a/2014-2015/2015-04-19 - 21-45 Inter 0 - 0 AC Milan/resnet18_audio_feat_v1_h1.npy\n",
      "saved for /work/oarongve/data/sound_dataset/SoccerNet-code/data/italy_serie-a/2014-2015/2015-04-19 - 21-45 Inter 0 - 0 AC Milan/resnet18_audio_feat_v1_h2.npy\n",
      "saved for /work/oarongve/data/sound_dataset/SoccerNet-code/data/italy_serie-a/2014-2015/2015-04-25 - 21-45 Inter 2 - 1 AS Roma/resnet18_audio_feat_v1_h1.npy\n",
      "saved for /work/oarongve/data/sound_dataset/SoccerNet-code/data/italy_serie-a/2014-2015/2015-04-25 - 21-45 Inter 2 - 1 AS Roma/resnet18_audio_feat_v1_h2.npy\n",
      "saved for /work/oarongve/data/sound_dataset/SoccerNet-code/data/italy_serie-a/2014-2015/2015-04-26 - 16-00 Torino 2 - 1 Juventus/resnet18_audio_feat_v1_h1.npy\n",
      "saved for /work/oarongve/data/sound_dataset/SoccerNet-code/data/italy_serie-a/2014-2015/2015-04-26 - 16-00 Torino 2 - 1 Juventus/resnet18_audio_feat_v1_h2.npy\n",
      "saved for /work/oarongve/data/sound_dataset/SoccerNet-code/data/italy_serie-a/2014-2015/2015-05-03 - 21-45 Napoli 3 - 0 AC Milan/resnet18_audio_feat_v1_h1.npy\n",
      "saved for /work/oarongve/data/sound_dataset/SoccerNet-code/data/italy_serie-a/2014-2015/2015-05-03 - 21-45 Napoli 3 - 0 AC Milan/resnet18_audio_feat_v1_h2.npy\n",
      "saved for /work/oarongve/data/sound_dataset/SoccerNet-code/data/italy_serie-a/2014-2015/2015-05-16 - 19-00 Inter 1 - 2 Juventus/resnet18_audio_feat_v1_h1.npy\n",
      "saved for /work/oarongve/data/sound_dataset/SoccerNet-code/data/italy_serie-a/2014-2015/2015-05-16 - 19-00 Inter 1 - 2 Juventus/resnet18_audio_feat_v1_h2.npy\n",
      "saved for /work/oarongve/data/sound_dataset/SoccerNet-code/data/italy_serie-a/2015-2016/2015-09-20 - 13-30 Chievo 0 - 1 Inter/resnet18_audio_feat_v1_h1.npy\n",
      "saved for /work/oarongve/data/sound_dataset/SoccerNet-code/data/italy_serie-a/2015-2016/2015-09-20 - 13-30 Chievo 0 - 1 Inter/resnet18_audio_feat_v1_h2.npy\n",
      "saved for /work/oarongve/data/sound_dataset/SoccerNet-code/data/italy_serie-a/2015-2016/2015-09-22 - 21-45 Udinese 2 - 3 AC Milan/resnet18_audio_feat_v1_h1.npy\n",
      "saved for /work/oarongve/data/sound_dataset/SoccerNet-code/data/italy_serie-a/2015-2016/2015-09-22 - 21-45 Udinese 2 - 3 AC Milan/resnet18_audio_feat_v1_h2.npy\n",
      "saved for /work/oarongve/data/sound_dataset/SoccerNet-code/data/italy_serie-a/2015-2016/2015-11-01 - 22-45 Lazio 1 - 3 AC Milan/resnet18_audio_feat_v1_h1.npy\n",
      "saved for /work/oarongve/data/sound_dataset/SoccerNet-code/data/italy_serie-a/2015-2016/2015-11-01 - 22-45 Lazio 1 - 3 AC Milan/resnet18_audio_feat_v1_h2.npy\n",
      "saved for /work/oarongve/data/sound_dataset/SoccerNet-code/data/italy_serie-a/2015-2016/2015-11-07 - 22-45 AC Milan 0 - 0 Atalanta/resnet18_audio_feat_v1_h1.npy\n",
      "saved for /work/oarongve/data/sound_dataset/SoccerNet-code/data/italy_serie-a/2015-2016/2015-11-07 - 22-45 AC Milan 0 - 0 Atalanta/resnet18_audio_feat_v1_h2.npy\n",
      "saved for /work/oarongve/data/sound_dataset/SoccerNet-code/data/italy_serie-a/2015-2016/2015-11-22 - 22-45 Inter 4 - 0 Frosinone/resnet18_audio_feat_v1_h1.npy\n",
      "saved for /work/oarongve/data/sound_dataset/SoccerNet-code/data/italy_serie-a/2015-2016/2015-11-22 - 22-45 Inter 4 - 0 Frosinone/resnet18_audio_feat_v1_h2.npy\n",
      "saved for /work/oarongve/data/sound_dataset/SoccerNet-code/data/italy_serie-a/2016-2017/2016-08-21 - 21-45 Pescara 2 - 2 Napoli/resnet18_audio_feat_v1_h1.npy\n",
      "saved for /work/oarongve/data/sound_dataset/SoccerNet-code/data/italy_serie-a/2016-2017/2016-08-21 - 21-45 Pescara 2 - 2 Napoli/resnet18_audio_feat_v1_h2.npy\n",
      "saved for /work/oarongve/data/sound_dataset/SoccerNet-code/data/italy_serie-a/2016-2017/2016-08-28 - 21-45 Cagliari 2 - 2 AS Roma/resnet18_audio_feat_v1_h1.npy\n",
      "saved for /work/oarongve/data/sound_dataset/SoccerNet-code/data/italy_serie-a/2016-2017/2016-08-28 - 21-45 Cagliari 2 - 2 AS Roma/resnet18_audio_feat_v1_h2.npy\n",
      "saved for /work/oarongve/data/sound_dataset/SoccerNet-code/data/italy_serie-a/2016-2017/2016-09-10 - 21-45 Palermo 0 - 3 Napoli/resnet18_audio_feat_v1_h1.npy\n",
      "saved for /work/oarongve/data/sound_dataset/SoccerNet-code/data/italy_serie-a/2016-2017/2016-09-10 - 21-45 Palermo 0 - 3 Napoli/resnet18_audio_feat_v1_h2.npy\n",
      "saved for /work/oarongve/data/sound_dataset/SoccerNet-code/data/italy_serie-a/2016-2017/2016-09-16 - 21-45 Sampdoria 0 - 1 AC Milan/resnet18_audio_feat_v1_h1.npy\n",
      "saved for /work/oarongve/data/sound_dataset/SoccerNet-code/data/italy_serie-a/2016-2017/2016-09-16 - 21-45 Sampdoria 0 - 1 AC Milan/resnet18_audio_feat_v1_h2.npy\n",
      "saved for /work/oarongve/data/sound_dataset/SoccerNet-code/data/italy_serie-a/2016-2017/2016-09-17 - 21-45 Napoli 3 - 1 Bologna/resnet18_audio_feat_v1_h1.npy\n",
      "saved for /work/oarongve/data/sound_dataset/SoccerNet-code/data/italy_serie-a/2016-2017/2016-09-17 - 21-45 Napoli 3 - 1 Bologna/resnet18_audio_feat_v1_h2.npy\n",
      "saved for /work/oarongve/data/sound_dataset/SoccerNet-code/data/italy_serie-a/2016-2017/2016-09-21 - 21-45 AS Roma 4 - 0 Crotone/resnet18_audio_feat_v1_h1.npy\n",
      "saved for /work/oarongve/data/sound_dataset/SoccerNet-code/data/italy_serie-a/2016-2017/2016-09-21 - 21-45 AS Roma 4 - 0 Crotone/resnet18_audio_feat_v1_h2.npy\n",
      "saved for /work/oarongve/data/sound_dataset/SoccerNet-code/data/italy_serie-a/2016-2017/2016-10-15 - 16-00 Napoli 1 - 3 AS Roma/resnet18_audio_feat_v1_h1.npy\n"
     ]
    },
    {
     "name": "stdout",
     "output_type": "stream",
     "text": [
      "saved for /work/oarongve/data/sound_dataset/SoccerNet-code/data/italy_serie-a/2016-2017/2016-10-15 - 16-00 Napoli 1 - 3 AS Roma/resnet18_audio_feat_v1_h2.npy\n",
      "saved for /work/oarongve/data/sound_dataset/SoccerNet-code/data/italy_serie-a/2016-2017/2016-10-23 - 16-00 Crotone 1 - 2 Napoli/resnet18_audio_feat_v1_h1.npy\n",
      "saved for /work/oarongve/data/sound_dataset/SoccerNet-code/data/italy_serie-a/2016-2017/2016-10-23 - 16-00 Crotone 1 - 2 Napoli/resnet18_audio_feat_v1_h2.npy\n",
      "saved for /work/oarongve/data/sound_dataset/SoccerNet-code/data/italy_serie-a/2016-2017/2016-10-23 - 21-45 AS Roma 4 - 1 Palermo/resnet18_audio_feat_v1_h1.npy\n",
      "saved for /work/oarongve/data/sound_dataset/SoccerNet-code/data/italy_serie-a/2016-2017/2016-10-23 - 21-45 AS Roma 4 - 1 Palermo/resnet18_audio_feat_v1_h2.npy\n",
      "saved for /work/oarongve/data/sound_dataset/SoccerNet-code/data/italy_serie-a/2016-2017/2016-10-25 - 21-45 Genoa 3 - 0 AC Milan/resnet18_audio_feat_v1_h1.npy\n",
      "saved for /work/oarongve/data/sound_dataset/SoccerNet-code/data/italy_serie-a/2016-2017/2016-10-25 - 21-45 Genoa 3 - 0 AC Milan/resnet18_audio_feat_v1_h2.npy\n",
      "saved for /work/oarongve/data/sound_dataset/SoccerNet-code/data/italy_serie-a/2016-2017/2016-10-26 - 21-45 Napoli 2 - 0 Empoli/resnet18_audio_feat_v1_h1.npy\n",
      "saved for /work/oarongve/data/sound_dataset/SoccerNet-code/data/italy_serie-a/2016-2017/2016-10-26 - 21-45 Napoli 2 - 0 Empoli/resnet18_audio_feat_v1_h2.npy\n",
      "saved for /work/oarongve/data/sound_dataset/SoccerNet-code/data/italy_serie-a/2016-2017/2016-10-26 - 21-45 Sassuolo 1 - 3 AS Roma/resnet18_audio_feat_v1_h1.npy\n",
      "saved for /work/oarongve/data/sound_dataset/SoccerNet-code/data/italy_serie-a/2016-2017/2016-10-26 - 21-45 Sassuolo 1 - 3 AS Roma/resnet18_audio_feat_v1_h2.npy\n",
      "saved for /work/oarongve/data/sound_dataset/SoccerNet-code/data/italy_serie-a/2016-2017/2016-10-30 - 17-00 AC Milan 1 - 0 Pescara/resnet18_audio_feat_v1_h1.npy\n",
      "saved for /work/oarongve/data/sound_dataset/SoccerNet-code/data/italy_serie-a/2016-2017/2016-10-30 - 17-00 AC Milan 1 - 0 Pescara/resnet18_audio_feat_v1_h2.npy\n",
      "saved for /work/oarongve/data/sound_dataset/SoccerNet-code/data/italy_serie-a/2016-2017/2016-10-30 - 17-00 Empoli 0 - 0 AS Roma/resnet18_audio_feat_v1_h1.npy\n",
      "saved for /work/oarongve/data/sound_dataset/SoccerNet-code/data/italy_serie-a/2016-2017/2016-10-30 - 17-00 Empoli 0 - 0 AS Roma/resnet18_audio_feat_v1_h2.npy\n",
      "saved for /work/oarongve/data/sound_dataset/SoccerNet-code/data/italy_serie-a/2016-2017/2016-11-06 - 17-00 Palermo 1 - 2 AC Milan/resnet18_audio_feat_v1_h1.npy\n",
      "saved for /work/oarongve/data/sound_dataset/SoccerNet-code/data/italy_serie-a/2016-2017/2016-11-06 - 17-00 Palermo 1 - 2 AC Milan/resnet18_audio_feat_v1_h2.npy\n",
      "saved for /work/oarongve/data/sound_dataset/SoccerNet-code/data/italy_serie-a/2016-2017/2016-11-06 - 22-45 AS Roma 3 - 0 Bologna/resnet18_audio_feat_v1_h1.npy\n",
      "saved for /work/oarongve/data/sound_dataset/SoccerNet-code/data/italy_serie-a/2016-2017/2016-11-06 - 22-45 AS Roma 3 - 0 Bologna/resnet18_audio_feat_v1_h2.npy\n",
      "saved for /work/oarongve/data/sound_dataset/SoccerNet-code/data/italy_serie-a/2016-2017/2016-11-20 - 22-45 AC Milan 2 - 2 Inter/resnet18_audio_feat_v1_h1.npy\n",
      "saved for /work/oarongve/data/sound_dataset/SoccerNet-code/data/italy_serie-a/2016-2017/2016-11-20 - 22-45 AC Milan 2 - 2 Inter/resnet18_audio_feat_v1_h2.npy\n",
      "saved for /work/oarongve/data/sound_dataset/SoccerNet-code/data/italy_serie-a/2016-2017/2016-11-27 - 22-45 AS Roma 3 - 2 Pescara/resnet18_audio_feat_v1_h1.npy\n",
      "saved for /work/oarongve/data/sound_dataset/SoccerNet-code/data/italy_serie-a/2016-2017/2016-11-27 - 22-45 AS Roma 3 - 2 Pescara/resnet18_audio_feat_v1_h2.npy\n",
      "saved for /work/oarongve/data/sound_dataset/SoccerNet-code/data/italy_serie-a/2016-2017/2016-12-04 - 14-30 AC Milan 2 - 1 Crotone/resnet18_audio_feat_v1_h1.npy\n",
      "saved for /work/oarongve/data/sound_dataset/SoccerNet-code/data/italy_serie-a/2016-2017/2016-12-04 - 14-30 AC Milan 2 - 1 Crotone/resnet18_audio_feat_v1_h2.npy\n",
      "saved for /work/oarongve/data/sound_dataset/SoccerNet-code/data/italy_serie-a/2016-2017/2016-12-17 - 20-00 AC Milan 0 - 0 Atalanta/resnet18_audio_feat_v1_h1.npy\n",
      "saved for /work/oarongve/data/sound_dataset/SoccerNet-code/data/italy_serie-a/2016-2017/2016-12-17 - 20-00 AC Milan 0 - 0 Atalanta/resnet18_audio_feat_v1_h2.npy\n",
      "saved for /work/oarongve/data/sound_dataset/SoccerNet-code/data/italy_serie-a/2016-2017/2016-12-22 - 22-45 AS Roma 3 - 1 Chievo/resnet18_audio_feat_v1_h1.npy\n",
      "saved for /work/oarongve/data/sound_dataset/SoccerNet-code/data/italy_serie-a/2016-2017/2016-12-22 - 22-45 AS Roma 3 - 1 Chievo/resnet18_audio_feat_v1_h2.npy\n",
      "saved for /work/oarongve/data/sound_dataset/SoccerNet-code/data/italy_serie-a/2016-2017/2017-01-08 - 20-00 AC Milan 1 - 0 Cagliari/resnet18_audio_feat_v1_h1.npy\n",
      "saved for /work/oarongve/data/sound_dataset/SoccerNet-code/data/italy_serie-a/2016-2017/2017-01-08 - 20-00 AC Milan 1 - 0 Cagliari/resnet18_audio_feat_v1_h2.npy\n",
      "saved for /work/oarongve/data/sound_dataset/SoccerNet-code/data/italy_serie-a/2016-2017/2017-01-15 - 17-00 Napoli 3 - 1 Pescara/resnet18_audio_feat_v1_h1.npy\n",
      "saved for /work/oarongve/data/sound_dataset/SoccerNet-code/data/italy_serie-a/2016-2017/2017-01-15 - 17-00 Napoli 3 - 1 Pescara/resnet18_audio_feat_v1_h2.npy\n",
      "saved for /work/oarongve/data/sound_dataset/SoccerNet-code/data/italy_serie-a/2016-2017/2017-01-15 - 17-00 Udinese 0 - 1 AS Roma/resnet18_audio_feat_v1_h1.npy\n",
      "saved for /work/oarongve/data/sound_dataset/SoccerNet-code/data/italy_serie-a/2016-2017/2017-01-15 - 17-00 Udinese 0 - 1 AS Roma/resnet18_audio_feat_v1_h2.npy\n",
      "saved for /work/oarongve/data/sound_dataset/SoccerNet-code/data/italy_serie-a/2016-2017/2017-01-21 - 22-45 AC Milan 1 - 2 Napoli/resnet18_audio_feat_v1_h1.npy\n",
      "saved for /work/oarongve/data/sound_dataset/SoccerNet-code/data/italy_serie-a/2016-2017/2017-01-21 - 22-45 AC Milan 1 - 2 Napoli/resnet18_audio_feat_v1_h2.npy\n",
      "saved for /work/oarongve/data/sound_dataset/SoccerNet-code/data/italy_serie-a/2016-2017/2017-02-04 - 22-45 Bologna 1 - 7 Napoli/resnet18_audio_feat_v1_h1.npy\n",
      "saved for /work/oarongve/data/sound_dataset/SoccerNet-code/data/italy_serie-a/2016-2017/2017-02-04 - 22-45 Bologna 1 - 7 Napoli/resnet18_audio_feat_v1_h2.npy\n",
      "saved for /work/oarongve/data/sound_dataset/SoccerNet-code/data/italy_serie-a/2016-2017/2017-02-10 - 22-45 Napoli 2 - 0 Genoa/resnet18_audio_feat_v1_h1.npy\n",
      "saved for /work/oarongve/data/sound_dataset/SoccerNet-code/data/italy_serie-a/2016-2017/2017-02-10 - 22-45 Napoli 2 - 0 Genoa/resnet18_audio_feat_v1_h2.npy\n",
      "saved for /work/oarongve/data/sound_dataset/SoccerNet-code/data/italy_serie-a/2016-2017/2017-02-12 - 14-30 Crotone 0 - 2 AS Roma/resnet18_audio_feat_v1_h1.npy\n",
      "saved for /work/oarongve/data/sound_dataset/SoccerNet-code/data/italy_serie-a/2016-2017/2017-02-12 - 14-30 Crotone 0 - 2 AS Roma/resnet18_audio_feat_v1_h2.npy\n",
      "saved for /work/oarongve/data/sound_dataset/SoccerNet-code/data/italy_serie-a/2016-2017/2017-02-19 - 20-00 AS Roma 4 - 1 Torino/resnet18_audio_feat_v1_h1.npy\n",
      "saved for /work/oarongve/data/sound_dataset/SoccerNet-code/data/italy_serie-a/2016-2017/2017-02-19 - 20-00 AS Roma 4 - 1 Torino/resnet18_audio_feat_v1_h2.npy\n",
      "saved for /work/oarongve/data/sound_dataset/SoccerNet-code/data/italy_serie-a/2016-2017/2017-03-04 - 17-00 AS Roma 1 - 2 Napoli/resnet18_audio_feat_v1_h1.npy\n",
      "saved for /work/oarongve/data/sound_dataset/SoccerNet-code/data/italy_serie-a/2016-2017/2017-03-04 - 17-00 AS Roma 1 - 2 Napoli/resnet18_audio_feat_v1_h2.npy\n",
      "saved for /work/oarongve/data/sound_dataset/SoccerNet-code/data/italy_serie-a/2016-2017/2017-03-12 - 17-00 Napoli 3 - 0 Crotone/resnet18_audio_feat_v1_h1.npy\n",
      "saved for /work/oarongve/data/sound_dataset/SoccerNet-code/data/italy_serie-a/2016-2017/2017-03-12 - 17-00 Napoli 3 - 0 Crotone/resnet18_audio_feat_v1_h2.npy\n",
      "saved for /work/oarongve/data/sound_dataset/SoccerNet-code/data/italy_serie-a/2016-2017/2017-03-19 - 14-30 Empoli 2 - 3 Napoli/resnet18_audio_feat_v1_h1.npy\n",
      "saved for /work/oarongve/data/sound_dataset/SoccerNet-code/data/italy_serie-a/2016-2017/2017-03-19 - 14-30 Empoli 2 - 3 Napoli/resnet18_audio_feat_v1_h2.npy\n",
      "saved for /work/oarongve/data/sound_dataset/SoccerNet-code/data/italy_serie-a/2016-2017/2017-03-19 - 22-45 AS Roma 3 - 1 Sassuolo/resnet18_audio_feat_v1_h1.npy\n"
     ]
    },
    {
     "name": "stdout",
     "output_type": "stream",
     "text": [
      "saved for /work/oarongve/data/sound_dataset/SoccerNet-code/data/italy_serie-a/2016-2017/2017-03-19 - 22-45 AS Roma 3 - 1 Sassuolo/resnet18_audio_feat_v1_h2.npy\n",
      "saved for /work/oarongve/data/sound_dataset/SoccerNet-code/data/italy_serie-a/2016-2017/2017-04-09 - 16-00 Bologna 0 - 3 AS Roma/resnet18_audio_feat_v1_h1.npy\n",
      "saved for /work/oarongve/data/sound_dataset/SoccerNet-code/data/italy_serie-a/2016-2017/2017-04-09 - 16-00 Bologna 0 - 3 AS Roma/resnet18_audio_feat_v1_h2.npy\n",
      "saved for /work/oarongve/data/sound_dataset/SoccerNet-code/data/italy_serie-a/2016-2017/2017-04-09 - 21-45 Lazio 0 - 3 Napoli/resnet18_audio_feat_v1_h1.npy\n",
      "saved for /work/oarongve/data/sound_dataset/SoccerNet-code/data/italy_serie-a/2016-2017/2017-04-09 - 21-45 Lazio 0 - 3 Napoli/resnet18_audio_feat_v1_h2.npy\n",
      "saved for /work/oarongve/data/sound_dataset/SoccerNet-code/data/italy_serie-a/2016-2017/2017-04-15 - 16-00 AS Roma 1 - 1 Atalanta/resnet18_audio_feat_v1_h1.npy\n",
      "saved for /work/oarongve/data/sound_dataset/SoccerNet-code/data/italy_serie-a/2016-2017/2017-04-15 - 16-00 AS Roma 1 - 1 Atalanta/resnet18_audio_feat_v1_h2.npy\n",
      "saved for /work/oarongve/data/sound_dataset/SoccerNet-code/data/italy_serie-a/2016-2017/2017-04-23 - 13-30 Sassuolo 2 - 2 Napoli/resnet18_audio_feat_v1_h1.npy\n",
      "saved for /work/oarongve/data/sound_dataset/SoccerNet-code/data/italy_serie-a/2016-2017/2017-04-23 - 13-30 Sassuolo 2 - 2 Napoli/resnet18_audio_feat_v1_h2.npy\n",
      "saved for /work/oarongve/data/sound_dataset/SoccerNet-code/data/italy_serie-a/2016-2017/2017-04-24 - 21-45 Pescara 1 - 4 AS Roma/resnet18_audio_feat_v1_h1.npy\n",
      "saved for /work/oarongve/data/sound_dataset/SoccerNet-code/data/italy_serie-a/2016-2017/2017-04-24 - 21-45 Pescara 1 - 4 AS Roma/resnet18_audio_feat_v1_h2.npy\n",
      "saved for /work/oarongve/data/sound_dataset/SoccerNet-code/data/italy_serie-a/2016-2017/2017-05-07 - 21-45 AC Milan 1 - 4 AS Roma/resnet18_audio_feat_v1_h1.npy\n",
      "saved for /work/oarongve/data/sound_dataset/SoccerNet-code/data/italy_serie-a/2016-2017/2017-05-07 - 21-45 AC Milan 1 - 4 AS Roma/resnet18_audio_feat_v1_h2.npy\n",
      "saved for /work/oarongve/data/sound_dataset/SoccerNet-code/data/italy_serie-a/2016-2017/2017-05-14 - 16-00 Torino 0 - 5 Napoli/resnet18_audio_feat_v1_h1.npy\n",
      "saved for /work/oarongve/data/sound_dataset/SoccerNet-code/data/italy_serie-a/2016-2017/2017-05-14 - 16-00 Torino 0 - 5 Napoli/resnet18_audio_feat_v1_h2.npy\n",
      "saved for /work/oarongve/data/sound_dataset/SoccerNet-code/data/italy_serie-a/2016-2017/2017-05-14 - 21-45 AS Roma 3 - 1 Juventus/resnet18_audio_feat_v1_h1.npy\n",
      "saved for /work/oarongve/data/sound_dataset/SoccerNet-code/data/italy_serie-a/2016-2017/2017-05-14 - 21-45 AS Roma 3 - 1 Juventus/resnet18_audio_feat_v1_h2.npy\n",
      "saved for /work/oarongve/data/sound_dataset/SoccerNet-code/data/italy_serie-a/2016-2017/2017-05-20 - 19-00 Chievo 3 - 5 AS Roma/resnet18_audio_feat_v1_h1.npy\n",
      "saved for /work/oarongve/data/sound_dataset/SoccerNet-code/data/italy_serie-a/2016-2017/2017-05-20 - 19-00 Chievo 3 - 5 AS Roma/resnet18_audio_feat_v1_h2.npy\n",
      "saved for /work/oarongve/data/sound_dataset/SoccerNet-code/data/italy_serie-a/2016-2017/2017-05-28 - 19-00 AS Roma 3 - 2 Genoa/resnet18_audio_feat_v1_h1.npy\n",
      "saved for /work/oarongve/data/sound_dataset/SoccerNet-code/data/italy_serie-a/2016-2017/2017-05-28 - 19-00 AS Roma 3 - 2 Genoa/resnet18_audio_feat_v1_h2.npy\n",
      "saved for /work/oarongve/data/sound_dataset/SoccerNet-code/data/italy_serie-a/2016-2017/2017-05-28 - 19-00 Sampdoria 2 - 4 Napoli/resnet18_audio_feat_v1_h1.npy\n",
      "saved for /work/oarongve/data/sound_dataset/SoccerNet-code/data/italy_serie-a/2016-2017/2017-05-28 - 19-00 Sampdoria 2 - 4 Napoli/resnet18_audio_feat_v1_h2.npy\n",
      "saved for /work/oarongve/data/sound_dataset/SoccerNet-code/data/spain_laliga/2014-2015/2015-02-21 - 18-00 Barcelona 0 - 1 Malaga/resnet18_audio_feat_v1_h1.npy\n",
      "saved for /work/oarongve/data/sound_dataset/SoccerNet-code/data/spain_laliga/2014-2015/2015-02-21 - 18-00 Barcelona 0 - 1 Malaga/resnet18_audio_feat_v1_h2.npy\n",
      "saved for /work/oarongve/data/sound_dataset/SoccerNet-code/data/spain_laliga/2014-2015/2015-02-22 - 23-00 Elche 0 - 2 Real Madrid/resnet18_audio_feat_v1_h1.npy\n",
      "saved for /work/oarongve/data/sound_dataset/SoccerNet-code/data/spain_laliga/2014-2015/2015-02-22 - 23-00 Elche 0 - 2 Real Madrid/resnet18_audio_feat_v1_h2.npy\n",
      "saved for /work/oarongve/data/sound_dataset/SoccerNet-code/data/spain_laliga/2014-2015/2015-05-09 - 21-00 Real Madrid 2 - 2 Valencia/resnet18_audio_feat_v1_h1.npy\n",
      "saved for /work/oarongve/data/sound_dataset/SoccerNet-code/data/spain_laliga/2014-2015/2015-05-09 - 21-00 Real Madrid 2 - 2 Valencia/resnet18_audio_feat_v1_h2.npy\n",
      "saved for /work/oarongve/data/sound_dataset/SoccerNet-code/data/spain_laliga/2014-2015/2015-05-17 - 20-00 Atl. Madrid 0 - 1 Barcelona/resnet18_audio_feat_v1_h1.npy\n",
      "saved for /work/oarongve/data/sound_dataset/SoccerNet-code/data/spain_laliga/2014-2015/2015-05-17 - 20-00 Atl. Madrid 0 - 1 Barcelona/resnet18_audio_feat_v1_h2.npy\n",
      "saved for /work/oarongve/data/sound_dataset/SoccerNet-code/data/spain_laliga/2014-2015/2015-05-17 - 20-00 Espanyol 1 - 4 Real Madrid/resnet18_audio_feat_v1_h1.npy\n",
      "saved for /work/oarongve/data/sound_dataset/SoccerNet-code/data/spain_laliga/2014-2015/2015-05-17 - 20-00 Espanyol 1 - 4 Real Madrid/resnet18_audio_feat_v1_h2.npy\n",
      "saved for /work/oarongve/data/sound_dataset/SoccerNet-code/data/spain_laliga/2014-2015/2015-05-23 - 19-30 Barcelona 2 - 2 Dep. La Coruna/resnet18_audio_feat_v1_h1.npy\n",
      "saved for /work/oarongve/data/sound_dataset/SoccerNet-code/data/spain_laliga/2014-2015/2015-05-23 - 19-30 Barcelona 2 - 2 Dep. La Coruna/resnet18_audio_feat_v1_h2.npy\n",
      "saved for /work/oarongve/data/sound_dataset/SoccerNet-code/data/spain_laliga/2015-2016/2015-08-29 - 21-30 Barcelona 1 - 0 Malaga/resnet18_audio_feat_v1_h1.npy\n",
      "saved for /work/oarongve/data/sound_dataset/SoccerNet-code/data/spain_laliga/2015-2016/2015-08-29 - 21-30 Barcelona 1 - 0 Malaga/resnet18_audio_feat_v1_h2.npy\n",
      "saved for /work/oarongve/data/sound_dataset/SoccerNet-code/data/spain_laliga/2015-2016/2015-09-12 - 17-00 Espanyol 0 - 6 Real Madrid/resnet18_audio_feat_v1_h1.npy\n",
      "saved for /work/oarongve/data/sound_dataset/SoccerNet-code/data/spain_laliga/2015-2016/2015-09-12 - 17-00 Espanyol 0 - 6 Real Madrid/resnet18_audio_feat_v1_h2.npy\n",
      "saved for /work/oarongve/data/sound_dataset/SoccerNet-code/data/spain_laliga/2015-2016/2015-09-23 - 22-00 Ath Bilbao 1 - 2 Real Madrid/resnet18_audio_feat_v1_h1.npy\n",
      "saved for /work/oarongve/data/sound_dataset/SoccerNet-code/data/spain_laliga/2015-2016/2015-09-23 - 22-00 Ath Bilbao 1 - 2 Real Madrid/resnet18_audio_feat_v1_h2.npy\n",
      "saved for /work/oarongve/data/sound_dataset/SoccerNet-code/data/spain_laliga/2015-2016/2015-09-26 - 19-15 Real Madrid 0 - 0 Malaga/resnet18_audio_feat_v1_h1.npy\n",
      "saved for /work/oarongve/data/sound_dataset/SoccerNet-code/data/spain_laliga/2015-2016/2015-09-26 - 19-15 Real Madrid 0 - 0 Malaga/resnet18_audio_feat_v1_h2.npy\n",
      "saved for /work/oarongve/data/sound_dataset/SoccerNet-code/data/spain_laliga/2015-2016/2015-10-04 - 21-30 Atl. Madrid 1 - 1 Real Madrid/resnet18_audio_feat_v1_h1.npy\n",
      "saved for /work/oarongve/data/sound_dataset/SoccerNet-code/data/spain_laliga/2015-2016/2015-10-04 - 21-30 Atl. Madrid 1 - 1 Real Madrid/resnet18_audio_feat_v1_h2.npy\n",
      "saved for /work/oarongve/data/sound_dataset/SoccerNet-code/data/spain_laliga/2015-2016/2015-11-21 - 20-15 Real Madrid 0 - 4 Barcelona/resnet18_audio_feat_v1_h1.npy\n",
      "saved for /work/oarongve/data/sound_dataset/SoccerNet-code/data/spain_laliga/2015-2016/2015-11-21 - 20-15 Real Madrid 0 - 4 Barcelona/resnet18_audio_feat_v1_h2.npy\n",
      "saved for /work/oarongve/data/sound_dataset/SoccerNet-code/data/spain_laliga/2015-2016/2015-11-29 - 18-00 Eibar 0 - 2 Real Madrid/resnet18_audio_feat_v1_h1.npy\n",
      "saved for /work/oarongve/data/sound_dataset/SoccerNet-code/data/spain_laliga/2015-2016/2015-11-29 - 18-00 Eibar 0 - 2 Real Madrid/resnet18_audio_feat_v1_h2.npy\n",
      "saved for /work/oarongve/data/sound_dataset/SoccerNet-code/data/spain_laliga/2015-2016/2016-01-24 - 22-30 Betis 1 - 1 Real Madrid/resnet18_audio_feat_v1_h1.npy\n",
      "saved for /work/oarongve/data/sound_dataset/SoccerNet-code/data/spain_laliga/2015-2016/2016-01-24 - 22-30 Betis 1 - 1 Real Madrid/resnet18_audio_feat_v1_h2.npy\n"
     ]
    },
    {
     "name": "stdout",
     "output_type": "stream",
     "text": [
      "saved for /work/oarongve/data/sound_dataset/SoccerNet-code/data/spain_laliga/2015-2016/2016-01-31 - 22-30 Real Madrid 6 - 0 Espanyol/resnet18_audio_feat_v1_h1.npy\n",
      "saved for /work/oarongve/data/sound_dataset/SoccerNet-code/data/spain_laliga/2015-2016/2016-01-31 - 22-30 Real Madrid 6 - 0 Espanyol/resnet18_audio_feat_v1_h2.npy\n",
      "saved for /work/oarongve/data/sound_dataset/SoccerNet-code/data/spain_laliga/2015-2016/2016-02-07 - 22-30 Granada CF 1 - 2 Real Madrid/resnet18_audio_feat_v1_h1.npy\n",
      "saved for /work/oarongve/data/sound_dataset/SoccerNet-code/data/spain_laliga/2015-2016/2016-02-07 - 22-30 Granada CF 1 - 2 Real Madrid/resnet18_audio_feat_v1_h2.npy\n",
      "saved for /work/oarongve/data/sound_dataset/SoccerNet-code/data/spain_laliga/2015-2016/2016-02-21 - 18-00 Malaga 1 - 1 Real Madrid/resnet18_audio_feat_v1_h1.npy\n",
      "saved for /work/oarongve/data/sound_dataset/SoccerNet-code/data/spain_laliga/2015-2016/2016-02-21 - 18-00 Malaga 1 - 1 Real Madrid/resnet18_audio_feat_v1_h2.npy\n",
      "saved for /work/oarongve/data/sound_dataset/SoccerNet-code/data/spain_laliga/2015-2016/2016-03-05 - 18-00 Real Madrid 7 - 1 Celta Vigo/resnet18_audio_feat_v1_h1.npy\n",
      "saved for /work/oarongve/data/sound_dataset/SoccerNet-code/data/spain_laliga/2015-2016/2016-03-05 - 18-00 Real Madrid 7 - 1 Celta Vigo/resnet18_audio_feat_v1_h2.npy\n",
      "saved for /work/oarongve/data/sound_dataset/SoccerNet-code/data/spain_laliga/2015-2016/2016-03-13 - 22-30 Las Palmas 1 - 2 Real Madrid/resnet18_audio_feat_v1_h1.npy\n",
      "saved for /work/oarongve/data/sound_dataset/SoccerNet-code/data/spain_laliga/2015-2016/2016-03-13 - 22-30 Las Palmas 1 - 2 Real Madrid/resnet18_audio_feat_v1_h2.npy\n",
      "saved for /work/oarongve/data/sound_dataset/SoccerNet-code/data/spain_laliga/2015-2016/2016-04-02 - 21-30 Barcelona 1 - 2 Real Madrid/resnet18_audio_feat_v1_h1.npy\n",
      "saved for /work/oarongve/data/sound_dataset/SoccerNet-code/data/spain_laliga/2015-2016/2016-04-02 - 21-30 Barcelona 1 - 2 Real Madrid/resnet18_audio_feat_v1_h2.npy\n",
      "saved for /work/oarongve/data/sound_dataset/SoccerNet-code/data/spain_laliga/2015-2016/2016-04-09 - 17-00 Real Madrid 4 - 0 Eibar/resnet18_audio_feat_v1_h1.npy\n",
      "saved for /work/oarongve/data/sound_dataset/SoccerNet-code/data/spain_laliga/2015-2016/2016-04-09 - 17-00 Real Madrid 4 - 0 Eibar/resnet18_audio_feat_v1_h2.npy\n",
      "saved for /work/oarongve/data/sound_dataset/SoccerNet-code/data/spain_laliga/2015-2016/2016-04-16 - 17-00 Getafe 1 - 5 Real Madrid/resnet18_audio_feat_v1_h1.npy\n",
      "saved for /work/oarongve/data/sound_dataset/SoccerNet-code/data/spain_laliga/2015-2016/2016-04-16 - 17-00 Getafe 1 - 5 Real Madrid/resnet18_audio_feat_v1_h2.npy\n",
      "saved for /work/oarongve/data/sound_dataset/SoccerNet-code/data/spain_laliga/2015-2016/2016-04-20 - 23-00 Real Madrid 3 - 0 Villarreal/resnet18_audio_feat_v1_h1.npy\n",
      "saved for /work/oarongve/data/sound_dataset/SoccerNet-code/data/spain_laliga/2015-2016/2016-04-20 - 23-00 Real Madrid 3 - 0 Villarreal/resnet18_audio_feat_v1_h2.npy\n",
      "saved for /work/oarongve/data/sound_dataset/SoccerNet-code/data/spain_laliga/2015-2016/2016-04-30 - 17-00 Real Sociedad 0 - 1 Real Madrid/resnet18_audio_feat_v1_h1.npy\n",
      "saved for /work/oarongve/data/sound_dataset/SoccerNet-code/data/spain_laliga/2015-2016/2016-04-30 - 17-00 Real Sociedad 0 - 1 Real Madrid/resnet18_audio_feat_v1_h2.npy\n",
      "saved for /work/oarongve/data/sound_dataset/SoccerNet-code/data/spain_laliga/2016-2017/2016-08-20 - 19-15 Barcelona 6 - 2 Betis/resnet18_audio_feat_v1_h1.npy\n",
      "saved for /work/oarongve/data/sound_dataset/SoccerNet-code/data/spain_laliga/2016-2017/2016-08-20 - 19-15 Barcelona 6 - 2 Betis/resnet18_audio_feat_v1_h2.npy\n",
      "saved for /work/oarongve/data/sound_dataset/SoccerNet-code/data/spain_laliga/2016-2017/2016-08-27 - 21-15 Real Madrid 2 - 1 Celta Vigo/resnet18_audio_feat_v1_h1.npy\n",
      "saved for /work/oarongve/data/sound_dataset/SoccerNet-code/data/spain_laliga/2016-2017/2016-08-27 - 21-15 Real Madrid 2 - 1 Celta Vigo/resnet18_audio_feat_v1_h2.npy\n",
      "saved for /work/oarongve/data/sound_dataset/SoccerNet-code/data/spain_laliga/2016-2017/2016-08-28 - 21-15 Ath Bilbao 0 - 1 Barcelona/resnet18_audio_feat_v1_h1.npy\n",
      "saved for /work/oarongve/data/sound_dataset/SoccerNet-code/data/spain_laliga/2016-2017/2016-08-28 - 21-15 Ath Bilbao 0 - 1 Barcelona/resnet18_audio_feat_v1_h2.npy\n",
      "saved for /work/oarongve/data/sound_dataset/SoccerNet-code/data/spain_laliga/2016-2017/2016-09-18 - 21-45 Espanyol 0 - 2 Real Madrid/resnet18_audio_feat_v1_h1.npy\n",
      "saved for /work/oarongve/data/sound_dataset/SoccerNet-code/data/spain_laliga/2016-2017/2016-09-18 - 21-45 Espanyol 0 - 2 Real Madrid/resnet18_audio_feat_v1_h2.npy\n",
      "saved for /work/oarongve/data/sound_dataset/SoccerNet-code/data/spain_laliga/2016-2017/2016-09-21 - 23-00 Barcelona 1 - 1 Atl. Madrid/resnet18_audio_feat_v1_h1.npy\n",
      "saved for /work/oarongve/data/sound_dataset/SoccerNet-code/data/spain_laliga/2016-2017/2016-09-21 - 23-00 Barcelona 1 - 1 Atl. Madrid/resnet18_audio_feat_v1_h2.npy\n",
      "saved for /work/oarongve/data/sound_dataset/SoccerNet-code/data/spain_laliga/2016-2017/2016-10-02 - 17-15 Real Madrid 1 - 1 Eibar/resnet18_audio_feat_v1_h1.npy\n",
      "saved for /work/oarongve/data/sound_dataset/SoccerNet-code/data/spain_laliga/2016-2017/2016-10-02 - 17-15 Real Madrid 1 - 1 Eibar/resnet18_audio_feat_v1_h2.npy\n",
      "saved for /work/oarongve/data/sound_dataset/SoccerNet-code/data/spain_laliga/2016-2017/2016-10-15 - 21-45 Betis 1 - 6 Real Madrid/resnet18_audio_feat_v1_h1.npy\n",
      "saved for /work/oarongve/data/sound_dataset/SoccerNet-code/data/spain_laliga/2016-2017/2016-10-15 - 21-45 Betis 1 - 6 Real Madrid/resnet18_audio_feat_v1_h2.npy\n",
      "saved for /work/oarongve/data/sound_dataset/SoccerNet-code/data/spain_laliga/2016-2017/2016-10-22 - 17-15 Valencia 2 - 3 Barcelona/resnet18_audio_feat_v1_h1.npy\n",
      "saved for /work/oarongve/data/sound_dataset/SoccerNet-code/data/spain_laliga/2016-2017/2016-10-22 - 17-15 Valencia 2 - 3 Barcelona/resnet18_audio_feat_v1_h2.npy\n",
      "saved for /work/oarongve/data/sound_dataset/SoccerNet-code/data/spain_laliga/2016-2017/2016-10-29 - 17-15 Alaves 1 - 4 Real Madrid/resnet18_audio_feat_v1_h1.npy\n",
      "saved for /work/oarongve/data/sound_dataset/SoccerNet-code/data/spain_laliga/2016-2017/2016-10-29 - 17-15 Alaves 1 - 4 Real Madrid/resnet18_audio_feat_v1_h2.npy\n",
      "saved for /work/oarongve/data/sound_dataset/SoccerNet-code/data/spain_laliga/2016-2017/2016-10-29 - 21-45 Barcelona 1 - 0 Granada CF/resnet18_audio_feat_v1_h1.npy\n",
      "saved for /work/oarongve/data/sound_dataset/SoccerNet-code/data/spain_laliga/2016-2017/2016-10-29 - 21-45 Barcelona 1 - 0 Granada CF/resnet18_audio_feat_v1_h2.npy\n",
      "saved for /work/oarongve/data/sound_dataset/SoccerNet-code/data/spain_laliga/2016-2017/2016-11-06 - 14-00 Real Madrid 3 - 0 Leganes/resnet18_audio_feat_v1_h1.npy\n",
      "saved for /work/oarongve/data/sound_dataset/SoccerNet-code/data/spain_laliga/2016-2017/2016-11-06 - 14-00 Real Madrid 3 - 0 Leganes/resnet18_audio_feat_v1_h2.npy\n",
      "saved for /work/oarongve/data/sound_dataset/SoccerNet-code/data/spain_laliga/2016-2017/2016-11-19 - 18-15 Barcelona 0 - 0 Malaga/resnet18_audio_feat_v1_h1.npy\n",
      "saved for /work/oarongve/data/sound_dataset/SoccerNet-code/data/spain_laliga/2016-2017/2016-11-19 - 18-15 Barcelona 0 - 0 Malaga/resnet18_audio_feat_v1_h2.npy\n",
      "saved for /work/oarongve/data/sound_dataset/SoccerNet-code/data/spain_laliga/2016-2017/2016-11-19 - 22-45 Atl. Madrid 0 - 3 Real Madrid/resnet18_audio_feat_v1_h1.npy\n",
      "saved for /work/oarongve/data/sound_dataset/SoccerNet-code/data/spain_laliga/2016-2017/2016-11-19 - 22-45 Atl. Madrid 0 - 3 Real Madrid/resnet18_audio_feat_v1_h2.npy\n",
      "saved for /work/oarongve/data/sound_dataset/SoccerNet-code/data/spain_laliga/2016-2017/2016-11-27 - 22-45 Real Sociedad 1 - 1 Barcelona/resnet18_audio_feat_v1_h1.npy\n",
      "saved for /work/oarongve/data/sound_dataset/SoccerNet-code/data/spain_laliga/2016-2017/2016-11-27 - 22-45 Real Sociedad 1 - 1 Barcelona/resnet18_audio_feat_v1_h2.npy\n",
      "saved for /work/oarongve/data/sound_dataset/SoccerNet-code/data/spain_laliga/2016-2017/2016-12-03 - 18-15 Barcelona 1 - 1 Real Madrid/resnet18_audio_feat_v1_h1.npy\n",
      "saved for /work/oarongve/data/sound_dataset/SoccerNet-code/data/spain_laliga/2016-2017/2016-12-03 - 18-15 Barcelona 1 - 1 Real Madrid/resnet18_audio_feat_v1_h2.npy\n",
      "saved for /work/oarongve/data/sound_dataset/SoccerNet-code/data/spain_laliga/2016-2017/2016-12-10 - 22-45 Real Madrid 3 - 2 Dep. La Coruna/resnet18_audio_feat_v1_h1.npy\n"
     ]
    },
    {
     "name": "stdout",
     "output_type": "stream",
     "text": [
      "saved for /work/oarongve/data/sound_dataset/SoccerNet-code/data/spain_laliga/2016-2017/2016-12-10 - 22-45 Real Madrid 3 - 2 Dep. La Coruna/resnet18_audio_feat_v1_h2.npy\n",
      "saved for /work/oarongve/data/sound_dataset/SoccerNet-code/data/spain_laliga/2016-2017/2017-01-08 - 22-45 Villarreal 1 - 1 Barcelona/resnet18_audio_feat_v1_h1.npy\n",
      "saved for /work/oarongve/data/sound_dataset/SoccerNet-code/data/spain_laliga/2016-2017/2017-01-08 - 22-45 Villarreal 1 - 1 Barcelona/resnet18_audio_feat_v1_h2.npy\n",
      "saved for /work/oarongve/data/sound_dataset/SoccerNet-code/data/spain_laliga/2016-2017/2017-01-14 - 18-15 Barcelona 5 - 0 Las Palmas/resnet18_audio_feat_v1_h1.npy\n",
      "saved for /work/oarongve/data/sound_dataset/SoccerNet-code/data/spain_laliga/2016-2017/2017-01-14 - 18-15 Barcelona 5 - 0 Las Palmas/resnet18_audio_feat_v1_h2.npy\n",
      "saved for /work/oarongve/data/sound_dataset/SoccerNet-code/data/spain_laliga/2016-2017/2017-01-15 - 22-45 Sevilla 2 - 1 Real Madrid/resnet18_audio_feat_v1_h1.npy\n",
      "saved for /work/oarongve/data/sound_dataset/SoccerNet-code/data/spain_laliga/2016-2017/2017-01-15 - 22-45 Sevilla 2 - 1 Real Madrid/resnet18_audio_feat_v1_h2.npy\n",
      "saved for /work/oarongve/data/sound_dataset/SoccerNet-code/data/spain_laliga/2016-2017/2017-01-29 - 14-00 Betis 1 - 1 Barcelona/resnet18_audio_feat_v1_h1.npy\n",
      "saved for /work/oarongve/data/sound_dataset/SoccerNet-code/data/spain_laliga/2016-2017/2017-01-29 - 14-00 Betis 1 - 1 Barcelona/resnet18_audio_feat_v1_h2.npy\n",
      "saved for /work/oarongve/data/sound_dataset/SoccerNet-code/data/spain_laliga/2016-2017/2017-01-29 - 22-45 Real Madrid 3 - 0 Real Sociedad/resnet18_audio_feat_v1_h1.npy\n",
      "saved for /work/oarongve/data/sound_dataset/SoccerNet-code/data/spain_laliga/2016-2017/2017-01-29 - 22-45 Real Madrid 3 - 0 Real Sociedad/resnet18_audio_feat_v1_h2.npy\n",
      "saved for /work/oarongve/data/sound_dataset/SoccerNet-code/data/spain_laliga/2016-2017/2017-02-19 - 22-45 Barcelona 2 - 1 Leganes/resnet18_audio_feat_v1_h1.npy\n",
      "saved for /work/oarongve/data/sound_dataset/SoccerNet-code/data/spain_laliga/2016-2017/2017-02-19 - 22-45 Barcelona 2 - 1 Leganes/resnet18_audio_feat_v1_h2.npy\n",
      "saved for /work/oarongve/data/sound_dataset/SoccerNet-code/data/spain_laliga/2016-2017/2017-02-26 - 18-15 Atl. Madrid 1 - 2 Barcelona/resnet18_audio_feat_v1_h1.npy\n",
      "saved for /work/oarongve/data/sound_dataset/SoccerNet-code/data/spain_laliga/2016-2017/2017-02-26 - 18-15 Atl. Madrid 1 - 2 Barcelona/resnet18_audio_feat_v1_h2.npy\n",
      "saved for /work/oarongve/data/sound_dataset/SoccerNet-code/data/spain_laliga/2016-2017/2017-02-26 - 22-45 Villarreal 2 - 3 Real Madrid/resnet18_audio_feat_v1_h1.npy\n",
      "saved for /work/oarongve/data/sound_dataset/SoccerNet-code/data/spain_laliga/2016-2017/2017-02-26 - 22-45 Villarreal 2 - 3 Real Madrid/resnet18_audio_feat_v1_h2.npy\n",
      "saved for /work/oarongve/data/sound_dataset/SoccerNet-code/data/spain_laliga/2016-2017/2017-03-01 - 21-30 Barcelona 6 - 1 Gijon/resnet18_audio_feat_v1_h1.npy\n",
      "saved for /work/oarongve/data/sound_dataset/SoccerNet-code/data/spain_laliga/2016-2017/2017-03-01 - 21-30 Barcelona 6 - 1 Gijon/resnet18_audio_feat_v1_h2.npy\n",
      "saved for /work/oarongve/data/sound_dataset/SoccerNet-code/data/spain_laliga/2016-2017/2017-03-01 - 23-30 Real Madrid 3 - 3 Las Palmas/resnet18_audio_feat_v1_h1.npy\n",
      "saved for /work/oarongve/data/sound_dataset/SoccerNet-code/data/spain_laliga/2016-2017/2017-03-01 - 23-30 Real Madrid 3 - 3 Las Palmas/resnet18_audio_feat_v1_h2.npy\n",
      "saved for /work/oarongve/data/sound_dataset/SoccerNet-code/data/spain_laliga/2016-2017/2017-03-04 - 18-15 Eibar 1 - 4 Real Madrid/resnet18_audio_feat_v1_h1.npy\n",
      "saved for /work/oarongve/data/sound_dataset/SoccerNet-code/data/spain_laliga/2016-2017/2017-03-04 - 18-15 Eibar 1 - 4 Real Madrid/resnet18_audio_feat_v1_h2.npy\n",
      "saved for /work/oarongve/data/sound_dataset/SoccerNet-code/data/spain_laliga/2016-2017/2017-03-04 - 22-45 Barcelona 5 - 0 Celta Vigo/resnet18_audio_feat_v1_h1.npy\n",
      "saved for /work/oarongve/data/sound_dataset/SoccerNet-code/data/spain_laliga/2016-2017/2017-03-04 - 22-45 Barcelona 5 - 0 Celta Vigo/resnet18_audio_feat_v1_h2.npy\n",
      "saved for /work/oarongve/data/sound_dataset/SoccerNet-code/data/spain_laliga/2016-2017/2017-03-12 - 18-15 Dep. La Coruna 2 - 1 Barcelona/resnet18_audio_feat_v1_h1.npy\n",
      "saved for /work/oarongve/data/sound_dataset/SoccerNet-code/data/spain_laliga/2016-2017/2017-03-12 - 18-15 Dep. La Coruna 2 - 1 Barcelona/resnet18_audio_feat_v1_h2.npy\n",
      "saved for /work/oarongve/data/sound_dataset/SoccerNet-code/data/spain_laliga/2016-2017/2017-03-18 - 18-15 Ath Bilbao 1 - 2 Real Madrid/resnet18_audio_feat_v1_h1.npy\n",
      "saved for /work/oarongve/data/sound_dataset/SoccerNet-code/data/spain_laliga/2016-2017/2017-03-18 - 18-15 Ath Bilbao 1 - 2 Real Madrid/resnet18_audio_feat_v1_h2.npy\n",
      "saved for /work/oarongve/data/sound_dataset/SoccerNet-code/data/spain_laliga/2016-2017/2017-03-19 - 22-45 Barcelona 4 - 2 Valencia/resnet18_audio_feat_v1_h1.npy\n",
      "saved for /work/oarongve/data/sound_dataset/SoccerNet-code/data/spain_laliga/2016-2017/2017-03-19 - 22-45 Barcelona 4 - 2 Valencia/resnet18_audio_feat_v1_h2.npy\n",
      "saved for /work/oarongve/data/sound_dataset/SoccerNet-code/data/spain_laliga/2016-2017/2017-04-02 - 21-45 Granada CF 1 - 4 Barcelona/resnet18_audio_feat_v1_h1.npy\n",
      "saved for /work/oarongve/data/sound_dataset/SoccerNet-code/data/spain_laliga/2016-2017/2017-04-02 - 21-45 Granada CF 1 - 4 Barcelona/resnet18_audio_feat_v1_h2.npy\n",
      "saved for /work/oarongve/data/sound_dataset/SoccerNet-code/data/spain_laliga/2016-2017/2017-04-05 - 22-30 Leganes 2 - 4 Real Madrid/resnet18_audio_feat_v1_h1.npy\n",
      "saved for /work/oarongve/data/sound_dataset/SoccerNet-code/data/spain_laliga/2016-2017/2017-04-05 - 22-30 Leganes 2 - 4 Real Madrid/resnet18_audio_feat_v1_h2.npy\n",
      "saved for /work/oarongve/data/sound_dataset/SoccerNet-code/data/spain_laliga/2016-2017/2017-04-15 - 17-15 Gijon 2 - 3 Real Madrid/resnet18_audio_feat_v1_h1.npy\n",
      "saved for /work/oarongve/data/sound_dataset/SoccerNet-code/data/spain_laliga/2016-2017/2017-04-15 - 17-15 Gijon 2 - 3 Real Madrid/resnet18_audio_feat_v1_h2.npy\n",
      "saved for /work/oarongve/data/sound_dataset/SoccerNet-code/data/spain_laliga/2016-2017/2017-04-15 - 21-45 Barcelona 3 - 2 Real Sociedad/resnet18_audio_feat_v1_h1.npy\n",
      "saved for /work/oarongve/data/sound_dataset/SoccerNet-code/data/spain_laliga/2016-2017/2017-04-15 - 21-45 Barcelona 3 - 2 Real Sociedad/resnet18_audio_feat_v1_h2.npy\n",
      "saved for /work/oarongve/data/sound_dataset/SoccerNet-code/data/spain_laliga/2016-2017/2017-04-26 - 22-30 Dep. La Coruna 2 - 6 Real Madrid/resnet18_audio_feat_v1_h1.npy\n",
      "saved for /work/oarongve/data/sound_dataset/SoccerNet-code/data/spain_laliga/2016-2017/2017-04-26 - 22-30 Dep. La Coruna 2 - 6 Real Madrid/resnet18_audio_feat_v1_h2.npy\n",
      "saved for /work/oarongve/data/sound_dataset/SoccerNet-code/data/spain_laliga/2016-2017/2017-05-06 - 19-30 Barcelona 4 - 1 Villarreal/resnet18_audio_feat_v1_h1.npy\n",
      "saved for /work/oarongve/data/sound_dataset/SoccerNet-code/data/spain_laliga/2016-2017/2017-05-06 - 19-30 Barcelona 4 - 1 Villarreal/resnet18_audio_feat_v1_h2.npy\n",
      "saved for /work/oarongve/data/sound_dataset/SoccerNet-code/data/spain_laliga/2016-2017/2017-05-06 - 21-45 Granada CF 0 - 4 Real Madrid/resnet18_audio_feat_v1_h1.npy\n",
      "saved for /work/oarongve/data/sound_dataset/SoccerNet-code/data/spain_laliga/2016-2017/2017-05-06 - 21-45 Granada CF 0 - 4 Real Madrid/resnet18_audio_feat_v1_h2.npy\n",
      "saved for /work/oarongve/data/sound_dataset/SoccerNet-code/data/spain_laliga/2016-2017/2017-05-14 - 21-00 Real Madrid 4 - 1 Sevilla/resnet18_audio_feat_v1_h1.npy\n",
      "saved for /work/oarongve/data/sound_dataset/SoccerNet-code/data/spain_laliga/2016-2017/2017-05-14 - 21-00 Real Madrid 4 - 1 Sevilla/resnet18_audio_feat_v1_h2.npy\n",
      "saved for /work/oarongve/data/sound_dataset/SoccerNet-code/data/spain_laliga/2016-2017/2017-05-17 - 22-00 Celta Vigo 1 - 4 Real Madrid/resnet18_audio_feat_v1_h1.npy\n",
      "saved for /work/oarongve/data/sound_dataset/SoccerNet-code/data/spain_laliga/2016-2017/2017-05-17 - 22-00 Celta Vigo 1 - 4 Real Madrid/resnet18_audio_feat_v1_h2.npy\n",
      "saved for /work/oarongve/data/sound_dataset/SoccerNet-code/data/spain_laliga/2016-2017/2017-05-21 - 21-00 Barcelona 4 - 2 Eibar/resnet18_audio_feat_v1_h1.npy\n",
      "saved for /work/oarongve/data/sound_dataset/SoccerNet-code/data/spain_laliga/2016-2017/2017-05-21 - 21-00 Barcelona 4 - 2 Eibar/resnet18_audio_feat_v1_h2.npy\n"
     ]
    },
    {
     "name": "stdout",
     "output_type": "stream",
     "text": [
      "saved for /work/oarongve/data/sound_dataset/SoccerNet-code/data/spain_laliga/2016-2017/2017-05-21 - 21-00 Malaga 0 - 2 Real Madrid/resnet18_audio_feat_v1_h1.npy\n",
      "saved for /work/oarongve/data/sound_dataset/SoccerNet-code/data/spain_laliga/2016-2017/2017-05-21 - 21-00 Malaga 0 - 2 Real Madrid/resnet18_audio_feat_v1_h2.npy\n",
      "CPU times: user 4h 47min 55s, sys: 3min 57s, total: 4h 51min 53s\n",
      "Wall time: 2h 28min 3s\n"
     ]
    }
   ],
   "source": [
    "%%time\n",
    "for i in range(len(train_set_all)):\n",
    "    data = train_set_all[i]['ms']\n",
    "    data = pad_by_wsize(w,data)\n",
    "    l = data.size()[1]\n",
    "    model = model.to(device)\n",
    "    model = model.eval()\n",
    "    res = list()\n",
    "    save_path = root_dir+train_set_all[i]['vidpath']+\"/resnet18_audio_feat_v1_h\"+str(train_set_all[i]['half'])+\".npy\"\n",
    "    with torch.no_grad():\n",
    "        for left_idx in range(0,l-(w*40),20):\n",
    "            inputs = normalize_data(data,(left_idx,left_idx+(w*40))).to(device).unsqueeze(0).unsqueeze(0)\n",
    "            res.append(model(inputs).cpu())\n",
    "    k = np.vstack(res)\n",
    "    np.save(save_path,k)\n",
    "    print(f\"saved for {save_path}\")"
   ]
  },
  {
   "cell_type": "markdown",
   "metadata": {},
   "source": [
    "# validation set"
   ]
  },
  {
   "cell_type": "code",
   "execution_count": 177,
   "metadata": {},
   "outputs": [
    {
     "name": "stdout",
     "output_type": "stream",
     "text": [
      "saved for /work/oarongve/data/sound_dataset/SoccerNet-code/data/england_epl/2014-2015/2015-04-11 - 19-30 Burnley 0 - 1 Arsenal/resnet18_audio_feat_v1_h1.npy\n",
      "saved for /work/oarongve/data/sound_dataset/SoccerNet-code/data/england_epl/2014-2015/2015-04-11 - 19-30 Burnley 0 - 1 Arsenal/resnet18_audio_feat_v1_h2.npy\n",
      "saved for /work/oarongve/data/sound_dataset/SoccerNet-code/data/england_epl/2015-2016/2015-08-30 - 18-00 Swansea 2 - 1 Manchester United/resnet18_audio_feat_v1_h1.npy\n",
      "saved for /work/oarongve/data/sound_dataset/SoccerNet-code/data/england_epl/2015-2016/2015-08-30 - 18-00 Swansea 2 - 1 Manchester United/resnet18_audio_feat_v1_h2.npy\n",
      "saved for /work/oarongve/data/sound_dataset/SoccerNet-code/data/england_epl/2015-2016/2015-09-26 - 17-00 Leicester 2 - 5 Arsenal/resnet18_audio_feat_v1_h1.npy\n",
      "saved for /work/oarongve/data/sound_dataset/SoccerNet-code/data/england_epl/2015-2016/2015-09-26 - 17-00 Leicester 2 - 5 Arsenal/resnet18_audio_feat_v1_h2.npy\n",
      "saved for /work/oarongve/data/sound_dataset/SoccerNet-code/data/england_epl/2015-2016/2015-09-26 - 17-00 Manchester United 3 - 0 Sunderland/resnet18_audio_feat_v1_h1.npy\n",
      "saved for /work/oarongve/data/sound_dataset/SoccerNet-code/data/england_epl/2015-2016/2015-09-26 - 17-00 Manchester United 3 - 0 Sunderland/resnet18_audio_feat_v1_h2.npy\n",
      "saved for /work/oarongve/data/sound_dataset/SoccerNet-code/data/england_epl/2015-2016/2015-10-03 - 17-00 Manchester City 6 - 1 Newcastle Utd/resnet18_audio_feat_v1_h1.npy\n",
      "saved for /work/oarongve/data/sound_dataset/SoccerNet-code/data/england_epl/2015-2016/2015-10-03 - 17-00 Manchester City 6 - 1 Newcastle Utd/resnet18_audio_feat_v1_h2.npy\n",
      "saved for /work/oarongve/data/sound_dataset/SoccerNet-code/data/england_epl/2015-2016/2015-12-26 - 18-00 Chelsea 2 - 2 Watford/resnet18_audio_feat_v1_h1.npy\n",
      "saved for /work/oarongve/data/sound_dataset/SoccerNet-code/data/england_epl/2015-2016/2015-12-26 - 18-00 Chelsea 2 - 2 Watford/resnet18_audio_feat_v1_h2.npy\n",
      "saved for /work/oarongve/data/sound_dataset/SoccerNet-code/data/england_epl/2015-2016/2016-01-23 - 20-30 West Ham 2 - 2 Manchester City/resnet18_audio_feat_v1_h1.npy\n",
      "saved for /work/oarongve/data/sound_dataset/SoccerNet-code/data/england_epl/2015-2016/2016-01-23 - 20-30 West Ham 2 - 2 Manchester City/resnet18_audio_feat_v1_h2.npy\n",
      "saved for /work/oarongve/data/sound_dataset/SoccerNet-code/data/england_epl/2015-2016/2016-01-24 - 19-00 Arsenal 0 - 1 Chelsea/resnet18_audio_feat_v1_h1.npy\n",
      "saved for /work/oarongve/data/sound_dataset/SoccerNet-code/data/england_epl/2015-2016/2016-01-24 - 19-00 Arsenal 0 - 1 Chelsea/resnet18_audio_feat_v1_h2.npy\n",
      "saved for /work/oarongve/data/sound_dataset/SoccerNet-code/data/england_epl/2015-2016/2016-02-13 - 20-30 Chelsea 5 - 1 Newcastle Utd/resnet18_audio_feat_v1_h1.npy\n",
      "saved for /work/oarongve/data/sound_dataset/SoccerNet-code/data/england_epl/2015-2016/2016-02-13 - 20-30 Chelsea 5 - 1 Newcastle Utd/resnet18_audio_feat_v1_h2.npy\n",
      "saved for /work/oarongve/data/sound_dataset/SoccerNet-code/data/england_epl/2015-2016/2016-02-27 - 18-00 Southampton 1 - 2 Chelsea/resnet18_audio_feat_v1_h1.npy\n",
      "saved for /work/oarongve/data/sound_dataset/SoccerNet-code/data/england_epl/2015-2016/2016-02-27 - 18-00 Southampton 1 - 2 Chelsea/resnet18_audio_feat_v1_h2.npy\n",
      "saved for /work/oarongve/data/sound_dataset/SoccerNet-code/data/england_epl/2015-2016/2016-03-05 - 18-00 Manchester City 4 - 0 Aston Villa/resnet18_audio_feat_v1_h1.npy\n",
      "saved for /work/oarongve/data/sound_dataset/SoccerNet-code/data/england_epl/2015-2016/2016-03-05 - 18-00 Manchester City 4 - 0 Aston Villa/resnet18_audio_feat_v1_h2.npy\n",
      "saved for /work/oarongve/data/sound_dataset/SoccerNet-code/data/england_epl/2015-2016/2016-03-20 - 19-00 Manchester City 0 - 1 Manchester United/resnet18_audio_feat_v1_h1.npy\n",
      "saved for /work/oarongve/data/sound_dataset/SoccerNet-code/data/england_epl/2015-2016/2016-03-20 - 19-00 Manchester City 0 - 1 Manchester United/resnet18_audio_feat_v1_h2.npy\n",
      "saved for /work/oarongve/data/sound_dataset/SoccerNet-code/data/england_epl/2015-2016/2016-04-23 - 17-00 Bournemouth 1 - 4 Chelsea/resnet18_audio_feat_v1_h1.npy\n",
      "saved for /work/oarongve/data/sound_dataset/SoccerNet-code/data/england_epl/2015-2016/2016-04-23 - 17-00 Bournemouth 1 - 4 Chelsea/resnet18_audio_feat_v1_h2.npy\n",
      "saved for /work/oarongve/data/sound_dataset/SoccerNet-code/data/england_epl/2016-2017/2016-10-01 - 14-30 Swansea 1 - 2 Liverpool/resnet18_audio_feat_v1_h1.npy\n",
      "saved for /work/oarongve/data/sound_dataset/SoccerNet-code/data/england_epl/2016-2017/2016-10-01 - 14-30 Swansea 1 - 2 Liverpool/resnet18_audio_feat_v1_h2.npy\n",
      "saved for /work/oarongve/data/sound_dataset/SoccerNet-code/data/england_epl/2016-2017/2016-10-02 - 18-30 Burnley 0 - 1 Arsenal/resnet18_audio_feat_v1_h1.npy\n",
      "saved for /work/oarongve/data/sound_dataset/SoccerNet-code/data/england_epl/2016-2017/2016-10-02 - 18-30 Burnley 0 - 1 Arsenal/resnet18_audio_feat_v1_h2.npy\n",
      "saved for /work/oarongve/data/sound_dataset/SoccerNet-code/data/england_epl/2016-2017/2016-10-22 - 17-00 Arsenal 0 - 0 Middlesbrough/resnet18_audio_feat_v1_h1.npy\n",
      "saved for /work/oarongve/data/sound_dataset/SoccerNet-code/data/england_epl/2016-2017/2016-10-22 - 17-00 Arsenal 0 - 0 Middlesbrough/resnet18_audio_feat_v1_h2.npy\n",
      "saved for /work/oarongve/data/sound_dataset/SoccerNet-code/data/england_epl/2016-2017/2016-10-29 - 19-30 Crystal Palace 2 - 4 Liverpool/resnet18_audio_feat_v1_h1.npy\n",
      "saved for /work/oarongve/data/sound_dataset/SoccerNet-code/data/england_epl/2016-2017/2016-10-29 - 19-30 Crystal Palace 2 - 4 Liverpool/resnet18_audio_feat_v1_h2.npy\n",
      "saved for /work/oarongve/data/sound_dataset/SoccerNet-code/data/england_epl/2016-2017/2016-12-04 - 16-30 Bournemouth 4 - 3 Liverpool/resnet18_audio_feat_v1_h1.npy\n",
      "saved for /work/oarongve/data/sound_dataset/SoccerNet-code/data/england_epl/2016-2017/2016-12-04 - 16-30 Bournemouth 4 - 3 Liverpool/resnet18_audio_feat_v1_h2.npy\n",
      "saved for /work/oarongve/data/sound_dataset/SoccerNet-code/data/england_epl/2016-2017/2017-04-09 - 18-00 Everton 4 - 2 Leicester/resnet18_audio_feat_v1_h1.npy\n",
      "saved for /work/oarongve/data/sound_dataset/SoccerNet-code/data/england_epl/2016-2017/2017-04-09 - 18-00 Everton 4 - 2 Leicester/resnet18_audio_feat_v1_h2.npy\n",
      "saved for /work/oarongve/data/sound_dataset/SoccerNet-code/data/europe_uefa-champions-league/2014-2015/2014-11-04 - 22-45 Real Madrid 1 - 0 Liverpool/resnet18_audio_feat_v1_h1.npy\n",
      "saved for /work/oarongve/data/sound_dataset/SoccerNet-code/data/europe_uefa-champions-league/2014-2015/2014-11-04 - 22-45 Real Madrid 1 - 0 Liverpool/resnet18_audio_feat_v1_h2.npy\n",
      "saved for /work/oarongve/data/sound_dataset/SoccerNet-code/data/europe_uefa-champions-league/2014-2015/2014-11-05 - 22-45 Ajax 0 - 2 Barcelona/resnet18_audio_feat_v1_h1.npy\n",
      "saved for /work/oarongve/data/sound_dataset/SoccerNet-code/data/europe_uefa-champions-league/2014-2015/2014-11-05 - 22-45 Ajax 0 - 2 Barcelona/resnet18_audio_feat_v1_h2.npy\n",
      "saved for /work/oarongve/data/sound_dataset/SoccerNet-code/data/europe_uefa-champions-league/2014-2015/2014-11-05 - 22-45 Manchester City 1 - 2 CSKA Moscow/resnet18_audio_feat_v1_h1.npy\n",
      "saved for /work/oarongve/data/sound_dataset/SoccerNet-code/data/europe_uefa-champions-league/2014-2015/2014-11-05 - 22-45 Manchester City 1 - 2 CSKA Moscow/resnet18_audio_feat_v1_h2.npy\n",
      "saved for /work/oarongve/data/sound_dataset/SoccerNet-code/data/europe_uefa-champions-league/2014-2015/2014-12-09 - 22-45 Galatasaray 1 - 4 Arsenal/resnet18_audio_feat_v1_h1.npy\n",
      "saved for /work/oarongve/data/sound_dataset/SoccerNet-code/data/europe_uefa-champions-league/2014-2015/2014-12-09 - 22-45 Galatasaray 1 - 4 Arsenal/resnet18_audio_feat_v1_h2.npy\n",
      "saved for /work/oarongve/data/sound_dataset/SoccerNet-code/data/europe_uefa-champions-league/2014-2015/2014-12-09 - 22-45 Real Madrid 4 - 0 Ludogorets/resnet18_audio_feat_v1_h1.npy\n",
      "saved for /work/oarongve/data/sound_dataset/SoccerNet-code/data/europe_uefa-champions-league/2014-2015/2014-12-09 - 22-45 Real Madrid 4 - 0 Ludogorets/resnet18_audio_feat_v1_h2.npy\n",
      "saved for /work/oarongve/data/sound_dataset/SoccerNet-code/data/europe_uefa-champions-league/2014-2015/2015-03-11 - 22-45 Bayern Munich 7 - 0 Shakhtar Donetsk/resnet18_audio_feat_v1_h1.npy\n",
      "saved for /work/oarongve/data/sound_dataset/SoccerNet-code/data/europe_uefa-champions-league/2014-2015/2015-03-11 - 22-45 Bayern Munich 7 - 0 Shakhtar Donetsk/resnet18_audio_feat_v1_h2.npy\n"
     ]
    },
    {
     "name": "stdout",
     "output_type": "stream",
     "text": [
      "saved for /work/oarongve/data/sound_dataset/SoccerNet-code/data/europe_uefa-champions-league/2014-2015/2015-04-15 - 21-45 Paris SG 1 - 3 Barcelona/resnet18_audio_feat_v1_h1.npy\n",
      "saved for /work/oarongve/data/sound_dataset/SoccerNet-code/data/europe_uefa-champions-league/2014-2015/2015-04-15 - 21-45 Paris SG 1 - 3 Barcelona/resnet18_audio_feat_v1_h2.npy\n",
      "saved for /work/oarongve/data/sound_dataset/SoccerNet-code/data/europe_uefa-champions-league/2014-2015/2015-04-21 - 21-45 Barcelona 2 - 0 Paris SG/resnet18_audio_feat_v1_h1.npy\n",
      "saved for /work/oarongve/data/sound_dataset/SoccerNet-code/data/europe_uefa-champions-league/2014-2015/2015-04-21 - 21-45 Barcelona 2 - 0 Paris SG/resnet18_audio_feat_v1_h2.npy\n",
      "saved for /work/oarongve/data/sound_dataset/SoccerNet-code/data/europe_uefa-champions-league/2015-2016/2015-09-15 - 21-45 PSV 2 - 1 Manchester United/resnet18_audio_feat_v1_h1.npy\n",
      "saved for /work/oarongve/data/sound_dataset/SoccerNet-code/data/europe_uefa-champions-league/2015-2016/2015-09-15 - 21-45 PSV 2 - 1 Manchester United/resnet18_audio_feat_v1_h2.npy\n",
      "saved for /work/oarongve/data/sound_dataset/SoccerNet-code/data/europe_uefa-champions-league/2015-2016/2015-09-16 - 21-45 Chelsea 4 - 0 Maccabi Tel Aviv/resnet18_audio_feat_v1_h1.npy\n",
      "saved for /work/oarongve/data/sound_dataset/SoccerNet-code/data/europe_uefa-champions-league/2015-2016/2015-09-16 - 21-45 Chelsea 4 - 0 Maccabi Tel Aviv/resnet18_audio_feat_v1_h2.npy\n",
      "saved for /work/oarongve/data/sound_dataset/SoccerNet-code/data/europe_uefa-champions-league/2015-2016/2015-09-16 - 21-45 Dyn. Kiev 2 - 2 FC Porto/resnet18_audio_feat_v1_h1.npy\n",
      "saved for /work/oarongve/data/sound_dataset/SoccerNet-code/data/europe_uefa-champions-league/2015-2016/2015-09-16 - 21-45 Dyn. Kiev 2 - 2 FC Porto/resnet18_audio_feat_v1_h2.npy\n",
      "saved for /work/oarongve/data/sound_dataset/SoccerNet-code/data/europe_uefa-champions-league/2015-2016/2015-09-16 - 21-45 Olympiakos Piraeus 0 - 3 Bayern Munich/resnet18_audio_feat_v1_h1.npy\n",
      "saved for /work/oarongve/data/sound_dataset/SoccerNet-code/data/europe_uefa-champions-league/2015-2016/2015-09-16 - 21-45 Olympiakos Piraeus 0 - 3 Bayern Munich/resnet18_audio_feat_v1_h2.npy\n",
      "saved for /work/oarongve/data/sound_dataset/SoccerNet-code/data/europe_uefa-champions-league/2015-2016/2015-09-29 - 21-45 Barcelona 2 - 1 Bayer Leverkusen/resnet18_audio_feat_v1_h1.npy\n",
      "saved for /work/oarongve/data/sound_dataset/SoccerNet-code/data/europe_uefa-champions-league/2015-2016/2015-09-29 - 21-45 Barcelona 2 - 1 Bayer Leverkusen/resnet18_audio_feat_v1_h2.npy\n",
      "saved for /work/oarongve/data/sound_dataset/SoccerNet-code/data/europe_uefa-champions-league/2015-2016/2015-09-29 - 21-45 FC Porto 2 - 1 Chelsea/resnet18_audio_feat_v1_h1.npy\n",
      "saved for /work/oarongve/data/sound_dataset/SoccerNet-code/data/europe_uefa-champions-league/2015-2016/2015-09-29 - 21-45 FC Porto 2 - 1 Chelsea/resnet18_audio_feat_v1_h2.npy\n",
      "saved for /work/oarongve/data/sound_dataset/SoccerNet-code/data/europe_uefa-champions-league/2015-2016/2015-11-03 - 22-45 Benfica 2 - 1 Galatasaray/resnet18_audio_feat_v1_h1.npy\n",
      "saved for /work/oarongve/data/sound_dataset/SoccerNet-code/data/europe_uefa-champions-league/2015-2016/2015-11-03 - 22-45 Benfica 2 - 1 Galatasaray/resnet18_audio_feat_v1_h2.npy\n",
      "saved for /work/oarongve/data/sound_dataset/SoccerNet-code/data/europe_uefa-champions-league/2015-2016/2015-11-04 - 22-45 Barcelona 3 - 0 BATE/resnet18_audio_feat_v1_h1.npy\n",
      "saved for /work/oarongve/data/sound_dataset/SoccerNet-code/data/europe_uefa-champions-league/2015-2016/2015-11-04 - 22-45 Barcelona 3 - 0 BATE/resnet18_audio_feat_v1_h2.npy\n",
      "saved for /work/oarongve/data/sound_dataset/SoccerNet-code/data/europe_uefa-champions-league/2015-2016/2015-11-24 - 20-00 BATE 1 - 1 Bayer Leverkusen/resnet18_audio_feat_v1_h1.npy\n",
      "saved for /work/oarongve/data/sound_dataset/SoccerNet-code/data/europe_uefa-champions-league/2015-2016/2015-11-24 - 20-00 BATE 1 - 1 Bayer Leverkusen/resnet18_audio_feat_v1_h2.npy\n",
      "saved for /work/oarongve/data/sound_dataset/SoccerNet-code/data/europe_uefa-champions-league/2015-2016/2015-11-25 - 22-45 Juventus 1 - 0 Manchester City/resnet18_audio_feat_v1_h1.npy\n",
      "saved for /work/oarongve/data/sound_dataset/SoccerNet-code/data/europe_uefa-champions-league/2015-2016/2015-11-25 - 22-45 Juventus 1 - 0 Manchester City/resnet18_audio_feat_v1_h2.npy\n",
      "saved for /work/oarongve/data/sound_dataset/SoccerNet-code/data/europe_uefa-champions-league/2016-2017/2016-09-28 - 21-45 Napoli 4 - 2 Benfica/resnet18_audio_feat_v1_h1.npy\n",
      "saved for /work/oarongve/data/sound_dataset/SoccerNet-code/data/europe_uefa-champions-league/2016-2017/2016-09-28 - 21-45 Napoli 4 - 2 Benfica/resnet18_audio_feat_v1_h2.npy\n",
      "saved for /work/oarongve/data/sound_dataset/SoccerNet-code/data/europe_uefa-champions-league/2016-2017/2016-10-19 - 21-45 Paris SG 3 - 0 Basel/resnet18_audio_feat_v1_h1.npy\n",
      "saved for /work/oarongve/data/sound_dataset/SoccerNet-code/data/europe_uefa-champions-league/2016-2017/2016-10-19 - 21-45 Paris SG 3 - 0 Basel/resnet18_audio_feat_v1_h2.npy\n",
      "saved for /work/oarongve/data/sound_dataset/SoccerNet-code/data/france_ligue-1/2015-2016/2015-09-19 - 18-30 Reims 1 - 1 Paris SG/resnet18_audio_feat_v1_h1.npy\n",
      "saved for /work/oarongve/data/sound_dataset/SoccerNet-code/data/france_ligue-1/2015-2016/2015-09-19 - 18-30 Reims 1 - 1 Paris SG/resnet18_audio_feat_v1_h2.npy\n",
      "saved for /work/oarongve/data/sound_dataset/SoccerNet-code/data/france_ligue-1/2016-2017/2016-08-21 - 21-45 Paris SG 3 - 0 Metz/resnet18_audio_feat_v1_h1.npy\n",
      "saved for /work/oarongve/data/sound_dataset/SoccerNet-code/data/france_ligue-1/2016-2017/2016-08-21 - 21-45 Paris SG 3 - 0 Metz/resnet18_audio_feat_v1_h2.npy\n",
      "saved for /work/oarongve/data/sound_dataset/SoccerNet-code/data/france_ligue-1/2016-2017/2016-09-09 - 21-45 Paris SG 1 - 1 St Etienne/resnet18_audio_feat_v1_h1.npy\n",
      "saved for /work/oarongve/data/sound_dataset/SoccerNet-code/data/france_ligue-1/2016-2017/2016-09-09 - 21-45 Paris SG 1 - 1 St Etienne/resnet18_audio_feat_v1_h2.npy\n",
      "saved for /work/oarongve/data/sound_dataset/SoccerNet-code/data/france_ligue-1/2016-2017/2016-09-20 - 22-00 Paris SG 3 - 0 Dijon/resnet18_audio_feat_v1_h1.npy\n",
      "saved for /work/oarongve/data/sound_dataset/SoccerNet-code/data/france_ligue-1/2016-2017/2016-09-20 - 22-00 Paris SG 3 - 0 Dijon/resnet18_audio_feat_v1_h2.npy\n",
      "saved for /work/oarongve/data/sound_dataset/SoccerNet-code/data/france_ligue-1/2016-2017/2016-10-23 - 21-45 Paris SG 0 - 0 Marseille/resnet18_audio_feat_v1_h1.npy\n",
      "saved for /work/oarongve/data/sound_dataset/SoccerNet-code/data/france_ligue-1/2016-2017/2016-10-23 - 21-45 Paris SG 0 - 0 Marseille/resnet18_audio_feat_v1_h2.npy\n",
      "saved for /work/oarongve/data/sound_dataset/SoccerNet-code/data/france_ligue-1/2016-2017/2016-12-03 - 19-00 Montpellier 3 - 0 Paris SG/resnet18_audio_feat_v1_h1.npy\n",
      "saved for /work/oarongve/data/sound_dataset/SoccerNet-code/data/france_ligue-1/2016-2017/2016-12-03 - 19-00 Montpellier 3 - 0 Paris SG/resnet18_audio_feat_v1_h2.npy\n",
      "saved for /work/oarongve/data/sound_dataset/SoccerNet-code/data/france_ligue-1/2016-2017/2017-03-04 - 19-00 Paris SG 1 - 0 Nancy/resnet18_audio_feat_v1_h1.npy\n",
      "saved for /work/oarongve/data/sound_dataset/SoccerNet-code/data/france_ligue-1/2016-2017/2017-03-04 - 19-00 Paris SG 1 - 0 Nancy/resnet18_audio_feat_v1_h2.npy\n",
      "saved for /work/oarongve/data/sound_dataset/SoccerNet-code/data/france_ligue-1/2016-2017/2017-04-09 - 22-00 Paris SG 4 - 0 Guingamp/resnet18_audio_feat_v1_h1.npy\n",
      "saved for /work/oarongve/data/sound_dataset/SoccerNet-code/data/france_ligue-1/2016-2017/2017-04-09 - 22-00 Paris SG 4 - 0 Guingamp/resnet18_audio_feat_v1_h2.npy\n",
      "saved for /work/oarongve/data/sound_dataset/SoccerNet-code/data/france_ligue-1/2016-2017/2017-05-14 - 22-00 St Etienne 0 - 5 Paris SG/resnet18_audio_feat_v1_h1.npy\n",
      "saved for /work/oarongve/data/sound_dataset/SoccerNet-code/data/france_ligue-1/2016-2017/2017-05-14 - 22-00 St Etienne 0 - 5 Paris SG/resnet18_audio_feat_v1_h2.npy\n",
      "saved for /work/oarongve/data/sound_dataset/SoccerNet-code/data/germany_bundesliga/2014-2015/2015-04-25 - 19-30 Bayern Munich 1 - 0 Hertha Berlin/resnet18_audio_feat_v1_h1.npy\n",
      "saved for /work/oarongve/data/sound_dataset/SoccerNet-code/data/germany_bundesliga/2014-2015/2015-04-25 - 19-30 Bayern Munich 1 - 0 Hertha Berlin/resnet18_audio_feat_v1_h2.npy\n"
     ]
    },
    {
     "name": "stdout",
     "output_type": "stream",
     "text": [
      "saved for /work/oarongve/data/sound_dataset/SoccerNet-code/data/germany_bundesliga/2014-2015/2015-05-02 - 16-30 Hoffenheim 1 - 1 Dortmund/resnet18_audio_feat_v1_h1.npy\n",
      "saved for /work/oarongve/data/sound_dataset/SoccerNet-code/data/germany_bundesliga/2014-2015/2015-05-02 - 16-30 Hoffenheim 1 - 1 Dortmund/resnet18_audio_feat_v1_h2.npy\n",
      "saved for /work/oarongve/data/sound_dataset/SoccerNet-code/data/germany_bundesliga/2015-2016/2015-09-20 - 18-30 Dortmund 3 - 0 Bayer Leverkusen/resnet18_audio_feat_v1_h1.npy\n",
      "saved for /work/oarongve/data/sound_dataset/SoccerNet-code/data/germany_bundesliga/2015-2016/2015-09-20 - 18-30 Dortmund 3 - 0 Bayer Leverkusen/resnet18_audio_feat_v1_h2.npy\n",
      "saved for /work/oarongve/data/sound_dataset/SoccerNet-code/data/germany_bundesliga/2015-2016/2015-10-04 - 18-30 Bayern Munich 5 - 1 Dortmund/resnet18_audio_feat_v1_h1.npy\n",
      "saved for /work/oarongve/data/sound_dataset/SoccerNet-code/data/germany_bundesliga/2015-2016/2015-10-04 - 18-30 Bayern Munich 5 - 1 Dortmund/resnet18_audio_feat_v1_h2.npy\n",
      "saved for /work/oarongve/data/sound_dataset/SoccerNet-code/data/germany_bundesliga/2015-2016/2015-11-07 - 17-30 Bayern Munich 4 - 0 VfB Stuttgart/resnet18_audio_feat_v1_h1.npy\n",
      "saved for /work/oarongve/data/sound_dataset/SoccerNet-code/data/germany_bundesliga/2015-2016/2015-11-07 - 17-30 Bayern Munich 4 - 0 VfB Stuttgart/resnet18_audio_feat_v1_h2.npy\n",
      "saved for /work/oarongve/data/sound_dataset/SoccerNet-code/data/germany_bundesliga/2015-2016/2016-04-23 - 16-30 Hertha Berlin 0 - 2 Bayern Munich/resnet18_audio_feat_v1_h1.npy\n",
      "saved for /work/oarongve/data/sound_dataset/SoccerNet-code/data/germany_bundesliga/2015-2016/2016-04-23 - 16-30 Hertha Berlin 0 - 2 Bayern Munich/resnet18_audio_feat_v1_h2.npy\n",
      "saved for /work/oarongve/data/sound_dataset/SoccerNet-code/data/germany_bundesliga/2016-2017/2016-12-03 - 17-30 Dortmund 4 - 1 B. Monchengladbach/resnet18_audio_feat_v1_h1.npy\n",
      "saved for /work/oarongve/data/sound_dataset/SoccerNet-code/data/germany_bundesliga/2016-2017/2016-12-03 - 17-30 Dortmund 4 - 1 B. Monchengladbach/resnet18_audio_feat_v1_h2.npy\n",
      "saved for /work/oarongve/data/sound_dataset/SoccerNet-code/data/germany_bundesliga/2016-2017/2017-02-25 - 17-30 SC Freiburg 0 - 3 Dortmund/resnet18_audio_feat_v1_h1.npy\n",
      "saved for /work/oarongve/data/sound_dataset/SoccerNet-code/data/germany_bundesliga/2016-2017/2017-02-25 - 17-30 SC Freiburg 0 - 3 Dortmund/resnet18_audio_feat_v1_h2.npy\n",
      "saved for /work/oarongve/data/sound_dataset/SoccerNet-code/data/italy_serie-a/2014-2015/2015-04-25 - 19-00 Udinese 2 - 1 AC Milan/resnet18_audio_feat_v1_h1.npy\n",
      "saved for /work/oarongve/data/sound_dataset/SoccerNet-code/data/italy_serie-a/2014-2015/2015-04-25 - 19-00 Udinese 2 - 1 AC Milan/resnet18_audio_feat_v1_h2.npy\n",
      "saved for /work/oarongve/data/sound_dataset/SoccerNet-code/data/italy_serie-a/2014-2015/2015-05-10 - 21-45 Lazio 1 - 2 Inter/resnet18_audio_feat_v1_h1.npy\n",
      "saved for /work/oarongve/data/sound_dataset/SoccerNet-code/data/italy_serie-a/2014-2015/2015-05-10 - 21-45 Lazio 1 - 2 Inter/resnet18_audio_feat_v1_h2.npy\n",
      "saved for /work/oarongve/data/sound_dataset/SoccerNet-code/data/italy_serie-a/2014-2015/2015-05-17 - 13-30 Sassuolo 3 - 2 AC Milan/resnet18_audio_feat_v1_h1.npy\n",
      "saved for /work/oarongve/data/sound_dataset/SoccerNet-code/data/italy_serie-a/2014-2015/2015-05-17 - 13-30 Sassuolo 3 - 2 AC Milan/resnet18_audio_feat_v1_h2.npy\n",
      "saved for /work/oarongve/data/sound_dataset/SoccerNet-code/data/italy_serie-a/2015-2016/2015-09-26 - 21-45 Napoli 2 - 1 Juventus/resnet18_audio_feat_v1_h1.npy\n",
      "saved for /work/oarongve/data/sound_dataset/SoccerNet-code/data/italy_serie-a/2015-2016/2015-09-26 - 21-45 Napoli 2 - 1 Juventus/resnet18_audio_feat_v1_h2.npy\n",
      "saved for /work/oarongve/data/sound_dataset/SoccerNet-code/data/italy_serie-a/2016-2017/2016-08-20 - 19-00 AS Roma 4 - 0 Udinese/resnet18_audio_feat_v1_h1.npy\n",
      "saved for /work/oarongve/data/sound_dataset/SoccerNet-code/data/italy_serie-a/2016-2017/2016-08-20 - 19-00 AS Roma 4 - 0 Udinese/resnet18_audio_feat_v1_h2.npy\n",
      "saved for /work/oarongve/data/sound_dataset/SoccerNet-code/data/italy_serie-a/2016-2017/2016-09-18 - 21-45 Fiorentina 1 - 0 AS Roma/resnet18_audio_feat_v1_h1.npy\n",
      "saved for /work/oarongve/data/sound_dataset/SoccerNet-code/data/italy_serie-a/2016-2017/2016-09-18 - 21-45 Fiorentina 1 - 0 AS Roma/resnet18_audio_feat_v1_h2.npy\n",
      "saved for /work/oarongve/data/sound_dataset/SoccerNet-code/data/italy_serie-a/2016-2017/2016-09-21 - 21-45 Genoa 0 - 0 Napoli/resnet18_audio_feat_v1_h1.npy\n",
      "saved for /work/oarongve/data/sound_dataset/SoccerNet-code/data/italy_serie-a/2016-2017/2016-09-21 - 21-45 Genoa 0 - 0 Napoli/resnet18_audio_feat_v1_h2.npy\n",
      "saved for /work/oarongve/data/sound_dataset/SoccerNet-code/data/italy_serie-a/2016-2017/2016-10-02 - 19-00 AC Milan 4 - 3 Sassuolo/resnet18_audio_feat_v1_h1.npy\n",
      "saved for /work/oarongve/data/sound_dataset/SoccerNet-code/data/italy_serie-a/2016-2017/2016-10-02 - 19-00 AC Milan 4 - 3 Sassuolo/resnet18_audio_feat_v1_h2.npy\n",
      "saved for /work/oarongve/data/sound_dataset/SoccerNet-code/data/italy_serie-a/2016-2017/2016-10-29 - 21-45 Juventus 2 - 1 Napoli/resnet18_audio_feat_v1_h1.npy\n",
      "saved for /work/oarongve/data/sound_dataset/SoccerNet-code/data/italy_serie-a/2016-2017/2016-10-29 - 21-45 Juventus 2 - 1 Napoli/resnet18_audio_feat_v1_h2.npy\n",
      "saved for /work/oarongve/data/sound_dataset/SoccerNet-code/data/italy_serie-a/2016-2017/2016-11-05 - 22-45 Napoli 1 - 1 Lazio/resnet18_audio_feat_v1_h1.npy\n",
      "saved for /work/oarongve/data/sound_dataset/SoccerNet-code/data/italy_serie-a/2016-2017/2016-11-05 - 22-45 Napoli 1 - 1 Lazio/resnet18_audio_feat_v1_h2.npy\n",
      "saved for /work/oarongve/data/sound_dataset/SoccerNet-code/data/italy_serie-a/2016-2017/2016-12-12 - 23-00 AS Roma 1 - 0 AC Milan/resnet18_audio_feat_v1_h1.npy\n",
      "saved for /work/oarongve/data/sound_dataset/SoccerNet-code/data/italy_serie-a/2016-2017/2016-12-12 - 23-00 AS Roma 1 - 0 AC Milan/resnet18_audio_feat_v1_h2.npy\n",
      "saved for /work/oarongve/data/sound_dataset/SoccerNet-code/data/italy_serie-a/2016-2017/2017-01-22 - 22-45 AS Roma 1 - 0 Cagliari/resnet18_audio_feat_v1_h1.npy\n",
      "saved for /work/oarongve/data/sound_dataset/SoccerNet-code/data/italy_serie-a/2016-2017/2017-01-22 - 22-45 AS Roma 1 - 0 Cagliari/resnet18_audio_feat_v1_h2.npy\n",
      "saved for /work/oarongve/data/sound_dataset/SoccerNet-code/data/italy_serie-a/2016-2017/2017-02-19 - 17-00 Chievo 1 - 3 Napoli/resnet18_audio_feat_v1_h1.npy\n",
      "saved for /work/oarongve/data/sound_dataset/SoccerNet-code/data/italy_serie-a/2016-2017/2017-02-19 - 17-00 Chievo 1 - 3 Napoli/resnet18_audio_feat_v1_h2.npy\n",
      "saved for /work/oarongve/data/sound_dataset/SoccerNet-code/data/italy_serie-a/2016-2017/2017-03-12 - 22-45 Palermo 0 - 3 AS Roma/resnet18_audio_feat_v1_h1.npy\n",
      "saved for /work/oarongve/data/sound_dataset/SoccerNet-code/data/italy_serie-a/2016-2017/2017-03-12 - 22-45 Palermo 0 - 3 AS Roma/resnet18_audio_feat_v1_h2.npy\n",
      "saved for /work/oarongve/data/sound_dataset/SoccerNet-code/data/italy_serie-a/2016-2017/2017-04-02 - 21-45 Napoli 1 - 1 Juventus/resnet18_audio_feat_v1_h1.npy\n",
      "saved for /work/oarongve/data/sound_dataset/SoccerNet-code/data/italy_serie-a/2016-2017/2017-04-02 - 21-45 Napoli 1 - 1 Juventus/resnet18_audio_feat_v1_h2.npy\n",
      "saved for /work/oarongve/data/sound_dataset/SoccerNet-code/data/italy_serie-a/2016-2017/2017-04-15 - 21-45 Napoli 3 - 0 Udinese/resnet18_audio_feat_v1_h1.npy\n",
      "saved for /work/oarongve/data/sound_dataset/SoccerNet-code/data/italy_serie-a/2016-2017/2017-04-15 - 21-45 Napoli 3 - 0 Udinese/resnet18_audio_feat_v1_h2.npy\n",
      "saved for /work/oarongve/data/sound_dataset/SoccerNet-code/data/italy_serie-a/2016-2017/2017-04-30 - 13-30 AS Roma 1 - 3 Lazio/resnet18_audio_feat_v1_h1.npy\n",
      "saved for /work/oarongve/data/sound_dataset/SoccerNet-code/data/italy_serie-a/2016-2017/2017-04-30 - 13-30 AS Roma 1 - 3 Lazio/resnet18_audio_feat_v1_h2.npy\n",
      "saved for /work/oarongve/data/sound_dataset/SoccerNet-code/data/italy_serie-a/2016-2017/2017-05-06 - 19-00 Napoli 3 - 1 Cagliari/resnet18_audio_feat_v1_h1.npy\n",
      "saved for /work/oarongve/data/sound_dataset/SoccerNet-code/data/italy_serie-a/2016-2017/2017-05-06 - 19-00 Napoli 3 - 1 Cagliari/resnet18_audio_feat_v1_h2.npy\n",
      "saved for /work/oarongve/data/sound_dataset/SoccerNet-code/data/spain_laliga/2014-2015/2015-04-11 - 17-00 Real Madrid 3 - 0 Eibar/resnet18_audio_feat_v1_h1.npy\n"
     ]
    },
    {
     "name": "stdout",
     "output_type": "stream",
     "text": [
      "saved for /work/oarongve/data/sound_dataset/SoccerNet-code/data/spain_laliga/2014-2015/2015-04-11 - 17-00 Real Madrid 3 - 0 Eibar/resnet18_audio_feat_v1_h2.npy\n",
      "saved for /work/oarongve/data/sound_dataset/SoccerNet-code/data/spain_laliga/2014-2015/2015-04-11 - 21-00 Sevilla 2 - 2 Barcelona/resnet18_audio_feat_v1_h1.npy\n",
      "saved for /work/oarongve/data/sound_dataset/SoccerNet-code/data/spain_laliga/2014-2015/2015-04-11 - 21-00 Sevilla 2 - 2 Barcelona/resnet18_audio_feat_v1_h2.npy\n",
      "saved for /work/oarongve/data/sound_dataset/SoccerNet-code/data/spain_laliga/2014-2015/2015-04-28 - 21-00 Barcelona 6 - 0 Getafe/resnet18_audio_feat_v1_h1.npy\n",
      "saved for /work/oarongve/data/sound_dataset/SoccerNet-code/data/spain_laliga/2014-2015/2015-04-28 - 21-00 Barcelona 6 - 0 Getafe/resnet18_audio_feat_v1_h2.npy\n",
      "saved for /work/oarongve/data/sound_dataset/SoccerNet-code/data/spain_laliga/2014-2015/2015-05-02 - 19-00 Atl. Madrid 0 - 0 Ath Bilbao/resnet18_audio_feat_v1_h1.npy\n",
      "saved for /work/oarongve/data/sound_dataset/SoccerNet-code/data/spain_laliga/2014-2015/2015-05-02 - 19-00 Atl. Madrid 0 - 0 Ath Bilbao/resnet18_audio_feat_v1_h2.npy\n",
      "saved for /work/oarongve/data/sound_dataset/SoccerNet-code/data/spain_laliga/2014-2015/2015-05-02 - 21-00 Sevilla 2 - 3 Real Madrid/resnet18_audio_feat_v1_h1.npy\n",
      "saved for /work/oarongve/data/sound_dataset/SoccerNet-code/data/spain_laliga/2014-2015/2015-05-02 - 21-00 Sevilla 2 - 3 Real Madrid/resnet18_audio_feat_v1_h2.npy\n",
      "saved for /work/oarongve/data/sound_dataset/SoccerNet-code/data/spain_laliga/2014-2015/2015-05-23 - 21-30 Real Madrid 7 - 3 Getafe/resnet18_audio_feat_v1_h1.npy\n",
      "saved for /work/oarongve/data/sound_dataset/SoccerNet-code/data/spain_laliga/2014-2015/2015-05-23 - 21-30 Real Madrid 7 - 3 Getafe/resnet18_audio_feat_v1_h2.npy\n",
      "saved for /work/oarongve/data/sound_dataset/SoccerNet-code/data/spain_laliga/2015-2016/2015-09-12 - 21-30 Atl. Madrid 1 - 2 Barcelona/resnet18_audio_feat_v1_h1.npy\n",
      "saved for /work/oarongve/data/sound_dataset/SoccerNet-code/data/spain_laliga/2015-2016/2015-09-12 - 21-30 Atl. Madrid 1 - 2 Barcelona/resnet18_audio_feat_v1_h2.npy\n",
      "saved for /work/oarongve/data/sound_dataset/SoccerNet-code/data/spain_laliga/2015-2016/2015-09-26 - 17-00 Barcelona 2 - 1 Las Palmas/resnet18_audio_feat_v1_h1.npy\n",
      "saved for /work/oarongve/data/sound_dataset/SoccerNet-code/data/spain_laliga/2015-2016/2015-09-26 - 17-00 Barcelona 2 - 1 Las Palmas/resnet18_audio_feat_v1_h2.npy\n",
      "saved for /work/oarongve/data/sound_dataset/SoccerNet-code/data/spain_laliga/2015-2016/2015-10-24 - 17-00 Celta Vigo 1 - 3 Real Madrid/resnet18_audio_feat_v1_h1.npy\n",
      "saved for /work/oarongve/data/sound_dataset/SoccerNet-code/data/spain_laliga/2015-2016/2015-10-24 - 17-00 Celta Vigo 1 - 3 Real Madrid/resnet18_audio_feat_v1_h2.npy\n",
      "saved for /work/oarongve/data/sound_dataset/SoccerNet-code/data/spain_laliga/2015-2016/2015-12-13 - 22-30 Villarreal 1 - 0 Real Madrid/resnet18_audio_feat_v1_h1.npy\n",
      "saved for /work/oarongve/data/sound_dataset/SoccerNet-code/data/spain_laliga/2015-2016/2015-12-13 - 22-30 Villarreal 1 - 0 Real Madrid/resnet18_audio_feat_v1_h2.npy\n",
      "saved for /work/oarongve/data/sound_dataset/SoccerNet-code/data/spain_laliga/2015-2016/2015-12-20 - 18-00 Real Madrid 1 - 0 Rayo Vallecano/resnet18_audio_feat_v1_h1.npy\n",
      "saved for /work/oarongve/data/sound_dataset/SoccerNet-code/data/spain_laliga/2015-2016/2015-12-20 - 18-00 Real Madrid 1 - 0 Rayo Vallecano/resnet18_audio_feat_v1_h2.npy\n",
      "saved for /work/oarongve/data/sound_dataset/SoccerNet-code/data/spain_laliga/2015-2016/2016-01-03 - 22-30 Valencia 2 - 2 Real Madrid/resnet18_audio_feat_v1_h1.npy\n",
      "saved for /work/oarongve/data/sound_dataset/SoccerNet-code/data/spain_laliga/2015-2016/2016-01-03 - 22-30 Valencia 2 - 2 Real Madrid/resnet18_audio_feat_v1_h2.npy\n",
      "saved for /work/oarongve/data/sound_dataset/SoccerNet-code/data/spain_laliga/2015-2016/2016-01-09 - 22-30 Real Madrid 5 - 0 Dep. La Coruna/resnet18_audio_feat_v1_h1.npy\n",
      "saved for /work/oarongve/data/sound_dataset/SoccerNet-code/data/spain_laliga/2015-2016/2016-01-09 - 22-30 Real Madrid 5 - 0 Dep. La Coruna/resnet18_audio_feat_v1_h2.npy\n",
      "saved for /work/oarongve/data/sound_dataset/SoccerNet-code/data/spain_laliga/2015-2016/2016-02-13 - 18-00 Real Madrid 4 - 2 Ath Bilbao/resnet18_audio_feat_v1_h1.npy\n",
      "saved for /work/oarongve/data/sound_dataset/SoccerNet-code/data/spain_laliga/2015-2016/2016-02-13 - 18-00 Real Madrid 4 - 2 Ath Bilbao/resnet18_audio_feat_v1_h2.npy\n",
      "saved for /work/oarongve/data/sound_dataset/SoccerNet-code/data/spain_laliga/2015-2016/2016-03-20 - 22-30 Real Madrid 4 - 0 Sevilla/resnet18_audio_feat_v1_h1.npy\n",
      "saved for /work/oarongve/data/sound_dataset/SoccerNet-code/data/spain_laliga/2015-2016/2016-03-20 - 22-30 Real Madrid 4 - 0 Sevilla/resnet18_audio_feat_v1_h2.npy\n",
      "saved for /work/oarongve/data/sound_dataset/SoccerNet-code/data/spain_laliga/2016-2017/2016-08-21 - 21-15 Real Sociedad 0 - 3 Real Madrid/resnet18_audio_feat_v1_h1.npy\n",
      "saved for /work/oarongve/data/sound_dataset/SoccerNet-code/data/spain_laliga/2016-2017/2016-08-21 - 21-15 Real Sociedad 0 - 3 Real Madrid/resnet18_audio_feat_v1_h2.npy\n",
      "saved for /work/oarongve/data/sound_dataset/SoccerNet-code/data/spain_laliga/2016-2017/2016-09-17 - 14-00 Leganes 1 - 5 Barcelona/resnet18_audio_feat_v1_h1.npy\n",
      "saved for /work/oarongve/data/sound_dataset/SoccerNet-code/data/spain_laliga/2016-2017/2016-09-17 - 14-00 Leganes 1 - 5 Barcelona/resnet18_audio_feat_v1_h2.npy\n",
      "saved for /work/oarongve/data/sound_dataset/SoccerNet-code/data/spain_laliga/2016-2017/2016-10-02 - 21-45 Celta Vigo 4 - 3 Barcelona/resnet18_audio_feat_v1_h1.npy\n",
      "saved for /work/oarongve/data/sound_dataset/SoccerNet-code/data/spain_laliga/2016-2017/2016-10-02 - 21-45 Celta Vigo 4 - 3 Barcelona/resnet18_audio_feat_v1_h2.npy\n",
      "saved for /work/oarongve/data/sound_dataset/SoccerNet-code/data/spain_laliga/2016-2017/2016-10-15 - 17-15 Barcelona 4 - 0 Dep. La Coruna/resnet18_audio_feat_v1_h1.npy\n",
      "saved for /work/oarongve/data/sound_dataset/SoccerNet-code/data/spain_laliga/2016-2017/2016-10-15 - 17-15 Barcelona 4 - 0 Dep. La Coruna/resnet18_audio_feat_v1_h2.npy\n",
      "saved for /work/oarongve/data/sound_dataset/SoccerNet-code/data/spain_laliga/2016-2017/2017-01-07 - 15-00 Real Madrid 5 - 0 Granada CF/resnet18_audio_feat_v1_h1.npy\n",
      "saved for /work/oarongve/data/sound_dataset/SoccerNet-code/data/spain_laliga/2016-2017/2017-01-07 - 15-00 Real Madrid 5 - 0 Granada CF/resnet18_audio_feat_v1_h2.npy\n",
      "saved for /work/oarongve/data/sound_dataset/SoccerNet-code/data/spain_laliga/2016-2017/2017-01-21 - 18-15 Real Madrid 2 - 1 Malaga/resnet18_audio_feat_v1_h1.npy\n",
      "saved for /work/oarongve/data/sound_dataset/SoccerNet-code/data/spain_laliga/2016-2017/2017-01-21 - 18-15 Real Madrid 2 - 1 Malaga/resnet18_audio_feat_v1_h2.npy\n",
      "saved for /work/oarongve/data/sound_dataset/SoccerNet-code/data/spain_laliga/2016-2017/2017-02-18 - 18-15 Real Madrid 2 - 0 Espanyol/resnet18_audio_feat_v1_h1.npy\n",
      "saved for /work/oarongve/data/sound_dataset/SoccerNet-code/data/spain_laliga/2016-2017/2017-02-18 - 18-15 Real Madrid 2 - 0 Espanyol/resnet18_audio_feat_v1_h2.npy\n",
      "saved for /work/oarongve/data/sound_dataset/SoccerNet-code/data/spain_laliga/2016-2017/2017-04-23 - 21-45 Real Madrid 2 - 3 Barcelona/resnet18_audio_feat_v1_h1.npy\n",
      "saved for /work/oarongve/data/sound_dataset/SoccerNet-code/data/spain_laliga/2016-2017/2017-04-23 - 21-45 Real Madrid 2 - 3 Barcelona/resnet18_audio_feat_v1_h2.npy\n",
      "saved for /work/oarongve/data/sound_dataset/SoccerNet-code/data/spain_laliga/2016-2017/2017-04-29 - 17-15 Real Madrid 2 - 1 Valencia/resnet18_audio_feat_v1_h1.npy\n",
      "saved for /work/oarongve/data/sound_dataset/SoccerNet-code/data/spain_laliga/2016-2017/2017-04-29 - 17-15 Real Madrid 2 - 1 Valencia/resnet18_audio_feat_v1_h2.npy\n",
      "saved for /work/oarongve/data/sound_dataset/SoccerNet-code/data/spain_laliga/2016-2017/2017-04-29 - 21-45 Espanyol 0 - 3 Barcelona/resnet18_audio_feat_v1_h1.npy\n",
      "saved for /work/oarongve/data/sound_dataset/SoccerNet-code/data/spain_laliga/2016-2017/2017-04-29 - 21-45 Espanyol 0 - 3 Barcelona/resnet18_audio_feat_v1_h2.npy\n",
      "saved for /work/oarongve/data/sound_dataset/SoccerNet-code/data/spain_laliga/2016-2017/2017-05-14 - 21-00 Las Palmas 1 - 4 Barcelona/resnet18_audio_feat_v1_h1.npy\n",
      "saved for /work/oarongve/data/sound_dataset/SoccerNet-code/data/spain_laliga/2016-2017/2017-05-14 - 21-00 Las Palmas 1 - 4 Barcelona/resnet18_audio_feat_v1_h2.npy\n",
      "CPU times: user 1h 35min 48s, sys: 1min 24s, total: 1h 37min 13s\n",
      "Wall time: 49min 9s\n"
     ]
    }
   ],
   "source": [
    "%%time\n",
    "for i in range(len(valid_set_all)):\n",
    "    data = valid_set_all[i]['ms']\n",
    "    data = pad_by_wsize(w,data)\n",
    "    l = data.size()[1]\n",
    "    model = model.to(device)\n",
    "    model = model.eval()\n",
    "    res = list()\n",
    "    save_path = root_dir+valid_set_all[i]['vidpath']+\"/resnet18_audio_feat_v1_h\"+str(valid_set_all[i]['half'])+\".npy\"\n",
    "    with torch.no_grad():\n",
    "        for left_idx in range(0,l-(w*40),20):\n",
    "            inputs = normalize_data(data,(left_idx,left_idx+(w*40))).to(device).unsqueeze(0).unsqueeze(0)\n",
    "            res.append(model(inputs).cpu())\n",
    "    k = np.vstack(res)\n",
    "    np.save(save_path,k)\n",
    "    print(f\"saved for {save_path}\")"
   ]
  },
  {
   "cell_type": "code",
   "execution_count": 179,
   "metadata": {},
   "outputs": [
    {
     "name": "stdout",
     "output_type": "stream",
     "text": [
      "Already loaded\n"
     ]
    }
   ],
   "source": [
    "test_set_all.generate_mel_spectrograms(load_features=False)"
   ]
  },
  {
   "cell_type": "markdown",
   "metadata": {},
   "source": [
    "# test set"
   ]
  },
  {
   "cell_type": "code",
   "execution_count": 16,
   "metadata": {},
   "outputs": [],
   "source": [
    "test_set_all = soccernet_dataset_generic(npy_file=test_list,root_dir=root_dir,lang='all',lang_dict=langpath_test)"
   ]
  },
  {
   "cell_type": "code",
   "execution_count": 19,
   "metadata": {},
   "outputs": [
    {
     "ename": "KeyboardInterrupt",
     "evalue": "",
     "output_type": "error",
     "traceback": [
      "\u001b[0;31m---------------------------------------------------------------------------\u001b[0m",
      "\u001b[0;31mKeyboardInterrupt\u001b[0m                         Traceback (most recent call last)",
      "\u001b[0;32m<ipython-input-19-13e86d2c204e>\u001b[0m in \u001b[0;36m<module>\u001b[0;34m\u001b[0m\n\u001b[0;32m----> 1\u001b[0;31m \u001b[0mtest_set_all\u001b[0m \u001b[0;34m=\u001b[0m \u001b[0msoccernet_dataset_generic\u001b[0m\u001b[0;34m(\u001b[0m\u001b[0mnpy_file\u001b[0m\u001b[0;34m=\u001b[0m\u001b[0mtest_list\u001b[0m\u001b[0;34m,\u001b[0m\u001b[0mroot_dir\u001b[0m\u001b[0;34m=\u001b[0m\u001b[0mroot_dir\u001b[0m\u001b[0;34m,\u001b[0m\u001b[0mlang\u001b[0m\u001b[0;34m=\u001b[0m\u001b[0;34m'all'\u001b[0m\u001b[0;34m,\u001b[0m\u001b[0mlang_dict\u001b[0m\u001b[0;34m=\u001b[0m\u001b[0mlangpath_test\u001b[0m\u001b[0;34m)\u001b[0m\u001b[0;34m\u001b[0m\u001b[0;34m\u001b[0m\u001b[0m\n\u001b[0m\u001b[1;32m      2\u001b[0m \u001b[0mtest_set_all\u001b[0m\u001b[0;34m.\u001b[0m\u001b[0mload_waves\u001b[0m\u001b[0;34m(\u001b[0m\u001b[0;34m)\u001b[0m\u001b[0;34m\u001b[0m\u001b[0;34m\u001b[0m\u001b[0m\n\u001b[1;32m      3\u001b[0m \u001b[0mtest_set_all\u001b[0m\u001b[0;34m.\u001b[0m\u001b[0mgenerate_mel_spectrograms\u001b[0m\u001b[0;34m(\u001b[0m\u001b[0mload_features\u001b[0m\u001b[0;34m=\u001b[0m\u001b[0;32mTrue\u001b[0m\u001b[0;34m)\u001b[0m\u001b[0;34m\u001b[0m\u001b[0;34m\u001b[0m\u001b[0m\n\u001b[1;32m      4\u001b[0m \u001b[0mtest_set_all\u001b[0m\u001b[0;34m.\u001b[0m\u001b[0mload_resnet_features\u001b[0m\u001b[0;34m(\u001b[0m\u001b[0;34m)\u001b[0m\u001b[0;34m\u001b[0m\u001b[0;34m\u001b[0m\u001b[0m\n\u001b[1;32m      5\u001b[0m \u001b[0mtest_set_all\u001b[0m\u001b[0;34m.\u001b[0m\u001b[0mload_audio_resnet\u001b[0m\u001b[0;34m(\u001b[0m\u001b[0;34m)\u001b[0m\u001b[0;34m\u001b[0m\u001b[0;34m\u001b[0m\u001b[0m\n",
      "\u001b[0;32m/work/oarongve/project-daredevil/project-daredevil/src/datasets/soccernet_generic_full_games_v2.py\u001b[0m in \u001b[0;36m__init__\u001b[0;34m(self, npy_file, root_dir, lang, lang_dict, window_size, transform, background, window_position)\u001b[0m\n\u001b[1;32m     40\u001b[0m             \u001b[0mpath\u001b[0m\u001b[0;34m,\u001b[0m \u001b[0mannotations\u001b[0m \u001b[0;34m=\u001b[0m \u001b[0mself\u001b[0m\u001b[0;34m.\u001b[0m\u001b[0mget_annotations\u001b[0m\u001b[0;34m(\u001b[0m\u001b[0me\u001b[0m\u001b[0;34m)\u001b[0m\u001b[0;34m\u001b[0m\u001b[0;34m\u001b[0m\u001b[0m\n\u001b[1;32m     41\u001b[0m             \u001b[0mlanguage\u001b[0m \u001b[0;34m=\u001b[0m \u001b[0mself\u001b[0m\u001b[0;34m.\u001b[0m\u001b[0mget_lang_label\u001b[0m\u001b[0;34m(\u001b[0m\u001b[0me\u001b[0m\u001b[0;34m)\u001b[0m\u001b[0;34m\u001b[0m\u001b[0;34m\u001b[0m\u001b[0m\n\u001b[0;32m---> 42\u001b[0;31m             \u001b[0mduration1\u001b[0m \u001b[0;34m=\u001b[0m \u001b[0mself\u001b[0m\u001b[0;34m.\u001b[0m\u001b[0m_getVideoLength\u001b[0m\u001b[0;34m(\u001b[0m\u001b[0mself\u001b[0m\u001b[0;34m.\u001b[0m\u001b[0mroot_dir\u001b[0m \u001b[0;34m+\u001b[0m \u001b[0me\u001b[0m \u001b[0;34m+\u001b[0m \u001b[0;34m\"/1.mkv\"\u001b[0m\u001b[0;34m)\u001b[0m\u001b[0;34m\u001b[0m\u001b[0;34m\u001b[0m\u001b[0m\n\u001b[0m\u001b[1;32m     43\u001b[0m             \u001b[0mduration2\u001b[0m \u001b[0;34m=\u001b[0m \u001b[0mself\u001b[0m\u001b[0;34m.\u001b[0m\u001b[0m_getVideoLength\u001b[0m\u001b[0;34m(\u001b[0m\u001b[0mself\u001b[0m\u001b[0;34m.\u001b[0m\u001b[0mroot_dir\u001b[0m \u001b[0;34m+\u001b[0m \u001b[0me\u001b[0m \u001b[0;34m+\u001b[0m \u001b[0;34m\"/2.mkv\"\u001b[0m\u001b[0;34m)\u001b[0m\u001b[0;34m\u001b[0m\u001b[0;34m\u001b[0m\u001b[0m\n\u001b[1;32m     44\u001b[0m \u001b[0;34m\u001b[0m\u001b[0m\n",
      "\u001b[0;32m/work/oarongve/project-daredevil/project-daredevil/src/datasets/soccernet_generic_full_games_v2.py\u001b[0m in \u001b[0;36m_getVideoLength\u001b[0;34m(self, video_file)\u001b[0m\n\u001b[1;32m     60\u001b[0m \u001b[0;34m\u001b[0m\u001b[0m\n\u001b[1;32m     61\u001b[0m     \u001b[0;32mdef\u001b[0m \u001b[0m_getVideoLength\u001b[0m\u001b[0;34m(\u001b[0m\u001b[0mself\u001b[0m\u001b[0;34m,\u001b[0m\u001b[0mvideo_file\u001b[0m\u001b[0;34m)\u001b[0m\u001b[0;34m:\u001b[0m\u001b[0;34m\u001b[0m\u001b[0;34m\u001b[0m\u001b[0m\n\u001b[0;32m---> 62\u001b[0;31m         \u001b[0mres\u001b[0m \u001b[0;34m=\u001b[0m \u001b[0mPopen\u001b[0m\u001b[0;34m(\u001b[0m\u001b[0;34m[\u001b[0m\u001b[0;34m'ffmpeg'\u001b[0m\u001b[0;34m,\u001b[0m \u001b[0;34m'-i'\u001b[0m\u001b[0;34m,\u001b[0m \u001b[0mvideo_file\u001b[0m\u001b[0;34m,\u001b[0m \u001b[0;34m'-hide_banner'\u001b[0m\u001b[0;34m]\u001b[0m\u001b[0;34m,\u001b[0m\u001b[0mstdout\u001b[0m\u001b[0;34m=\u001b[0m\u001b[0mPIPE\u001b[0m\u001b[0;34m,\u001b[0m\u001b[0mstderr\u001b[0m\u001b[0;34m=\u001b[0m\u001b[0mPIPE\u001b[0m\u001b[0;34m)\u001b[0m\u001b[0;34m\u001b[0m\u001b[0;34m\u001b[0m\u001b[0m\n\u001b[0m\u001b[1;32m     63\u001b[0m         \u001b[0mnone\u001b[0m\u001b[0;34m,\u001b[0m\u001b[0mmeta\u001b[0m \u001b[0;34m=\u001b[0m \u001b[0mres\u001b[0m\u001b[0;34m.\u001b[0m\u001b[0mcommunicate\u001b[0m\u001b[0;34m(\u001b[0m\u001b[0;34m)\u001b[0m\u001b[0;34m\u001b[0m\u001b[0;34m\u001b[0m\u001b[0m\n\u001b[1;32m     64\u001b[0m         \u001b[0mmeta_out\u001b[0m \u001b[0;34m=\u001b[0m \u001b[0mmeta\u001b[0m\u001b[0;34m.\u001b[0m\u001b[0mdecode\u001b[0m\u001b[0;34m(\u001b[0m\u001b[0;34m)\u001b[0m\u001b[0;34m\u001b[0m\u001b[0;34m\u001b[0m\u001b[0m\n",
      "\u001b[0;32m/usr/lib/python3.6/subprocess.py\u001b[0m in \u001b[0;36m__init__\u001b[0;34m(self, args, bufsize, executable, stdin, stdout, stderr, preexec_fn, close_fds, shell, cwd, env, universal_newlines, startupinfo, creationflags, restore_signals, start_new_session, pass_fds, encoding, errors)\u001b[0m\n\u001b[1;32m    727\u001b[0m                                 \u001b[0mc2pread\u001b[0m\u001b[0;34m,\u001b[0m \u001b[0mc2pwrite\u001b[0m\u001b[0;34m,\u001b[0m\u001b[0;34m\u001b[0m\u001b[0;34m\u001b[0m\u001b[0m\n\u001b[1;32m    728\u001b[0m                                 \u001b[0merrread\u001b[0m\u001b[0;34m,\u001b[0m \u001b[0merrwrite\u001b[0m\u001b[0;34m,\u001b[0m\u001b[0;34m\u001b[0m\u001b[0;34m\u001b[0m\u001b[0m\n\u001b[0;32m--> 729\u001b[0;31m                                 restore_signals, start_new_session)\n\u001b[0m\u001b[1;32m    730\u001b[0m         \u001b[0;32mexcept\u001b[0m\u001b[0;34m:\u001b[0m\u001b[0;34m\u001b[0m\u001b[0;34m\u001b[0m\u001b[0m\n\u001b[1;32m    731\u001b[0m             \u001b[0;31m# Cleanup if the child failed starting.\u001b[0m\u001b[0;34m\u001b[0m\u001b[0;34m\u001b[0m\u001b[0;34m\u001b[0m\u001b[0m\n",
      "\u001b[0;32m/usr/lib/python3.6/subprocess.py\u001b[0m in \u001b[0;36m_execute_child\u001b[0;34m(self, args, executable, preexec_fn, close_fds, pass_fds, cwd, env, startupinfo, creationflags, shell, p2cread, p2cwrite, c2pread, c2pwrite, errread, errwrite, restore_signals, start_new_session)\u001b[0m\n\u001b[1;32m   1293\u001b[0m                             \u001b[0merrread\u001b[0m\u001b[0;34m,\u001b[0m \u001b[0merrwrite\u001b[0m\u001b[0;34m,\u001b[0m\u001b[0;34m\u001b[0m\u001b[0;34m\u001b[0m\u001b[0m\n\u001b[1;32m   1294\u001b[0m                             \u001b[0merrpipe_read\u001b[0m\u001b[0;34m,\u001b[0m \u001b[0merrpipe_write\u001b[0m\u001b[0;34m,\u001b[0m\u001b[0;34m\u001b[0m\u001b[0;34m\u001b[0m\u001b[0m\n\u001b[0;32m-> 1295\u001b[0;31m                             restore_signals, start_new_session, preexec_fn)\n\u001b[0m\u001b[1;32m   1296\u001b[0m                     \u001b[0mself\u001b[0m\u001b[0;34m.\u001b[0m\u001b[0m_child_created\u001b[0m \u001b[0;34m=\u001b[0m \u001b[0;32mTrue\u001b[0m\u001b[0;34m\u001b[0m\u001b[0;34m\u001b[0m\u001b[0m\n\u001b[1;32m   1297\u001b[0m                 \u001b[0;32mfinally\u001b[0m\u001b[0;34m:\u001b[0m\u001b[0;34m\u001b[0m\u001b[0;34m\u001b[0m\u001b[0m\n",
      "\u001b[0;31mKeyboardInterrupt\u001b[0m: "
     ]
    }
   ],
   "source": [
    "test_set_all = soccernet_dataset_generic(npy_file=test_list,root_dir=root_dir,lang='all',lang_dict=langpath_test)\n",
    "test_set_all.load_waves()\n",
    "test_set_all.generate_mel_spectrograms(load_features=True)\n",
    "test_set_all.load_resnet_features()\n",
    "test_set_all.load_audio_resnet()"
   ]
  },
  {
   "cell_type": "code",
   "execution_count": null,
   "metadata": {},
   "outputs": [],
   "source": [
    "%%time\n",
    "for i in range(len(test_set_all)):\n",
    "    data = test_set_all[i]['ms']\n",
    "    data = pad_by_wsize(w,data)\n",
    "    l = data.size()[1]\n",
    "    model = model.to(device)\n",
    "    model = model.eval()\n",
    "    res = list()\n",
    "    save_path = root_dir+test_set_all[i]['vidpath']+\"/resnet18_audio_feat_v1_h\"+str(test_set_all[i]['half'])+\".npy\"\n",
    "    with torch.no_grad():\n",
    "        for left_idx in range(0,l-(w*40),20):\n",
    "            inputs = normalize_data(data,(left_idx,left_idx+(w*40))).to(device).unsqueeze(0).unsqueeze(0)\n",
    "            res.append(model(inputs).cpu())\n",
    "    k = np.vstack(res)\n",
    "    np.save(save_path,k)\n",
    "    print(f\"saved for {save_path}\")"
   ]
  },
  {
   "cell_type": "code",
   "execution_count": 146,
   "metadata": {},
   "outputs": [
    {
     "data": {
      "text/plain": [
       "'/work/oarongve/data/sound_dataset/SoccerNet-code/data/england_epl/2014-2015/2015-02-21 - 18-00 Chelsea 1 - 1 Burnley/resnet18_audio_feat_v1.npy'"
      ]
     },
     "execution_count": 146,
     "metadata": {},
     "output_type": "execute_result"
    }
   ],
   "source": [
    "root_dir+train_set_all[0]['vidpath']+\"/resnet18_audio_feat_v1.npy\""
   ]
  },
  {
   "cell_type": "code",
   "execution_count": null,
   "metadata": {},
   "outputs": [],
   "source": [
    "model = model.cuda()"
   ]
  },
  {
   "cell_type": "code",
   "execution_count": 148,
   "metadata": {},
   "outputs": [],
   "source": [
    "p = root_dir+train_set_all[0]['vidpath']+\"/resnet18_audio_feat_v1.npy\""
   ]
  },
  {
   "cell_type": "code",
   "execution_count": 150,
   "metadata": {},
   "outputs": [
    {
     "ename": "ValueError",
     "evalue": "only one element tensors can be converted to Python scalars",
     "output_type": "error",
     "traceback": [
      "\u001b[0;31m---------------------------------------------------------------------------\u001b[0m",
      "\u001b[0;31mValueError\u001b[0m                                Traceback (most recent call last)",
      "\u001b[0;32m<ipython-input-150-de4439148fd3>\u001b[0m in \u001b[0;36m<module>\u001b[0;34m\u001b[0m\n\u001b[0;32m----> 1\u001b[0;31m \u001b[0mnp\u001b[0m\u001b[0;34m.\u001b[0m\u001b[0msave\u001b[0m\u001b[0;34m(\u001b[0m\u001b[0mp\u001b[0m\u001b[0;34m,\u001b[0m\u001b[0mres\u001b[0m\u001b[0;34m)\u001b[0m\u001b[0;34m\u001b[0m\u001b[0;34m\u001b[0m\u001b[0m\n\u001b[0m",
      "\u001b[0;32m<__array_function__ internals>\u001b[0m in \u001b[0;36msave\u001b[0;34m(*args, **kwargs)\u001b[0m\n",
      "\u001b[0;32m~/.local/share/virtualenvs/project-daredevil-8eBKzQn6/lib/python3.6/site-packages/numpy/lib/npyio.py\u001b[0m in \u001b[0;36msave\u001b[0;34m(file, arr, allow_pickle, fix_imports)\u001b[0m\n\u001b[1;32m    549\u001b[0m \u001b[0;34m\u001b[0m\u001b[0m\n\u001b[1;32m    550\u001b[0m     \u001b[0;32mtry\u001b[0m\u001b[0;34m:\u001b[0m\u001b[0;34m\u001b[0m\u001b[0;34m\u001b[0m\u001b[0m\n\u001b[0;32m--> 551\u001b[0;31m         \u001b[0marr\u001b[0m \u001b[0;34m=\u001b[0m \u001b[0mnp\u001b[0m\u001b[0;34m.\u001b[0m\u001b[0masanyarray\u001b[0m\u001b[0;34m(\u001b[0m\u001b[0marr\u001b[0m\u001b[0;34m)\u001b[0m\u001b[0;34m\u001b[0m\u001b[0;34m\u001b[0m\u001b[0m\n\u001b[0m\u001b[1;32m    552\u001b[0m         format.write_array(fid, arr, allow_pickle=allow_pickle,\n\u001b[1;32m    553\u001b[0m                            pickle_kwargs=pickle_kwargs)\n",
      "\u001b[0;32m~/.local/share/virtualenvs/project-daredevil-8eBKzQn6/lib/python3.6/site-packages/numpy/core/_asarray.py\u001b[0m in \u001b[0;36masanyarray\u001b[0;34m(a, dtype, order)\u001b[0m\n\u001b[1;32m    136\u001b[0m \u001b[0;34m\u001b[0m\u001b[0m\n\u001b[1;32m    137\u001b[0m     \"\"\"\n\u001b[0;32m--> 138\u001b[0;31m     \u001b[0;32mreturn\u001b[0m \u001b[0marray\u001b[0m\u001b[0;34m(\u001b[0m\u001b[0ma\u001b[0m\u001b[0;34m,\u001b[0m \u001b[0mdtype\u001b[0m\u001b[0;34m,\u001b[0m \u001b[0mcopy\u001b[0m\u001b[0;34m=\u001b[0m\u001b[0;32mFalse\u001b[0m\u001b[0;34m,\u001b[0m \u001b[0morder\u001b[0m\u001b[0;34m=\u001b[0m\u001b[0morder\u001b[0m\u001b[0;34m,\u001b[0m \u001b[0msubok\u001b[0m\u001b[0;34m=\u001b[0m\u001b[0;32mTrue\u001b[0m\u001b[0;34m)\u001b[0m\u001b[0;34m\u001b[0m\u001b[0;34m\u001b[0m\u001b[0m\n\u001b[0m\u001b[1;32m    139\u001b[0m \u001b[0;34m\u001b[0m\u001b[0m\n\u001b[1;32m    140\u001b[0m \u001b[0;34m\u001b[0m\u001b[0m\n",
      "\u001b[0;31mValueError\u001b[0m: only one element tensors can be converted to Python scalars"
     ]
    }
   ],
   "source": [
    "np.save(p,res)"
   ]
  },
  {
   "cell_type": "code",
   "execution_count": 153,
   "metadata": {},
   "outputs": [],
   "source": [
    "k = np.vstack(res)"
   ]
  },
  {
   "cell_type": "code",
   "execution_count": 159,
   "metadata": {},
   "outputs": [
    {
     "data": {
      "text/plain": [
       "(5392, 512)"
      ]
     },
     "execution_count": 159,
     "metadata": {},
     "output_type": "execute_result"
    }
   ],
   "source": [
    "k.shape"
   ]
  },
  {
   "cell_type": "code",
   "execution_count": 160,
   "metadata": {},
   "outputs": [],
   "source": [
    "np.save(p,k)"
   ]
  },
  {
   "cell_type": "code",
   "execution_count": 161,
   "metadata": {},
   "outputs": [],
   "source": [
    "l = np.load(p)"
   ]
  },
  {
   "cell_type": "code",
   "execution_count": 162,
   "metadata": {},
   "outputs": [
    {
     "data": {
      "text/plain": [
       "(5392, 512)"
      ]
     },
     "execution_count": 162,
     "metadata": {},
     "output_type": "execute_result"
    }
   ],
   "source": [
    "l.shape"
   ]
  },
  {
   "cell_type": "code",
   "execution_count": null,
   "metadata": {},
   "outputs": [],
   "source": []
  }
 ],
 "metadata": {
  "kernelspec": {
   "display_name": "project-daredevil",
   "language": "python",
   "name": "project-daredevil"
  },
  "language_info": {
   "codemirror_mode": {
    "name": "ipython",
    "version": 3
   },
   "file_extension": ".py",
   "mimetype": "text/x-python",
   "name": "python",
   "nbconvert_exporter": "python",
   "pygments_lexer": "ipython3",
   "version": "3.6.9"
  }
 },
 "nbformat": 4,
 "nbformat_minor": 2
}
