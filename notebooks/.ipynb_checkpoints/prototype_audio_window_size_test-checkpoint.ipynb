{
 "cells": [
  {
   "cell_type": "code",
   "execution_count": 2,
   "metadata": {},
   "outputs": [
    {
     "name": "stderr",
     "output_type": "stream",
     "text": [
      "/home/oarongve/.local/share/virtualenvs/project-daredevil-8eBKzQn6/lib/python3.6/site-packages/torchaudio/backend/utils.py:54: UserWarning: \"sox\" backend is being deprecated. The default backend will be changed to \"sox_io\" backend in 0.8.0 and \"sox\" backend will be removed in 0.9.0. Please migrate to \"sox_io\" backend. Please refer to https://github.com/pytorch/audio/issues/903 for the detail.\n",
      "  '\"sox\" backend is being deprecated. '\n"
     ]
    }
   ],
   "source": [
    "import numpy as np\n",
    "import os, sys\n",
    "sys.path.append('../')\n",
    "from src.datasets.soccernet_generic import soccernet_dataset_generic\n",
    "from src.utils.helper import samples_by_language\n",
    "import src.utils.training_helper as training_helper\n",
    "import torch\n",
    "from torch.utils.data import Dataset, DataLoader"
   ]
  },
  {
   "cell_type": "code",
   "execution_count": 3,
   "metadata": {},
   "outputs": [],
   "source": [
    "root_dir = \"/work/oarongve/data/sound_dataset/SoccerNet-code/data/\"\n",
    "train_list = \"/work/oarongve/data/sound_dataset/SoccerNet-code/data/listgame_Train_300.npy\"\n",
    "valid_list = \"/work/oarongve/data/sound_dataset/SoccerNet-code/data/listgame_Valid_100.npy\"\n",
    "test_list = \"/work/oarongve/data/sound_dataset/SoccerNet-code/data/listgame_Test_100.npy\"\n"
   ]
  },
  {
   "cell_type": "code",
   "execution_count": 4,
   "metadata": {},
   "outputs": [],
   "source": [
    "# Disable warnings\n",
    "import warnings\n",
    "warnings.filterwarnings('ignore')"
   ]
  },
  {
   "cell_type": "code",
   "execution_count": 5,
   "metadata": {},
   "outputs": [
    {
     "name": "stdout",
     "output_type": "stream",
     "text": [
      "Fri Dec 11 08:47:40 2020       \n",
      "+-----------------------------------------------------------------------------+\n",
      "| NVIDIA-SMI 418.165.02   Driver Version: 418.165.02   CUDA Version: 10.1     |\n",
      "|-------------------------------+----------------------+----------------------+\n",
      "| GPU  Name        Persistence-M| Bus-Id        Disp.A | Volatile Uncorr. ECC |\n",
      "| Fan  Temp  Perf  Pwr:Usage/Cap|         Memory-Usage | GPU-Util  Compute M. |\n",
      "|===============================+======================+======================|\n",
      "|   0  Tesla V100-SXM3...  On   | 00000000:E2:00.0 Off |                    0 |\n",
      "| N/A   30C    P0    66W / 350W |   1306MiB / 32480MiB |      0%      Default |\n",
      "+-------------------------------+----------------------+----------------------+\n",
      "                                                                               \n",
      "+-----------------------------------------------------------------------------+\n",
      "| Processes:                                                       GPU Memory |\n",
      "|  GPU       PID   Type   Process name                             Usage      |\n",
      "|=============================================================================|\n",
      "|    0     54658      C   .../project-daredevil-8eBKzQn6/bin/python3  1293MiB |\n",
      "+-----------------------------------------------------------------------------+\n"
     ]
    }
   ],
   "source": [
    "%%bash\n",
    "nvidia-smi"
   ]
  },
  {
   "cell_type": "code",
   "execution_count": 6,
   "metadata": {},
   "outputs": [],
   "source": [
    "langpath_train = '/work/oarongve/project-daredevil/project-daredevil/language-annotations/annotations/train_lang_dict.json'\n",
    "langpath_valid = '/work/oarongve/project-daredevil/project-daredevil/language-annotations/annotations/valid_lang_dict.json'\n",
    "langpath_test = '/work/oarongve/project-daredevil/project-daredevil/language-annotations/annotations/test_lang_dict.json'\n",
    "\n",
    "samples_train_all = samples_by_language(langpath_train,train_list,'all')\n",
    "samples_valid_all = samples_by_language(langpath_valid,valid_list,'all')\n",
    "samples_test_all = samples_by_language(langpath_test,test_list,'all')\n"
   ]
  },
  {
   "cell_type": "code",
   "execution_count": 7,
   "metadata": {},
   "outputs": [],
   "source": [
    "train_set_all = soccernet_dataset_generic(npy_file=train_list,root_dir=root_dir,lang='all',lang_dict=langpath_train)\n",
    "valid_set_all = soccernet_dataset_generic(npy_file=valid_list,root_dir=root_dir,lang='all',lang_dict=langpath_valid)\n"
   ]
  },
  {
   "cell_type": "code",
   "execution_count": 8,
   "metadata": {},
   "outputs": [],
   "source": [
    "params = {'batch_size': 32,\n",
    "         'shuffle': True,\n",
    "         'num_workers':4}\n",
    "\n",
    "# window size\n",
    "\n",
    "w = 8\n",
    "\n",
    "device = torch.device(\"cuda:0\" if torch.cuda.is_available() else \"cpu\")"
   ]
  },
  {
   "cell_type": "code",
   "execution_count": 9,
   "metadata": {},
   "outputs": [
    {
     "name": "stderr",
     "output_type": "stream",
     "text": [
      "100%|██████████| 300/300 [00:33<00:00,  8.82it/s]\n",
      "100%|██████████| 100/100 [00:11<00:00,  8.39it/s]\n",
      "100%|██████████| 300/300 [00:13<00:00, 21.67it/s]\n",
      "100%|██████████| 100/100 [00:05<00:00, 18.35it/s]\n",
      "100%|██████████| 300/300 [00:02<00:00, 120.70it/s]\n",
      "100%|██████████| 100/100 [00:00<00:00, 123.94it/s]\n"
     ]
    }
   ],
   "source": [
    "train_set_all.load_waves()\n",
    "valid_set_all.load_waves()\n",
    "\n",
    "train_set_all.generate_mel_spectrograms(load_features=True)\n",
    "valid_set_all.generate_mel_spectrograms(load_features=True)\n",
    "\n",
    "train_set_all.load_resnet_features()\n",
    "valid_set_all.load_resnet_features()\n"
   ]
  },
  {
   "cell_type": "code",
   "execution_count": 10,
   "metadata": {},
   "outputs": [],
   "source": [
    "# window size\n",
    "train_set_all.set_window_size(w)\n",
    "valid_set_all.set_window_size(w)\n"
   ]
  },
  {
   "cell_type": "code",
   "execution_count": 13,
   "metadata": {},
   "outputs": [],
   "source": [
    "trainloader_all = DataLoader(train_set_all,**params)\n",
    "validloader_all = DataLoader(valid_set_all,**params)\n"
   ]
  },
  {
   "cell_type": "code",
   "execution_count": 25,
   "metadata": {},
   "outputs": [],
   "source": [
    "model,_,_ = generate_modelel()"
   ]
  },
  {
   "cell_type": "code",
   "execution_count": 26,
   "metadata": {},
   "outputs": [
    {
     "name": "stdout",
     "output_type": "stream",
     "text": [
      "torch.Size([32, 128, 320])\n"
     ]
    },
    {
     "ename": "RuntimeError",
     "evalue": "Expected 4-dimensional input for 4-dimensional weight [64, 1, 7, 7], but got 3-dimensional input of size [32, 128, 320] instead",
     "output_type": "error",
     "traceback": [
      "\u001b[0;31m---------------------------------------------------------------------------\u001b[0m",
      "\u001b[0;31mRuntimeError\u001b[0m                              Traceback (most recent call last)",
      "\u001b[0;32m<ipython-input-26-e582580ef12f>\u001b[0m in \u001b[0;36m<module>\u001b[0;34m\u001b[0m\n\u001b[1;32m      1\u001b[0m \u001b[0;32mfor\u001b[0m \u001b[0midx\u001b[0m\u001b[0;34m,\u001b[0m\u001b[0me\u001b[0m \u001b[0;32min\u001b[0m \u001b[0menumerate\u001b[0m\u001b[0;34m(\u001b[0m\u001b[0mtrainloader_all\u001b[0m\u001b[0;34m)\u001b[0m\u001b[0;34m:\u001b[0m\u001b[0;34m\u001b[0m\u001b[0;34m\u001b[0m\u001b[0m\n\u001b[1;32m      2\u001b[0m     \u001b[0mprint\u001b[0m\u001b[0;34m(\u001b[0m\u001b[0me\u001b[0m\u001b[0;34m[\u001b[0m\u001b[0;34m'ms_spot'\u001b[0m\u001b[0;34m]\u001b[0m\u001b[0;34m.\u001b[0m\u001b[0msize\u001b[0m\u001b[0;34m(\u001b[0m\u001b[0;34m)\u001b[0m\u001b[0;34m)\u001b[0m\u001b[0;34m\u001b[0m\u001b[0;34m\u001b[0m\u001b[0m\n\u001b[0;32m----> 3\u001b[0;31m     \u001b[0mmodel\u001b[0m\u001b[0;34m(\u001b[0m\u001b[0me\u001b[0m\u001b[0;34m[\u001b[0m\u001b[0;34m'ms_spot'\u001b[0m\u001b[0;34m]\u001b[0m\u001b[0;34m)\u001b[0m\u001b[0;34m\u001b[0m\u001b[0;34m\u001b[0m\u001b[0m\n\u001b[0m\u001b[1;32m      4\u001b[0m     \u001b[0;32mbreak\u001b[0m\u001b[0;34m\u001b[0m\u001b[0;34m\u001b[0m\u001b[0m\n",
      "\u001b[0;32m~/.local/share/virtualenvs/project-daredevil-8eBKzQn6/lib/python3.6/site-packages/torch/nn/modules/module.py\u001b[0m in \u001b[0;36m_call_impl\u001b[0;34m(self, *input, **kwargs)\u001b[0m\n\u001b[1;32m    725\u001b[0m             \u001b[0mresult\u001b[0m \u001b[0;34m=\u001b[0m \u001b[0mself\u001b[0m\u001b[0;34m.\u001b[0m\u001b[0m_slow_forward\u001b[0m\u001b[0;34m(\u001b[0m\u001b[0;34m*\u001b[0m\u001b[0minput\u001b[0m\u001b[0;34m,\u001b[0m \u001b[0;34m**\u001b[0m\u001b[0mkwargs\u001b[0m\u001b[0;34m)\u001b[0m\u001b[0;34m\u001b[0m\u001b[0;34m\u001b[0m\u001b[0m\n\u001b[1;32m    726\u001b[0m         \u001b[0;32melse\u001b[0m\u001b[0;34m:\u001b[0m\u001b[0;34m\u001b[0m\u001b[0;34m\u001b[0m\u001b[0m\n\u001b[0;32m--> 727\u001b[0;31m             \u001b[0mresult\u001b[0m \u001b[0;34m=\u001b[0m \u001b[0mself\u001b[0m\u001b[0;34m.\u001b[0m\u001b[0mforward\u001b[0m\u001b[0;34m(\u001b[0m\u001b[0;34m*\u001b[0m\u001b[0minput\u001b[0m\u001b[0;34m,\u001b[0m \u001b[0;34m**\u001b[0m\u001b[0mkwargs\u001b[0m\u001b[0;34m)\u001b[0m\u001b[0;34m\u001b[0m\u001b[0;34m\u001b[0m\u001b[0m\n\u001b[0m\u001b[1;32m    728\u001b[0m         for hook in itertools.chain(\n\u001b[1;32m    729\u001b[0m                 \u001b[0m_global_forward_hooks\u001b[0m\u001b[0;34m.\u001b[0m\u001b[0mvalues\u001b[0m\u001b[0;34m(\u001b[0m\u001b[0;34m)\u001b[0m\u001b[0;34m,\u001b[0m\u001b[0;34m\u001b[0m\u001b[0;34m\u001b[0m\u001b[0m\n",
      "\u001b[0;32m~/.local/share/virtualenvs/project-daredevil-8eBKzQn6/lib/python3.6/site-packages/torchvision/models/resnet.py\u001b[0m in \u001b[0;36mforward\u001b[0;34m(self, x)\u001b[0m\n\u001b[1;32m    218\u001b[0m \u001b[0;34m\u001b[0m\u001b[0m\n\u001b[1;32m    219\u001b[0m     \u001b[0;32mdef\u001b[0m \u001b[0mforward\u001b[0m\u001b[0;34m(\u001b[0m\u001b[0mself\u001b[0m\u001b[0;34m,\u001b[0m \u001b[0mx\u001b[0m\u001b[0;34m)\u001b[0m\u001b[0;34m:\u001b[0m\u001b[0;34m\u001b[0m\u001b[0;34m\u001b[0m\u001b[0m\n\u001b[0;32m--> 220\u001b[0;31m         \u001b[0;32mreturn\u001b[0m \u001b[0mself\u001b[0m\u001b[0;34m.\u001b[0m\u001b[0m_forward_impl\u001b[0m\u001b[0;34m(\u001b[0m\u001b[0mx\u001b[0m\u001b[0;34m)\u001b[0m\u001b[0;34m\u001b[0m\u001b[0;34m\u001b[0m\u001b[0m\n\u001b[0m\u001b[1;32m    221\u001b[0m \u001b[0;34m\u001b[0m\u001b[0m\n\u001b[1;32m    222\u001b[0m \u001b[0;34m\u001b[0m\u001b[0m\n",
      "\u001b[0;32m~/.local/share/virtualenvs/project-daredevil-8eBKzQn6/lib/python3.6/site-packages/torchvision/models/resnet.py\u001b[0m in \u001b[0;36m_forward_impl\u001b[0;34m(self, x)\u001b[0m\n\u001b[1;32m    201\u001b[0m     \u001b[0;32mdef\u001b[0m \u001b[0m_forward_impl\u001b[0m\u001b[0;34m(\u001b[0m\u001b[0mself\u001b[0m\u001b[0;34m,\u001b[0m \u001b[0mx\u001b[0m\u001b[0;34m)\u001b[0m\u001b[0;34m:\u001b[0m\u001b[0;34m\u001b[0m\u001b[0;34m\u001b[0m\u001b[0m\n\u001b[1;32m    202\u001b[0m         \u001b[0;31m# See note [TorchScript super()]\u001b[0m\u001b[0;34m\u001b[0m\u001b[0;34m\u001b[0m\u001b[0;34m\u001b[0m\u001b[0m\n\u001b[0;32m--> 203\u001b[0;31m         \u001b[0mx\u001b[0m \u001b[0;34m=\u001b[0m \u001b[0mself\u001b[0m\u001b[0;34m.\u001b[0m\u001b[0mconv1\u001b[0m\u001b[0;34m(\u001b[0m\u001b[0mx\u001b[0m\u001b[0;34m)\u001b[0m\u001b[0;34m\u001b[0m\u001b[0;34m\u001b[0m\u001b[0m\n\u001b[0m\u001b[1;32m    204\u001b[0m         \u001b[0mx\u001b[0m \u001b[0;34m=\u001b[0m \u001b[0mself\u001b[0m\u001b[0;34m.\u001b[0m\u001b[0mbn1\u001b[0m\u001b[0;34m(\u001b[0m\u001b[0mx\u001b[0m\u001b[0;34m)\u001b[0m\u001b[0;34m\u001b[0m\u001b[0;34m\u001b[0m\u001b[0m\n\u001b[1;32m    205\u001b[0m         \u001b[0mx\u001b[0m \u001b[0;34m=\u001b[0m \u001b[0mself\u001b[0m\u001b[0;34m.\u001b[0m\u001b[0mrelu\u001b[0m\u001b[0;34m(\u001b[0m\u001b[0mx\u001b[0m\u001b[0;34m)\u001b[0m\u001b[0;34m\u001b[0m\u001b[0;34m\u001b[0m\u001b[0m\n",
      "\u001b[0;32m~/.local/share/virtualenvs/project-daredevil-8eBKzQn6/lib/python3.6/site-packages/torch/nn/modules/module.py\u001b[0m in \u001b[0;36m_call_impl\u001b[0;34m(self, *input, **kwargs)\u001b[0m\n\u001b[1;32m    725\u001b[0m             \u001b[0mresult\u001b[0m \u001b[0;34m=\u001b[0m \u001b[0mself\u001b[0m\u001b[0;34m.\u001b[0m\u001b[0m_slow_forward\u001b[0m\u001b[0;34m(\u001b[0m\u001b[0;34m*\u001b[0m\u001b[0minput\u001b[0m\u001b[0;34m,\u001b[0m \u001b[0;34m**\u001b[0m\u001b[0mkwargs\u001b[0m\u001b[0;34m)\u001b[0m\u001b[0;34m\u001b[0m\u001b[0;34m\u001b[0m\u001b[0m\n\u001b[1;32m    726\u001b[0m         \u001b[0;32melse\u001b[0m\u001b[0;34m:\u001b[0m\u001b[0;34m\u001b[0m\u001b[0;34m\u001b[0m\u001b[0m\n\u001b[0;32m--> 727\u001b[0;31m             \u001b[0mresult\u001b[0m \u001b[0;34m=\u001b[0m \u001b[0mself\u001b[0m\u001b[0;34m.\u001b[0m\u001b[0mforward\u001b[0m\u001b[0;34m(\u001b[0m\u001b[0;34m*\u001b[0m\u001b[0minput\u001b[0m\u001b[0;34m,\u001b[0m \u001b[0;34m**\u001b[0m\u001b[0mkwargs\u001b[0m\u001b[0;34m)\u001b[0m\u001b[0;34m\u001b[0m\u001b[0;34m\u001b[0m\u001b[0m\n\u001b[0m\u001b[1;32m    728\u001b[0m         for hook in itertools.chain(\n\u001b[1;32m    729\u001b[0m                 \u001b[0m_global_forward_hooks\u001b[0m\u001b[0;34m.\u001b[0m\u001b[0mvalues\u001b[0m\u001b[0;34m(\u001b[0m\u001b[0;34m)\u001b[0m\u001b[0;34m,\u001b[0m\u001b[0;34m\u001b[0m\u001b[0;34m\u001b[0m\u001b[0m\n",
      "\u001b[0;32m~/.local/share/virtualenvs/project-daredevil-8eBKzQn6/lib/python3.6/site-packages/torch/nn/modules/conv.py\u001b[0m in \u001b[0;36mforward\u001b[0;34m(self, input)\u001b[0m\n\u001b[1;32m    421\u001b[0m \u001b[0;34m\u001b[0m\u001b[0m\n\u001b[1;32m    422\u001b[0m     \u001b[0;32mdef\u001b[0m \u001b[0mforward\u001b[0m\u001b[0;34m(\u001b[0m\u001b[0mself\u001b[0m\u001b[0;34m,\u001b[0m \u001b[0minput\u001b[0m\u001b[0;34m:\u001b[0m \u001b[0mTensor\u001b[0m\u001b[0;34m)\u001b[0m \u001b[0;34m->\u001b[0m \u001b[0mTensor\u001b[0m\u001b[0;34m:\u001b[0m\u001b[0;34m\u001b[0m\u001b[0;34m\u001b[0m\u001b[0m\n\u001b[0;32m--> 423\u001b[0;31m         \u001b[0;32mreturn\u001b[0m \u001b[0mself\u001b[0m\u001b[0;34m.\u001b[0m\u001b[0m_conv_forward\u001b[0m\u001b[0;34m(\u001b[0m\u001b[0minput\u001b[0m\u001b[0;34m,\u001b[0m \u001b[0mself\u001b[0m\u001b[0;34m.\u001b[0m\u001b[0mweight\u001b[0m\u001b[0;34m)\u001b[0m\u001b[0;34m\u001b[0m\u001b[0;34m\u001b[0m\u001b[0m\n\u001b[0m\u001b[1;32m    424\u001b[0m \u001b[0;34m\u001b[0m\u001b[0m\n\u001b[1;32m    425\u001b[0m \u001b[0;32mclass\u001b[0m \u001b[0mConv3d\u001b[0m\u001b[0;34m(\u001b[0m\u001b[0m_ConvNd\u001b[0m\u001b[0;34m)\u001b[0m\u001b[0;34m:\u001b[0m\u001b[0;34m\u001b[0m\u001b[0;34m\u001b[0m\u001b[0m\n",
      "\u001b[0;32m~/.local/share/virtualenvs/project-daredevil-8eBKzQn6/lib/python3.6/site-packages/torch/nn/modules/conv.py\u001b[0m in \u001b[0;36m_conv_forward\u001b[0;34m(self, input, weight)\u001b[0m\n\u001b[1;32m    418\u001b[0m                             _pair(0), self.dilation, self.groups)\n\u001b[1;32m    419\u001b[0m         return F.conv2d(input, weight, self.bias, self.stride,\n\u001b[0;32m--> 420\u001b[0;31m                         self.padding, self.dilation, self.groups)\n\u001b[0m\u001b[1;32m    421\u001b[0m \u001b[0;34m\u001b[0m\u001b[0m\n\u001b[1;32m    422\u001b[0m     \u001b[0;32mdef\u001b[0m \u001b[0mforward\u001b[0m\u001b[0;34m(\u001b[0m\u001b[0mself\u001b[0m\u001b[0;34m,\u001b[0m \u001b[0minput\u001b[0m\u001b[0;34m:\u001b[0m \u001b[0mTensor\u001b[0m\u001b[0;34m)\u001b[0m \u001b[0;34m->\u001b[0m \u001b[0mTensor\u001b[0m\u001b[0;34m:\u001b[0m\u001b[0;34m\u001b[0m\u001b[0;34m\u001b[0m\u001b[0m\n",
      "\u001b[0;31mRuntimeError\u001b[0m: Expected 4-dimensional input for 4-dimensional weight [64, 1, 7, 7], but got 3-dimensional input of size [32, 128, 320] instead"
     ]
    }
   ],
   "source": [
    "for idx,e in enumerate(trainloader_all):\n",
    "    print(e['ms_spot'].size())\n",
    "    model(e['ms_spot'])\n",
    "    break"
   ]
  },
  {
   "cell_type": "code",
   "execution_count": 35,
   "metadata": {},
   "outputs": [
    {
     "data": {
      "text/plain": [
       "torch.Size([128, 320])"
      ]
     },
     "execution_count": 35,
     "metadata": {},
     "output_type": "execute_result"
    }
   ],
   "source": [
    "train_set_all[1]['ms_spot'].shape"
   ]
  },
  {
   "cell_type": "code",
   "execution_count": 57,
   "metadata": {},
   "outputs": [
    {
     "data": {
      "text/plain": [
       "0"
      ]
     },
     "execution_count": 57,
     "metadata": {},
     "output_type": "execute_result"
    }
   ],
   "source": [
    "train_set_all[1]['label']"
   ]
  },
  {
   "cell_type": "code",
   "execution_count": 36,
   "metadata": {},
   "outputs": [],
   "source": [
    "import matplotlib.pyplot as plt"
   ]
  },
  {
   "cell_type": "code",
   "execution_count": 67,
   "metadata": {},
   "outputs": [
    {
     "data": {
      "text/plain": [
       "<Figure size 720x720 with 0 Axes>"
      ]
     },
     "metadata": {},
     "output_type": "display_data"
    },
    {
     "data": {
      "image/png": "[encoded data removed]",
      "text/plain": [
       "<Figure size 432x288 with 1 Axes>"
      ]
     },
     "metadata": {
      "needs_background": "light"
     },
     "output_type": "display_data"
    }
   ],
   "source": [
    "time_conversion = np.arange(320)\n",
    "plt.figure(figsize=(10,10))\n",
    "plt.imshow(train_set_all[10]['ms_spot'])\n",
    "fig, ax = plt.subplots()\n",
    "\n",
    "ax.imshow(train_set_all[10]['ms_spot'])\n",
    "ax.set_aspect(2)\n"
   ]
  },
  {
   "cell_type": "markdown",
   "metadata": {},
   "source": [
    "# Case 1: Trained on all, test and evaluate on all, english, other"
   ]
  },
  {
   "cell_type": "code",
   "execution_count": 23,
   "metadata": {},
   "outputs": [],
   "source": [
    "windows = [2,4,8,16,32,64]"
   ]
  },
  {
   "cell_type": "code",
   "execution_count": 24,
   "metadata": {},
   "outputs": [],
   "source": [
    "import torchvision\n",
    "import torch.optim as optim\n",
    "import torch.nn as nn\n",
    "def generate_model():\n",
    "    model = torchvision.models.resnet18(pretrained=True)\n",
    "    model.conv1 = nn.Conv2d(1,64,kernel_size=(7,7),stride=(2,2),padding=(3,3),bias=False)\n",
    "    model.fc = nn.Linear(512,4,bias=True)\n",
    "    #resnet.features.conv0 = nn.Conv2d(1, 96, kernel_size=(7, 7), stride=(2, 2), padding=(3, 3), bias=False)\n",
    "    #resnet.classifier = nn.Linear(in_features=densenet.classifier.in_features, out_features=3,bias=True)\n",
    "\n",
    "\n",
    "    criterion = nn.CrossEntropyLoss()\n",
    "    optimizer = optim.SGD(model.parameters(), lr=0.001, momentum=0.9)\n",
    "    return model, criterion,optimizer"
   ]
  },
  {
   "cell_type": "code",
   "execution_count": null,
   "metadata": {},
   "outputs": [],
   "source": [
    "# Scheduler\n",
    "scheduler = torch.optim.lr_scheduler.StepLR(optimizer, 7, gamma=0.1)"
   ]
  },
  {
   "cell_type": "code",
   "execution_count": 15,
   "metadata": {},
   "outputs": [
    {
     "name": "stdout",
     "output_type": "stream",
     "text": [
      "new best acc\n",
      " Accuracy : 0.44717949628829956\n",
      "new best acc\n",
      " Accuracy : 0.4887179434299469\n",
      "new best acc\n",
      " Accuracy : 0.5097435712814331\n",
      "new best acc\n",
      " Accuracy : 0.5230769515037537\n",
      "new best acc\n",
      " Accuracy : 0.5353845953941345\n",
      "new best acc\n",
      " Accuracy : 0.5405128002166748\n",
      "new best acc\n",
      " Accuracy : 0.5574358701705933\n",
      "new best acc\n",
      " Accuracy : 0.5605128407478333\n",
      " Accuracy : 0.5574358701705933\n",
      " Accuracy : 0.5446153879165649\n",
      " Accuracy : 0.5497435927391052\n",
      " Accuracy : 0.5482051372528076\n",
      " Accuracy : 0.5569230914115906\n",
      " Accuracy : 0.5600000023841858\n",
      " Accuracy : 0.5482051372528076\n",
      "Finished Training\n",
      "Accuracy : 0.5605128407478333\n",
      "new best acc\n",
      " Accuracy : 0.49589744210243225\n",
      "new best acc\n",
      " Accuracy : 0.535897433757782\n",
      "new best acc\n",
      " Accuracy : 0.582564115524292\n",
      "new best acc\n",
      " Accuracy : 0.5846154093742371\n",
      "new best acc\n",
      " Accuracy : 0.5964102745056152\n",
      " Accuracy : 0.5892307758331299\n",
      " Accuracy : 0.5846154093742371\n",
      "new best acc\n",
      " Accuracy : 0.6189743876457214\n",
      " Accuracy : 0.588205099105835\n",
      " Accuracy : 0.6025640964508057\n",
      " Accuracy : 0.5856410264968872\n",
      " Accuracy : 0.6046153903007507\n",
      "new best acc\n",
      " Accuracy : 0.6200000047683716\n",
      " Accuracy : 0.5933333039283752\n",
      " Accuracy : 0.6123076677322388\n",
      "Finished Training\n",
      "Accuracy : 0.6200000047683716\n",
      "new best acc\n",
      " Accuracy : 0.4630769193172455\n",
      "new best acc\n",
      " Accuracy : 0.5676922798156738\n",
      "new best acc\n",
      " Accuracy : 0.5938461422920227\n",
      "new best acc\n",
      " Accuracy : 0.6399999856948853\n",
      "new best acc\n",
      " Accuracy : 0.654358983039856\n",
      "new best acc\n",
      " Accuracy : 0.6569230556488037\n",
      "new best acc\n",
      " Accuracy : 0.6625640988349915\n",
      " Accuracy : 0.6461538672447205\n",
      "new best acc\n",
      " Accuracy : 0.6630769371986389\n",
      "new best acc\n",
      " Accuracy : 0.6758974194526672\n",
      " Accuracy : 0.6430768966674805\n",
      "new best acc\n",
      " Accuracy : 0.6769230961799622\n",
      " Accuracy : 0.6717948913574219\n",
      " Accuracy : 0.6687179207801819\n",
      " Accuracy : 0.6589743494987488\n",
      "Finished Training\n",
      "Accuracy : 0.6769230961799622\n",
      "new best acc\n",
      " Accuracy : 0.4625641107559204\n",
      "new best acc\n",
      " Accuracy : 0.54666668176651\n",
      "new best acc\n",
      " Accuracy : 0.5974358916282654\n",
      "new best acc\n",
      " Accuracy : 0.63692307472229\n",
      "new best acc\n",
      " Accuracy : 0.6487179398536682\n",
      "new best acc\n",
      " Accuracy : 0.6615384817123413\n",
      " Accuracy : 0.6548718214035034\n",
      " Accuracy : 0.6523076891899109\n",
      " Accuracy : 0.6333333253860474\n",
      "new best acc\n",
      " Accuracy : 0.6646153926849365\n",
      "new best acc\n",
      " Accuracy : 0.6866666674613953\n",
      "new best acc\n",
      " Accuracy : 0.6876922845840454\n",
      " Accuracy : 0.6769230961799622\n",
      " Accuracy : 0.6641025543212891\n",
      " Accuracy : 0.6753846406936646\n",
      "Finished Training\n",
      "Accuracy : 0.6876922845840454\n",
      "new best acc\n",
      " Accuracy : 0.4112820625305176\n",
      "new best acc\n",
      " Accuracy : 0.49435898661613464\n",
      "new best acc\n",
      " Accuracy : 0.5517948865890503\n",
      "new best acc\n",
      " Accuracy : 0.5784615278244019\n",
      "new best acc\n",
      " Accuracy : 0.5876923203468323\n",
      "new best acc\n",
      " Accuracy : 0.6056410074234009\n",
      " Accuracy : 0.5661538243293762\n",
      "new best acc\n",
      " Accuracy : 0.6194871664047241\n",
      " Accuracy : 0.6117948889732361\n",
      "new best acc\n",
      " Accuracy : 0.6364102363586426\n",
      " Accuracy : 0.6112820506095886\n",
      "new best acc\n",
      " Accuracy : 0.6405128240585327\n",
      " Accuracy : 0.6128205060958862\n",
      "new best acc\n",
      " Accuracy : 0.6430768966674805\n",
      " Accuracy : 0.6415384411811829\n",
      "Finished Training\n",
      "Accuracy : 0.6430768966674805\n",
      "new best acc\n",
      " Accuracy : 0.36000001430511475\n",
      "new best acc\n",
      " Accuracy : 0.4194871783256531\n",
      "new best acc\n",
      " Accuracy : 0.4579487144947052\n",
      "new best acc\n",
      " Accuracy : 0.4789743721485138\n",
      "new best acc\n",
      " Accuracy : 0.510769248008728\n",
      "new best acc\n",
      " Accuracy : 0.528205156326294\n",
      "new best acc\n",
      " Accuracy : 0.5292307734489441\n",
      "new best acc\n",
      " Accuracy : 0.5405128002166748\n",
      "new best acc\n",
      " Accuracy : 0.54666668176651\n",
      "new best acc\n",
      " Accuracy : 0.5471794605255127\n",
      "new best acc\n",
      " Accuracy : 0.552307665348053\n",
      " Accuracy : 0.5384615659713745\n",
      "new best acc\n",
      " Accuracy : 0.5728204846382141\n",
      "new best acc\n",
      " Accuracy : 0.5794872045516968\n",
      "new best acc\n",
      " Accuracy : 0.5866666436195374\n",
      "Finished Training\n",
      "Accuracy : 0.5866666436195374\n"
     ]
    }
   ],
   "source": [
    "window_accs = list()\n",
    "for w in windows:\n",
    "    \n",
    "    train_set_all.set_window_size(w)\n",
    "    valid_set_all.set_window_size(w)\n",
    "    \n",
    "    trainloader = DataLoader(train_set_all,**params)\n",
    "    validloader = DataLoader(valid_set_all,**params)\n",
    "    \n",
    "    model, criterion,optimizer = generate_model()\n",
    "    resnet,eng = training_helper.train_model(model=model,\n",
    "           epochs=15,\n",
    "           trainloader=trainloader,\n",
    "           validloader=validloader,\n",
    "           criterion=criterion,\n",
    "           optimizer=optimizer,\n",
    "           device=device)\n",
    "    \n",
    "    best_acc = training_helper.evaluate_model(resnet,validloader,device)\n",
    "    window_accs.append(best_acc)\n",
    "    "
   ]
  },
  {
   "cell_type": "code",
   "execution_count": 15,
   "metadata": {},
   "outputs": [
    {
     "name": "stdout",
     "output_type": "stream",
     "text": [
      "[tensor(0.5456), tensor(0.6185), tensor(0.6523), tensor(0.6692), tensor(0.6431), tensor(0.5744)]\n"
     ]
    }
   ],
   "source": [
    "print(window_accs)"
   ]
  },
  {
   "cell_type": "code",
   "execution_count": 16,
   "metadata": {},
   "outputs": [
    {
     "name": "stdout",
     "output_type": "stream",
     "text": [
      "w : 2, w_acc : 0.5456410050392151\n",
      "w : 4, w_acc : 0.618461549282074\n",
      "w : 8, w_acc : 0.6523076891899109\n",
      "w : 16, w_acc : 0.6692307591438293\n",
      "w : 32, w_acc : 0.6430768966674805\n",
      "w : 64, w_acc : 0.5743589997291565\n"
     ]
    }
   ],
   "source": [
    "for ws,wacc in zip(windows,window_accs):\n",
    "    print(f\"w : {ws}, w_acc : {wacc}\")"
   ]
  },
  {
   "cell_type": "code",
   "execution_count": null,
   "metadata": {},
   "outputs": [],
   "source": []
  },
  {
   "cell_type": "markdown",
   "metadata": {},
   "source": [
    "# case 2 with scheduler"
   ]
  },
  {
   "cell_type": "code",
   "execution_count": 14,
   "metadata": {},
   "outputs": [],
   "source": [
    "windows = [2,4,8,16,32,64]"
   ]
  },
  {
   "cell_type": "code",
   "execution_count": 31,
   "metadata": {},
   "outputs": [
    {
     "name": "stdout",
     "output_type": "stream",
     "text": [
      "new best acc\n",
      " Accuracy : 0.5799999833106995\n",
      " Accuracy : 0.5676922798156738\n",
      "new best acc\n",
      " Accuracy : 0.6005128026008606\n",
      " Accuracy : 0.5774359107017517\n",
      " Accuracy : 0.5661538243293762\n",
      " Accuracy : 0.5374358892440796\n",
      " Accuracy : 0.5917948484420776\n",
      " Accuracy : 0.5794872045516968\n",
      " Accuracy : 0.54666668176651\n",
      "new best acc\n",
      " Accuracy : 0.6179487109184265\n",
      "new best acc\n",
      " Accuracy : 0.6276922821998596\n",
      " Accuracy : 0.617435872554779\n",
      " Accuracy : 0.626153826713562\n",
      "new best acc\n",
      " Accuracy : 0.6297435760498047\n",
      " Accuracy : 0.6225640773773193\n",
      " Accuracy : 0.6256410479545593\n",
      " Accuracy : 0.6287179589271545\n",
      "new best acc\n",
      " Accuracy : 0.6302564144134521\n",
      "new best acc\n",
      " Accuracy : 0.6307692527770996\n",
      " Accuracy : 0.6235897541046143\n",
      " Accuracy : 0.629230797290802\n",
      "new best acc\n",
      " Accuracy : 0.634871780872345\n",
      " Accuracy : 0.6317948698997498\n",
      " Accuracy : 0.629230797290802\n",
      " Accuracy : 0.6235897541046143\n",
      "Finished Training\n",
      "Accuracy : 0.634871780872345\n",
      "new best acc\n",
      " Accuracy : 0.5969230532646179\n",
      "new best acc\n",
      " Accuracy : 0.6251282095909119\n",
      "new best acc\n",
      " Accuracy : 0.6630769371986389\n",
      " Accuracy : 0.5979487299919128\n",
      " Accuracy : 0.6389743685722351\n",
      " Accuracy : 0.6179487109184265\n",
      " Accuracy : 0.6020512580871582\n",
      " Accuracy : 0.617435872554779\n",
      " Accuracy : 0.6487179398536682\n",
      "new best acc\n",
      " Accuracy : 0.6692307591438293\n",
      "new best acc\n",
      " Accuracy : 0.6774358749389648\n",
      " Accuracy : 0.6723076701164246\n",
      " Accuracy : 0.6671794652938843\n",
      " Accuracy : 0.6774358749389648\n",
      "new best acc\n",
      " Accuracy : 0.6789743304252625\n",
      " Accuracy : 0.6723076701164246\n",
      " Accuracy : 0.6774358749389648\n",
      "new best acc\n",
      " Accuracy : 0.6800000071525574\n",
      " Accuracy : 0.6784615516662598\n",
      " Accuracy : 0.6753846406936646\n",
      " Accuracy : 0.672820508480072\n",
      "new best acc\n",
      " Accuracy : 0.6846153736114502\n",
      " Accuracy : 0.6800000071525574\n",
      " Accuracy : 0.6825640797615051\n",
      " Accuracy : 0.6764102578163147\n",
      "Finished Training\n",
      "Accuracy : 0.6846153736114502\n",
      "new best acc\n",
      " Accuracy : 0.4466666579246521\n",
      "new best acc\n",
      " Accuracy : 0.5589743852615356\n",
      "new best acc\n",
      " Accuracy : 0.6738461256027222\n",
      " Accuracy : 0.5302563905715942\n",
      "new best acc\n",
      " Accuracy : 0.6774358749389648\n",
      " Accuracy : 0.5487179756164551\n",
      " Accuracy : 0.6333333253860474\n",
      " Accuracy : 0.5994871854782104\n",
      "new best acc\n",
      " Accuracy : 0.6830769181251526\n",
      "new best acc\n",
      " Accuracy : 0.7112820744514465\n",
      "new best acc\n",
      " Accuracy : 0.7153846025466919\n",
      "new best acc\n",
      " Accuracy : 0.7158974409103394\n",
      "new best acc\n",
      " Accuracy : 0.7189743518829346\n",
      " Accuracy : 0.7158974409103394\n",
      " Accuracy : 0.7133333086967468\n",
      "new best acc\n",
      " Accuracy : 0.719487190246582\n",
      "new best acc\n",
      " Accuracy : 0.7246153950691223\n",
      " Accuracy : 0.7200000286102295\n",
      " Accuracy : 0.7215384840965271\n",
      " Accuracy : 0.7189743518829346\n",
      " Accuracy : 0.719487190246582\n",
      " Accuracy : 0.7220512628555298\n",
      " Accuracy : 0.7215384840965271\n",
      " Accuracy : 0.719487190246582\n",
      " Accuracy : 0.7215384840965271\n",
      "Finished Training\n",
      "Accuracy : 0.7246153950691223\n",
      "new best acc\n",
      " Accuracy : 0.6030769348144531\n",
      " Accuracy : 0.5856410264968872\n",
      "new best acc\n",
      " Accuracy : 0.6297435760498047\n",
      " Accuracy : 0.6194871664047241\n",
      " Accuracy : 0.598974347114563\n",
      "new best acc\n",
      " Accuracy : 0.6415384411811829\n",
      " Accuracy : 0.5958974361419678\n",
      "new best acc\n",
      " Accuracy : 0.6717948913574219\n",
      "new best acc\n",
      " Accuracy : 0.6969230771064758\n",
      "new best acc\n",
      " Accuracy : 0.735897421836853\n",
      " Accuracy : 0.7307692170143127\n",
      " Accuracy : 0.7348718047142029\n",
      "new best acc\n",
      " Accuracy : 0.7415384650230408\n",
      " Accuracy : 0.735897421836853\n",
      " Accuracy : 0.7384615540504456\n",
      " Accuracy : 0.735897421836853\n",
      " Accuracy : 0.7400000095367432\n",
      " Accuracy : 0.7394871711730957\n",
      " Accuracy : 0.7384615540504456\n",
      " Accuracy : 0.7364102602005005\n",
      " Accuracy : 0.733846127986908\n",
      " Accuracy : 0.7379487156867981\n",
      " Accuracy : 0.7410256266593933\n",
      " Accuracy : 0.7389743328094482\n",
      " Accuracy : 0.7389743328094482\n",
      "Finished Training\n",
      "Accuracy : 0.7415384650230408\n",
      "new best acc\n",
      " Accuracy : 0.563076913356781\n",
      " Accuracy : 0.44256410002708435\n",
      " Accuracy : 0.33897435665130615\n",
      " Accuracy : 0.48974359035491943\n",
      "new best acc\n",
      " Accuracy : 0.6512820720672607\n",
      " Accuracy : 0.6189743876457214\n",
      " Accuracy : 0.5112820267677307\n",
      " Accuracy : 0.5174359083175659\n",
      "new best acc\n",
      " Accuracy : 0.6702564358711243\n",
      "new best acc\n",
      " Accuracy : 0.7292307615280151\n",
      "new best acc\n",
      " Accuracy : 0.7328205108642578\n",
      "new best acc\n",
      " Accuracy : 0.7353846430778503\n",
      "new best acc\n",
      " Accuracy : 0.7400000095367432\n",
      " Accuracy : 0.7333333492279053\n",
      " Accuracy : 0.7353846430778503\n",
      " Accuracy : 0.735897421836853\n",
      "new best acc\n",
      " Accuracy : 0.7410256266593933\n",
      " Accuracy : 0.7353846430778503\n",
      "new best acc\n",
      " Accuracy : 0.7441025376319885\n",
      " Accuracy : 0.7328205108642578\n",
      " Accuracy : 0.7384615540504456\n",
      "new best acc\n",
      " Accuracy : 0.7461538314819336\n",
      " Accuracy : 0.7389743328094482\n",
      " Accuracy : 0.7328205108642578\n",
      " Accuracy : 0.7389743328094482\n",
      "Finished Training\n",
      "Accuracy : 0.7461538314819336\n",
      "new best acc\n",
      " Accuracy : 0.44564101099967957\n",
      " Accuracy : 0.42820513248443604\n",
      "new best acc\n",
      " Accuracy : 0.5061538219451904\n",
      " Accuracy : 0.49897435307502747\n",
      "new best acc\n",
      " Accuracy : 0.5748717784881592\n",
      " Accuracy : 0.5687179565429688\n",
      " Accuracy : 0.5564102530479431\n",
      " Accuracy : 0.4276922941207886\n",
      " Accuracy : 0.5348718166351318\n",
      "new best acc\n",
      " Accuracy : 0.6851282119750977\n",
      "new best acc\n",
      " Accuracy : 0.6866666674613953\n",
      " Accuracy : 0.6830769181251526\n",
      " Accuracy : 0.6764102578163147\n",
      " Accuracy : 0.6805128455162048\n",
      " Accuracy : 0.6748718023300171\n",
      " Accuracy : 0.6835897564888\n",
      " Accuracy : 0.6800000071525574\n",
      " Accuracy : 0.6835897564888\n",
      " Accuracy : 0.6769230961799622\n",
      " Accuracy : 0.6779487133026123\n",
      " Accuracy : 0.6810256242752075\n",
      " Accuracy : 0.6810256242752075\n",
      " Accuracy : 0.6810256242752075\n",
      " Accuracy : 0.6805128455162048\n",
      " Accuracy : 0.6851282119750977\n",
      "Finished Training\n",
      "Accuracy : 0.6866666674613953\n"
     ]
    }
   ],
   "source": [
    "window_accs = list()\n",
    "\n",
    "for w in windows:\n",
    "    \n",
    "    train_set_all.set_window_size(w)\n",
    "    valid_set_all.set_window_size(w)\n",
    "    \n",
    "    trainloader = DataLoader(train_set_all,**params)\n",
    "    validloader = DataLoader(valid_set_all,**params)\n",
    "    \n",
    "    model, criterion,optimizer = generate_model()\n",
    "    # Scheduler\n",
    "    scheduler = torch.optim.lr_scheduler.StepLR(optimizer, 10, gamma=0.1)\n",
    "    resnet,eng = training_helper.train_model_ws(model=model,\n",
    "           epochs=25,\n",
    "           trainloader=trainloader,\n",
    "           validloader=validloader,\n",
    "           criterion=criterion,\n",
    "           optimizer=optimizer,\n",
    "           scheduler=scheduler,\n",
    "           device=device,\n",
    "        tensorboard_name=\"window_size_25e_v4_\"+str(w))\n",
    "    \n",
    "    best_acc = training_helper.evaluate_model(resnet,validloader,device)\n",
    "    torch.save(resnet.state_dict(), \"./best_model_\"+str(w)+\".pth\")\n",
    "    window_accs.append(best_acc)"
   ]
  },
  {
   "cell_type": "code",
   "execution_count": 38,
   "metadata": {},
   "outputs": [
    {
     "name": "stdout",
     "output_type": "stream",
     "text": [
      "w : 2, w_acc : 0.634871780872345\n",
      "w : 4, w_acc : 0.6846153736114502\n",
      "w : 8, w_acc : 0.7246153950691223\n",
      "w : 16, w_acc : 0.7415384650230408\n",
      "w : 32, w_acc : 0.7461538314819336\n",
      "w : 64, w_acc : 0.6866666674613953\n"
     ]
    }
   ],
   "source": [
    "for ws,wacc in zip(windows,window_accs):\n",
    "    print(f\"w : {ws}, w_acc : {wacc}\")"
   ]
  },
  {
   "cell_type": "code",
   "execution_count": 27,
   "metadata": {},
   "outputs": [
    {
     "ename": "NameError",
     "evalue": "name 'test_set_all' is not defined",
     "output_type": "error",
     "traceback": [
      "\u001b[0;31m---------------------------------------------------------------------------\u001b[0m",
      "\u001b[0;31mNameError\u001b[0m                                 Traceback (most recent call last)",
      "\u001b[0;32m<ipython-input-27-6b5620dd93e6>\u001b[0m in \u001b[0;36m<module>\u001b[0;34m\u001b[0m\n\u001b[0;32m----> 1\u001b[0;31m \u001b[0mtest_set_all\u001b[0m\u001b[0;34m[\u001b[0m\u001b[0;36m0\u001b[0m\u001b[0;34m]\u001b[0m\u001b[0;34m\u001b[0m\u001b[0;34m\u001b[0m\u001b[0m\n\u001b[0m",
      "\u001b[0;31mNameError\u001b[0m: name 'test_set_all' is not defined"
     ]
    }
   ],
   "source": [
    "test_set_all[0]"
   ]
  },
  {
   "cell_type": "markdown",
   "metadata": {},
   "source": [
    "# Train with best, lowest window_size"
   ]
  },
  {
   "cell_type": "code",
   "execution_count": null,
   "metadata": {},
   "outputs": [],
   "source": [
    "# save model for feature generation"
   ]
  },
  {
   "cell_type": "markdown",
   "metadata": {},
   "source": [
    "# test on testset"
   ]
  },
  {
   "cell_type": "code",
   "execution_count": 41,
   "metadata": {},
   "outputs": [
    {
     "name": "stderr",
     "output_type": "stream",
     "text": [
      "100%|██████████| 100/100 [00:16<00:00,  5.98it/s]\n",
      "100%|██████████| 100/100 [00:06<00:00, 16.10it/s]\n",
      "100%|██████████| 100/100 [00:01<00:00, 71.39it/s]\n"
     ]
    }
   ],
   "source": [
    "test_set_all = soccernet_dataset_generic(npy_file=test_list,root_dir=root_dir,lang='all',lang_dict=langpath_test)\n",
    "\n",
    "test_set_all.load_waves()\n",
    "test_set_all.generate_mel_spectrograms(load_features=True)\n",
    "test_set_all.load_resnet_features()\n",
    "\n",
    "testloader_all = DataLoader(test_set_all,**params)\n"
   ]
  },
  {
   "cell_type": "code",
   "execution_count": 45,
   "metadata": {},
   "outputs": [
    {
     "name": "stdout",
     "output_type": "stream",
     "text": [
      "Accuracy : 0.37593236565589905\n",
      "2 : , acc: 0.37593236565589905\n",
      "Accuracy : 0.5947290062904358\n",
      "4 : , acc: 0.5947290062904358\n",
      "Accuracy : 0.734957754611969\n",
      "8 : , acc: 0.734957754611969\n",
      "Accuracy : 0.7235206365585327\n",
      "16 : , acc: 0.7235206365585327\n",
      "Accuracy : 0.6011934280395508\n",
      "32 : , acc: 0.6011934280395508\n"
     ]
    },
    {
     "ename": "RuntimeError",
     "evalue": "Caught RuntimeError in DataLoader worker process 3.\nOriginal Traceback (most recent call last):\n  File \"/home/oarongve/.local/share/virtualenvs/project-daredevil-8eBKzQn6/lib/python3.6/site-packages/torch/utils/data/_utils/worker.py\", line 198, in _worker_loop\n    data = fetcher.fetch(index)\n  File \"/home/oarongve/.local/share/virtualenvs/project-daredevil-8eBKzQn6/lib/python3.6/site-packages/torch/utils/data/_utils/fetch.py\", line 47, in fetch\n    return self.collate_fn(data)\n  File \"/home/oarongve/.local/share/virtualenvs/project-daredevil-8eBKzQn6/lib/python3.6/site-packages/torch/utils/data/_utils/collate.py\", line 73, in default_collate\n    return {key: default_collate([d[key] for d in batch]) for key in elem}\n  File \"/home/oarongve/.local/share/virtualenvs/project-daredevil-8eBKzQn6/lib/python3.6/site-packages/torch/utils/data/_utils/collate.py\", line 73, in <dictcomp>\n    return {key: default_collate([d[key] for d in batch]) for key in elem}\n  File \"/home/oarongve/.local/share/virtualenvs/project-daredevil-8eBKzQn6/lib/python3.6/site-packages/torch/utils/data/_utils/collate.py\", line 55, in default_collate\n    return torch.stack(batch, 0, out=out)\nRuntimeError: stack expects each tensor to be equal size, but got [128, 2560] at entry 0 and [128, 2354] at entry 18\n",
     "output_type": "error",
     "traceback": [
      "\u001b[0;31m---------------------------------------------------------------------------\u001b[0m",
      "\u001b[0;31mRuntimeError\u001b[0m                              Traceback (most recent call last)",
      "\u001b[0;32m<ipython-input-45-86b93f8fc832>\u001b[0m in \u001b[0;36m<module>\u001b[0;34m\u001b[0m\n\u001b[1;32m      9\u001b[0m     \u001b[0mmodel\u001b[0m\u001b[0;34m.\u001b[0m\u001b[0mload_state_dict\u001b[0m\u001b[0;34m(\u001b[0m\u001b[0mtorch\u001b[0m\u001b[0;34m.\u001b[0m\u001b[0mload\u001b[0m\u001b[0;34m(\u001b[0m\u001b[0;34m\"./best_model_\"\u001b[0m\u001b[0;34m+\u001b[0m\u001b[0mstr\u001b[0m\u001b[0;34m(\u001b[0m\u001b[0mw\u001b[0m\u001b[0;34m)\u001b[0m\u001b[0;34m+\u001b[0m\u001b[0;34m\".pth\"\u001b[0m\u001b[0;34m)\u001b[0m\u001b[0;34m)\u001b[0m\u001b[0;34m\u001b[0m\u001b[0;34m\u001b[0m\u001b[0m\n\u001b[1;32m     10\u001b[0m \u001b[0;34m\u001b[0m\u001b[0m\n\u001b[0;32m---> 11\u001b[0;31m     \u001b[0mbest_acc\u001b[0m \u001b[0;34m=\u001b[0m \u001b[0mtraining_helper\u001b[0m\u001b[0;34m.\u001b[0m\u001b[0mevaluate_model\u001b[0m\u001b[0;34m(\u001b[0m\u001b[0mresnet\u001b[0m\u001b[0;34m,\u001b[0m\u001b[0mtestloader_all\u001b[0m\u001b[0;34m,\u001b[0m\u001b[0mdevice\u001b[0m\u001b[0;34m)\u001b[0m\u001b[0;34m\u001b[0m\u001b[0;34m\u001b[0m\u001b[0m\n\u001b[0m\u001b[1;32m     12\u001b[0m     \u001b[0mwindow_accs_test\u001b[0m\u001b[0;34m.\u001b[0m\u001b[0mappend\u001b[0m\u001b[0;34m(\u001b[0m\u001b[0mbest_acc\u001b[0m\u001b[0;34m)\u001b[0m\u001b[0;34m\u001b[0m\u001b[0;34m\u001b[0m\u001b[0m\n\u001b[1;32m     13\u001b[0m     \u001b[0mprint\u001b[0m\u001b[0;34m(\u001b[0m\u001b[0;34mf\"{w} : , acc: {best_acc}\"\u001b[0m\u001b[0;34m)\u001b[0m\u001b[0;34m\u001b[0m\u001b[0;34m\u001b[0m\u001b[0m\n",
      "\u001b[0;32m/work/oarongve/project-daredevil/project-daredevil/src/utils/training_helper.py\u001b[0m in \u001b[0;36mevaluate_model\u001b[0;34m(model, validloader, device)\u001b[0m\n\u001b[1;32m    150\u001b[0m                 \u001b[0mbest_model\u001b[0m \u001b[0;34m=\u001b[0m \u001b[0mcopy\u001b[0m\u001b[0;34m.\u001b[0m\u001b[0mdeepcopy\u001b[0m\u001b[0;34m(\u001b[0m\u001b[0mmodel\u001b[0m\u001b[0;34m)\u001b[0m\u001b[0;34m\u001b[0m\u001b[0;34m\u001b[0m\u001b[0m\n\u001b[1;32m    151\u001b[0m \u001b[0;34m\u001b[0m\u001b[0m\n\u001b[0;32m--> 152\u001b[0;31m             writer.add_scalar('accuracy validation',\n\u001b[0m\u001b[1;32m    153\u001b[0m                 \u001b[0macc\u001b[0m\u001b[0;34m,\u001b[0m\u001b[0;34m\u001b[0m\u001b[0;34m\u001b[0m\u001b[0m\n\u001b[1;32m    154\u001b[0m                 epoch * len(validloader) + i)\n",
      "\u001b[0;32m~/.local/share/virtualenvs/project-daredevil-8eBKzQn6/lib/python3.6/site-packages/torch/utils/data/dataloader.py\u001b[0m in \u001b[0;36m__next__\u001b[0;34m(self)\u001b[0m\n\u001b[1;32m    433\u001b[0m         \u001b[0;32mif\u001b[0m \u001b[0mself\u001b[0m\u001b[0;34m.\u001b[0m\u001b[0m_sampler_iter\u001b[0m \u001b[0;32mis\u001b[0m \u001b[0;32mNone\u001b[0m\u001b[0;34m:\u001b[0m\u001b[0;34m\u001b[0m\u001b[0;34m\u001b[0m\u001b[0m\n\u001b[1;32m    434\u001b[0m             \u001b[0mself\u001b[0m\u001b[0;34m.\u001b[0m\u001b[0m_reset\u001b[0m\u001b[0;34m(\u001b[0m\u001b[0;34m)\u001b[0m\u001b[0;34m\u001b[0m\u001b[0;34m\u001b[0m\u001b[0m\n\u001b[0;32m--> 435\u001b[0;31m         \u001b[0mdata\u001b[0m \u001b[0;34m=\u001b[0m \u001b[0mself\u001b[0m\u001b[0;34m.\u001b[0m\u001b[0m_next_data\u001b[0m\u001b[0;34m(\u001b[0m\u001b[0;34m)\u001b[0m\u001b[0;34m\u001b[0m\u001b[0;34m\u001b[0m\u001b[0m\n\u001b[0m\u001b[1;32m    436\u001b[0m         \u001b[0mself\u001b[0m\u001b[0;34m.\u001b[0m\u001b[0m_num_yielded\u001b[0m \u001b[0;34m+=\u001b[0m \u001b[0;36m1\u001b[0m\u001b[0;34m\u001b[0m\u001b[0;34m\u001b[0m\u001b[0m\n\u001b[1;32m    437\u001b[0m         \u001b[0;32mif\u001b[0m \u001b[0mself\u001b[0m\u001b[0;34m.\u001b[0m\u001b[0m_dataset_kind\u001b[0m \u001b[0;34m==\u001b[0m \u001b[0m_DatasetKind\u001b[0m\u001b[0;34m.\u001b[0m\u001b[0mIterable\u001b[0m \u001b[0;32mand\u001b[0m\u001b[0;31m \u001b[0m\u001b[0;31m\\\u001b[0m\u001b[0;34m\u001b[0m\u001b[0;34m\u001b[0m\u001b[0m\n",
      "\u001b[0;32m~/.local/share/virtualenvs/project-daredevil-8eBKzQn6/lib/python3.6/site-packages/torch/utils/data/dataloader.py\u001b[0m in \u001b[0;36m_next_data\u001b[0;34m(self)\u001b[0m\n\u001b[1;32m   1063\u001b[0m             \u001b[0;32mif\u001b[0m \u001b[0mlen\u001b[0m\u001b[0;34m(\u001b[0m\u001b[0mself\u001b[0m\u001b[0;34m.\u001b[0m\u001b[0m_task_info\u001b[0m\u001b[0;34m[\u001b[0m\u001b[0mself\u001b[0m\u001b[0;34m.\u001b[0m\u001b[0m_rcvd_idx\u001b[0m\u001b[0;34m]\u001b[0m\u001b[0;34m)\u001b[0m \u001b[0;34m==\u001b[0m \u001b[0;36m2\u001b[0m\u001b[0;34m:\u001b[0m\u001b[0;34m\u001b[0m\u001b[0;34m\u001b[0m\u001b[0m\n\u001b[1;32m   1064\u001b[0m                 \u001b[0mdata\u001b[0m \u001b[0;34m=\u001b[0m \u001b[0mself\u001b[0m\u001b[0;34m.\u001b[0m\u001b[0m_task_info\u001b[0m\u001b[0;34m.\u001b[0m\u001b[0mpop\u001b[0m\u001b[0;34m(\u001b[0m\u001b[0mself\u001b[0m\u001b[0;34m.\u001b[0m\u001b[0m_rcvd_idx\u001b[0m\u001b[0;34m)\u001b[0m\u001b[0;34m[\u001b[0m\u001b[0;36m1\u001b[0m\u001b[0;34m]\u001b[0m\u001b[0;34m\u001b[0m\u001b[0;34m\u001b[0m\u001b[0m\n\u001b[0;32m-> 1065\u001b[0;31m                 \u001b[0;32mreturn\u001b[0m \u001b[0mself\u001b[0m\u001b[0;34m.\u001b[0m\u001b[0m_process_data\u001b[0m\u001b[0;34m(\u001b[0m\u001b[0mdata\u001b[0m\u001b[0;34m)\u001b[0m\u001b[0;34m\u001b[0m\u001b[0;34m\u001b[0m\u001b[0m\n\u001b[0m\u001b[1;32m   1066\u001b[0m \u001b[0;34m\u001b[0m\u001b[0m\n\u001b[1;32m   1067\u001b[0m             \u001b[0;32massert\u001b[0m \u001b[0;32mnot\u001b[0m \u001b[0mself\u001b[0m\u001b[0;34m.\u001b[0m\u001b[0m_shutdown\u001b[0m \u001b[0;32mand\u001b[0m \u001b[0mself\u001b[0m\u001b[0;34m.\u001b[0m\u001b[0m_tasks_outstanding\u001b[0m \u001b[0;34m>\u001b[0m \u001b[0;36m0\u001b[0m\u001b[0;34m\u001b[0m\u001b[0;34m\u001b[0m\u001b[0m\n",
      "\u001b[0;32m~/.local/share/virtualenvs/project-daredevil-8eBKzQn6/lib/python3.6/site-packages/torch/utils/data/dataloader.py\u001b[0m in \u001b[0;36m_process_data\u001b[0;34m(self, data)\u001b[0m\n\u001b[1;32m   1109\u001b[0m         \u001b[0mself\u001b[0m\u001b[0;34m.\u001b[0m\u001b[0m_try_put_index\u001b[0m\u001b[0;34m(\u001b[0m\u001b[0;34m)\u001b[0m\u001b[0;34m\u001b[0m\u001b[0;34m\u001b[0m\u001b[0m\n\u001b[1;32m   1110\u001b[0m         \u001b[0;32mif\u001b[0m \u001b[0misinstance\u001b[0m\u001b[0;34m(\u001b[0m\u001b[0mdata\u001b[0m\u001b[0;34m,\u001b[0m \u001b[0mExceptionWrapper\u001b[0m\u001b[0;34m)\u001b[0m\u001b[0;34m:\u001b[0m\u001b[0;34m\u001b[0m\u001b[0;34m\u001b[0m\u001b[0m\n\u001b[0;32m-> 1111\u001b[0;31m             \u001b[0mdata\u001b[0m\u001b[0;34m.\u001b[0m\u001b[0mreraise\u001b[0m\u001b[0;34m(\u001b[0m\u001b[0;34m)\u001b[0m\u001b[0;34m\u001b[0m\u001b[0;34m\u001b[0m\u001b[0m\n\u001b[0m\u001b[1;32m   1112\u001b[0m         \u001b[0;32mreturn\u001b[0m \u001b[0mdata\u001b[0m\u001b[0;34m\u001b[0m\u001b[0;34m\u001b[0m\u001b[0m\n\u001b[1;32m   1113\u001b[0m \u001b[0;34m\u001b[0m\u001b[0m\n",
      "\u001b[0;32m~/.local/share/virtualenvs/project-daredevil-8eBKzQn6/lib/python3.6/site-packages/torch/_utils.py\u001b[0m in \u001b[0;36mreraise\u001b[0;34m(self)\u001b[0m\n\u001b[1;32m    426\u001b[0m             \u001b[0;31m# have message field\u001b[0m\u001b[0;34m\u001b[0m\u001b[0;34m\u001b[0m\u001b[0;34m\u001b[0m\u001b[0m\n\u001b[1;32m    427\u001b[0m             \u001b[0;32mraise\u001b[0m \u001b[0mself\u001b[0m\u001b[0;34m.\u001b[0m\u001b[0mexc_type\u001b[0m\u001b[0;34m(\u001b[0m\u001b[0mmessage\u001b[0m\u001b[0;34m=\u001b[0m\u001b[0mmsg\u001b[0m\u001b[0;34m)\u001b[0m\u001b[0;34m\u001b[0m\u001b[0;34m\u001b[0m\u001b[0m\n\u001b[0;32m--> 428\u001b[0;31m         \u001b[0;32mraise\u001b[0m \u001b[0mself\u001b[0m\u001b[0;34m.\u001b[0m\u001b[0mexc_type\u001b[0m\u001b[0;34m(\u001b[0m\u001b[0mmsg\u001b[0m\u001b[0;34m)\u001b[0m\u001b[0;34m\u001b[0m\u001b[0;34m\u001b[0m\u001b[0m\n\u001b[0m\u001b[1;32m    429\u001b[0m \u001b[0;34m\u001b[0m\u001b[0m\n\u001b[1;32m    430\u001b[0m \u001b[0;34m\u001b[0m\u001b[0m\n",
      "\u001b[0;31mRuntimeError\u001b[0m: Caught RuntimeError in DataLoader worker process 3.\nOriginal Traceback (most recent call last):\n  File \"/home/oarongve/.local/share/virtualenvs/project-daredevil-8eBKzQn6/lib/python3.6/site-packages/torch/utils/data/_utils/worker.py\", line 198, in _worker_loop\n    data = fetcher.fetch(index)\n  File \"/home/oarongve/.local/share/virtualenvs/project-daredevil-8eBKzQn6/lib/python3.6/site-packages/torch/utils/data/_utils/fetch.py\", line 47, in fetch\n    return self.collate_fn(data)\n  File \"/home/oarongve/.local/share/virtualenvs/project-daredevil-8eBKzQn6/lib/python3.6/site-packages/torch/utils/data/_utils/collate.py\", line 73, in default_collate\n    return {key: default_collate([d[key] for d in batch]) for key in elem}\n  File \"/home/oarongve/.local/share/virtualenvs/project-daredevil-8eBKzQn6/lib/python3.6/site-packages/torch/utils/data/_utils/collate.py\", line 73, in <dictcomp>\n    return {key: default_collate([d[key] for d in batch]) for key in elem}\n  File \"/home/oarongve/.local/share/virtualenvs/project-daredevil-8eBKzQn6/lib/python3.6/site-packages/torch/utils/data/_utils/collate.py\", line 55, in default_collate\n    return torch.stack(batch, 0, out=out)\nRuntimeError: stack expects each tensor to be equal size, but got [128, 2560] at entry 0 and [128, 2354] at entry 18\n"
     ]
    }
   ],
   "source": [
    "window_accs_test = list()\n",
    "\n",
    "for w in windows:\n",
    "    \n",
    "    test_set_all.set_window_size(w)\n",
    "    testloader_all = DataLoader(test_set_all,**params)\n",
    "    \n",
    "    model, _,_ = generate_model()\n",
    "    model.load_state_dict(torch.load(\"./best_model_\"+str(w)+\".pth\"))\n",
    "    \n",
    "    best_acc = training_helper.evaluate_model(resnet,testloader_all,device)\n",
    "    window_accs_test.append(best_acc)\n",
    "    print(f\"{w} : , acc: {best_acc}\")"
   ]
  },
  {
   "cell_type": "code",
   "execution_count": null,
   "metadata": {},
   "outputs": [],
   "source": [
    "for ws,wacc in zip(windows,window_accs_test):\n",
    "    print(f\"w : {ws}, w_acc : {wacc}\")"
   ]
  },
  {
   "cell_type": "code",
   "execution_count": null,
   "metadata": {},
   "outputs": [],
   "source": []
  },
  {
   "cell_type": "markdown",
   "metadata": {},
   "source": [
    "# Deeper net"
   ]
  },
  {
   "cell_type": "code",
   "execution_count": 39,
   "metadata": {},
   "outputs": [],
   "source": [
    "import torchvision\n",
    "import torch.optim as optim\n",
    "import torch.nn as nn\n",
    "def generate_model_deep():\n",
    "    model = torchvision.models.resnet34()\n",
    "    model.conv1 = nn.Conv2d(1,64,kernel_size=(7,7),stride=(2,2),padding=(3,3),bias=False)\n",
    "    model.fc = nn.Linear(512,4,bias=True)\n",
    "    #resnet.features.conv0 = nn.Conv2d(1, 96, kernel_size=(7, 7), stride=(2, 2), padding=(3, 3), bias=False)\n",
    "    #resnet.classifier = nn.Linear(in_features=densenet.classifier.in_features, out_features=3,bias=True)\n",
    "\n",
    "\n",
    "    criterion = nn.CrossEntropyLoss()\n",
    "    optimizer = optim.SGD(model.parameters(), lr=0.001, momentum=0.9)\n",
    "    return model, criterion,optimizer"
   ]
  },
  {
   "cell_type": "code",
   "execution_count": 40,
   "metadata": {},
   "outputs": [
    {
     "name": "stdout",
     "output_type": "stream",
     "text": [
      "new best acc\n",
      " Accuracy : 0.5661538243293762\n",
      "new best acc\n",
      " Accuracy : 0.6471794843673706\n",
      "new best acc\n",
      " Accuracy : 0.6502563953399658\n",
      "new best acc\n",
      " Accuracy : 0.6589743494987488\n",
      " Accuracy : 0.6364102363586426\n",
      " Accuracy : 0.6010256409645081\n",
      " Accuracy : 0.5333333611488342\n",
      "new best acc\n",
      " Accuracy : 0.6646153926849365\n",
      " Accuracy : 0.5687179565429688\n",
      "new best acc\n",
      " Accuracy : 0.7297435998916626\n",
      "new best acc\n",
      " Accuracy : 0.7312820553779602\n",
      " Accuracy : 0.7302564382553101\n",
      " Accuracy : 0.7271794676780701\n",
      " Accuracy : 0.7261538505554199\n",
      " Accuracy : 0.7256410121917725\n",
      " Accuracy : 0.728205144405365\n",
      " Accuracy : 0.7287179231643677\n",
      " Accuracy : 0.7266666889190674\n",
      " Accuracy : 0.7200000286102295\n",
      " Accuracy : 0.7215384840965271\n",
      " Accuracy : 0.7241025567054749\n",
      " Accuracy : 0.7251282334327698\n",
      " Accuracy : 0.7287179231643677\n",
      " Accuracy : 0.7276923060417175\n",
      " Accuracy : 0.7220512628555298\n",
      "Finished Training\n",
      "Accuracy : 0.7312820553779602\n"
     ]
    }
   ],
   "source": [
    "train_set_all.set_window_size(8)\n",
    "valid_set_all.set_window_size(8)\n",
    "\n",
    "trainloader = DataLoader(train_set_all,**params)\n",
    "validloader = DataLoader(valid_set_all,**params)\n",
    "\n",
    "model, criterion,optimizer = generate_model_deep()\n",
    "# Scheduler\n",
    "scheduler = torch.optim.lr_scheduler.StepLR(optimizer, 10, gamma=0.1)\n",
    "resnet,eng = training_helper.train_model_ws(model=model,\n",
    "       epochs=25,\n",
    "       trainloader=trainloader,\n",
    "       validloader=validloader,\n",
    "       criterion=criterion,\n",
    "       optimizer=optimizer,\n",
    "       scheduler=scheduler,\n",
    "       device=device,\n",
    "    tensorboard_name=\"window_size_25e_v4_deep\"+str(8))\n",
    "\n",
    "best_acc = training_helper.evaluate_model(resnet,validloader,device)\n",
    "torch.save(resnet.state_dict(), \"./best_model_deep_\"+str(w)+\".pth\")\n",
    "window_accs.append(best_acc)"
   ]
  },
  {
   "cell_type": "code",
   "execution_count": null,
   "metadata": {},
   "outputs": [],
   "source": []
  }
 ],
 "metadata": {
  "kernelspec": {
   "display_name": "project-daredevil",
   "language": "python",
   "name": "project-daredevil"
  },
  "language_info": {
   "codemirror_mode": {
    "name": "ipython",
    "version": 3
   },
   "file_extension": ".py",
   "mimetype": "text/x-python",
   "name": "python",
   "nbconvert_exporter": "python",
   "pygments_lexer": "ipython3",
   "version": "3.6.9"
  }
 },
 "nbformat": 4,
 "nbformat_minor": 2
}
