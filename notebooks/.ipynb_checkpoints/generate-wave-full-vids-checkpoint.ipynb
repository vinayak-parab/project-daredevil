{
 "cells": [
  {
   "cell_type": "code",
   "execution_count": 1,
   "metadata": {},
   "outputs": [],
   "source": [
    "import numpy as np\n",
    "import librosa"
   ]
  },
  {
   "cell_type": "code",
   "execution_count": 24,
   "metadata": {},
   "outputs": [],
   "source": [
    "root_dir = \"/work/oarongve/data/sound_dataset/SoccerNet-code/data/\"\n",
    "Validlist = np.load(\"/work/oarongve/data/sound_dataset/SoccerNet-code/data/listgame_Valid_100.npy\")\n",
    "Testlist = np.load(\"/work/oarongve/data/sound_dataset/SoccerNet-code/data/listgame_Test_100.npy\")\n",
    "Trainlist = np.load(\"/work/oarongve/data/sound_dataset/SoccerNet-code/data/listgame_Train_300.npy\")"
   ]
  },
  {
   "cell_type": "code",
   "execution_count": 10,
   "metadata": {},
   "outputs": [],
   "source": []
  },
  {
   "cell_type": "code",
   "execution_count": null,
   "metadata": {},
   "outputs": [],
   "source": [
    "SAMPLE_RATE = 16000\n",
    "c = 0\n",
    "for e in Validlist:\n",
    "    c+=1\n",
    "    print(c)\n",
    "    path1 = root_dir+e+\"/1_audio.wav\"\n",
    "    path2 = root_dir+e+\"/2_audio.wav\"\n",
    "    y_1,sr_1 = librosa.load(path1,sr=SAMPLE_RATE)\n",
    "    y_2,sr_2 = librosa.load(path2,sr=SAMPLE_RATE)\n",
    "    np.save(root_dir+e+\"/1_wave.npy\",y_1)\n",
    "    np.save(root_dir+e+\"/2_wave.npy\",y_2)\n",
    "    "
   ]
  },
  {
   "cell_type": "code",
   "execution_count": null,
   "metadata": {},
   "outputs": [],
   "source": [
    "SAMPLE_RATE = 16000\n",
    "c = 0\n",
    "for e in Testlist:\n",
    "    c+=1\n",
    "    print(c)\n",
    "    path1 = root_dir+e+\"/1_audio.wav\"\n",
    "    path2 = root_dir+e+\"/2_audio.wav\"\n",
    "    y_1,sr_1 = librosa.load(path1,sr=SAMPLE_RATE)\n",
    "    y_2,sr_2 = librosa.load(path2,sr=SAMPLE_RATE)\n",
    "    np.save(root_dir+e+\"/1_wave.npy\",y_1)\n",
    "    np.save(root_dir+e+\"/2_wave.npy\",y_2)\n",
    "    "
   ]
  },
  {
   "cell_type": "code",
   "execution_count": null,
   "metadata": {},
   "outputs": [],
   "source": [
    "SAMPLE_RATE = 16000\n",
    "c = 0\n",
    "for e in Trainlist:\n",
    "    c+=1\n",
    "    print(c)\n",
    "    path1 = root_dir+e+\"/1_audio.wav\"\n",
    "    path2 = root_dir+e+\"/2_audio.wav\"\n",
    "    y_1,sr_1 = librosa.load(path1,sr=SAMPLE_RATE)\n",
    "    y_2,sr_2 = librosa.load(path2,sr=SAMPLE_RATE)\n",
    "    np.save(root_dir+e+\"/1_wave.npy\",y_1)\n",
    "    np.save(root_dir+e+\"/2_wave.npy\",y_2)\n",
    "    "
   ]
  },
  {
   "cell_type": "code",
   "execution_count": 18,
   "metadata": {},
   "outputs": [
    {
     "name": "stderr",
     "output_type": "stream",
     "text": [
      "/home/oarongve/.local/share/virtualenvs/project-daredevil-8eBKzQn6/lib/python3.6/site-packages/librosa/core/audio.py:162: UserWarning: PySoundFile failed. Trying audioread instead.\n",
      "  warnings.warn(\"PySoundFile failed. Trying audioread instead.\")\n"
     ]
    },
    {
     "name": "stdout",
     "output_type": "stream",
     "text": [
      "CPU times: user 1min 39s, sys: 2.22 s, total: 1min 42s\n",
      "Wall time: 1min 43s\n"
     ]
    }
   ],
   "source": [
    "%%time\n",
    "y,sr = librosa.load(p,sr=8000)"
   ]
  },
  {
   "cell_type": "code",
   "execution_count": 19,
   "metadata": {},
   "outputs": [
    {
     "name": "stdout",
     "output_type": "stream",
     "text": [
      "hello\n"
     ]
    }
   ],
   "source": [
    "print(\"hello\")"
   ]
  },
  {
   "cell_type": "code",
   "execution_count": 13,
   "metadata": {},
   "outputs": [
    {
     "data": {
      "text/plain": [
       "10300"
      ]
     },
     "execution_count": 13,
     "metadata": {},
     "output_type": "execute_result"
    }
   ],
   "source": [
    "(60+43)*100"
   ]
  },
  {
   "cell_type": "code",
   "execution_count": 14,
   "metadata": {},
   "outputs": [
    {
     "data": {
      "text/plain": [
       "171.66666666666666"
      ]
     },
     "execution_count": 14,
     "metadata": {},
     "output_type": "execute_result"
    }
   ],
   "source": [
    "10300 / 60"
   ]
  },
  {
   "cell_type": "code",
   "execution_count": 15,
   "metadata": {},
   "outputs": [],
   "source": [
    "import sys"
   ]
  },
  {
   "cell_type": "code",
   "execution_count": 20,
   "metadata": {},
   "outputs": [
    {
     "data": {
      "text/plain": [
       "86401632"
      ]
     },
     "execution_count": 20,
     "metadata": {},
     "output_type": "execute_result"
    }
   ],
   "source": [
    "sys.getsizeof(y)"
   ]
  },
  {
   "cell_type": "code",
   "execution_count": 22,
   "metadata": {},
   "outputs": [
    {
     "data": {
      "text/plain": [
       "86.401632"
      ]
     },
     "execution_count": 22,
     "metadata": {},
     "output_type": "execute_result"
    }
   ],
   "source": [
    "sys.getsizeof(y) / 1E6"
   ]
  },
  {
   "cell_type": "code",
   "execution_count": null,
   "metadata": {},
   "outputs": [],
   "source": []
  }
 ],
 "metadata": {
  "kernelspec": {
   "display_name": "project-daredevil",
   "language": "python",
   "name": "project-daredevil"
  },
  "language_info": {
   "codemirror_mode": {
    "name": "ipython",
    "version": 3
   },
   "file_extension": ".py",
   "mimetype": "text/x-python",
   "name": "python",
   "nbconvert_exporter": "python",
   "pygments_lexer": "ipython3",
   "version": "3.6.9"
  }
 },
 "nbformat": 4,
 "nbformat_minor": 4
}
