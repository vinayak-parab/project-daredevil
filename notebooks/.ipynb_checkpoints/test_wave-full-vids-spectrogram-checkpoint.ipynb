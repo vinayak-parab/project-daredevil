{
 "cells": [
  {
   "cell_type": "code",
   "execution_count": 1,
   "metadata": {},
   "outputs": [],
   "source": [
    "import numpy as np\n"
   ]
  },
  {
   "cell_type": "code",
   "execution_count": 2,
   "metadata": {},
   "outputs": [],
   "source": [
    "root_dir = \"/work/oarongve/data/sound_dataset/SoccerNet-code/data/\"\n",
    "Validlist = np.load(\"/work/oarongve/data/sound_dataset/SoccerNet-code/data/listgame_Valid_100.npy\")\n",
    "Testlist = np.load(\"/work/oarongve/data/sound_dataset/SoccerNet-code/data/listgame_Test_100.npy\")\n",
    "Trainlist = np.load(\"/work/oarongve/data/sound_dataset/SoccerNet-code/data/listgame_Train_300.npy\")"
   ]
  },
  {
   "cell_type": "code",
   "execution_count": 3,
   "metadata": {},
   "outputs": [],
   "source": [
    "import os, sys"
   ]
  },
  {
   "cell_type": "code",
   "execution_count": 4,
   "metadata": {},
   "outputs": [
    {
     "name": "stderr",
     "output_type": "stream",
     "text": [
      "/home/oarongve/.local/share/virtualenvs/project-daredevil-8eBKzQn6/lib/python3.6/site-packages/torchaudio/backend/utils.py:54: UserWarning: \"sox\" backend is being deprecated. The default backend will be changed to \"sox_io\" backend in 0.8.0 and \"sox\" backend will be removed in 0.9.0. Please migrate to \"sox_io\" backend. Please refer to https://github.com/pytorch/audio/issues/903 for the detail.\n",
      "  '\"sox\" backend is being deprecated. '\n"
     ]
    }
   ],
   "source": [
    "import torchaudio, torch"
   ]
  },
  {
   "cell_type": "code",
   "execution_count": 5,
   "metadata": {},
   "outputs": [
    {
     "name": "stdout",
     "output_type": "stream",
     "text": [
      "/home/oarongve/.local/share/virtualenvs/project-daredevil-8eBKzQn6/bin/python3\n"
     ]
    }
   ],
   "source": [
    "%%bash\n",
    "which python3"
   ]
  },
  {
   "cell_type": "code",
   "execution_count": 6,
   "metadata": {},
   "outputs": [],
   "source": [
    "import json\n",
    "import numpy\n",
    "\n",
    "def samples_by_language(path_to_language_dict, path_to_sample_list,lang='all'):\n",
    "    samples = list()\n",
    "    with open(path_to_language_dict) as file:\n",
    "        language_annotations = json.load(file)\n",
    "    \n",
    "    sample_list = np.load(path_to_sample_list)\n",
    "    \n",
    "    for s in sample_list:\n",
    "        if lang == 'all':\n",
    "            samples.append(s)\n",
    "        else:\n",
    "            if lang == language_annotations[s]:\n",
    "                samples.append(s)\n",
    "                \n",
    "    return samples"
   ]
  },
  {
   "cell_type": "code",
   "execution_count": 7,
   "metadata": {},
   "outputs": [],
   "source": [
    "langpath = '/work/oarongve/project-daredevil/project-daredevil/language-annotations/annotations/train_lang_dict.json'\n",
    "sample_path = '/work/oarongve/data/sound_dataset/SoccerNet-code/data/listgame_Train_300.npy'\n",
    "\n",
    "samples = samples_by_language(langpath,sample_path,'eng')"
   ]
  },
  {
   "cell_type": "code",
   "execution_count": 123,
   "metadata": {},
   "outputs": [],
   "source": [
    "\n",
    "\n",
    "# dataset for sound\n",
    "from torch.utils.data import Dataset, DataLoader\n",
    "import numpy as np\n",
    "import torch\n",
    "import os\n",
    "import json\n",
    "import torchvision\n",
    "import datetime\n",
    "from subprocess import Popen, PIPE\n",
    "import re\n",
    "\n",
    "class soccernet_dataset_sound(Dataset):\n",
    "    \"\"\"Soccernet Dataset\"\"\"\n",
    "    \n",
    "    def __init__(self,npy_file,\n",
    "                 root_dir,lang,lang_dict):\n",
    "        \n",
    "        ## Todo : add option for resnet\n",
    "        self.npy_file = np.load(npy_file)\n",
    "        self.samples = list()\n",
    "        self.lang_sub_samples = self._samples_by_language(lang_dict,self.npy_file,lang)\n",
    "        self.root_dir = root_dir\n",
    "        self.waves = dict()\n",
    "        self.ms = dict()\n",
    "        self.mfcc = dict()\n",
    "        self.resnet = dict()\n",
    "        \n",
    "        for e in self.lang_sub_samples:\n",
    "            path, annotations = self.get_annotations(e)\n",
    "            language = self.get_lang_label(e)\n",
    "            duration1 = self._getVideoLength(self.root_dir + e + \"/1.mkv\")\n",
    "            print(duration1)\n",
    "            duration2 = self._getVideoLength(self.root_dir + e + \"/2.mkv\")\n",
    "            \n",
    "            for annotation in annotations:\n",
    "                # Check that annotations hold correct labels\n",
    "                        if (\"card\" in annotation[\"label\"]) or (\"subs\" in annotation[\"label\"]) or (\"soccer\" in annotation[\"label\"]):\n",
    "                            self.samples.append([path,annotation,\"soccernet\",language,(duration1,duration2)])\n",
    "\n",
    "\n",
    "    def __len__(self):\n",
    "        return len(self.samples)\n",
    "    \n",
    "    def _getVideoLength(self,video_file):\n",
    "        res = Popen(['ffmpeg', '-i', video_file, '-hide_banner'],stdout=PIPE,stderr=PIPE)\n",
    "        none,meta = res.communicate()\n",
    "        meta_out = meta.decode()\n",
    "        #---| Take out info\n",
    "        duration = re.search(r'Duration:.*', meta_out)\n",
    "        return duration.group()[:21]\n",
    "    \n",
    "    def _samples_by_language(self,path_to_language_dict, sample_list,lang='all'):\n",
    "        samples = list()\n",
    "        with open(path_to_language_dict) as file:\n",
    "            language_annotations = json.load(file)\n",
    "\n",
    "        for s in sample_list:\n",
    "            if lang == 'all':\n",
    "                samples.append(s)\n",
    "            else:\n",
    "                if lang == language_annotations[s]:\n",
    "                    samples.append(s)\n",
    "\n",
    "        return samples\n",
    "\n",
    "    def __getitem__(self,idx):\n",
    "        \"\"\"Returns a sample containing video path, clip and label\"\"\"\n",
    "        if torch.is_tensor(idx):\n",
    "            idx.tolist()\n",
    "        \n",
    "        # get annotations\n",
    "        time_half = int(self.samples[idx][1][\"gameTime\"][0])\n",
    "        time_minute = int(self.samples[idx][1][\"gameTime\"][-5:-3])\n",
    "        time_second = int(self.samples[idx][1][\"gameTime\"][-2:])\n",
    "        annotation = self.samples[idx][1]\n",
    "        \n",
    "        if time_half == 1:\n",
    "            duration_raw = self.samples[idx][4][0]\n",
    "        elif time_half == 2:\n",
    "            duration_raw = self.samples[idx][4][1]\n",
    "        else:\n",
    "            return \"Error in time_half\"\n",
    "\n",
    "        duration_min = int(duration_raw[-8:-6])\n",
    "        duration_sec = int(duration_raw[-5:-3])\n",
    "        duration = (duration_min * 60) + duration_sec\n",
    "        # Get label\n",
    "        if (\"card\" in annotation[\"label\"]): label = 0\n",
    "        elif (\"subs\" in annotation[\"label\"]): label = 1\n",
    "        elif (\"soccer\" in annotation[\"label\"]): label = 2\n",
    "        elif (\"background\" in annotation[\"label\"]): label = 3\n",
    "        else: \n",
    "            print(\"Warning, label not compatible with set\")\n",
    "            return\n",
    "        \n",
    "        seconds_spot = (time_minute*60) + time_second\n",
    "            \n",
    "        vidpath = str(self.samples[idx][0])\n",
    "        \n",
    "        print(time_half)\n",
    "        wave = self.waves.get(vidpath)[time_half - 1] # Convert to time for waves\n",
    "        ms = self.ms.get(vidpath)[time_half - 1] # Convert to time for waves\n",
    "        resnet_features = self.resnet.get(vidpath)[time_half - 1]\n",
    "        \n",
    "        # ,seconds_spot,window_size_seconds,duration_seconds,sr=2,window_position=None):\n",
    "        wave_idx = self._get_wave_idx_for_sample(seconds_spot = seconds_spot,duration_seconds=duration,window_size_seconds=4) # Consider addition of window options\n",
    "        ms_idx = self._get_ms_idx_for_sample(seconds_spot = seconds_spot,duration_seconds=duration,window_size_seconds=4)\n",
    "        resnet_idx = self._get_resnet_idx_for_sample(seconds_spot = seconds_spot,duration_seconds=duration,window_size_seconds=4)\n",
    "        # todo\n",
    "        mfcc_idx = None\n",
    "\n",
    "        # Todo:\n",
    "        # pointer to generated mel_sepctrogram and mfcc's\n",
    "        # generate mel_spectrogram time conversion, and mfcc.\n",
    "        # Test for classification\n",
    "        # Add window capability\n",
    "        # Add window forward or backwards\n",
    "        # use for state of the art \n",
    "        \n",
    "        sample = {'vidpath': vidpath,\n",
    "                  'annotation':annotation,\n",
    "                  'duration:': duration,\n",
    "                  'label':label,\n",
    "                  'lang':self.samples[idx][3],\n",
    "                  'idx':idx,\n",
    "                  'waves': wave, 'wave_idx': wave_idx,\n",
    "                  'ms':ms, 'ms_idx':ms_idx,'ms_info':None,\n",
    "                  'mfcc':None, 'mfcc_idx':mfcc_idx,'mfcc_info':None,\n",
    "                  'resnet':None}\n",
    "        \n",
    "        return sample\n",
    "            \n",
    "    def get_annotations(self,path):\n",
    "        \"\"\" Reads json files and returns \"\"\"\n",
    "        with open(self.root_dir+path+\"/Labels.json\") as jsonfile:\n",
    "            json_label = json.load(jsonfile)\n",
    "        \n",
    "        labels = [e for e in json_label['annotations']]\n",
    "        \n",
    "        return path,labels\n",
    "    \n",
    "\n",
    "    def get_lang_label(self,path):\n",
    "        \"\"\" Reads json files and returns \"\"\"\n",
    "        with open(self.root_dir+path+\"/lang_label_test.json\") as jsonfile:\n",
    "            json_label = json.load(jsonfile)\n",
    "        \n",
    "        return json_label\n",
    "    \n",
    "    def load_waves(self):\n",
    "        if self.lang_sub_samples:\n",
    "            for path in self.lang_sub_samples:\n",
    "                half1 = np.load(self.root_dir+path+\"/1_wave.npy\")\n",
    "                half2 = np.load(self.root_dir+path+\"/2_wave.npy\")\n",
    "                self.waves[path] = (half1,half2)\n",
    "        else:\n",
    "            print(\"Already loaded!\")\n",
    "    \n",
    "    def load_resnet_features(self):\n",
    "        if self.lang_sub_samples:\n",
    "            for path in self.lang_sub_samples:\n",
    "                half1 = np.load(self.root_dir+path+\"/1_ResNET_PCA512.npy\")\n",
    "                half2 = np.load(self.root_dir+path+\"/2_ResNET_PCA512.npy\")\n",
    "                self.resnet[path] = (half1,half2)\n",
    "        else:\n",
    "            print(\"Already loaded!\")\n",
    "            \n",
    "    def generate_mel_spectrograms(self, sr=16000, win_length=4,n_fft=512,step_size=0.025):\n",
    "        if not bool(self.ms):\n",
    "\n",
    "            SAMPLE_RATE = sr # Should be 16 kHz\n",
    "            WINDOW_LENGTH = int(0.025 * sr) # Should be 25 ms\n",
    "            N_FFT = n_fft # Should be 512\n",
    "            STEP_SIZE = WINDOW_LENGTH # Should be 10ms\n",
    "            \n",
    "            for key in self.waves:\n",
    "                half1 = self.waves[key][0]\n",
    "                half2 = self.waves[key][1]\n",
    "                \n",
    "                ms1 = torchaudio.transforms.MelSpectrogram(sample_rate=SAMPLE_RATE,\n",
    "                                                           win_length=WINDOW_LENGTH,\n",
    "                                                           hop_length=STEP_SIZE,\n",
    "                                                           n_fft=N_FFT)(torch.from_numpy(half1)).log10()\n",
    "                ms2 = torchaudio.transforms.MelSpectrogram(sample_rate=SAMPLE_RATE,\n",
    "                                           win_length=WINDOW_LENGTH,\n",
    "                                           hop_length=STEP_SIZE,\n",
    "                                           n_fft=N_FFT)(torch.from_numpy(half2)).log10()\n",
    "                self.ms[key] = (ms1,ms2)\n",
    "        else:\n",
    "            print(\"Already loaded\")\n",
    "        \n",
    "    def _get_wave_idx_for_sample(self,seconds_spot,window_size_seconds,duration_seconds,sr=16000,window_position=None):\n",
    "        \n",
    "        anchor = seconds_spot * sr\n",
    "        \n",
    "        shift = (window_size_seconds * sr) // 2\n",
    "        \n",
    "        print(type(anchor))\n",
    "        print(type(shift))\n",
    "        # If anchor is at start \n",
    "        if shift > anchor:\n",
    "            start = 0\n",
    "            end = start + (shift * 2)\n",
    "        \n",
    "            # if anchor is at the end\n",
    "        elif (anchor + shift) >= ((duration_seconds * sr) - 1):\n",
    "            end = ((duration_seconds * sr) - 1)\n",
    "            start = end - (shift * 2)\n",
    "        \n",
    "        else:\n",
    "            start = anchor - shift\n",
    "            end = anchor + shift\n",
    "        \n",
    "        return (start,end)\n",
    "        \n",
    "        \n",
    "    def _get_ms_idx_for_sample(self,seconds_spot,window_size_seconds,duration_seconds,sr=40,window_position=None):\n",
    "        \n",
    "        anchor = seconds_spot * sr\n",
    "        \n",
    "        shift = (window_size_seconds * sr) // 2\n",
    "        \n",
    "        # If anchor is at start \n",
    "        if shift > anchor:\n",
    "            start = 0\n",
    "            end = start + (shift * 2)\n",
    "        \n",
    "            # if anchor is at the end\n",
    "        elif (anchor + shift) >= ((duration_seconds * sr) - 1):\n",
    "            end = ((duration_seconds * sr) - 1)\n",
    "            start = end - (shift * 2)\n",
    "        \n",
    "        else:\n",
    "            start = anchor - shift\n",
    "            end = anchor + shift\n",
    "        \n",
    "        return (start,end)\n",
    "        \n",
    "    def _get_resnet_idx_for_sample(self,seconds_spot,window_size_seconds,duration_seconds,sr=2,window_position=None):\n",
    "        \n",
    "        anchor = seconds_spot * sr\n",
    "        \n",
    "        shift = (window_size_seconds * sr) // 2\n",
    "        \n",
    "        # If anchor is at start \n",
    "        if shift > anchor:\n",
    "            start = 0\n",
    "            end = start + (shift * 2)\n",
    "        \n",
    "            # if anchor is at the end\n",
    "        elif (anchor + shift) >= ((duration_seconds * sr) - 1):\n",
    "            end = ((duration_seconds * sr) - 1)\n",
    "            start = end - (shift * 2)\n",
    "        \n",
    "        else:\n",
    "            start = anchor - shift\n",
    "            end = anchor + shift\n",
    "        \n",
    "        return (start,end)\n",
    "        \n",
    "\n",
    "    def describe(self):\n",
    "        card = 0\n",
    "        subs = 0\n",
    "        goal = 0\n",
    "        background = 0\n",
    "\n",
    "        for sample in self.samples:\n",
    "            annotation = sample[1]\n",
    "        # Get label\n",
    "            if (\"card\" in annotation[\"label\"]): card += 1\n",
    "            elif (\"subs\" in annotation[\"label\"]): subs +=1\n",
    "            elif (\"soccer\" in annotation[\"label\"]): goal += 1\n",
    "            elif (\"background\" in annotation[\"label\"]): background += 1\n",
    "\n",
    "        print(\"Description of dataset\\n\\n\")\n",
    "        print(\"\\n ********* Classes *********\")\n",
    "        print(\"\\n card = 0\\n subs = 1\\n goals = 2\\n background = 3\")\n",
    "\n",
    "        print(\"\\n ********* Distribution and count *********\")\n",
    "        print(f\"\\n N card: {card} \\n N subs: {subs} \\n N goal: {goal} \\n N background: {background} \\n \\n Total : {card+subs+goal+background}\")\n",
    "        \n",
    "        print(\"\\n\\n ********* Configuration *********\")\n",
    "        print(f\"\\n npy_file: {self.npy_file} \\n tshift: {self.tshift} \\n root_dir: {self.root_dir} \\n transform: {self.transform} \\n frame_center: {self.frame_center} \\n nframes: {self.nframes} \\n stride_frames: {self.stride_frames} \\n background: {self.background}\")\n",
    "        print(\"\\n\\n ********* End of description *********\")"
   ]
  },
  {
   "cell_type": "code",
   "execution_count": 103,
   "metadata": {},
   "outputs": [],
   "source": [
    "Testlist_raw = \"/work/oarongve/data/sound_dataset/SoccerNet-code/data/listgame_Test_100.npy\"\n",
    "langpath = '/work/oarongve/project-daredevil/project-daredevil/language-annotations/annotations/test_lang_dict.json'"
   ]
  },
  {
   "cell_type": "code",
   "execution_count": 104,
   "metadata": {},
   "outputs": [
    {
     "name": "stdout",
     "output_type": "stream",
     "text": [
      "Duration: 00:47:20.00\n",
      "Duration: 00:45:00.00\n",
      "Duration: 00:49:42.49\n",
      "Duration: 00:45:00.00\n",
      "Duration: 00:45:00.00\n",
      "Duration: 00:47:19.00\n",
      "Duration: 00:45:00.00\n",
      "Duration: 00:47:37.00\n",
      "Duration: 00:46:44.00\n",
      "Duration: 00:46:37.00\n",
      "Duration: 00:45:00.00\n",
      "Duration: 00:45:00.00\n",
      "Duration: 00:45:00.00\n",
      "Duration: 00:45:00.00\n",
      "Duration: 00:45:10.00\n",
      "Duration: 00:45:55.00\n",
      "Duration: 00:45:00.00\n",
      "Duration: 00:45:00.00\n",
      "Duration: 00:45:00.00\n",
      "Duration: 00:45:00.00\n",
      "Duration: 00:45:00.00\n",
      "Duration: 00:45:00.00\n",
      "Duration: 00:46:02.00\n",
      "Duration: 00:45:25.36\n",
      "Duration: 00:45:00.00\n",
      "Duration: 00:47:54.00\n"
     ]
    }
   ],
   "source": [
    "ds = soccernet_dataset_sound(npy_file=Testlist_raw,root_dir=root_dir,lang='eng',lang_dict=langpath)"
   ]
  },
  {
   "cell_type": "code",
   "execution_count": 105,
   "metadata": {},
   "outputs": [],
   "source": [
    "ds.load_waves()"
   ]
  },
  {
   "cell_type": "code",
   "execution_count": 106,
   "metadata": {},
   "outputs": [
    {
     "name": "stderr",
     "output_type": "stream",
     "text": [
      "/home/oarongve/.local/share/virtualenvs/project-daredevil-8eBKzQn6/lib/python3.6/site-packages/torchaudio/functional.py:318: UserWarning: At least one mel filterbank has all zero values. The value for `n_mels` (128) may be set too high. Or, the value for `n_freqs` (257) may be set too low.\n",
      "  \"At least one mel filterbank has all zero values. \"\n"
     ]
    }
   ],
   "source": [
    "ds.generate_mel_spectrograms()"
   ]
  },
  {
   "cell_type": "code",
   "execution_count": 116,
   "metadata": {},
   "outputs": [
    {
     "name": "stdout",
     "output_type": "stream",
     "text": [
      "1\n",
      "<class 'int'>\n",
      "<class 'int'>\n"
     ]
    },
    {
     "data": {
      "text/plain": [
       "'england_epl/2015-2016/2015-08-16 - 18-00 Manchester City 3 - 0 Chelsea'"
      ]
     },
     "execution_count": 116,
     "metadata": {},
     "output_type": "execute_result"
    }
   ],
   "source": [
    "ds[0]['vidpath']"
   ]
  },
  {
   "cell_type": "code",
   "execution_count": 119,
   "metadata": {},
   "outputs": [
    {
     "name": "stdout",
     "output_type": "stream",
     "text": [
      "1\n",
      "<class 'int'>\n",
      "<class 'int'>\n"
     ]
    }
   ],
   "source": [
    "testpath = root_dir+ds[0]['vidpath']+\"/1_ResNET_PCA512.npy\""
   ]
  },
  {
   "cell_type": "code",
   "execution_count": 120,
   "metadata": {},
   "outputs": [],
   "source": [
    "k = np.load(testpath)"
   ]
  },
  {
   "cell_type": "code",
   "execution_count": 122,
   "metadata": {},
   "outputs": [
    {
     "data": {
      "text/plain": [
       "5680"
      ]
     },
     "execution_count": 122,
     "metadata": {},
     "output_type": "execute_result"
    }
   ],
   "source": [
    "len(k)"
   ]
  },
  {
   "cell_type": "code",
   "execution_count": 107,
   "metadata": {},
   "outputs": [
    {
     "name": "stdout",
     "output_type": "stream",
     "text": [
      "1\n",
      "<class 'int'>\n",
      "<class 'int'>\n"
     ]
    },
    {
     "data": {
      "text/plain": [
       "tensor([ -8.9601,  -1.0515,  -3.3906,  ...,  -2.3414,  -1.9031, -11.0135])"
      ]
     },
     "execution_count": 107,
     "metadata": {},
     "output_type": "execute_result"
    }
   ],
   "source": [
    "wave_idx = ds[0]['ms']\n",
    "start = wave_idx[0]\n",
    "end = wave_idx[1]\n",
    "end"
   ]
  },
  {
   "cell_type": "code",
   "execution_count": 108,
   "metadata": {},
   "outputs": [],
   "source": [
    "import matplotlib.pyplot as plt"
   ]
  },
  {
   "cell_type": "code",
   "execution_count": 114,
   "metadata": {},
   "outputs": [
    {
     "name": "stdout",
     "output_type": "stream",
     "text": [
      "1\n",
      "<class 'int'>\n",
      "<class 'int'>\n"
     ]
    },
    {
     "data": {
      "text/plain": [
       "{'vidpath': 'england_epl/2015-2016/2015-08-16 - 18-00 Manchester City 3 - 0 Chelsea',\n",
       " 'annotation': {'gameTime': '1 - 31:00',\n",
       "  'label': 'soccer-ball',\n",
       "  'team': 'home'},\n",
       " 'duration:': 2840,\n",
       " 'label': 2,\n",
       " 'lang': {'lang': 'eng'},\n",
       " 'idx': 0,\n",
       " 'waves': array([0., 0., 0., ..., 0., 0., 0.], dtype=float32),\n",
       " 'wave_idx': (29728000, 29792000),\n",
       " 'ms': tensor([[    -inf,     -inf,     -inf,  ...,     -inf,     -inf,     -inf],\n",
       "         [ -8.9601,  -1.0515,  -3.3906,  ...,  -2.3414,  -1.9031, -11.0135],\n",
       "         [ -9.4751,  -1.5665,  -3.9056,  ...,  -2.8565,  -2.4181, -11.5286],\n",
       "         ...,\n",
       "         [ -8.9597,  -2.7937,  -2.9093,  ...,  -1.2906,  -0.9594,  -8.6285],\n",
       "         [ -9.1848,  -3.7162,  -3.2071,  ...,  -2.4415,  -1.5798,  -9.0456],\n",
       "         [-10.2030,  -4.6199,  -5.0895,  ...,  -3.0945,  -2.8226,  -9.6017]]),\n",
       " 'ms_idx': (74320, 74480),\n",
       " 'ms_info': None,\n",
       " 'mfcc': None,\n",
       " 'mfcc_idx': None,\n",
       " 'mfcc_info': None,\n",
       " 'resnet': None}"
      ]
     },
     "execution_count": 114,
     "metadata": {},
     "output_type": "execute_result"
    }
   ],
   "source": [
    "ds[0]"
   ]
  },
  {
   "cell_type": "code",
   "execution_count": 110,
   "metadata": {},
   "outputs": [
    {
     "name": "stdout",
     "output_type": "stream",
     "text": [
      "1\n",
      "<class 'int'>\n",
      "<class 'int'>\n"
     ]
    },
    {
     "data": {
      "text/plain": [
       "(74320, 74480)"
      ]
     },
     "execution_count": 110,
     "metadata": {},
     "output_type": "execute_result"
    }
   ],
   "source": [
    "ds[0]['ms_idx']"
   ]
  },
  {
   "cell_type": "code",
   "execution_count": 113,
   "metadata": {},
   "outputs": [
    {
     "name": "stdout",
     "output_type": "stream",
     "text": [
      "1\n",
      "<class 'int'>\n",
      "<class 'int'>\n",
      "1\n",
      "<class 'int'>\n",
      "<class 'int'>\n",
      "1\n",
      "<class 'int'>\n",
      "<class 'int'>\n"
     ]
    },
    {
     "data": {
      "text/plain": [
       "<matplotlib.image.AxesImage at 0x1554c24b8be0>"
      ]
     },
     "execution_count": 113,
     "metadata": {},
     "output_type": "execute_result"
    },
    {
     "data": {
      "image/png": "[encoded data removed]",
      "text/plain": [
       "<Figure size 432x288 with 1 Axes>"
      ]
     },
     "metadata": {
      "needs_background": "light"
     },
     "output_type": "display_data"
    }
   ],
   "source": [
    "plt.imshow(ds[0]['ms'][:,ds[0]['ms_idx'][0]:ds[0]['ms_idx'][1]])"
   ]
  },
  {
   "cell_type": "code",
   "execution_count": 31,
   "metadata": {},
   "outputs": [
    {
     "name": "stdout",
     "output_type": "stream",
     "text": [
      "2\n"
     ]
    },
    {
     "ename": "NameError",
     "evalue": "name 'get_wave_idx_for_sample' is not defined",
     "output_type": "error",
     "traceback": [
      "\u001b[0;31m---------------------------------------------------------------------------\u001b[0m",
      "\u001b[0;31mNameError\u001b[0m                                 Traceback (most recent call last)",
      "\u001b[0;32m<ipython-input-31-c75851d3cac4>\u001b[0m in \u001b[0;36m<module>\u001b[0;34m\u001b[0m\n\u001b[1;32m      1\u001b[0m \u001b[0;32mimport\u001b[0m \u001b[0mmatplotlib\u001b[0m\u001b[0;34m.\u001b[0m\u001b[0mpyplot\u001b[0m \u001b[0;32mas\u001b[0m \u001b[0mplt\u001b[0m\u001b[0;34m\u001b[0m\u001b[0;34m\u001b[0m\u001b[0m\n\u001b[1;32m      2\u001b[0m \u001b[0;34m\u001b[0m\u001b[0m\n\u001b[0;32m----> 3\u001b[0;31m \u001b[0mds\u001b[0m\u001b[0;34m[\u001b[0m\u001b[0;36m5\u001b[0m\u001b[0;34m]\u001b[0m\u001b[0;34m[\u001b[0m\u001b[0;34m'waves'\u001b[0m\u001b[0;34m]\u001b[0m\u001b[0;34m\u001b[0m\u001b[0;34m\u001b[0m\u001b[0m\n\u001b[0m",
      "\u001b[0;32m<ipython-input-27-389f42581e28>\u001b[0m in \u001b[0;36m__getitem__\u001b[0;34m(self, idx)\u001b[0m\n\u001b[1;32m     78\u001b[0m         \u001b[0mprint\u001b[0m\u001b[0;34m(\u001b[0m\u001b[0mtime_half\u001b[0m\u001b[0;34m)\u001b[0m\u001b[0;34m\u001b[0m\u001b[0;34m\u001b[0m\u001b[0m\n\u001b[1;32m     79\u001b[0m         \u001b[0mwave\u001b[0m \u001b[0;34m=\u001b[0m \u001b[0mself\u001b[0m\u001b[0;34m.\u001b[0m\u001b[0mwaves\u001b[0m\u001b[0;34m.\u001b[0m\u001b[0mget\u001b[0m\u001b[0;34m(\u001b[0m\u001b[0mvidpath\u001b[0m\u001b[0;34m)\u001b[0m\u001b[0;34m[\u001b[0m\u001b[0mtime_half\u001b[0m \u001b[0;34m-\u001b[0m \u001b[0;36m1\u001b[0m\u001b[0;34m]\u001b[0m \u001b[0;31m# Convert to time for waves\u001b[0m\u001b[0;34m\u001b[0m\u001b[0;34m\u001b[0m\u001b[0m\n\u001b[0;32m---> 80\u001b[0;31m         \u001b[0mwave_idx\u001b[0m \u001b[0;34m=\u001b[0m \u001b[0mget_wave_idx_for_sample\u001b[0m\u001b[0;34m(\u001b[0m\u001b[0;34m)\u001b[0m\u001b[0;34m\u001b[0m\u001b[0;34m\u001b[0m\u001b[0m\n\u001b[0m\u001b[1;32m     81\u001b[0m \u001b[0;34m\u001b[0m\u001b[0m\n\u001b[1;32m     82\u001b[0m         \u001b[0;31m# Todo:\u001b[0m\u001b[0;34m\u001b[0m\u001b[0;34m\u001b[0m\u001b[0;34m\u001b[0m\u001b[0m\n",
      "\u001b[0;31mNameError\u001b[0m: name 'get_wave_idx_for_sample' is not defined"
     ]
    }
   ],
   "source": [
    "import matplotlib.pyplot as plt\n",
    "\n",
    "ds[5]['waves']"
   ]
  },
  {
   "cell_type": "code",
   "execution_count": 92,
   "metadata": {},
   "outputs": [
    {
     "name": "stdout",
     "output_type": "stream",
     "text": [
      "{'vidpath': 'england_epl/2015-2016/2015-08-16 - 18-00 Manchester City 3 - 0 Chelsea', 'annotation': {'gameTime': '1 - 31:00', 'label': 'soccer-ball', 'team': 'home'}, 'label': 2, 'lang': {'lang': 'eng'}, 'idx': 0, 'ms': None, 'ms_info': None, 'mfcc': None, 'mfcc_info': None, 'resnet': None}\n",
      "{'vidpath': 'england_epl/2015-2016/2015-08-16 - 18-00 Manchester City 3 - 0 Chelsea', 'annotation': {'gameTime': '1 - 33:00', 'label': 'y-card', 'team': 'home'}, 'label': 0, 'lang': {'lang': 'eng'}, 'idx': 1, 'ms': None, 'ms_info': None, 'mfcc': None, 'mfcc_info': None, 'resnet': None}\n",
      "{'vidpath': 'england_epl/2015-2016/2015-08-16 - 18-00 Manchester City 3 - 0 Chelsea', 'annotation': {'gameTime': '1 - 46:20', 'label': 'y-card', 'team': 'home'}, 'label': 0, 'lang': {'lang': 'eng'}, 'idx': 2, 'ms': None, 'ms_info': None, 'mfcc': None, 'mfcc_info': None, 'resnet': None}\n",
      "{'vidpath': 'england_epl/2015-2016/2015-08-16 - 18-00 Manchester City 3 - 0 Chelsea', 'annotation': {'gameTime': '2 - 00:00', 'label': 'substitution-in', 'team': 'away'}, 'label': 1, 'lang': {'lang': 'eng'}, 'idx': 3, 'ms': None, 'ms_info': None, 'mfcc': None, 'mfcc_info': None, 'resnet': None}\n",
      "{'vidpath': 'england_epl/2015-2016/2015-08-16 - 18-00 Manchester City 3 - 0 Chelsea', 'annotation': {'gameTime': '2 - 02:12', 'label': 'y-card', 'team': 'away'}, 'label': 0, 'lang': {'lang': 'eng'}, 'idx': 4, 'ms': None, 'ms_info': None, 'mfcc': None, 'mfcc_info': None, 'resnet': None}\n",
      "{'vidpath': 'england_epl/2015-2016/2015-08-16 - 18-00 Manchester City 3 - 0 Chelsea', 'annotation': {'gameTime': '2 - 05:56', 'label': 'y-card', 'team': 'home'}, 'label': 0, 'lang': {'lang': 'eng'}, 'idx': 5, 'ms': None, 'ms_info': None, 'mfcc': None, 'mfcc_info': None, 'resnet': None}\n",
      "{'vidpath': 'england_epl/2015-2016/2015-08-16 - 18-00 Manchester City 3 - 0 Chelsea', 'annotation': {'gameTime': '2 - 18:35', 'label': 'substitution-in', 'team': 'away'}, 'label': 1, 'lang': {'lang': 'eng'}, 'idx': 6, 'ms': None, 'ms_info': None, 'mfcc': None, 'mfcc_info': None, 'resnet': None}\n",
      "{'vidpath': 'england_epl/2015-2016/2015-08-16 - 18-00 Manchester City 3 - 0 Chelsea', 'annotation': {'gameTime': '2 - 19:58', 'label': 'substitution-in', 'team': 'home'}, 'label': 1, 'lang': {'lang': 'eng'}, 'idx': 7, 'ms': None, 'ms_info': None, 'mfcc': None, 'mfcc_info': None, 'resnet': None}\n",
      "{'vidpath': 'england_epl/2015-2016/2015-08-16 - 18-00 Manchester City 3 - 0 Chelsea', 'annotation': {'gameTime': '2 - 33:15', 'label': 'substitution-in', 'team': 'home'}, 'label': 1, 'lang': {'lang': 'eng'}, 'idx': 8, 'ms': None, 'ms_info': None, 'mfcc': None, 'mfcc_info': None, 'resnet': None}\n",
      "{'vidpath': 'england_epl/2015-2016/2015-08-16 - 18-00 Manchester City 3 - 0 Chelsea', 'annotation': {'gameTime': '2 - 33:28', 'label': 'substitution-in', 'team': 'away'}, 'label': 1, 'lang': {'lang': 'eng'}, 'idx': 9, 'ms': None, 'ms_info': None, 'mfcc': None, 'mfcc_info': None, 'resnet': None}\n",
      "{'vidpath': 'england_epl/2015-2016/2015-08-16 - 18-00 Manchester City 3 - 0 Chelsea', 'annotation': {'gameTime': '2 - 33:43', 'label': 'soccer-ball', 'team': 'home'}, 'label': 2, 'lang': {'lang': 'eng'}, 'idx': 10, 'ms': None, 'ms_info': None, 'mfcc': None, 'mfcc_info': None, 'resnet': None}\n",
      "{'vidpath': 'england_epl/2015-2016/2015-08-16 - 18-00 Manchester City 3 - 0 Chelsea', 'annotation': {'gameTime': '2 - 35:30', 'label': 'y-card', 'team': 'away'}, 'label': 0, 'lang': {'lang': 'eng'}, 'idx': 11, 'ms': None, 'ms_info': None, 'mfcc': None, 'mfcc_info': None, 'resnet': None}\n",
      "{'vidpath': 'england_epl/2015-2016/2015-08-16 - 18-00 Manchester City 3 - 0 Chelsea', 'annotation': {'gameTime': '2 - 37:58', 'label': 'substitution-in', 'team': 'home'}, 'label': 1, 'lang': {'lang': 'eng'}, 'idx': 12, 'ms': None, 'ms_info': None, 'mfcc': None, 'mfcc_info': None, 'resnet': None}\n",
      "{'vidpath': 'england_epl/2015-2016/2015-08-16 - 18-00 Manchester City 3 - 0 Chelsea', 'annotation': {'gameTime': '2 - 39:12', 'label': 'soccer-ball', 'team': 'home'}, 'label': 2, 'lang': {'lang': 'eng'}, 'idx': 13, 'ms': None, 'ms_info': None, 'mfcc': None, 'mfcc_info': None, 'resnet': None}\n",
      "{'vidpath': 'england_epl/2015-2016/2015-08-16 - 18-00 Manchester City 3 - 0 Chelsea', 'annotation': {'gameTime': '2 - 45:50', 'label': 'y-card', 'team': 'home'}, 'label': 0, 'lang': {'lang': 'eng'}, 'idx': 14, 'ms': None, 'ms_info': None, 'mfcc': None, 'mfcc_info': None, 'resnet': None}\n",
      "{'vidpath': 'england_epl/2015-2016/2015-08-23 - 15-30 West Brom 2 - 3 Chelsea', 'annotation': {'gameTime': '1 - 16:09', 'label': 'y-card', 'team': 'away'}, 'label': 0, 'lang': {'lang': 'eng'}, 'idx': 15, 'ms': None, 'ms_info': None, 'mfcc': None, 'mfcc_info': None, 'resnet': None}\n",
      "{'vidpath': 'england_epl/2015-2016/2015-08-23 - 15-30 West Brom 2 - 3 Chelsea', 'annotation': {'gameTime': '1 - 19:29', 'label': 'soccer-ball', 'team': 'away'}, 'label': 2, 'lang': {'lang': 'eng'}, 'idx': 16, 'ms': None, 'ms_info': None, 'mfcc': None, 'mfcc_info': None, 'resnet': None}\n",
      "{'vidpath': 'england_epl/2015-2016/2015-08-23 - 15-30 West Brom 2 - 3 Chelsea', 'annotation': {'gameTime': '1 - 29:09', 'label': 'soccer-ball', 'team': 'away'}, 'label': 2, 'lang': {'lang': 'eng'}, 'idx': 17, 'ms': None, 'ms_info': None, 'mfcc': None, 'mfcc_info': None, 'resnet': None}\n",
      "{'vidpath': 'england_epl/2015-2016/2015-08-23 - 15-30 West Brom 2 - 3 Chelsea', 'annotation': {'gameTime': '1 - 34:50', 'label': 'soccer-ball', 'team': 'home'}, 'label': 2, 'lang': {'lang': 'eng'}, 'idx': 18, 'ms': None, 'ms_info': None, 'mfcc': None, 'mfcc_info': None, 'resnet': None}\n",
      "{'vidpath': 'england_epl/2015-2016/2015-08-23 - 15-30 West Brom 2 - 3 Chelsea', 'annotation': {'gameTime': '1 - 36:02', 'label': 'y-card', 'team': 'home'}, 'label': 0, 'lang': {'lang': 'eng'}, 'idx': 19, 'ms': None, 'ms_info': None, 'mfcc': None, 'mfcc_info': None, 'resnet': None}\n",
      "{'vidpath': 'england_epl/2015-2016/2015-08-23 - 15-30 West Brom 2 - 3 Chelsea', 'annotation': {'gameTime': '1 - 41:39', 'label': 'soccer-ball', 'team': 'away'}, 'label': 2, 'lang': {'lang': 'eng'}, 'idx': 20, 'ms': None, 'ms_info': None, 'mfcc': None, 'mfcc_info': None, 'resnet': None}\n",
      "{'vidpath': 'england_epl/2015-2016/2015-08-23 - 15-30 West Brom 2 - 3 Chelsea', 'annotation': {'gameTime': '2 - 08:21', 'label': 'r-card', 'team': 'away'}, 'label': 0, 'lang': {'lang': 'eng'}, 'idx': 21, 'ms': None, 'ms_info': None, 'mfcc': None, 'mfcc_info': None, 'resnet': None}\n",
      "{'vidpath': 'england_epl/2015-2016/2015-08-23 - 15-30 West Brom 2 - 3 Chelsea', 'annotation': {'gameTime': '2 - 10:09', 'label': 'substitution-in', 'team': 'away'}, 'label': 1, 'lang': {'lang': 'eng'}, 'idx': 22, 'ms': None, 'ms_info': None, 'mfcc': None, 'mfcc_info': None, 'resnet': None}\n",
      "{'vidpath': 'england_epl/2015-2016/2015-08-23 - 15-30 West Brom 2 - 3 Chelsea', 'annotation': {'gameTime': '2 - 13:33', 'label': 'soccer-ball', 'team': 'home'}, 'label': 2, 'lang': {'lang': 'eng'}, 'idx': 23, 'ms': None, 'ms_info': None, 'mfcc': None, 'mfcc_info': None, 'resnet': None}\n",
      "{'vidpath': 'england_epl/2015-2016/2015-08-23 - 15-30 West Brom 2 - 3 Chelsea', 'annotation': {'gameTime': '2 - 14:23', 'label': 'substitution-in', 'team': 'home'}, 'label': 1, 'lang': {'lang': 'eng'}, 'idx': 24, 'ms': None, 'ms_info': None, 'mfcc': None, 'mfcc_info': None, 'resnet': None}\n",
      "{'vidpath': 'england_epl/2015-2016/2015-08-23 - 15-30 West Brom 2 - 3 Chelsea', 'annotation': {'gameTime': '2 - 25:21', 'label': 'y-card', 'team': 'home'}, 'label': 0, 'lang': {'lang': 'eng'}, 'idx': 25, 'ms': None, 'ms_info': None, 'mfcc': None, 'mfcc_info': None, 'resnet': None}\n",
      "{'vidpath': 'england_epl/2015-2016/2015-08-23 - 15-30 West Brom 2 - 3 Chelsea', 'annotation': {'gameTime': '2 - 32:16', 'label': 'substitution-in', 'team': 'away'}, 'label': 1, 'lang': {'lang': 'eng'}, 'idx': 26, 'ms': None, 'ms_info': None, 'mfcc': None, 'mfcc_info': None, 'resnet': None}\n",
      "{'vidpath': 'england_epl/2015-2016/2015-08-23 - 15-30 West Brom 2 - 3 Chelsea', 'annotation': {'gameTime': '2 - 32:18', 'label': 'substitution-in', 'team': 'home'}, 'label': 1, 'lang': {'lang': 'eng'}, 'idx': 27, 'ms': None, 'ms_info': None, 'mfcc': None, 'mfcc_info': None, 'resnet': None}\n",
      "{'vidpath': 'england_epl/2015-2016/2015-08-23 - 15-30 West Brom 2 - 3 Chelsea', 'annotation': {'gameTime': '2 - 38:55', 'label': 'substitution-in', 'team': 'away'}, 'label': 1, 'lang': {'lang': 'eng'}, 'idx': 28, 'ms': None, 'ms_info': None, 'mfcc': None, 'mfcc_info': None, 'resnet': None}\n",
      "{'vidpath': 'england_epl/2015-2016/2015-08-23 - 15-30 West Brom 2 - 3 Chelsea', 'annotation': {'gameTime': '2 - 42:28', 'label': 'substitution-in', 'team': 'home'}, 'label': 1, 'lang': {'lang': 'eng'}, 'idx': 29, 'ms': None, 'ms_info': None, 'mfcc': None, 'mfcc_info': None, 'resnet': None}\n",
      "{'vidpath': 'england_epl/2015-2016/2015-08-29 - 17-00 Liverpool 0 - 3 West Ham', 'annotation': {'gameTime': '1 - 02:24', 'label': 'soccer-ball', 'team': 'away'}, 'label': 2, 'lang': {'lang': 'eng'}, 'idx': 30, 'ms': None, 'ms_info': None, 'mfcc': None, 'mfcc_info': None, 'resnet': None}\n",
      "{'vidpath': 'england_epl/2015-2016/2015-08-29 - 17-00 Liverpool 0 - 3 West Ham', 'annotation': {'gameTime': '1 - 28:20', 'label': 'soccer-ball', 'team': 'away'}, 'label': 2, 'lang': {'lang': 'eng'}, 'idx': 31, 'ms': None, 'ms_info': None, 'mfcc': None, 'mfcc_info': None, 'resnet': None}\n",
      "{'vidpath': 'england_epl/2015-2016/2015-08-29 - 17-00 Liverpool 0 - 3 West Ham', 'annotation': {'gameTime': '1 - 37:47', 'label': 'y-card', 'team': 'away'}, 'label': 0, 'lang': {'lang': 'eng'}, 'idx': 32, 'ms': None, 'ms_info': None, 'mfcc': None, 'mfcc_info': None, 'resnet': None}\n",
      "{'vidpath': 'england_epl/2015-2016/2015-08-29 - 17-00 Liverpool 0 - 3 West Ham', 'annotation': {'gameTime': '1 - 48:48', 'label': 'y-card', 'team': 'home'}, 'label': 0, 'lang': {'lang': 'eng'}, 'idx': 33, 'ms': None, 'ms_info': None, 'mfcc': None, 'mfcc_info': None, 'resnet': None}\n",
      "{'vidpath': 'england_epl/2015-2016/2015-08-29 - 17-00 Liverpool 0 - 3 West Ham', 'annotation': {'gameTime': '2 - 00:00', 'label': 'substitution-in', 'team': 'home'}, 'label': 1, 'lang': {'lang': 'eng'}, 'idx': 34, 'ms': None, 'ms_info': None, 'mfcc': None, 'mfcc_info': None, 'resnet': None}\n",
      "{'vidpath': 'england_epl/2015-2016/2015-08-29 - 17-00 Liverpool 0 - 3 West Ham', 'annotation': {'gameTime': '2 - 06:31', 'label': 'yr-card', 'team': 'home'}, 'label': 0, 'lang': {'lang': 'eng'}, 'idx': 35, 'ms': None, 'ms_info': None, 'mfcc': None, 'mfcc_info': None, 'resnet': None}\n",
      "{'vidpath': 'england_epl/2015-2016/2015-08-29 - 17-00 Liverpool 0 - 3 West Ham', 'annotation': {'gameTime': '2 - 15:16', 'label': 'substitution-in', 'team': 'home'}, 'label': 1, 'lang': {'lang': 'eng'}, 'idx': 36, 'ms': None, 'ms_info': None, 'mfcc': None, 'mfcc_info': None, 'resnet': None}\n",
      "{'vidpath': 'england_epl/2015-2016/2015-08-29 - 17-00 Liverpool 0 - 3 West Ham', 'annotation': {'gameTime': '2 - 24:18', 'label': 'y-card', 'team': 'home'}, 'label': 0, 'lang': {'lang': 'eng'}, 'idx': 37, 'ms': None, 'ms_info': None, 'mfcc': None, 'mfcc_info': None, 'resnet': None}\n",
      "{'vidpath': 'england_epl/2015-2016/2015-08-29 - 17-00 Liverpool 0 - 3 West Ham', 'annotation': {'gameTime': '2 - 32:11', 'label': 'substitution-in', 'team': 'home'}, 'label': 1, 'lang': {'lang': 'eng'}, 'idx': 38, 'ms': None, 'ms_info': None, 'mfcc': None, 'mfcc_info': None, 'resnet': None}\n",
      "{'vidpath': 'england_epl/2015-2016/2015-08-29 - 17-00 Liverpool 0 - 3 West Ham', 'annotation': {'gameTime': '2 - 32:51', 'label': 'r-card', 'team': 'away'}, 'label': 0, 'lang': {'lang': 'eng'}, 'idx': 39, 'ms': None, 'ms_info': None, 'mfcc': None, 'mfcc_info': None, 'resnet': None}\n",
      "{'vidpath': 'england_epl/2015-2016/2015-08-29 - 17-00 Liverpool 0 - 3 West Ham', 'annotation': {'gameTime': '2 - 35:30', 'label': 'y-card', 'team': 'away'}, 'label': 0, 'lang': {'lang': 'eng'}, 'idx': 40, 'ms': None, 'ms_info': None, 'mfcc': None, 'mfcc_info': None, 'resnet': None}\n",
      "{'vidpath': 'england_epl/2015-2016/2015-08-29 - 17-00 Liverpool 0 - 3 West Ham', 'annotation': {'gameTime': '2 - 36:01', 'label': 'substitution-in', 'team': 'away'}, 'label': 1, 'lang': {'lang': 'eng'}, 'idx': 41, 'ms': None, 'ms_info': None, 'mfcc': None, 'mfcc_info': None, 'resnet': None}\n",
      "{'vidpath': 'england_epl/2015-2016/2015-08-29 - 17-00 Liverpool 0 - 3 West Ham', 'annotation': {'gameTime': '2 - 40:12', 'label': 'y-card', 'team': 'home'}, 'label': 0, 'lang': {'lang': 'eng'}, 'idx': 42, 'ms': None, 'ms_info': None, 'mfcc': None, 'mfcc_info': None, 'resnet': None}\n",
      "{'vidpath': 'england_epl/2015-2016/2015-08-29 - 17-00 Liverpool 0 - 3 West Ham', 'annotation': {'gameTime': '2 - 42:14', 'label': 'substitution-in', 'team': 'away'}, 'label': 1, 'lang': {'lang': 'eng'}, 'idx': 43, 'ms': None, 'ms_info': None, 'mfcc': None, 'mfcc_info': None, 'resnet': None}\n",
      "{'vidpath': 'england_epl/2015-2016/2015-08-29 - 17-00 Liverpool 0 - 3 West Ham', 'annotation': {'gameTime': '2 - 45:45', 'label': 'y-card', 'team': 'home'}, 'label': 0, 'lang': {'lang': 'eng'}, 'idx': 44, 'ms': None, 'ms_info': None, 'mfcc': None, 'mfcc_info': None, 'resnet': None}\n",
      "{'vidpath': 'england_epl/2015-2016/2015-08-29 - 17-00 Liverpool 0 - 3 West Ham', 'annotation': {'gameTime': '2 - 46:21', 'label': 'soccer-ball', 'team': 'away'}, 'label': 2, 'lang': {'lang': 'eng'}, 'idx': 45, 'ms': None, 'ms_info': None, 'mfcc': None, 'mfcc_info': None, 'resnet': None}\n",
      "{'vidpath': 'england_epl/2015-2016/2015-08-29 - 17-00 Liverpool 0 - 3 West Ham', 'annotation': {'gameTime': '2 - 50:27', 'label': 'substitution-in', 'team': 'away'}, 'label': 1, 'lang': {'lang': 'eng'}, 'idx': 46, 'ms': None, 'ms_info': None, 'mfcc': None, 'mfcc_info': None, 'resnet': None}\n",
      "{'vidpath': 'england_epl/2015-2016/2015-09-20 - 18-00 Southampton 2 - 3 Manchester United', 'annotation': {'gameTime': '1 - 12:29', 'label': 'soccer-ball', 'team': 'home'}, 'label': 2, 'lang': {'lang': 'eng'}, 'idx': 47, 'ms': None, 'ms_info': None, 'mfcc': None, 'mfcc_info': None, 'resnet': None}\n",
      "{'vidpath': 'england_epl/2015-2016/2015-09-20 - 18-00 Southampton 2 - 3 Manchester United', 'annotation': {'gameTime': '1 - 33:57', 'label': 'soccer-ball', 'team': 'away'}, 'label': 2, 'lang': {'lang': 'eng'}, 'idx': 48, 'ms': None, 'ms_info': None, 'mfcc': None, 'mfcc_info': None, 'resnet': None}\n",
      "{'vidpath': 'england_epl/2015-2016/2015-09-20 - 18-00 Southampton 2 - 3 Manchester United', 'annotation': {'gameTime': '2 - 00:00', 'label': 'substitution-in', 'team': 'away'}, 'label': 1, 'lang': {'lang': 'eng'}, 'idx': 49, 'ms': None, 'ms_info': None, 'mfcc': None, 'mfcc_info': None, 'resnet': None}\n",
      "{'vidpath': 'england_epl/2015-2016/2015-09-20 - 18-00 Southampton 2 - 3 Manchester United', 'annotation': {'gameTime': '2 - 00:00', 'label': 'substitution-in', 'team': 'home'}, 'label': 1, 'lang': {'lang': 'eng'}, 'idx': 50, 'ms': None, 'ms_info': None, 'mfcc': None, 'mfcc_info': None, 'resnet': None}\n",
      "{'vidpath': 'england_epl/2015-2016/2015-09-20 - 18-00 Southampton 2 - 3 Manchester United', 'annotation': {'gameTime': '2 - 05:02', 'label': 'soccer-ball', 'team': 'away'}, 'label': 2, 'lang': {'lang': 'eng'}, 'idx': 51, 'ms': None, 'ms_info': None, 'mfcc': None, 'mfcc_info': None, 'resnet': None}\n",
      "{'vidpath': 'england_epl/2015-2016/2015-09-20 - 18-00 Southampton 2 - 3 Manchester United', 'annotation': {'gameTime': '2 - 10:29', 'label': 'substitution-in', 'team': 'home'}, 'label': 1, 'lang': {'lang': 'eng'}, 'idx': 52, 'ms': None, 'ms_info': None, 'mfcc': None, 'mfcc_info': None, 'resnet': None}\n",
      "{'vidpath': 'england_epl/2015-2016/2015-09-20 - 18-00 Southampton 2 - 3 Manchester United', 'annotation': {'gameTime': '2 - 14:47', 'label': 'substitution-in', 'team': 'away'}, 'label': 1, 'lang': {'lang': 'eng'}, 'idx': 53, 'ms': None, 'ms_info': None, 'mfcc': None, 'mfcc_info': None, 'resnet': None}\n",
      "{'vidpath': 'england_epl/2015-2016/2015-09-20 - 18-00 Southampton 2 - 3 Manchester United', 'annotation': {'gameTime': '2 - 22:44', 'label': 'soccer-ball', 'team': 'away'}, 'label': 2, 'lang': {'lang': 'eng'}, 'idx': 54, 'ms': None, 'ms_info': None, 'mfcc': None, 'mfcc_info': None, 'resnet': None}\n",
      "{'vidpath': 'england_epl/2015-2016/2015-09-20 - 18-00 Southampton 2 - 3 Manchester United', 'annotation': {'gameTime': '2 - 23:35', 'label': 'substitution-in', 'team': 'away'}, 'label': 1, 'lang': {'lang': 'eng'}, 'idx': 55, 'ms': None, 'ms_info': None, 'mfcc': None, 'mfcc_info': None, 'resnet': None}\n",
      "{'vidpath': 'england_epl/2015-2016/2015-09-20 - 18-00 Southampton 2 - 3 Manchester United', 'annotation': {'gameTime': '2 - 27:55', 'label': 'y-card', 'team': 'home'}, 'label': 0, 'lang': {'lang': 'eng'}, 'idx': 56, 'ms': None, 'ms_info': None, 'mfcc': None, 'mfcc_info': None, 'resnet': None}\n",
      "{'vidpath': 'england_epl/2015-2016/2015-09-20 - 18-00 Southampton 2 - 3 Manchester United', 'annotation': {'gameTime': '2 - 30:27', 'label': 'substitution-in', 'team': 'home'}, 'label': 1, 'lang': {'lang': 'eng'}, 'idx': 57, 'ms': None, 'ms_info': None, 'mfcc': None, 'mfcc_info': None, 'resnet': None}\n",
      "{'vidpath': 'england_epl/2015-2016/2015-09-20 - 18-00 Southampton 2 - 3 Manchester United', 'annotation': {'gameTime': '2 - 32:15', 'label': 'y-card', 'team': 'home'}, 'label': 0, 'lang': {'lang': 'eng'}, 'idx': 58, 'ms': None, 'ms_info': None, 'mfcc': None, 'mfcc_info': None, 'resnet': None}\n",
      "{'vidpath': 'england_epl/2015-2016/2015-09-20 - 18-00 Southampton 2 - 3 Manchester United', 'annotation': {'gameTime': '2 - 40:24', 'label': 'soccer-ball', 'team': 'home'}, 'label': 2, 'lang': {'lang': 'eng'}, 'idx': 59, 'ms': None, 'ms_info': None, 'mfcc': None, 'mfcc_info': None, 'resnet': None}\n",
      "{'vidpath': 'england_epl/2015-2016/2015-10-03 - 19-30 Chelsea 1 - 3 Southampton', 'annotation': {'gameTime': '1 - 08:43', 'label': 'y-card', 'team': 'away'}, 'label': 0, 'lang': {'lang': 'eng'}, 'idx': 60, 'ms': None, 'ms_info': None, 'mfcc': None, 'mfcc_info': None, 'resnet': None}\n",
      "{'vidpath': 'england_epl/2015-2016/2015-10-03 - 19-30 Chelsea 1 - 3 Southampton', 'annotation': {'gameTime': '1 - 09:29', 'label': 'soccer-ball', 'team': 'home'}, 'label': 2, 'lang': {'lang': 'eng'}, 'idx': 61, 'ms': None, 'ms_info': None, 'mfcc': None, 'mfcc_info': None, 'resnet': None}\n",
      "{'vidpath': 'england_epl/2015-2016/2015-10-03 - 19-30 Chelsea 1 - 3 Southampton', 'annotation': {'gameTime': '1 - 25:34', 'label': 'y-card', 'team': 'away'}, 'label': 0, 'lang': {'lang': 'eng'}, 'idx': 62, 'ms': None, 'ms_info': None, 'mfcc': None, 'mfcc_info': None, 'resnet': None}\n",
      "{'vidpath': 'england_epl/2015-2016/2015-10-03 - 19-30 Chelsea 1 - 3 Southampton', 'annotation': {'gameTime': '1 - 33:05', 'label': 'y-card', 'team': 'away'}, 'label': 0, 'lang': {'lang': 'eng'}, 'idx': 63, 'ms': None, 'ms_info': None, 'mfcc': None, 'mfcc_info': None, 'resnet': None}\n",
      "{'vidpath': 'england_epl/2015-2016/2015-10-03 - 19-30 Chelsea 1 - 3 Southampton', 'annotation': {'gameTime': '1 - 42:30', 'label': 'y-card', 'team': 'home'}, 'label': 0, 'lang': {'lang': 'eng'}, 'idx': 64, 'ms': None, 'ms_info': None, 'mfcc': None, 'mfcc_info': None, 'resnet': None}\n",
      "{'vidpath': 'england_epl/2015-2016/2015-10-03 - 19-30 Chelsea 1 - 3 Southampton', 'annotation': {'gameTime': '1 - 42:58', 'label': 'soccer-ball', 'team': 'away'}, 'label': 2, 'lang': {'lang': 'eng'}, 'idx': 65, 'ms': None, 'ms_info': None, 'mfcc': None, 'mfcc_info': None, 'resnet': None}\n",
      "{'vidpath': 'england_epl/2015-2016/2015-10-03 - 19-30 Chelsea 1 - 3 Southampton', 'annotation': {'gameTime': '2 - 00:00', 'label': 'substitution-in', 'team': 'away'}, 'label': 1, 'lang': {'lang': 'eng'}, 'idx': 66, 'ms': None, 'ms_info': None, 'mfcc': None, 'mfcc_info': None, 'resnet': None}\n",
      "{'vidpath': 'england_epl/2015-2016/2015-10-03 - 19-30 Chelsea 1 - 3 Southampton', 'annotation': {'gameTime': '2 - 00:00', 'label': 'substitution-in', 'team': 'home'}, 'label': 1, 'lang': {'lang': 'eng'}, 'idx': 67, 'ms': None, 'ms_info': None, 'mfcc': None, 'mfcc_info': None, 'resnet': None}\n",
      "{'vidpath': 'england_epl/2015-2016/2015-10-03 - 19-30 Chelsea 1 - 3 Southampton', 'annotation': {'gameTime': '2 - 11:25', 'label': 'y-card', 'team': 'home'}, 'label': 0, 'lang': {'lang': 'eng'}, 'idx': 68, 'ms': None, 'ms_info': None, 'mfcc': None, 'mfcc_info': None, 'resnet': None}\n",
      "{'vidpath': 'england_epl/2015-2016/2015-10-03 - 19-30 Chelsea 1 - 3 Southampton', 'annotation': {'gameTime': '2 - 14:34', 'label': 'soccer-ball', 'team': 'away'}, 'label': 2, 'lang': {'lang': 'eng'}, 'idx': 69, 'ms': None, 'ms_info': None, 'mfcc': None, 'mfcc_info': None, 'resnet': None}\n",
      "{'vidpath': 'england_epl/2015-2016/2015-10-03 - 19-30 Chelsea 1 - 3 Southampton', 'annotation': {'gameTime': '2 - 18:42', 'label': 'substitution-in', 'team': 'home'}, 'label': 1, 'lang': {'lang': 'eng'}, 'idx': 70, 'ms': None, 'ms_info': None, 'mfcc': None, 'mfcc_info': None, 'resnet': None}\n",
      "{'vidpath': 'england_epl/2015-2016/2015-10-03 - 19-30 Chelsea 1 - 3 Southampton', 'annotation': {'gameTime': '2 - 26:53', 'label': 'soccer-ball', 'team': 'away'}, 'label': 2, 'lang': {'lang': 'eng'}, 'idx': 71, 'ms': None, 'ms_info': None, 'mfcc': None, 'mfcc_info': None, 'resnet': None}\n",
      "{'vidpath': 'england_epl/2015-2016/2015-10-03 - 19-30 Chelsea 1 - 3 Southampton', 'annotation': {'gameTime': '2 - 27:54', 'label': 'substitution-in', 'team': 'home'}, 'label': 1, 'lang': {'lang': 'eng'}, 'idx': 72, 'ms': None, 'ms_info': None, 'mfcc': None, 'mfcc_info': None, 'resnet': None}\n",
      "{'vidpath': 'england_epl/2015-2016/2015-10-03 - 19-30 Chelsea 1 - 3 Southampton', 'annotation': {'gameTime': '2 - 32:00', 'label': 'y-card', 'team': 'away'}, 'label': 0, 'lang': {'lang': 'eng'}, 'idx': 73, 'ms': None, 'ms_info': None, 'mfcc': None, 'mfcc_info': None, 'resnet': None}\n",
      "{'vidpath': 'england_epl/2015-2016/2015-10-03 - 19-30 Chelsea 1 - 3 Southampton', 'annotation': {'gameTime': '2 - 32:11', 'label': 'substitution-in', 'team': 'away'}, 'label': 1, 'lang': {'lang': 'eng'}, 'idx': 74, 'ms': None, 'ms_info': None, 'mfcc': None, 'mfcc_info': None, 'resnet': None}\n",
      "{'vidpath': 'england_epl/2015-2016/2015-10-03 - 19-30 Chelsea 1 - 3 Southampton', 'annotation': {'gameTime': '2 - 40:07', 'label': 'y-card', 'team': 'away'}, 'label': 0, 'lang': {'lang': 'eng'}, 'idx': 75, 'ms': None, 'ms_info': None, 'mfcc': None, 'mfcc_info': None, 'resnet': None}\n",
      "{'vidpath': 'england_epl/2015-2016/2015-10-03 - 19-30 Chelsea 1 - 3 Southampton', 'annotation': {'gameTime': '2 - 46:01', 'label': 'substitution-in', 'team': 'away'}, 'label': 1, 'lang': {'lang': 'eng'}, 'idx': 76, 'ms': None, 'ms_info': None, 'mfcc': None, 'mfcc_info': None, 'resnet': None}\n",
      "{'vidpath': 'england_epl/2015-2016/2015-11-07 - 20-30 Stoke City 1 - 0 Chelsea', 'annotation': {'gameTime': '1 - 43:27', 'label': 'y-card', 'team': 'home'}, 'label': 0, 'lang': {'lang': 'eng'}, 'idx': 77, 'ms': None, 'ms_info': None, 'mfcc': None, 'mfcc_info': None, 'resnet': None}\n",
      "{'vidpath': 'england_epl/2015-2016/2015-11-07 - 20-30 Stoke City 1 - 0 Chelsea', 'annotation': {'gameTime': '1 - 46:19', 'label': 'y-card', 'team': 'away'}, 'label': 0, 'lang': {'lang': 'eng'}, 'idx': 78, 'ms': None, 'ms_info': None, 'mfcc': None, 'mfcc_info': None, 'resnet': None}\n",
      "{'vidpath': 'england_epl/2015-2016/2015-11-07 - 20-30 Stoke City 1 - 0 Chelsea', 'annotation': {'gameTime': '2 - 07:49', 'label': 'soccer-ball', 'team': 'home'}, 'label': 2, 'lang': {'lang': 'eng'}, 'idx': 79, 'ms': None, 'ms_info': None, 'mfcc': None, 'mfcc_info': None, 'resnet': None}\n",
      "{'vidpath': 'england_epl/2015-2016/2015-11-07 - 20-30 Stoke City 1 - 0 Chelsea', 'annotation': {'gameTime': '2 - 11:10', 'label': 'y-card', 'team': 'home'}, 'label': 0, 'lang': {'lang': 'eng'}, 'idx': 80, 'ms': None, 'ms_info': None, 'mfcc': None, 'mfcc_info': None, 'resnet': None}\n",
      "{'vidpath': 'england_epl/2015-2016/2015-11-07 - 20-30 Stoke City 1 - 0 Chelsea', 'annotation': {'gameTime': '2 - 24:45', 'label': 'substitution-in', 'team': 'away'}, 'label': 1, 'lang': {'lang': 'eng'}, 'idx': 81, 'ms': None, 'ms_info': None, 'mfcc': None, 'mfcc_info': None, 'resnet': None}\n",
      "{'vidpath': 'england_epl/2015-2016/2015-11-07 - 20-30 Stoke City 1 - 0 Chelsea', 'annotation': {'gameTime': '2 - 24:54', 'label': 'substitution-in', 'team': 'away'}, 'label': 1, 'lang': {'lang': 'eng'}, 'idx': 82, 'ms': None, 'ms_info': None, 'mfcc': None, 'mfcc_info': None, 'resnet': None}\n",
      "{'vidpath': 'england_epl/2015-2016/2015-11-07 - 20-30 Stoke City 1 - 0 Chelsea', 'annotation': {'gameTime': '2 - 25:23', 'label': 'substitution-in', 'team': 'home'}, 'label': 1, 'lang': {'lang': 'eng'}, 'idx': 83, 'ms': None, 'ms_info': None, 'mfcc': None, 'mfcc_info': None, 'resnet': None}\n",
      "{'vidpath': 'england_epl/2015-2016/2015-11-07 - 20-30 Stoke City 1 - 0 Chelsea', 'annotation': {'gameTime': '2 - 31:08', 'label': 'substitution-in', 'team': 'away'}, 'label': 1, 'lang': {'lang': 'eng'}, 'idx': 84, 'ms': None, 'ms_info': None, 'mfcc': None, 'mfcc_info': None, 'resnet': None}\n",
      "{'vidpath': 'england_epl/2015-2016/2015-11-07 - 20-30 Stoke City 1 - 0 Chelsea', 'annotation': {'gameTime': '2 - 32:59', 'label': 'substitution-in', 'team': 'home'}, 'label': 1, 'lang': {'lang': 'eng'}, 'idx': 85, 'ms': None, 'ms_info': None, 'mfcc': None, 'mfcc_info': None, 'resnet': None}\n",
      "{'vidpath': 'england_epl/2015-2016/2015-11-07 - 20-30 Stoke City 1 - 0 Chelsea', 'annotation': {'gameTime': '2 - 36:05', 'label': 'substitution-in', 'team': 'home'}, 'label': 1, 'lang': {'lang': 'eng'}, 'idx': 86, 'ms': None, 'ms_info': None, 'mfcc': None, 'mfcc_info': None, 'resnet': None}\n",
      "{'vidpath': 'england_epl/2015-2016/2015-11-07 - 20-30 Stoke City 1 - 0 Chelsea', 'annotation': {'gameTime': '2 - 44:57', 'label': 'y-card', 'team': 'home'}, 'label': 0, 'lang': {'lang': 'eng'}, 'idx': 87, 'ms': None, 'ms_info': None, 'mfcc': None, 'mfcc_info': None, 'resnet': None}\n",
      "{'vidpath': 'england_epl/2015-2016/2015-12-28 - 20-30 Manchester United 0 - 0 Chelsea', 'annotation': {'gameTime': '1 - 26:55', 'label': 'y-card', 'team': 'away'}, 'label': 0, 'lang': {'lang': 'eng'}, 'idx': 88, 'ms': None, 'ms_info': None, 'mfcc': None, 'mfcc_info': None, 'resnet': None}\n",
      "{'vidpath': 'england_epl/2015-2016/2015-12-28 - 20-30 Manchester United 0 - 0 Chelsea', 'annotation': {'gameTime': '1 - 29:17', 'label': 'y-card', 'team': 'home'}, 'label': 0, 'lang': {'lang': 'eng'}, 'idx': 89, 'ms': None, 'ms_info': None, 'mfcc': None, 'mfcc_info': None, 'resnet': None}\n",
      "{'vidpath': 'england_epl/2015-2016/2015-12-28 - 20-30 Manchester United 0 - 0 Chelsea', 'annotation': {'gameTime': '1 - 38:57', 'label': 'y-card', 'team': 'home'}, 'label': 0, 'lang': {'lang': 'eng'}, 'idx': 90, 'ms': None, 'ms_info': None, 'mfcc': None, 'mfcc_info': None, 'resnet': None}\n",
      "{'vidpath': 'england_epl/2015-2016/2015-12-28 - 20-30 Manchester United 0 - 0 Chelsea', 'annotation': {'gameTime': '2 - 24:04', 'label': 'substitution-in', 'team': 'away'}, 'label': 1, 'lang': {'lang': 'eng'}, 'idx': 91, 'ms': None, 'ms_info': None, 'mfcc': None, 'mfcc_info': None, 'resnet': None}\n",
      "{'vidpath': 'england_epl/2015-2016/2015-12-28 - 20-30 Manchester United 0 - 0 Chelsea', 'annotation': {'gameTime': '2 - 24:35', 'label': 'substitution-in', 'team': 'home'}, 'label': 1, 'lang': {'lang': 'eng'}, 'idx': 92, 'ms': None, 'ms_info': None, 'mfcc': None, 'mfcc_info': None, 'resnet': None}\n",
      "{'vidpath': 'england_epl/2015-2016/2015-12-28 - 20-30 Manchester United 0 - 0 Chelsea', 'annotation': {'gameTime': '2 - 26:41', 'label': 'y-card', 'team': 'away'}, 'label': 0, 'lang': {'lang': 'eng'}, 'idx': 93, 'ms': None, 'ms_info': None, 'mfcc': None, 'mfcc_info': None, 'resnet': None}\n",
      "{'vidpath': 'england_epl/2015-2016/2015-12-28 - 20-30 Manchester United 0 - 0 Chelsea', 'annotation': {'gameTime': '2 - 31:09', 'label': 'substitution-in', 'team': 'home'}, 'label': 1, 'lang': {'lang': 'eng'}, 'idx': 94, 'ms': None, 'ms_info': None, 'mfcc': None, 'mfcc_info': None, 'resnet': None}\n",
      "{'vidpath': 'england_epl/2015-2016/2015-12-28 - 20-30 Manchester United 0 - 0 Chelsea', 'annotation': {'gameTime': '2 - 35:13', 'label': 'y-card', 'team': 'home'}, 'label': 0, 'lang': {'lang': 'eng'}, 'idx': 95, 'ms': None, 'ms_info': None, 'mfcc': None, 'mfcc_info': None, 'resnet': None}\n",
      "{'vidpath': 'england_epl/2015-2016/2015-12-28 - 20-30 Manchester United 0 - 0 Chelsea', 'annotation': {'gameTime': '2 - 35:33', 'label': 'substitution-in', 'team': 'home'}, 'label': 1, 'lang': {'lang': 'eng'}, 'idx': 96, 'ms': None, 'ms_info': None, 'mfcc': None, 'mfcc_info': None, 'resnet': None}\n",
      "{'vidpath': 'england_epl/2015-2016/2015-12-28 - 20-30 Manchester United 0 - 0 Chelsea', 'annotation': {'gameTime': '2 - 45:30', 'label': 'y-card', 'team': 'home'}, 'label': 0, 'lang': {'lang': 'eng'}, 'idx': 97, 'ms': None, 'ms_info': None, 'mfcc': None, 'mfcc_info': None, 'resnet': None}\n",
      "{'vidpath': 'england_epl/2015-2016/2015-12-28 - 20-30 Manchester United 0 - 0 Chelsea', 'annotation': {'gameTime': '2 - 47:41', 'label': 'substitution-in', 'team': 'away'}, 'label': 1, 'lang': {'lang': 'eng'}, 'idx': 98, 'ms': None, 'ms_info': None, 'mfcc': None, 'mfcc_info': None, 'resnet': None}\n",
      "{'vidpath': 'england_epl/2015-2016/2016-02-03 - 22-45 Watford 0 - 0 Chelsea', 'annotation': {'gameTime': '1 - 18:15', 'label': 'y-card', 'team': 'home'}, 'label': 0, 'lang': {'lang': 'eng'}, 'idx': 99, 'ms': None, 'ms_info': None, 'mfcc': None, 'mfcc_info': None, 'resnet': None}\n",
      "{'vidpath': 'england_epl/2015-2016/2016-02-03 - 22-45 Watford 0 - 0 Chelsea', 'annotation': {'gameTime': '1 - 46:37', 'label': 'y-card', 'team': 'away'}, 'label': 0, 'lang': {'lang': 'eng'}, 'idx': 100, 'ms': None, 'ms_info': None, 'mfcc': None, 'mfcc_info': None, 'resnet': None}\n",
      "{'vidpath': 'england_epl/2015-2016/2016-02-03 - 22-45 Watford 0 - 0 Chelsea', 'annotation': {'gameTime': '1 - 46:23', 'label': 'y-card', 'team': 'home'}, 'label': 0, 'lang': {'lang': 'eng'}, 'idx': 101, 'ms': None, 'ms_info': None, 'mfcc': None, 'mfcc_info': None, 'resnet': None}\n",
      "{'vidpath': 'england_epl/2015-2016/2016-02-03 - 22-45 Watford 0 - 0 Chelsea', 'annotation': {'gameTime': '2 - 18:24', 'label': 'substitution-in', 'team': 'home'}, 'label': 1, 'lang': {'lang': 'eng'}, 'idx': 102, 'ms': None, 'ms_info': None, 'mfcc': None, 'mfcc_info': None, 'resnet': None}\n",
      "{'vidpath': 'england_epl/2015-2016/2016-02-03 - 22-45 Watford 0 - 0 Chelsea', 'annotation': {'gameTime': '2 - 22:18', 'label': 'substitution-in', 'team': 'home'}, 'label': 1, 'lang': {'lang': 'eng'}, 'idx': 103, 'ms': None, 'ms_info': None, 'mfcc': None, 'mfcc_info': None, 'resnet': None}\n",
      "{'vidpath': 'england_epl/2015-2016/2016-02-03 - 22-45 Watford 0 - 0 Chelsea', 'annotation': {'gameTime': '2 - 27:13', 'label': 'substitution-in', 'team': 'away'}, 'label': 1, 'lang': {'lang': 'eng'}, 'idx': 104, 'ms': None, 'ms_info': None, 'mfcc': None, 'mfcc_info': None, 'resnet': None}\n",
      "{'vidpath': 'england_epl/2015-2016/2016-02-03 - 22-45 Watford 0 - 0 Chelsea', 'annotation': {'gameTime': '2 - 40:58', 'label': 'substitution-in', 'team': 'home'}, 'label': 1, 'lang': {'lang': 'eng'}, 'idx': 105, 'ms': None, 'ms_info': None, 'mfcc': None, 'mfcc_info': None, 'resnet': None}\n",
      "{'vidpath': 'england_epl/2015-2016/2016-03-01 - 22-45 Norwich 1 - 2 Chelsea', 'annotation': {'gameTime': '1 - 00:39', 'label': 'soccer-ball', 'team': 'away'}, 'label': 2, 'lang': {'lang': 'eng'}, 'idx': 106, 'ms': None, 'ms_info': None, 'mfcc': None, 'mfcc_info': None, 'resnet': None}\n",
      "{'vidpath': 'england_epl/2015-2016/2016-03-01 - 22-45 Norwich 1 - 2 Chelsea', 'annotation': {'gameTime': '1 - 12:21', 'label': 'y-card', 'team': 'home'}, 'label': 0, 'lang': {'lang': 'eng'}, 'idx': 107, 'ms': None, 'ms_info': None, 'mfcc': None, 'mfcc_info': None, 'resnet': None}\n",
      "{'vidpath': 'england_epl/2015-2016/2016-03-01 - 22-45 Norwich 1 - 2 Chelsea', 'annotation': {'gameTime': '1 - 35:10', 'label': 'substitution-in', 'team': 'home'}, 'label': 1, 'lang': {'lang': 'eng'}, 'idx': 108, 'ms': None, 'ms_info': None, 'mfcc': None, 'mfcc_info': None, 'resnet': None}\n",
      "{'vidpath': 'england_epl/2015-2016/2016-03-01 - 22-45 Norwich 1 - 2 Chelsea', 'annotation': {'gameTime': '1 - 38:15', 'label': 'y-card', 'team': 'home'}, 'label': 0, 'lang': {'lang': 'eng'}, 'idx': 109, 'ms': None, 'ms_info': None, 'mfcc': None, 'mfcc_info': None, 'resnet': None}\n",
      "{'vidpath': 'england_epl/2015-2016/2016-03-01 - 22-45 Norwich 1 - 2 Chelsea', 'annotation': {'gameTime': '1 - 43:38', 'label': 'y-card', 'team': 'away'}, 'label': 0, 'lang': {'lang': 'eng'}, 'idx': 110, 'ms': None, 'ms_info': None, 'mfcc': None, 'mfcc_info': None, 'resnet': None}\n",
      "{'vidpath': 'england_epl/2015-2016/2016-03-01 - 22-45 Norwich 1 - 2 Chelsea', 'annotation': {'gameTime': '1 - 45:44', 'label': 'soccer-ball', 'team': 'away'}, 'label': 2, 'lang': {'lang': 'eng'}, 'idx': 111, 'ms': None, 'ms_info': None, 'mfcc': None, 'mfcc_info': None, 'resnet': None}\n",
      "{'vidpath': 'england_epl/2015-2016/2016-03-01 - 22-45 Norwich 1 - 2 Chelsea', 'annotation': {'gameTime': '2 - 14:25', 'label': 'substitution-in', 'team': 'away'}, 'label': 1, 'lang': {'lang': 'eng'}, 'idx': 112, 'ms': None, 'ms_info': None, 'mfcc': None, 'mfcc_info': None, 'resnet': None}\n",
      "{'vidpath': 'england_epl/2015-2016/2016-03-01 - 22-45 Norwich 1 - 2 Chelsea', 'annotation': {'gameTime': '2 - 14:26', 'label': 'substitution-in', 'team': 'away'}, 'label': 1, 'lang': {'lang': 'eng'}, 'idx': 113, 'ms': None, 'ms_info': None, 'mfcc': None, 'mfcc_info': None, 'resnet': None}\n",
      "{'vidpath': 'england_epl/2015-2016/2016-03-01 - 22-45 Norwich 1 - 2 Chelsea', 'annotation': {'gameTime': '2 - 15:04', 'label': 'substitution-in', 'team': 'home'}, 'label': 1, 'lang': {'lang': 'eng'}, 'idx': 114, 'ms': None, 'ms_info': None, 'mfcc': None, 'mfcc_info': None, 'resnet': None}\n",
      "{'vidpath': 'england_epl/2015-2016/2016-03-01 - 22-45 Norwich 1 - 2 Chelsea', 'annotation': {'gameTime': '2 - 22:23', 'label': 'soccer-ball', 'team': 'home'}, 'label': 2, 'lang': {'lang': 'eng'}, 'idx': 115, 'ms': None, 'ms_info': None, 'mfcc': None, 'mfcc_info': None, 'resnet': None}\n",
      "{'vidpath': 'england_epl/2015-2016/2016-03-01 - 22-45 Norwich 1 - 2 Chelsea', 'annotation': {'gameTime': '2 - 23:09', 'label': 'substitution-in', 'team': 'away'}, 'label': 1, 'lang': {'lang': 'eng'}, 'idx': 116, 'ms': None, 'ms_info': None, 'mfcc': None, 'mfcc_info': None, 'resnet': None}\n",
      "{'vidpath': 'england_epl/2015-2016/2016-03-01 - 22-45 Norwich 1 - 2 Chelsea', 'annotation': {'gameTime': '2 - 27:24', 'label': 'y-card', 'team': 'away'}, 'label': 0, 'lang': {'lang': 'eng'}, 'idx': 117, 'ms': None, 'ms_info': None, 'mfcc': None, 'mfcc_info': None, 'resnet': None}\n",
      "{'vidpath': 'england_epl/2015-2016/2016-03-01 - 22-45 Norwich 1 - 2 Chelsea', 'annotation': {'gameTime': '2 - 30:02', 'label': 'y-card', 'team': 'home'}, 'label': 0, 'lang': {'lang': 'eng'}, 'idx': 118, 'ms': None, 'ms_info': None, 'mfcc': None, 'mfcc_info': None, 'resnet': None}\n",
      "{'vidpath': 'england_epl/2016-2017/2016-08-27 - 14-30 Tottenham 1 - 1 Liverpool', 'annotation': {'gameTime': '1 - 27:07', 'label': 'substitution-in', 'team': 'home'}, 'label': 1, 'lang': {'lang': 'eng'}, 'idx': 119, 'ms': None, 'ms_info': None, 'mfcc': None, 'mfcc_info': None, 'resnet': None}\n",
      "{'vidpath': 'england_epl/2016-2017/2016-08-27 - 14-30 Tottenham 1 - 1 Liverpool', 'annotation': {'gameTime': '1 - 28:28', 'label': 'y-card', 'team': 'home'}, 'label': 0, 'lang': {'lang': 'eng'}, 'idx': 120, 'ms': None, 'ms_info': None, 'mfcc': None, 'mfcc_info': None, 'resnet': None}\n",
      "{'vidpath': 'england_epl/2016-2017/2016-08-27 - 14-30 Tottenham 1 - 1 Liverpool', 'annotation': {'gameTime': '1 - 31:58', 'label': 'y-card', 'team': 'away'}, 'label': 0, 'lang': {'lang': 'eng'}, 'idx': 121, 'ms': None, 'ms_info': None, 'mfcc': None, 'mfcc_info': None, 'resnet': None}\n",
      "{'vidpath': 'england_epl/2016-2017/2016-08-27 - 14-30 Tottenham 1 - 1 Liverpool', 'annotation': {'gameTime': '1 - 42:48', 'label': 'soccer-ball', 'team': 'away'}, 'label': 2, 'lang': {'lang': 'eng'}, 'idx': 122, 'ms': None, 'ms_info': None, 'mfcc': None, 'mfcc_info': None, 'resnet': None}\n",
      "{'vidpath': 'england_epl/2016-2017/2016-08-27 - 14-30 Tottenham 1 - 1 Liverpool', 'annotation': {'gameTime': '1 - 45:37', 'label': 'y-card', 'team': 'away'}, 'label': 0, 'lang': {'lang': 'eng'}, 'idx': 123, 'ms': None, 'ms_info': None, 'mfcc': None, 'mfcc_info': None, 'resnet': None}\n",
      "{'vidpath': 'england_epl/2016-2017/2016-08-27 - 14-30 Tottenham 1 - 1 Liverpool', 'annotation': {'gameTime': '2 - 05:59', 'label': 'y-card', 'team': 'home'}, 'label': 0, 'lang': {'lang': 'eng'}, 'idx': 124, 'ms': None, 'ms_info': None, 'mfcc': None, 'mfcc_info': None, 'resnet': None}\n",
      "{'vidpath': 'england_epl/2016-2017/2016-08-27 - 14-30 Tottenham 1 - 1 Liverpool', 'annotation': {'gameTime': '2 - 17:32', 'label': 'y-card', 'team': 'away'}, 'label': 0, 'lang': {'lang': 'eng'}, 'idx': 125, 'ms': None, 'ms_info': None, 'mfcc': None, 'mfcc_info': None, 'resnet': None}\n",
      "{'vidpath': 'england_epl/2016-2017/2016-08-27 - 14-30 Tottenham 1 - 1 Liverpool', 'annotation': {'gameTime': '2 - 23:40', 'label': 'substitution-in', 'team': 'away'}, 'label': 1, 'lang': {'lang': 'eng'}, 'idx': 126, 'ms': None, 'ms_info': None, 'mfcc': None, 'mfcc_info': None, 'resnet': None}\n",
      "{'vidpath': 'england_epl/2016-2017/2016-08-27 - 14-30 Tottenham 1 - 1 Liverpool', 'annotation': {'gameTime': '2 - 26:18', 'label': 'soccer-ball', 'team': 'home'}, 'label': 2, 'lang': {'lang': 'eng'}, 'idx': 127, 'ms': None, 'ms_info': None, 'mfcc': None, 'mfcc_info': None, 'resnet': None}\n",
      "{'vidpath': 'england_epl/2016-2017/2016-08-27 - 14-30 Tottenham 1 - 1 Liverpool', 'annotation': {'gameTime': '2 - 31:37', 'label': 'y-card', 'team': 'home'}, 'label': 0, 'lang': {'lang': 'eng'}, 'idx': 128, 'ms': None, 'ms_info': None, 'mfcc': None, 'mfcc_info': None, 'resnet': None}\n",
      "{'vidpath': 'england_epl/2016-2017/2016-08-27 - 14-30 Tottenham 1 - 1 Liverpool', 'annotation': {'gameTime': '2 - 37:23', 'label': 'substitution-in', 'team': 'home'}, 'label': 1, 'lang': {'lang': 'eng'}, 'idx': 129, 'ms': None, 'ms_info': None, 'mfcc': None, 'mfcc_info': None, 'resnet': None}\n",
      "{'vidpath': 'england_epl/2016-2017/2016-08-27 - 14-30 Tottenham 1 - 1 Liverpool', 'annotation': {'gameTime': '2 - 40:03', 'label': 'y-card', 'team': 'away'}, 'label': 0, 'lang': {'lang': 'eng'}, 'idx': 130, 'ms': None, 'ms_info': None, 'mfcc': None, 'mfcc_info': None, 'resnet': None}\n",
      "{'vidpath': 'england_epl/2016-2017/2016-08-27 - 14-30 Tottenham 1 - 1 Liverpool', 'annotation': {'gameTime': '2 - 42:42', 'label': 'substitution-in', 'team': 'away'}, 'label': 1, 'lang': {'lang': 'eng'}, 'idx': 131, 'ms': None, 'ms_info': None, 'mfcc': None, 'mfcc_info': None, 'resnet': None}\n",
      "{'vidpath': 'england_epl/2016-2017/2016-08-27 - 14-30 Tottenham 1 - 1 Liverpool', 'annotation': {'gameTime': '2 - 47:55', 'label': 'substitution-in', 'team': 'home'}, 'label': 1, 'lang': {'lang': 'eng'}, 'idx': 132, 'ms': None, 'ms_info': None, 'mfcc': None, 'mfcc_info': None, 'resnet': None}\n",
      "{'vidpath': 'england_epl/2016-2017/2016-08-27 - 14-30 Tottenham 1 - 1 Liverpool', 'annotation': {'gameTime': '2 - 48:05', 'label': 'substitution-in', 'team': 'away'}, 'label': 1, 'lang': {'lang': 'eng'}, 'idx': 133, 'ms': None, 'ms_info': None, 'mfcc': None, 'mfcc_info': None, 'resnet': None}\n",
      "{'vidpath': 'england_epl/2016-2017/2016-08-27 - 14-30 Tottenham 1 - 1 Liverpool', 'annotation': {'gameTime': '2 - 48:38', 'label': 'y-card', 'team': 'away'}, 'label': 0, 'lang': {'lang': 'eng'}, 'idx': 134, 'ms': None, 'ms_info': None, 'mfcc': None, 'mfcc_info': None, 'resnet': None}\n",
      "{'vidpath': 'england_epl/2016-2017/2016-09-24 - 14-30 Manchester United 4 - 1 Leicester', 'annotation': {'gameTime': '1 - 21:48', 'label': 'soccer-ball', 'team': 'home'}, 'label': 2, 'lang': {'lang': 'eng'}, 'idx': 135, 'ms': None, 'ms_info': None, 'mfcc': None, 'mfcc_info': None, 'resnet': None}\n",
      "{'vidpath': 'england_epl/2016-2017/2016-09-24 - 14-30 Manchester United 4 - 1 Leicester', 'annotation': {'gameTime': '1 - 36:01', 'label': 'soccer-ball', 'team': 'home'}, 'label': 2, 'lang': {'lang': 'eng'}, 'idx': 136, 'ms': None, 'ms_info': None, 'mfcc': None, 'mfcc_info': None, 'resnet': None}\n",
      "{'vidpath': 'england_epl/2016-2017/2016-09-24 - 14-30 Manchester United 4 - 1 Leicester', 'annotation': {'gameTime': '1 - 39:00', 'label': 'soccer-ball', 'team': 'home'}, 'label': 2, 'lang': {'lang': 'eng'}, 'idx': 137, 'ms': None, 'ms_info': None, 'mfcc': None, 'mfcc_info': None, 'resnet': None}\n",
      "{'vidpath': 'england_epl/2016-2017/2016-09-24 - 14-30 Manchester United 4 - 1 Leicester', 'annotation': {'gameTime': '1 - 41:15', 'label': 'soccer-ball', 'team': 'home'}, 'label': 2, 'lang': {'lang': 'eng'}, 'idx': 138, 'ms': None, 'ms_info': None, 'mfcc': None, 'mfcc_info': None, 'resnet': None}\n",
      "{'vidpath': 'england_epl/2016-2017/2016-09-24 - 14-30 Manchester United 4 - 1 Leicester', 'annotation': {'gameTime': '2 - 00:00', 'label': 'substitution-in', 'team': 'away'}, 'label': 1, 'lang': {'lang': 'eng'}, 'idx': 139, 'ms': None, 'ms_info': None, 'mfcc': None, 'mfcc_info': None, 'resnet': None}\n",
      "{'vidpath': 'england_epl/2016-2017/2016-09-24 - 14-30 Manchester United 4 - 1 Leicester', 'annotation': {'gameTime': '2 - 00:00', 'label': 'substitution-in', 'team': 'away'}, 'label': 1, 'lang': {'lang': 'eng'}, 'idx': 140, 'ms': None, 'ms_info': None, 'mfcc': None, 'mfcc_info': None, 'resnet': None}\n",
      "{'vidpath': 'england_epl/2016-2017/2016-09-24 - 14-30 Manchester United 4 - 1 Leicester', 'annotation': {'gameTime': '2 - 04:35', 'label': 'y-card', 'team': 'away'}, 'label': 0, 'lang': {'lang': 'eng'}, 'idx': 141, 'ms': None, 'ms_info': None, 'mfcc': None, 'mfcc_info': None, 'resnet': None}\n",
      "{'vidpath': 'england_epl/2016-2017/2016-09-24 - 14-30 Manchester United 4 - 1 Leicester', 'annotation': {'gameTime': '2 - 13:59', 'label': 'soccer-ball', 'team': 'away'}, 'label': 2, 'lang': {'lang': 'eng'}, 'idx': 142, 'ms': None, 'ms_info': None, 'mfcc': None, 'mfcc_info': None, 'resnet': None}\n",
      "{'vidpath': 'england_epl/2016-2017/2016-09-24 - 14-30 Manchester United 4 - 1 Leicester', 'annotation': {'gameTime': '2 - 16:19', 'label': 'substitution-in', 'team': 'away'}, 'label': 1, 'lang': {'lang': 'eng'}, 'idx': 143, 'ms': None, 'ms_info': None, 'mfcc': None, 'mfcc_info': None, 'resnet': None}\n",
      "{'vidpath': 'england_epl/2016-2017/2016-09-24 - 14-30 Manchester United 4 - 1 Leicester', 'annotation': {'gameTime': '2 - 28:09', 'label': 'y-card', 'team': 'away'}, 'label': 0, 'lang': {'lang': 'eng'}, 'idx': 144, 'ms': None, 'ms_info': None, 'mfcc': None, 'mfcc_info': None, 'resnet': None}\n",
      "{'vidpath': 'england_epl/2016-2017/2016-09-24 - 14-30 Manchester United 4 - 1 Leicester', 'annotation': {'gameTime': '2 - 32:44', 'label': 'substitution-in', 'team': 'home'}, 'label': 1, 'lang': {'lang': 'eng'}, 'idx': 145, 'ms': None, 'ms_info': None, 'mfcc': None, 'mfcc_info': None, 'resnet': None}\n",
      "{'vidpath': 'england_epl/2016-2017/2016-09-24 - 14-30 Manchester United 4 - 1 Leicester', 'annotation': {'gameTime': '2 - 37:28', 'label': 'substitution-in', 'team': 'home'}, 'label': 1, 'lang': {'lang': 'eng'}, 'idx': 146, 'ms': None, 'ms_info': None, 'mfcc': None, 'mfcc_info': None, 'resnet': None}\n",
      "{'vidpath': 'england_epl/2016-2017/2016-09-24 - 14-30 Manchester United 4 - 1 Leicester', 'annotation': {'gameTime': '2 - 41:53', 'label': 'substitution-in', 'team': 'home'}, 'label': 1, 'lang': {'lang': 'eng'}, 'idx': 147, 'ms': None, 'ms_info': None, 'mfcc': None, 'mfcc_info': None, 'resnet': None}\n",
      "{'vidpath': 'england_epl/2016-2017/2016-10-15 - 14-30 Chelsea 3 - 0 Leicester', 'annotation': {'gameTime': '1 - 06:23', 'label': 'soccer-ball', 'team': 'home'}, 'label': 2, 'lang': {'lang': 'eng'}, 'idx': 148, 'ms': None, 'ms_info': None, 'mfcc': None, 'mfcc_info': None, 'resnet': None}\n",
      "{'vidpath': 'england_epl/2016-2017/2016-10-15 - 14-30 Chelsea 3 - 0 Leicester', 'annotation': {'gameTime': '1 - 26:15', 'label': 'y-card', 'team': 'away'}, 'label': 0, 'lang': {'lang': 'eng'}, 'idx': 149, 'ms': None, 'ms_info': None, 'mfcc': None, 'mfcc_info': None, 'resnet': None}\n",
      "{'vidpath': 'england_epl/2016-2017/2016-10-15 - 14-30 Chelsea 3 - 0 Leicester', 'annotation': {'gameTime': '1 - 32:18', 'label': 'soccer-ball', 'team': 'home'}, 'label': 2, 'lang': {'lang': 'eng'}, 'idx': 150, 'ms': None, 'ms_info': None, 'mfcc': None, 'mfcc_info': None, 'resnet': None}\n",
      "{'vidpath': 'england_epl/2016-2017/2016-10-15 - 14-30 Chelsea 3 - 0 Leicester', 'annotation': {'gameTime': '2 - 05:40', 'label': 'y-card', 'team': 'home'}, 'label': 0, 'lang': {'lang': 'eng'}, 'idx': 151, 'ms': None, 'ms_info': None, 'mfcc': None, 'mfcc_info': None, 'resnet': None}\n",
      "{'vidpath': 'england_epl/2016-2017/2016-10-15 - 14-30 Chelsea 3 - 0 Leicester', 'annotation': {'gameTime': '2 - 21:52', 'label': 'substitution-in', 'team': 'away'}, 'label': 1, 'lang': {'lang': 'eng'}, 'idx': 152, 'ms': None, 'ms_info': None, 'mfcc': None, 'mfcc_info': None, 'resnet': None}\n",
      "{'vidpath': 'england_epl/2016-2017/2016-10-15 - 14-30 Chelsea 3 - 0 Leicester', 'annotation': {'gameTime': '2 - 21:56', 'label': 'substitution-in', 'team': 'away'}, 'label': 1, 'lang': {'lang': 'eng'}, 'idx': 153, 'ms': None, 'ms_info': None, 'mfcc': None, 'mfcc_info': None, 'resnet': None}\n",
      "{'vidpath': 'england_epl/2016-2017/2016-10-15 - 14-30 Chelsea 3 - 0 Leicester', 'annotation': {'gameTime': '2 - 22:55', 'label': 'substitution-in', 'team': 'home'}, 'label': 1, 'lang': {'lang': 'eng'}, 'idx': 154, 'ms': None, 'ms_info': None, 'mfcc': None, 'mfcc_info': None, 'resnet': None}\n",
      "{'vidpath': 'england_epl/2016-2017/2016-10-15 - 14-30 Chelsea 3 - 0 Leicester', 'annotation': {'gameTime': '2 - 28:17', 'label': 'substitution-in', 'team': 'away'}, 'label': 1, 'lang': {'lang': 'eng'}, 'idx': 155, 'ms': None, 'ms_info': None, 'mfcc': None, 'mfcc_info': None, 'resnet': None}\n",
      "{'vidpath': 'england_epl/2016-2017/2016-10-15 - 14-30 Chelsea 3 - 0 Leicester', 'annotation': {'gameTime': '2 - 34:30', 'label': 'soccer-ball', 'team': 'home'}, 'label': 2, 'lang': {'lang': 'eng'}, 'idx': 156, 'ms': None, 'ms_info': None, 'mfcc': None, 'mfcc_info': None, 'resnet': None}\n",
      "{'vidpath': 'england_epl/2016-2017/2016-10-15 - 14-30 Chelsea 3 - 0 Leicester', 'annotation': {'gameTime': '2 - 35:59', 'label': 'substitution-in', 'team': 'home'}, 'label': 1, 'lang': {'lang': 'eng'}, 'idx': 157, 'ms': None, 'ms_info': None, 'mfcc': None, 'mfcc_info': None, 'resnet': None}\n",
      "{'vidpath': 'england_epl/2016-2017/2016-10-15 - 14-30 Chelsea 3 - 0 Leicester', 'annotation': {'gameTime': '2 - 36:20', 'label': 'substitution-in', 'team': 'home'}, 'label': 1, 'lang': {'lang': 'eng'}, 'idx': 158, 'ms': None, 'ms_info': None, 'mfcc': None, 'mfcc_info': None, 'resnet': None}\n",
      "{'vidpath': 'england_epl/2016-2017/2017-01-21 - 15-30 Liverpool 2 - 3 Swansea', 'annotation': {'gameTime': '1 - 35:26', 'label': 'y-card', 'team': 'home'}, 'label': 0, 'lang': {'lang': 'eng'}, 'idx': 159, 'ms': None, 'ms_info': None, 'mfcc': None, 'mfcc_info': None, 'resnet': None}\n",
      "{'vidpath': 'england_epl/2016-2017/2017-01-21 - 15-30 Liverpool 2 - 3 Swansea', 'annotation': {'gameTime': '2 - 02:04', 'label': 'soccer-ball', 'team': 'away'}, 'label': 2, 'lang': {'lang': 'eng'}, 'idx': 160, 'ms': None, 'ms_info': None, 'mfcc': None, 'mfcc_info': None, 'resnet': None}\n",
      "{'vidpath': 'england_epl/2016-2017/2017-01-21 - 15-30 Liverpool 2 - 3 Swansea', 'annotation': {'gameTime': '2 - 06:43', 'label': 'soccer-ball', 'team': 'away'}, 'label': 2, 'lang': {'lang': 'eng'}, 'idx': 161, 'ms': None, 'ms_info': None, 'mfcc': None, 'mfcc_info': None, 'resnet': None}\n",
      "{'vidpath': 'england_epl/2016-2017/2017-01-21 - 15-30 Liverpool 2 - 3 Swansea', 'annotation': {'gameTime': '2 - 09:18', 'label': 'soccer-ball', 'team': 'home'}, 'label': 2, 'lang': {'lang': 'eng'}, 'idx': 162, 'ms': None, 'ms_info': None, 'mfcc': None, 'mfcc_info': None, 'resnet': None}\n",
      "{'vidpath': 'england_epl/2016-2017/2017-01-21 - 15-30 Liverpool 2 - 3 Swansea', 'annotation': {'gameTime': '2 - 11:01', 'label': 'substitution-in', 'team': 'home'}, 'label': 1, 'lang': {'lang': 'eng'}, 'idx': 163, 'ms': None, 'ms_info': None, 'mfcc': None, 'mfcc_info': None, 'resnet': None}\n",
      "{'vidpath': 'england_epl/2016-2017/2017-01-21 - 15-30 Liverpool 2 - 3 Swansea', 'annotation': {'gameTime': '2 - 23:45', 'label': 'soccer-ball', 'team': 'home'}, 'label': 2, 'lang': {'lang': 'eng'}, 'idx': 164, 'ms': None, 'ms_info': None, 'mfcc': None, 'mfcc_info': None, 'resnet': None}\n",
      "{'vidpath': 'england_epl/2016-2017/2017-01-21 - 15-30 Liverpool 2 - 3 Swansea', 'annotation': {'gameTime': '2 - 25:00', 'label': 'substitution-in', 'team': 'home'}, 'label': 1, 'lang': {'lang': 'eng'}, 'idx': 165, 'ms': None, 'ms_info': None, 'mfcc': None, 'mfcc_info': None, 'resnet': None}\n",
      "{'vidpath': 'england_epl/2016-2017/2017-01-21 - 15-30 Liverpool 2 - 3 Swansea', 'annotation': {'gameTime': '2 - 28:37', 'label': 'soccer-ball', 'team': 'away'}, 'label': 2, 'lang': {'lang': 'eng'}, 'idx': 166, 'ms': None, 'ms_info': None, 'mfcc': None, 'mfcc_info': None, 'resnet': None}\n",
      "{'vidpath': 'england_epl/2016-2017/2017-01-21 - 15-30 Liverpool 2 - 3 Swansea', 'annotation': {'gameTime': '2 - 33:42', 'label': 'substitution-in', 'team': 'away'}, 'label': 1, 'lang': {'lang': 'eng'}, 'idx': 167, 'ms': None, 'ms_info': None, 'mfcc': None, 'mfcc_info': None, 'resnet': None}\n",
      "{'vidpath': 'england_epl/2016-2017/2017-01-21 - 15-30 Liverpool 2 - 3 Swansea', 'annotation': {'gameTime': '2 - 39:44', 'label': 'substitution-in', 'team': 'away'}, 'label': 1, 'lang': {'lang': 'eng'}, 'idx': 168, 'ms': None, 'ms_info': None, 'mfcc': None, 'mfcc_info': None, 'resnet': None}\n",
      "{'vidpath': 'england_epl/2016-2017/2017-01-21 - 15-30 Liverpool 2 - 3 Swansea', 'annotation': {'gameTime': '2 - 44:11', 'label': 'y-card', 'team': 'away'}, 'label': 0, 'lang': {'lang': 'eng'}, 'idx': 169, 'ms': None, 'ms_info': None, 'mfcc': None, 'mfcc_info': None, 'resnet': None}\n",
      "{'vidpath': 'england_epl/2016-2017/2017-01-21 - 15-30 Liverpool 2 - 3 Swansea', 'annotation': {'gameTime': '2 - 48:43', 'label': 'substitution-in', 'team': 'home'}, 'label': 1, 'lang': {'lang': 'eng'}, 'idx': 170, 'ms': None, 'ms_info': None, 'mfcc': None, 'mfcc_info': None, 'resnet': None}\n",
      "{'vidpath': 'england_epl/2016-2017/2017-01-21 - 15-30 Liverpool 2 - 3 Swansea', 'annotation': {'gameTime': '2 - 48:49', 'label': 'substitution-in', 'team': 'away'}, 'label': 1, 'lang': {'lang': 'eng'}, 'idx': 171, 'ms': None, 'ms_info': None, 'mfcc': None, 'mfcc_info': None, 'resnet': None}\n",
      "{'vidpath': 'england_epl/2016-2017/2017-05-06 - 17-00 Leicester 3 - 0 Watford', 'annotation': {'gameTime': '1 - 37:47', 'label': 'soccer-ball', 'team': 'home'}, 'label': 2, 'lang': {'lang': 'eng'}, 'idx': 172, 'ms': None, 'ms_info': None, 'mfcc': None, 'mfcc_info': None, 'resnet': None}\n",
      "{'vidpath': 'england_epl/2016-2017/2017-05-06 - 17-00 Leicester 3 - 0 Watford', 'annotation': {'gameTime': '2 - 12:17', 'label': 'soccer-ball', 'team': 'home'}, 'label': 2, 'lang': {'lang': 'eng'}, 'idx': 173, 'ms': None, 'ms_info': None, 'mfcc': None, 'mfcc_info': None, 'resnet': None}\n",
      "{'vidpath': 'england_epl/2016-2017/2017-05-06 - 17-00 Leicester 3 - 0 Watford', 'annotation': {'gameTime': '2 - 17:06', 'label': 'substitution-in', 'team': 'home'}, 'label': 1, 'lang': {'lang': 'eng'}, 'idx': 174, 'ms': None, 'ms_info': None, 'mfcc': None, 'mfcc_info': None, 'resnet': None}\n",
      "{'vidpath': 'england_epl/2016-2017/2017-05-06 - 17-00 Leicester 3 - 0 Watford', 'annotation': {'gameTime': '2 - 21:20', 'label': 'substitution-in', 'team': 'home'}, 'label': 1, 'lang': {'lang': 'eng'}, 'idx': 175, 'ms': None, 'ms_info': None, 'mfcc': None, 'mfcc_info': None, 'resnet': None}\n",
      "{'vidpath': 'england_epl/2016-2017/2017-05-06 - 17-00 Leicester 3 - 0 Watford', 'annotation': {'gameTime': '2 - 21:27', 'label': 'substitution-in', 'team': 'away'}, 'label': 1, 'lang': {'lang': 'eng'}, 'idx': 176, 'ms': None, 'ms_info': None, 'mfcc': None, 'mfcc_info': None, 'resnet': None}\n",
      "{'vidpath': 'england_epl/2016-2017/2017-05-06 - 17-00 Leicester 3 - 0 Watford', 'annotation': {'gameTime': '2 - 26:39', 'label': 'substitution-in', 'team': 'away'}, 'label': 1, 'lang': {'lang': 'eng'}, 'idx': 177, 'ms': None, 'ms_info': None, 'mfcc': None, 'mfcc_info': None, 'resnet': None}\n",
      "{'vidpath': 'england_epl/2016-2017/2017-05-06 - 17-00 Leicester 3 - 0 Watford', 'annotation': {'gameTime': '2 - 32:32', 'label': 'substitution-in', 'team': 'home'}, 'label': 1, 'lang': {'lang': 'eng'}, 'idx': 178, 'ms': None, 'ms_info': None, 'mfcc': None, 'mfcc_info': None, 'resnet': None}\n",
      "{'vidpath': 'england_epl/2016-2017/2017-05-06 - 17-00 Leicester 3 - 0 Watford', 'annotation': {'gameTime': '2 - 37:59', 'label': 'substitution-in', 'team': 'away'}, 'label': 1, 'lang': {'lang': 'eng'}, 'idx': 179, 'ms': None, 'ms_info': None, 'mfcc': None, 'mfcc_info': None, 'resnet': None}\n",
      "{'vidpath': 'england_epl/2016-2017/2017-05-06 - 17-00 Leicester 3 - 0 Watford', 'annotation': {'gameTime': '2 - 47:10', 'label': 'soccer-ball', 'team': 'home'}, 'label': 2, 'lang': {'lang': 'eng'}, 'idx': 180, 'ms': None, 'ms_info': None, 'mfcc': None, 'mfcc_info': None, 'resnet': None}\n",
      "{'vidpath': 'europe_uefa-champions-league/2014-2015/2015-02-24 - 22-45 Manchester City 1 - 2 Barcelona', 'annotation': {'gameTime': '1 - 15:27', 'label': 'soccer-ball', 'team': 'away'}, 'label': 2, 'lang': {'lang': 'eng'}, 'idx': 181, 'ms': None, 'ms_info': None, 'mfcc': None, 'mfcc_info': None, 'resnet': None}\n",
      "{'vidpath': 'europe_uefa-champions-league/2014-2015/2015-02-24 - 22-45 Manchester City 1 - 2 Barcelona', 'annotation': {'gameTime': '1 - 29:41', 'label': 'soccer-ball', 'team': 'away'}, 'label': 2, 'lang': {'lang': 'eng'}, 'idx': 182, 'ms': None, 'ms_info': None, 'mfcc': None, 'mfcc_info': None, 'resnet': None}\n",
      "{'vidpath': 'europe_uefa-champions-league/2014-2015/2015-02-24 - 22-45 Manchester City 1 - 2 Barcelona', 'annotation': {'gameTime': '1 - 40:38', 'label': 'y-card', 'team': 'away'}, 'label': 0, 'lang': {'lang': 'eng'}, 'idx': 183, 'ms': None, 'ms_info': None, 'mfcc': None, 'mfcc_info': None, 'resnet': None}\n",
      "{'vidpath': 'europe_uefa-champions-league/2014-2015/2015-02-24 - 22-45 Manchester City 1 - 2 Barcelona', 'annotation': {'gameTime': '1 - 44:10', 'label': 'y-card', 'team': 'away'}, 'label': 0, 'lang': {'lang': 'eng'}, 'idx': 184, 'ms': None, 'ms_info': None, 'mfcc': None, 'mfcc_info': None, 'resnet': None}\n",
      "{'vidpath': 'europe_uefa-champions-league/2014-2015/2015-02-24 - 22-45 Manchester City 1 - 2 Barcelona', 'annotation': {'gameTime': '2 - 13:06', 'label': 'y-card', 'team': 'home'}, 'label': 0, 'lang': {'lang': 'eng'}, 'idx': 185, 'ms': None, 'ms_info': None, 'mfcc': None, 'mfcc_info': None, 'resnet': None}\n",
      "{'vidpath': 'europe_uefa-champions-league/2014-2015/2015-02-24 - 22-45 Manchester City 1 - 2 Barcelona', 'annotation': {'gameTime': '2 - 16:02', 'label': 'substitution-in', 'team': 'home'}, 'label': 1, 'lang': {'lang': 'eng'}, 'idx': 186, 'ms': None, 'ms_info': None, 'mfcc': None, 'mfcc_info': None, 'resnet': None}\n",
      "{'vidpath': 'europe_uefa-champions-league/2014-2015/2015-02-24 - 22-45 Manchester City 1 - 2 Barcelona', 'annotation': {'gameTime': '2 - 22:17', 'label': 'substitution-in', 'team': 'home'}, 'label': 1, 'lang': {'lang': 'eng'}, 'idx': 187, 'ms': None, 'ms_info': None, 'mfcc': None, 'mfcc_info': None, 'resnet': None}\n",
      "{'vidpath': 'europe_uefa-champions-league/2014-2015/2015-02-24 - 22-45 Manchester City 1 - 2 Barcelona', 'annotation': {'gameTime': '2 - 23:22', 'label': 'soccer-ball', 'team': 'home'}, 'label': 2, 'lang': {'lang': 'eng'}, 'idx': 188, 'ms': None, 'ms_info': None, 'mfcc': None, 'mfcc_info': None, 'resnet': None}\n",
      "{'vidpath': 'europe_uefa-champions-league/2014-2015/2015-02-24 - 22-45 Manchester City 1 - 2 Barcelona', 'annotation': {'gameTime': '2 - 25:56', 'label': 'substitution-in', 'team': 'away'}, 'label': 1, 'lang': {'lang': 'eng'}, 'idx': 189, 'ms': None, 'ms_info': None, 'mfcc': None, 'mfcc_info': None, 'resnet': None}\n",
      "{'vidpath': 'europe_uefa-champions-league/2014-2015/2015-02-24 - 22-45 Manchester City 1 - 2 Barcelona', 'annotation': {'gameTime': '2 - 28:05', 'label': 'yr-card', 'team': 'home'}, 'label': 0, 'lang': {'lang': 'eng'}, 'idx': 190, 'ms': None, 'ms_info': None, 'mfcc': None, 'mfcc_info': None, 'resnet': None}\n",
      "{'vidpath': 'europe_uefa-champions-league/2014-2015/2015-02-24 - 22-45 Manchester City 1 - 2 Barcelona', 'annotation': {'gameTime': '2 - 29:14', 'label': 'substitution-in', 'team': 'away'}, 'label': 1, 'lang': {'lang': 'eng'}, 'idx': 191, 'ms': None, 'ms_info': None, 'mfcc': None, 'mfcc_info': None, 'resnet': None}\n",
      "{'vidpath': 'europe_uefa-champions-league/2014-2015/2015-02-24 - 22-45 Manchester City 1 - 2 Barcelona', 'annotation': {'gameTime': '2 - 32:23', 'label': 'substitution-in', 'team': 'home'}, 'label': 1, 'lang': {'lang': 'eng'}, 'idx': 192, 'ms': None, 'ms_info': None, 'mfcc': None, 'mfcc_info': None, 'resnet': None}\n",
      "{'vidpath': 'europe_uefa-champions-league/2014-2015/2015-02-24 - 22-45 Manchester City 1 - 2 Barcelona', 'annotation': {'gameTime': '2 - 34:27', 'label': 'substitution-in', 'team': 'away'}, 'label': 1, 'lang': {'lang': 'eng'}, 'idx': 193, 'ms': None, 'ms_info': None, 'mfcc': None, 'mfcc_info': None, 'resnet': None}\n",
      "{'vidpath': 'europe_uefa-champions-league/2014-2015/2015-02-24 - 22-45 Manchester City 1 - 2 Barcelona', 'annotation': {'gameTime': '2 - 42:50', 'label': 'y-card', 'team': 'away'}, 'label': 0, 'lang': {'lang': 'eng'}, 'idx': 194, 'ms': None, 'ms_info': None, 'mfcc': None, 'mfcc_info': None, 'resnet': None}\n",
      "{'vidpath': 'europe_uefa-champions-league/2014-2015/2015-02-24 - 22-45 Manchester City 1 - 2 Barcelona', 'annotation': {'gameTime': '2 - 44:18', 'label': 'y-card', 'team': 'home'}, 'label': 0, 'lang': {'lang': 'eng'}, 'idx': 195, 'ms': None, 'ms_info': None, 'mfcc': None, 'mfcc_info': None, 'resnet': None}\n",
      "{'vidpath': 'europe_uefa-champions-league/2014-2015/2015-03-10 - 22-45 Real Madrid 3 - 4 Schalke', 'annotation': {'gameTime': '1 - 19:50', 'label': 'soccer-ball', 'team': 'away'}, 'label': 2, 'lang': {'lang': 'eng'}, 'idx': 196, 'ms': None, 'ms_info': None, 'mfcc': None, 'mfcc_info': None, 'resnet': None}\n",
      "{'vidpath': 'europe_uefa-champions-league/2014-2015/2015-03-10 - 22-45 Real Madrid 3 - 4 Schalke', 'annotation': {'gameTime': '1 - 24:24', 'label': 'soccer-ball', 'team': 'home'}, 'label': 2, 'lang': {'lang': 'eng'}, 'idx': 197, 'ms': None, 'ms_info': None, 'mfcc': None, 'mfcc_info': None, 'resnet': None}\n",
      "{'vidpath': 'europe_uefa-champions-league/2014-2015/2015-03-10 - 22-45 Real Madrid 3 - 4 Schalke', 'annotation': {'gameTime': '1 - 28:50', 'label': 'substitution-in', 'team': 'away'}, 'label': 1, 'lang': {'lang': 'eng'}, 'idx': 198, 'ms': None, 'ms_info': None, 'mfcc': None, 'mfcc_info': None, 'resnet': None}\n",
      "{'vidpath': 'europe_uefa-champions-league/2014-2015/2015-03-10 - 22-45 Real Madrid 3 - 4 Schalke', 'annotation': {'gameTime': '1 - 30:27', 'label': 'y-card', 'team': 'home'}, 'label': 0, 'lang': {'lang': 'eng'}, 'idx': 199, 'ms': None, 'ms_info': None, 'mfcc': None, 'mfcc_info': None, 'resnet': None}\n",
      "{'vidpath': 'europe_uefa-champions-league/2014-2015/2015-03-10 - 22-45 Real Madrid 3 - 4 Schalke', 'annotation': {'gameTime': '1 - 39:31', 'label': 'soccer-ball', 'team': 'away'}, 'label': 2, 'lang': {'lang': 'eng'}, 'idx': 200, 'ms': None, 'ms_info': None, 'mfcc': None, 'mfcc_info': None, 'resnet': None}\n",
      "{'vidpath': 'europe_uefa-champions-league/2014-2015/2015-03-10 - 22-45 Real Madrid 3 - 4 Schalke', 'annotation': {'gameTime': '1 - 44:55', 'label': 'soccer-ball', 'team': 'home'}, 'label': 2, 'lang': {'lang': 'eng'}, 'idx': 201, 'ms': None, 'ms_info': None, 'mfcc': None, 'mfcc_info': None, 'resnet': None}\n",
      "{'vidpath': 'europe_uefa-champions-league/2014-2015/2015-03-10 - 22-45 Real Madrid 3 - 4 Schalke', 'annotation': {'gameTime': '2 - 06:59', 'label': 'soccer-ball', 'team': 'home'}, 'label': 2, 'lang': {'lang': 'eng'}, 'idx': 202, 'ms': None, 'ms_info': None, 'mfcc': None, 'mfcc_info': None, 'resnet': None}\n",
      "{'vidpath': 'europe_uefa-champions-league/2014-2015/2015-03-10 - 22-45 Real Madrid 3 - 4 Schalke', 'annotation': {'gameTime': '2 - 09:07', 'label': 'y-card', 'team': 'home'}, 'label': 0, 'lang': {'lang': 'eng'}, 'idx': 203, 'ms': None, 'ms_info': None, 'mfcc': None, 'mfcc_info': None, 'resnet': None}\n",
      "{'vidpath': 'europe_uefa-champions-league/2014-2015/2015-03-10 - 22-45 Real Madrid 3 - 4 Schalke', 'annotation': {'gameTime': '2 - 11:13', 'label': 'soccer-ball', 'team': 'away'}, 'label': 2, 'lang': {'lang': 'eng'}, 'idx': 204, 'ms': None, 'ms_info': None, 'mfcc': None, 'mfcc_info': None, 'resnet': None}\n",
      "{'vidpath': 'europe_uefa-champions-league/2014-2015/2015-03-10 - 22-45 Real Madrid 3 - 4 Schalke', 'annotation': {'gameTime': '2 - 11:50', 'label': 'substitution-in', 'team': 'away'}, 'label': 1, 'lang': {'lang': 'eng'}, 'idx': 205, 'ms': None, 'ms_info': None, 'mfcc': None, 'mfcc_info': None, 'resnet': None}\n",
      "{'vidpath': 'europe_uefa-champions-league/2014-2015/2015-03-10 - 22-45 Real Madrid 3 - 4 Schalke', 'annotation': {'gameTime': '2 - 12:11', 'label': 'substitution-in', 'team': 'home'}, 'label': 1, 'lang': {'lang': 'eng'}, 'idx': 206, 'ms': None, 'ms_info': None, 'mfcc': None, 'mfcc_info': None, 'resnet': None}\n",
      "{'vidpath': 'europe_uefa-champions-league/2014-2015/2015-03-10 - 22-45 Real Madrid 3 - 4 Schalke', 'annotation': {'gameTime': '2 - 12:27', 'label': 'substitution-in', 'team': 'home'}, 'label': 1, 'lang': {'lang': 'eng'}, 'idx': 207, 'ms': None, 'ms_info': None, 'mfcc': None, 'mfcc_info': None, 'resnet': None}\n",
      "{'vidpath': 'europe_uefa-champions-league/2014-2015/2015-03-10 - 22-45 Real Madrid 3 - 4 Schalke', 'annotation': {'gameTime': '2 - 35:12', 'label': 'substitution-in', 'team': 'away'}, 'label': 1, 'lang': {'lang': 'eng'}, 'idx': 208, 'ms': None, 'ms_info': None, 'mfcc': None, 'mfcc_info': None, 'resnet': None}\n",
      "{'vidpath': 'europe_uefa-champions-league/2014-2015/2015-03-10 - 22-45 Real Madrid 3 - 4 Schalke', 'annotation': {'gameTime': '2 - 37:06', 'label': 'substitution-in', 'team': 'home'}, 'label': 1, 'lang': {'lang': 'eng'}, 'idx': 209, 'ms': None, 'ms_info': None, 'mfcc': None, 'mfcc_info': None, 'resnet': None}\n",
      "{'vidpath': 'europe_uefa-champions-league/2014-2015/2015-03-10 - 22-45 Real Madrid 3 - 4 Schalke', 'annotation': {'gameTime': '2 - 38:55', 'label': 'soccer-ball', 'team': 'away'}, 'label': 2, 'lang': {'lang': 'eng'}, 'idx': 210, 'ms': None, 'ms_info': None, 'mfcc': None, 'mfcc_info': None, 'resnet': None}\n",
      "{'vidpath': 'europe_uefa-champions-league/2014-2015/2015-03-10 - 22-45 Real Madrid 3 - 4 Schalke', 'annotation': {'gameTime': '2 - 47:56', 'label': 'y-card', 'team': 'away'}, 'label': 0, 'lang': {'lang': 'eng'}, 'idx': 211, 'ms': None, 'ms_info': None, 'mfcc': None, 'mfcc_info': None, 'resnet': None}\n",
      "{'vidpath': 'europe_uefa-champions-league/2014-2015/2015-03-17 - 22-45 Monaco 0 - 2 Arsenal', 'annotation': {'gameTime': '1 - 35:04', 'label': 'soccer-ball', 'team': 'away'}, 'label': 2, 'lang': {'lang': 'eng'}, 'idx': 212, 'ms': None, 'ms_info': None, 'mfcc': None, 'mfcc_info': None, 'resnet': None}\n",
      "{'vidpath': 'europe_uefa-champions-league/2014-2015/2015-03-17 - 22-45 Monaco 0 - 2 Arsenal', 'annotation': {'gameTime': '1 - 41:47', 'label': 'y-card', 'team': 'away'}, 'label': 0, 'lang': {'lang': 'eng'}, 'idx': 213, 'ms': None, 'ms_info': None, 'mfcc': None, 'mfcc_info': None, 'resnet': None}\n",
      "{'vidpath': 'europe_uefa-champions-league/2014-2015/2015-03-17 - 22-45 Monaco 0 - 2 Arsenal', 'annotation': {'gameTime': '2 - 06:51', 'label': 'y-card', 'team': 'home'}, 'label': 0, 'lang': {'lang': 'eng'}, 'idx': 214, 'ms': None, 'ms_info': None, 'mfcc': None, 'mfcc_info': None, 'resnet': None}\n",
      "{'vidpath': 'europe_uefa-champions-league/2014-2015/2015-03-17 - 22-45 Monaco 0 - 2 Arsenal', 'annotation': {'gameTime': '2 - 14:04', 'label': 'substitution-in', 'team': 'home'}, 'label': 1, 'lang': {'lang': 'eng'}, 'idx': 215, 'ms': None, 'ms_info': None, 'mfcc': None, 'mfcc_info': None, 'resnet': None}\n",
      "{'vidpath': 'europe_uefa-champions-league/2014-2015/2015-03-17 - 22-45 Monaco 0 - 2 Arsenal', 'annotation': {'gameTime': '2 - 17:14', 'label': 'substitution-in', 'team': 'away'}, 'label': 1, 'lang': {'lang': 'eng'}, 'idx': 216, 'ms': None, 'ms_info': None, 'mfcc': None, 'mfcc_info': None, 'resnet': None}\n",
      "{'vidpath': 'europe_uefa-champions-league/2014-2015/2015-03-17 - 22-45 Monaco 0 - 2 Arsenal', 'annotation': {'gameTime': '2 - 24:14', 'label': 'substitution-in', 'team': 'home'}, 'label': 1, 'lang': {'lang': 'eng'}, 'idx': 217, 'ms': None, 'ms_info': None, 'mfcc': None, 'mfcc_info': None, 'resnet': None}\n",
      "{'vidpath': 'europe_uefa-champions-league/2014-2015/2015-03-17 - 22-45 Monaco 0 - 2 Arsenal', 'annotation': {'gameTime': '2 - 26:07', 'label': 'substitution-in', 'team': 'away'}, 'label': 1, 'lang': {'lang': 'eng'}, 'idx': 218, 'ms': None, 'ms_info': None, 'mfcc': None, 'mfcc_info': None, 'resnet': None}\n",
      "{'vidpath': 'europe_uefa-champions-league/2014-2015/2015-03-17 - 22-45 Monaco 0 - 2 Arsenal', 'annotation': {'gameTime': '2 - 33:16', 'label': 'soccer-ball', 'team': 'away'}, 'label': 2, 'lang': {'lang': 'eng'}, 'idx': 219, 'ms': None, 'ms_info': None, 'mfcc': None, 'mfcc_info': None, 'resnet': None}\n",
      "{'vidpath': 'europe_uefa-champions-league/2014-2015/2015-03-17 - 22-45 Monaco 0 - 2 Arsenal', 'annotation': {'gameTime': '2 - 37:14', 'label': 'substitution-in', 'team': 'away'}, 'label': 1, 'lang': {'lang': 'eng'}, 'idx': 220, 'ms': None, 'ms_info': None, 'mfcc': None, 'mfcc_info': None, 'resnet': None}\n",
      "{'vidpath': 'europe_uefa-champions-league/2014-2015/2015-03-17 - 22-45 Monaco 0 - 2 Arsenal', 'annotation': {'gameTime': '2 - 40:43', 'label': 'substitution-in', 'team': 'home'}, 'label': 1, 'lang': {'lang': 'eng'}, 'idx': 221, 'ms': None, 'ms_info': None, 'mfcc': None, 'mfcc_info': None, 'resnet': None}\n",
      "{'vidpath': 'europe_uefa-champions-league/2014-2015/2015-04-15 - 21-45 FC Porto 3 - 1 Bayern Munich', 'annotation': {'gameTime': '1 - 01:30', 'label': 'y-card', 'team': 'away'}, 'label': 0, 'lang': {'lang': 'eng'}, 'idx': 222, 'ms': None, 'ms_info': None, 'mfcc': None, 'mfcc_info': None, 'resnet': None}\n",
      "{'vidpath': 'europe_uefa-champions-league/2014-2015/2015-04-15 - 21-45 FC Porto 3 - 1 Bayern Munich', 'annotation': {'gameTime': '1 - 02:56', 'label': 'soccer-ball', 'team': 'home'}, 'label': 2, 'lang': {'lang': 'eng'}, 'idx': 223, 'ms': None, 'ms_info': None, 'mfcc': None, 'mfcc_info': None, 'resnet': None}\n",
      "{'vidpath': 'europe_uefa-champions-league/2014-2015/2015-04-15 - 21-45 FC Porto 3 - 1 Bayern Munich', 'annotation': {'gameTime': '1 - 09:07', 'label': 'soccer-ball', 'team': 'home'}, 'label': 2, 'lang': {'lang': 'eng'}, 'idx': 224, 'ms': None, 'ms_info': None, 'mfcc': None, 'mfcc_info': None, 'resnet': None}\n",
      "{'vidpath': 'europe_uefa-champions-league/2014-2015/2015-04-15 - 21-45 FC Porto 3 - 1 Bayern Munich', 'annotation': {'gameTime': '1 - 15:36', 'label': 'y-card', 'team': 'away'}, 'label': 0, 'lang': {'lang': 'eng'}, 'idx': 225, 'ms': None, 'ms_info': None, 'mfcc': None, 'mfcc_info': None, 'resnet': None}\n",
      "{'vidpath': 'europe_uefa-champions-league/2014-2015/2015-04-15 - 21-45 FC Porto 3 - 1 Bayern Munich', 'annotation': {'gameTime': '1 - 27:42', 'label': 'soccer-ball', 'team': 'away'}, 'label': 2, 'lang': {'lang': 'eng'}, 'idx': 226, 'ms': None, 'ms_info': None, 'mfcc': None, 'mfcc_info': None, 'resnet': None}\n",
      "{'vidpath': 'europe_uefa-champions-league/2014-2015/2015-04-15 - 21-45 FC Porto 3 - 1 Bayern Munich', 'annotation': {'gameTime': '1 - 30:19', 'label': 'y-card', 'team': 'home'}, 'label': 0, 'lang': {'lang': 'eng'}, 'idx': 227, 'ms': None, 'ms_info': None, 'mfcc': None, 'mfcc_info': None, 'resnet': None}\n",
      "{'vidpath': 'europe_uefa-champions-league/2014-2015/2015-04-15 - 21-45 FC Porto 3 - 1 Bayern Munich', 'annotation': {'gameTime': '1 - 36:31', 'label': 'y-card', 'team': 'home'}, 'label': 0, 'lang': {'lang': 'eng'}, 'idx': 228, 'ms': None, 'ms_info': None, 'mfcc': None, 'mfcc_info': None, 'resnet': None}\n",
      "{'vidpath': 'europe_uefa-champions-league/2014-2015/2015-04-15 - 21-45 FC Porto 3 - 1 Bayern Munich', 'annotation': {'gameTime': '1 - 37:44', 'label': 'y-card', 'team': 'away'}, 'label': 0, 'lang': {'lang': 'eng'}, 'idx': 229, 'ms': None, 'ms_info': None, 'mfcc': None, 'mfcc_info': None, 'resnet': None}\n",
      "{'vidpath': 'europe_uefa-champions-league/2014-2015/2015-04-15 - 21-45 FC Porto 3 - 1 Bayern Munich', 'annotation': {'gameTime': '2 - 10:51', 'label': 'substitution-in', 'team': 'away'}, 'label': 1, 'lang': {'lang': 'eng'}, 'idx': 230, 'ms': None, 'ms_info': None, 'mfcc': None, 'mfcc_info': None, 'resnet': None}\n",
      "{'vidpath': 'europe_uefa-champions-league/2014-2015/2015-04-15 - 21-45 FC Porto 3 - 1 Bayern Munich', 'annotation': {'gameTime': '2 - 19:08', 'label': 'soccer-ball', 'team': 'home'}, 'label': 2, 'lang': {'lang': 'eng'}, 'idx': 231, 'ms': None, 'ms_info': None, 'mfcc': None, 'mfcc_info': None, 'resnet': None}\n",
      "{'vidpath': 'europe_uefa-champions-league/2014-2015/2015-04-15 - 21-45 FC Porto 3 - 1 Bayern Munich', 'annotation': {'gameTime': '2 - 25:33', 'label': 'y-card', 'team': 'away'}, 'label': 0, 'lang': {'lang': 'eng'}, 'idx': 232, 'ms': None, 'ms_info': None, 'mfcc': None, 'mfcc_info': None, 'resnet': None}\n",
      "{'vidpath': 'europe_uefa-champions-league/2014-2015/2015-04-15 - 21-45 FC Porto 3 - 1 Bayern Munich', 'annotation': {'gameTime': '2 - 28:06', 'label': 'substitution-in', 'team': 'away'}, 'label': 1, 'lang': {'lang': 'eng'}, 'idx': 233, 'ms': None, 'ms_info': None, 'mfcc': None, 'mfcc_info': None, 'resnet': None}\n",
      "{'vidpath': 'europe_uefa-champions-league/2014-2015/2015-04-15 - 21-45 FC Porto 3 - 1 Bayern Munich', 'annotation': {'gameTime': '2 - 29:19', 'label': 'substitution-in', 'team': 'home'}, 'label': 1, 'lang': {'lang': 'eng'}, 'idx': 234, 'ms': None, 'ms_info': None, 'mfcc': None, 'mfcc_info': None, 'resnet': None}\n",
      "{'vidpath': 'europe_uefa-champions-league/2014-2015/2015-04-15 - 21-45 FC Porto 3 - 1 Bayern Munich', 'annotation': {'gameTime': '2 - 34:04', 'label': 'substitution-in', 'team': 'home'}, 'label': 1, 'lang': {'lang': 'eng'}, 'idx': 235, 'ms': None, 'ms_info': None, 'mfcc': None, 'mfcc_info': None, 'resnet': None}\n",
      "{'vidpath': 'europe_uefa-champions-league/2014-2015/2015-04-15 - 21-45 FC Porto 3 - 1 Bayern Munich', 'annotation': {'gameTime': '2 - 37:19', 'label': 'y-card', 'team': 'home'}, 'label': 0, 'lang': {'lang': 'eng'}, 'idx': 236, 'ms': None, 'ms_info': None, 'mfcc': None, 'mfcc_info': None, 'resnet': None}\n",
      "{'vidpath': 'europe_uefa-champions-league/2014-2015/2015-04-15 - 21-45 FC Porto 3 - 1 Bayern Munich', 'annotation': {'gameTime': '2 - 39:25', 'label': 'substitution-in', 'team': 'home'}, 'label': 1, 'lang': {'lang': 'eng'}, 'idx': 237, 'ms': None, 'ms_info': None, 'mfcc': None, 'mfcc_info': None, 'resnet': None}\n",
      "{'vidpath': 'europe_uefa-champions-league/2014-2015/2015-04-22 - 21-45 Real Madrid 1 - 0 Atl. Madrid', 'annotation': {'gameTime': '1 - 30:42', 'label': 'y-card', 'team': 'away'}, 'label': 0, 'lang': {'lang': 'eng'}, 'idx': 238, 'ms': None, 'ms_info': None, 'mfcc': None, 'mfcc_info': None, 'resnet': None}\n",
      "{'vidpath': 'europe_uefa-champions-league/2014-2015/2015-04-22 - 21-45 Real Madrid 1 - 0 Atl. Madrid', 'annotation': {'gameTime': '2 - 00:00', 'label': 'substitution-in', 'team': 'away'}, 'label': 1, 'lang': {'lang': 'eng'}, 'idx': 239, 'ms': None, 'ms_info': None, 'mfcc': None, 'mfcc_info': None, 'resnet': None}\n",
      "{'vidpath': 'europe_uefa-champions-league/2014-2015/2015-04-22 - 21-45 Real Madrid 1 - 0 Atl. Madrid', 'annotation': {'gameTime': '2 - 19:52', 'label': 'substitution-in', 'team': 'away'}, 'label': 1, 'lang': {'lang': 'eng'}, 'idx': 240, 'ms': None, 'ms_info': None, 'mfcc': None, 'mfcc_info': None, 'resnet': None}\n",
      "{'vidpath': 'europe_uefa-champions-league/2014-2015/2015-04-22 - 21-45 Real Madrid 1 - 0 Atl. Madrid', 'annotation': {'gameTime': '2 - 28:29', 'label': 'y-card', 'team': 'away'}, 'label': 0, 'lang': {'lang': 'eng'}, 'idx': 241, 'ms': None, 'ms_info': None, 'mfcc': None, 'mfcc_info': None, 'resnet': None}\n",
      "{'vidpath': 'europe_uefa-champions-league/2014-2015/2015-04-22 - 21-45 Real Madrid 1 - 0 Atl. Madrid', 'annotation': {'gameTime': '2 - 28:50', 'label': 'y-card', 'team': 'home'}, 'label': 0, 'lang': {'lang': 'eng'}, 'idx': 242, 'ms': None, 'ms_info': None, 'mfcc': None, 'mfcc_info': None, 'resnet': None}\n",
      "{'vidpath': 'europe_uefa-champions-league/2014-2015/2015-04-22 - 21-45 Real Madrid 1 - 0 Atl. Madrid', 'annotation': {'gameTime': '2 - 30:21', 'label': 'yr-card', 'team': 'away'}, 'label': 0, 'lang': {'lang': 'eng'}, 'idx': 243, 'ms': None, 'ms_info': None, 'mfcc': None, 'mfcc_info': None, 'resnet': None}\n",
      "{'vidpath': 'europe_uefa-champions-league/2014-2015/2015-04-22 - 21-45 Real Madrid 1 - 0 Atl. Madrid', 'annotation': {'gameTime': '2 - 40:18', 'label': 'substitution-in', 'team': 'away'}, 'label': 1, 'lang': {'lang': 'eng'}, 'idx': 244, 'ms': None, 'ms_info': None, 'mfcc': None, 'mfcc_info': None, 'resnet': None}\n",
      "{'vidpath': 'europe_uefa-champions-league/2014-2015/2015-04-22 - 21-45 Real Madrid 1 - 0 Atl. Madrid', 'annotation': {'gameTime': '2 - 42:11', 'label': 'soccer-ball', 'team': 'home'}, 'label': 2, 'lang': {'lang': 'eng'}, 'idx': 245, 'ms': None, 'ms_info': None, 'mfcc': None, 'mfcc_info': None, 'resnet': None}\n",
      "{'vidpath': 'europe_uefa-champions-league/2014-2015/2015-04-22 - 21-45 Real Madrid 1 - 0 Atl. Madrid', 'annotation': {'gameTime': '2 - 45:50', 'label': 'substitution-in', 'team': 'home'}, 'label': 1, 'lang': {'lang': 'eng'}, 'idx': 246, 'ms': None, 'ms_info': None, 'mfcc': None, 'mfcc_info': None, 'resnet': None}\n",
      "{'vidpath': 'europe_uefa-champions-league/2014-2015/2015-04-22 - 21-45 Real Madrid 1 - 0 Atl. Madrid', 'annotation': {'gameTime': '2 - 46:04', 'label': 'substitution-in', 'team': 'home'}, 'label': 1, 'lang': {'lang': 'eng'}, 'idx': 247, 'ms': None, 'ms_info': None, 'mfcc': None, 'mfcc_info': None, 'resnet': None}\n",
      "{'vidpath': 'europe_uefa-champions-league/2014-2015/2015-04-22 - 21-45 Real Madrid 1 - 0 Atl. Madrid', 'annotation': {'gameTime': '2 - 47:19', 'label': 'y-card', 'team': 'home'}, 'label': 0, 'lang': {'lang': 'eng'}, 'idx': 248, 'ms': None, 'ms_info': None, 'mfcc': None, 'mfcc_info': None, 'resnet': None}\n",
      "{'vidpath': 'europe_uefa-champions-league/2014-2015/2015-04-22 - 21-45 Real Madrid 1 - 0 Atl. Madrid', 'annotation': {'gameTime': '2 - 47:54', 'label': 'substitution-in', 'team': 'home'}, 'label': 1, 'lang': {'lang': 'eng'}, 'idx': 249, 'ms': None, 'ms_info': None, 'mfcc': None, 'mfcc_info': None, 'resnet': None}\n",
      "{'vidpath': 'europe_uefa-champions-league/2014-2015/2015-04-22 - 21-45 Real Madrid 1 - 0 Atl. Madrid', 'annotation': {'gameTime': '2 - 48:20', 'label': 'y-card', 'team': 'away'}, 'label': 0, 'lang': {'lang': 'eng'}, 'idx': 250, 'ms': None, 'ms_info': None, 'mfcc': None, 'mfcc_info': None, 'resnet': None}\n",
      "{'vidpath': 'europe_uefa-champions-league/2014-2015/2015-05-05 - 21-45 Juventus 2 - 1 Real Madrid', 'annotation': {'gameTime': '1 - 04:54', 'label': 'y-card', 'team': 'home'}, 'label': 0, 'lang': {'lang': 'eng'}, 'idx': 251, 'ms': None, 'ms_info': None, 'mfcc': None, 'mfcc_info': None, 'resnet': None}\n",
      "{'vidpath': 'europe_uefa-champions-league/2014-2015/2015-05-05 - 21-45 Juventus 2 - 1 Real Madrid', 'annotation': {'gameTime': '1 - 07:52', 'label': 'soccer-ball', 'team': 'home'}, 'label': 2, 'lang': {'lang': 'eng'}, 'idx': 252, 'ms': None, 'ms_info': None, 'mfcc': None, 'mfcc_info': None, 'resnet': None}\n",
      "{'vidpath': 'europe_uefa-champions-league/2014-2015/2015-05-05 - 21-45 Juventus 2 - 1 Real Madrid', 'annotation': {'gameTime': '1 - 26:10', 'label': 'soccer-ball', 'team': 'away'}, 'label': 2, 'lang': {'lang': 'eng'}, 'idx': 253, 'ms': None, 'ms_info': None, 'mfcc': None, 'mfcc_info': None, 'resnet': None}\n",
      "{'vidpath': 'europe_uefa-champions-league/2014-2015/2015-05-05 - 21-45 Juventus 2 - 1 Real Madrid', 'annotation': {'gameTime': '2 - 01:00', 'label': 'y-card', 'team': 'home'}, 'label': 0, 'lang': {'lang': 'eng'}, 'idx': 254, 'ms': None, 'ms_info': None, 'mfcc': None, 'mfcc_info': None, 'resnet': None}\n",
      "{'vidpath': 'europe_uefa-champions-league/2014-2015/2015-05-05 - 21-45 Juventus 2 - 1 Real Madrid', 'annotation': {'gameTime': '2 - 10:40', 'label': 'y-card', 'team': 'home'}, 'label': 0, 'lang': {'lang': 'eng'}, 'idx': 255, 'ms': None, 'ms_info': None, 'mfcc': None, 'mfcc_info': None, 'resnet': None}\n",
      "{'vidpath': 'europe_uefa-champions-league/2014-2015/2015-05-05 - 21-45 Juventus 2 - 1 Real Madrid', 'annotation': {'gameTime': '2 - 11:21', 'label': 'y-card', 'team': 'away'}, 'label': 0, 'lang': {'lang': 'eng'}, 'idx': 256, 'ms': None, 'ms_info': None, 'mfcc': None, 'mfcc_info': None, 'resnet': None}\n",
      "{'vidpath': 'europe_uefa-champions-league/2014-2015/2015-05-05 - 21-45 Juventus 2 - 1 Real Madrid', 'annotation': {'gameTime': '2 - 11:57', 'label': 'soccer-ball', 'team': 'home'}, 'label': 2, 'lang': {'lang': 'eng'}, 'idx': 257, 'ms': None, 'ms_info': None, 'mfcc': None, 'mfcc_info': None, 'resnet': None}\n",
      "{'vidpath': 'europe_uefa-champions-league/2014-2015/2015-05-05 - 21-45 Juventus 2 - 1 Real Madrid', 'annotation': {'gameTime': '2 - 17:43', 'label': 'substitution-in', 'team': 'away'}, 'label': 1, 'lang': {'lang': 'eng'}, 'idx': 258, 'ms': None, 'ms_info': None, 'mfcc': None, 'mfcc_info': None, 'resnet': None}\n",
      "{'vidpath': 'europe_uefa-champions-league/2014-2015/2015-05-05 - 21-45 Juventus 2 - 1 Real Madrid', 'annotation': {'gameTime': '2 - 18:57', 'label': 'substitution-in', 'team': 'home'}, 'label': 1, 'lang': {'lang': 'eng'}, 'idx': 259, 'ms': None, 'ms_info': None, 'mfcc': None, 'mfcc_info': None, 'resnet': None}\n",
      "{'vidpath': 'europe_uefa-champions-league/2014-2015/2015-05-05 - 21-45 Juventus 2 - 1 Real Madrid', 'annotation': {'gameTime': '2 - 29:33', 'label': 'y-card', 'team': 'away'}, 'label': 0, 'lang': {'lang': 'eng'}, 'idx': 260, 'ms': None, 'ms_info': None, 'mfcc': None, 'mfcc_info': None, 'resnet': None}\n",
      "{'vidpath': 'europe_uefa-champions-league/2014-2015/2015-05-05 - 21-45 Juventus 2 - 1 Real Madrid', 'annotation': {'gameTime': '2 - 32:49', 'label': 'substitution-in', 'team': 'home'}, 'label': 1, 'lang': {'lang': 'eng'}, 'idx': 261, 'ms': None, 'ms_info': None, 'mfcc': None, 'mfcc_info': None, 'resnet': None}\n",
      "{'vidpath': 'europe_uefa-champions-league/2014-2015/2015-05-05 - 21-45 Juventus 2 - 1 Real Madrid', 'annotation': {'gameTime': '2 - 39:29', 'label': 'y-card', 'team': 'away'}, 'label': 0, 'lang': {'lang': 'eng'}, 'idx': 262, 'ms': None, 'ms_info': None, 'mfcc': None, 'mfcc_info': None, 'resnet': None}\n",
      "{'vidpath': 'europe_uefa-champions-league/2014-2015/2015-05-05 - 21-45 Juventus 2 - 1 Real Madrid', 'annotation': {'gameTime': '2 - 40:18', 'label': 'substitution-in', 'team': 'home'}, 'label': 1, 'lang': {'lang': 'eng'}, 'idx': 263, 'ms': None, 'ms_info': None, 'mfcc': None, 'mfcc_info': None, 'resnet': None}\n",
      "{'vidpath': 'europe_uefa-champions-league/2014-2015/2015-05-05 - 21-45 Juventus 2 - 1 Real Madrid', 'annotation': {'gameTime': '2 - 40:35', 'label': 'substitution-in', 'team': 'away'}, 'label': 1, 'lang': {'lang': 'eng'}, 'idx': 264, 'ms': None, 'ms_info': None, 'mfcc': None, 'mfcc_info': None, 'resnet': None}\n",
      "{'vidpath': 'europe_uefa-champions-league/2014-2015/2015-05-05 - 21-45 Juventus 2 - 1 Real Madrid', 'annotation': {'gameTime': '2 - 47:02', 'label': 'y-card', 'team': 'home'}, 'label': 0, 'lang': {'lang': 'eng'}, 'idx': 265, 'ms': None, 'ms_info': None, 'mfcc': None, 'mfcc_info': None, 'resnet': None}\n",
      "{'vidpath': 'europe_uefa-champions-league/2015-2016/2015-11-03 - 22-45 Sevilla 1 - 3 Manchester City', 'annotation': {'gameTime': '1 - 07:43', 'label': 'soccer-ball', 'team': 'away'}, 'label': 2, 'lang': {'lang': 'eng'}, 'idx': 266, 'ms': None, 'ms_info': None, 'mfcc': None, 'mfcc_info': None, 'resnet': None}\n",
      "{'vidpath': 'europe_uefa-champions-league/2015-2016/2015-11-03 - 22-45 Sevilla 1 - 3 Manchester City', 'annotation': {'gameTime': '1 - 10:32', 'label': 'soccer-ball', 'team': 'away'}, 'label': 2, 'lang': {'lang': 'eng'}, 'idx': 267, 'ms': None, 'ms_info': None, 'mfcc': None, 'mfcc_info': None, 'resnet': None}\n",
      "{'vidpath': 'europe_uefa-champions-league/2015-2016/2015-11-03 - 22-45 Sevilla 1 - 3 Manchester City', 'annotation': {'gameTime': '1 - 24:10', 'label': 'soccer-ball', 'team': 'home'}, 'label': 2, 'lang': {'lang': 'eng'}, 'idx': 268, 'ms': None, 'ms_info': None, 'mfcc': None, 'mfcc_info': None, 'resnet': None}\n",
      "{'vidpath': 'europe_uefa-champions-league/2015-2016/2015-11-03 - 22-45 Sevilla 1 - 3 Manchester City', 'annotation': {'gameTime': '1 - 35:08', 'label': 'soccer-ball', 'team': 'away'}, 'label': 2, 'lang': {'lang': 'eng'}, 'idx': 269, 'ms': None, 'ms_info': None, 'mfcc': None, 'mfcc_info': None, 'resnet': None}\n",
      "{'vidpath': 'europe_uefa-champions-league/2015-2016/2015-11-03 - 22-45 Sevilla 1 - 3 Manchester City', 'annotation': {'gameTime': '1 - 42:45', 'label': 'y-card', 'team': 'home'}, 'label': 0, 'lang': {'lang': 'eng'}, 'idx': 270, 'ms': None, 'ms_info': None, 'mfcc': None, 'mfcc_info': None, 'resnet': None}\n",
      "{'vidpath': 'europe_uefa-champions-league/2015-2016/2015-11-03 - 22-45 Sevilla 1 - 3 Manchester City', 'annotation': {'gameTime': '2 - 00:00', 'label': 'substitution-in', 'team': 'home'}, 'label': 1, 'lang': {'lang': 'eng'}, 'idx': 271, 'ms': None, 'ms_info': None, 'mfcc': None, 'mfcc_info': None, 'resnet': None}\n",
      "{'vidpath': 'europe_uefa-champions-league/2015-2016/2015-11-03 - 22-45 Sevilla 1 - 3 Manchester City', 'annotation': {'gameTime': '2 - 10:09', 'label': 'substitution-in', 'team': 'home'}, 'label': 1, 'lang': {'lang': 'eng'}, 'idx': 272, 'ms': None, 'ms_info': None, 'mfcc': None, 'mfcc_info': None, 'resnet': None}\n",
      "{'vidpath': 'europe_uefa-champions-league/2015-2016/2015-11-03 - 22-45 Sevilla 1 - 3 Manchester City', 'annotation': {'gameTime': '2 - 19:00', 'label': 'substitution-in', 'team': 'home'}, 'label': 1, 'lang': {'lang': 'eng'}, 'idx': 273, 'ms': None, 'ms_info': None, 'mfcc': None, 'mfcc_info': None, 'resnet': None}\n",
      "{'vidpath': 'europe_uefa-champions-league/2015-2016/2015-11-03 - 22-45 Sevilla 1 - 3 Manchester City', 'annotation': {'gameTime': '2 - 27:37', 'label': 'substitution-in', 'team': 'away'}, 'label': 1, 'lang': {'lang': 'eng'}, 'idx': 274, 'ms': None, 'ms_info': None, 'mfcc': None, 'mfcc_info': None, 'resnet': None}\n",
      "{'vidpath': 'europe_uefa-champions-league/2015-2016/2015-11-03 - 22-45 Sevilla 1 - 3 Manchester City', 'annotation': {'gameTime': '2 - 40:23', 'label': 'substitution-in', 'team': 'away'}, 'label': 1, 'lang': {'lang': 'eng'}, 'idx': 275, 'ms': None, 'ms_info': None, 'mfcc': None, 'mfcc_info': None, 'resnet': None}\n",
      "{'vidpath': 'europe_uefa-champions-league/2015-2016/2015-11-03 - 22-45 Sevilla 1 - 3 Manchester City', 'annotation': {'gameTime': '2 - 44:39', 'label': 'substitution-in', 'team': 'away'}, 'label': 1, 'lang': {'lang': 'eng'}, 'idx': 276, 'ms': None, 'ms_info': None, 'mfcc': None, 'mfcc_info': None, 'resnet': None}\n",
      "{'vidpath': 'germany_bundesliga/2015-2016/2015-08-29 - 19-30 Bayern Munich 3 - 0 Bayer Leverkusen', 'annotation': {'gameTime': '1 - 05:15', 'label': 'y-card', 'team': 'away'}, 'label': 0, 'lang': {'lang': 'eng'}, 'idx': 277, 'ms': None, 'ms_info': None, 'mfcc': None, 'mfcc_info': None, 'resnet': None}\n",
      "{'vidpath': 'germany_bundesliga/2015-2016/2015-08-29 - 19-30 Bayern Munich 3 - 0 Bayer Leverkusen', 'annotation': {'gameTime': '1 - 07:35', 'label': 'y-card', 'team': 'home'}, 'label': 0, 'lang': {'lang': 'eng'}, 'idx': 278, 'ms': None, 'ms_info': None, 'mfcc': None, 'mfcc_info': None, 'resnet': None}\n",
      "{'vidpath': 'germany_bundesliga/2015-2016/2015-08-29 - 19-30 Bayern Munich 3 - 0 Bayer Leverkusen', 'annotation': {'gameTime': '1 - 17:58', 'label': 'y-card', 'team': 'away'}, 'label': 0, 'lang': {'lang': 'eng'}, 'idx': 279, 'ms': None, 'ms_info': None, 'mfcc': None, 'mfcc_info': None, 'resnet': None}\n",
      "{'vidpath': 'germany_bundesliga/2015-2016/2015-08-29 - 19-30 Bayern Munich 3 - 0 Bayer Leverkusen', 'annotation': {'gameTime': '1 - 17:58', 'label': 'y-card', 'team': 'home'}, 'label': 0, 'lang': {'lang': 'eng'}, 'idx': 280, 'ms': None, 'ms_info': None, 'mfcc': None, 'mfcc_info': None, 'resnet': None}\n",
      "{'vidpath': 'germany_bundesliga/2015-2016/2015-08-29 - 19-30 Bayern Munich 3 - 0 Bayer Leverkusen', 'annotation': {'gameTime': '1 - 25:48', 'label': 'soccer-ball', 'team': 'home'}, 'label': 2, 'lang': {'lang': 'eng'}, 'idx': 281, 'ms': None, 'ms_info': None, 'mfcc': None, 'mfcc_info': None, 'resnet': None}\n",
      "{'vidpath': 'germany_bundesliga/2015-2016/2015-08-29 - 19-30 Bayern Munich 3 - 0 Bayer Leverkusen', 'annotation': {'gameTime': '2 - 00:00', 'label': 'substitution-in', 'team': 'away'}, 'label': 1, 'lang': {'lang': 'eng'}, 'idx': 282, 'ms': None, 'ms_info': None, 'mfcc': None, 'mfcc_info': None, 'resnet': None}\n",
      "{'vidpath': 'germany_bundesliga/2015-2016/2015-08-29 - 19-30 Bayern Munich 3 - 0 Bayer Leverkusen', 'annotation': {'gameTime': '2 - 14:30', 'label': 'soccer-ball', 'team': 'home'}, 'label': 2, 'lang': {'lang': 'eng'}, 'idx': 283, 'ms': None, 'ms_info': None, 'mfcc': None, 'mfcc_info': None, 'resnet': None}\n",
      "{'vidpath': 'germany_bundesliga/2015-2016/2015-08-29 - 19-30 Bayern Munich 3 - 0 Bayer Leverkusen', 'annotation': {'gameTime': '2 - 15:18', 'label': 'substitution-in', 'team': 'away'}, 'label': 1, 'lang': {'lang': 'eng'}, 'idx': 284, 'ms': None, 'ms_info': None, 'mfcc': None, 'mfcc_info': None, 'resnet': None}\n",
      "{'vidpath': 'germany_bundesliga/2015-2016/2015-08-29 - 19-30 Bayern Munich 3 - 0 Bayer Leverkusen', 'annotation': {'gameTime': '2 - 25:07', 'label': 'soccer-ball', 'team': 'home'}, 'label': 2, 'lang': {'lang': 'eng'}, 'idx': 285, 'ms': None, 'ms_info': None, 'mfcc': None, 'mfcc_info': None, 'resnet': None}\n",
      "{'vidpath': 'germany_bundesliga/2015-2016/2015-08-29 - 19-30 Bayern Munich 3 - 0 Bayer Leverkusen', 'annotation': {'gameTime': '2 - 26:13', 'label': 'y-card', 'team': 'away'}, 'label': 0, 'lang': {'lang': 'eng'}, 'idx': 286, 'ms': None, 'ms_info': None, 'mfcc': None, 'mfcc_info': None, 'resnet': None}\n",
      "{'vidpath': 'germany_bundesliga/2015-2016/2015-08-29 - 19-30 Bayern Munich 3 - 0 Bayer Leverkusen', 'annotation': {'gameTime': '2 - 27:12', 'label': 'substitution-in', 'team': 'home'}, 'label': 1, 'lang': {'lang': 'eng'}, 'idx': 287, 'ms': None, 'ms_info': None, 'mfcc': None, 'mfcc_info': None, 'resnet': None}\n",
      "{'vidpath': 'germany_bundesliga/2015-2016/2015-08-29 - 19-30 Bayern Munich 3 - 0 Bayer Leverkusen', 'annotation': {'gameTime': '2 - 32:22', 'label': 'substitution-in', 'team': 'away'}, 'label': 1, 'lang': {'lang': 'eng'}, 'idx': 288, 'ms': None, 'ms_info': None, 'mfcc': None, 'mfcc_info': None, 'resnet': None}\n",
      "{'vidpath': 'germany_bundesliga/2015-2016/2015-08-29 - 19-30 Bayern Munich 3 - 0 Bayer Leverkusen', 'annotation': {'gameTime': '2 - 32:20', 'label': 'substitution-in', 'team': 'home'}, 'label': 1, 'lang': {'lang': 'eng'}, 'idx': 289, 'ms': None, 'ms_info': None, 'mfcc': None, 'mfcc_info': None, 'resnet': None}\n",
      "{'vidpath': 'germany_bundesliga/2015-2016/2015-08-29 - 19-30 Bayern Munich 3 - 0 Bayer Leverkusen', 'annotation': {'gameTime': '2 - 36:49', 'label': 'substitution-in', 'team': 'home'}, 'label': 1, 'lang': {'lang': 'eng'}, 'idx': 290, 'ms': None, 'ms_info': None, 'mfcc': None, 'mfcc_info': None, 'resnet': None}\n",
      "{'vidpath': 'italy_serie-a/2014-2015/2015-04-29 - 21-45 Juventus 3 - 2 Fiorentina', 'annotation': {'gameTime': '1 - 32:34', 'label': 'soccer-ball', 'team': 'away'}, 'label': 2, 'lang': {'lang': 'eng'}, 'idx': 291, 'ms': None, 'ms_info': None, 'mfcc': None, 'mfcc_info': None, 'resnet': None}\n",
      "{'vidpath': 'italy_serie-a/2014-2015/2015-04-29 - 21-45 Juventus 3 - 2 Fiorentina', 'annotation': {'gameTime': '1 - 34:32', 'label': 'y-card', 'team': 'away'}, 'label': 0, 'lang': {'lang': 'eng'}, 'idx': 292, 'ms': None, 'ms_info': None, 'mfcc': None, 'mfcc_info': None, 'resnet': None}\n",
      "{'vidpath': 'italy_serie-a/2014-2015/2015-04-29 - 21-45 Juventus 3 - 2 Fiorentina', 'annotation': {'gameTime': '1 - 35:02', 'label': 'soccer-ball', 'team': 'home'}, 'label': 2, 'lang': {'lang': 'eng'}, 'idx': 293, 'ms': None, 'ms_info': None, 'mfcc': None, 'mfcc_info': None, 'resnet': None}\n",
      "{'vidpath': 'italy_serie-a/2014-2015/2015-04-29 - 21-45 Juventus 3 - 2 Fiorentina', 'annotation': {'gameTime': '1 - 38:00', 'label': 'y-card', 'team': 'away'}, 'label': 0, 'lang': {'lang': 'eng'}, 'idx': 294, 'ms': None, 'ms_info': None, 'mfcc': None, 'mfcc_info': None, 'resnet': None}\n",
      "{'vidpath': 'italy_serie-a/2014-2015/2015-04-29 - 21-45 Juventus 3 - 2 Fiorentina', 'annotation': {'gameTime': '1 - 45:02', 'label': 'soccer-ball', 'team': 'home'}, 'label': 2, 'lang': {'lang': 'eng'}, 'idx': 295, 'ms': None, 'ms_info': None, 'mfcc': None, 'mfcc_info': None, 'resnet': None}\n",
      "{'vidpath': 'italy_serie-a/2014-2015/2015-04-29 - 21-45 Juventus 3 - 2 Fiorentina', 'annotation': {'gameTime': '2 - 03:46', 'label': 'y-card', 'team': 'home'}, 'label': 0, 'lang': {'lang': 'eng'}, 'idx': 296, 'ms': None, 'ms_info': None, 'mfcc': None, 'mfcc_info': None, 'resnet': None}\n",
      "{'vidpath': 'italy_serie-a/2014-2015/2015-04-29 - 21-45 Juventus 3 - 2 Fiorentina', 'annotation': {'gameTime': '2 - 10:26', 'label': 'substitution-in', 'team': 'home'}, 'label': 1, 'lang': {'lang': 'eng'}, 'idx': 297, 'ms': None, 'ms_info': None, 'mfcc': None, 'mfcc_info': None, 'resnet': None}\n",
      "{'vidpath': 'italy_serie-a/2014-2015/2015-04-29 - 21-45 Juventus 3 - 2 Fiorentina', 'annotation': {'gameTime': '2 - 24:14', 'label': 'soccer-ball', 'team': 'home'}, 'label': 2, 'lang': {'lang': 'eng'}, 'idx': 298, 'ms': None, 'ms_info': None, 'mfcc': None, 'mfcc_info': None, 'resnet': None}\n",
      "{'vidpath': 'italy_serie-a/2014-2015/2015-04-29 - 21-45 Juventus 3 - 2 Fiorentina', 'annotation': {'gameTime': '2 - 25:30', 'label': 'substitution-in', 'team': 'home'}, 'label': 1, 'lang': {'lang': 'eng'}, 'idx': 299, 'ms': None, 'ms_info': None, 'mfcc': None, 'mfcc_info': None, 'resnet': None}\n",
      "{'vidpath': 'italy_serie-a/2014-2015/2015-04-29 - 21-45 Juventus 3 - 2 Fiorentina', 'annotation': {'gameTime': '2 - 26:20', 'label': 'substitution-in', 'team': 'away'}, 'label': 1, 'lang': {'lang': 'eng'}, 'idx': 300, 'ms': None, 'ms_info': None, 'mfcc': None, 'mfcc_info': None, 'resnet': None}\n",
      "{'vidpath': 'italy_serie-a/2014-2015/2015-04-29 - 21-45 Juventus 3 - 2 Fiorentina', 'annotation': {'gameTime': '2 - 30:07', 'label': 'y-card', 'team': 'away'}, 'label': 0, 'lang': {'lang': 'eng'}, 'idx': 301, 'ms': None, 'ms_info': None, 'mfcc': None, 'mfcc_info': None, 'resnet': None}\n",
      "{'vidpath': 'italy_serie-a/2014-2015/2015-04-29 - 21-45 Juventus 3 - 2 Fiorentina', 'annotation': {'gameTime': '2 - 30:41', 'label': 'substitution-in', 'team': 'away'}, 'label': 1, 'lang': {'lang': 'eng'}, 'idx': 302, 'ms': None, 'ms_info': None, 'mfcc': None, 'mfcc_info': None, 'resnet': None}\n",
      "{'vidpath': 'italy_serie-a/2014-2015/2015-04-29 - 21-45 Juventus 3 - 2 Fiorentina', 'annotation': {'gameTime': '2 - 31:35', 'label': 'substitution-in', 'team': 'home'}, 'label': 1, 'lang': {'lang': 'eng'}, 'idx': 303, 'ms': None, 'ms_info': None, 'mfcc': None, 'mfcc_info': None, 'resnet': None}\n",
      "{'vidpath': 'italy_serie-a/2014-2015/2015-04-29 - 21-45 Juventus 3 - 2 Fiorentina', 'annotation': {'gameTime': '2 - 35:55', 'label': 'substitution-in', 'team': 'away'}, 'label': 1, 'lang': {'lang': 'eng'}, 'idx': 304, 'ms': None, 'ms_info': None, 'mfcc': None, 'mfcc_info': None, 'resnet': None}\n",
      "{'vidpath': 'italy_serie-a/2014-2015/2015-04-29 - 21-45 Juventus 3 - 2 Fiorentina', 'annotation': {'gameTime': '2 - 44:47', 'label': 'soccer-ball', 'team': 'away'}, 'label': 2, 'lang': {'lang': 'eng'}, 'idx': 305, 'ms': None, 'ms_info': None, 'mfcc': None, 'mfcc_info': None, 'resnet': None}\n",
      "{'vidpath': 'spain_laliga/2014-2015/2015-02-14 - 20-00 Real Madrid 2 - 0 Dep. La Coruna', 'annotation': {'gameTime': '1 - 22:00', 'label': 'soccer-ball', 'team': 'home'}, 'label': 2, 'lang': {'lang': 'eng'}, 'idx': 306, 'ms': None, 'ms_info': None, 'mfcc': None, 'mfcc_info': None, 'resnet': None}\n",
      "{'vidpath': 'spain_laliga/2014-2015/2015-02-14 - 20-00 Real Madrid 2 - 0 Dep. La Coruna', 'annotation': {'gameTime': '1 - 44:26', 'label': 'y-card', 'team': 'away'}, 'label': 0, 'lang': {'lang': 'eng'}, 'idx': 307, 'ms': None, 'ms_info': None, 'mfcc': None, 'mfcc_info': None, 'resnet': None}\n",
      "{'vidpath': 'spain_laliga/2014-2015/2015-02-14 - 20-00 Real Madrid 2 - 0 Dep. La Coruna', 'annotation': {'gameTime': '2 - 02:34', 'label': 'y-card', 'team': 'home'}, 'label': 0, 'lang': {'lang': 'eng'}, 'idx': 308, 'ms': None, 'ms_info': None, 'mfcc': None, 'mfcc_info': None, 'resnet': None}\n",
      "{'vidpath': 'spain_laliga/2014-2015/2015-02-14 - 20-00 Real Madrid 2 - 0 Dep. La Coruna', 'annotation': {'gameTime': '2 - 15:42', 'label': 'y-card', 'team': 'away'}, 'label': 0, 'lang': {'lang': 'eng'}, 'idx': 309, 'ms': None, 'ms_info': None, 'mfcc': None, 'mfcc_info': None, 'resnet': None}\n",
      "{'vidpath': 'spain_laliga/2014-2015/2015-02-14 - 20-00 Real Madrid 2 - 0 Dep. La Coruna', 'annotation': {'gameTime': '2 - 19:41', 'label': 'substitution-in', 'team': 'away'}, 'label': 1, 'lang': {'lang': 'eng'}, 'idx': 310, 'ms': None, 'ms_info': None, 'mfcc': None, 'mfcc_info': None, 'resnet': None}\n",
      "{'vidpath': 'spain_laliga/2014-2015/2015-02-14 - 20-00 Real Madrid 2 - 0 Dep. La Coruna', 'annotation': {'gameTime': '2 - 25:35', 'label': 'substitution-in', 'team': 'home'}, 'label': 1, 'lang': {'lang': 'eng'}, 'idx': 311, 'ms': None, 'ms_info': None, 'mfcc': None, 'mfcc_info': None, 'resnet': None}\n",
      "{'vidpath': 'spain_laliga/2014-2015/2015-02-14 - 20-00 Real Madrid 2 - 0 Dep. La Coruna', 'annotation': {'gameTime': '2 - 27:17', 'label': 'soccer-ball', 'team': 'home'}, 'label': 2, 'lang': {'lang': 'eng'}, 'idx': 312, 'ms': None, 'ms_info': None, 'mfcc': None, 'mfcc_info': None, 'resnet': None}\n",
      "{'vidpath': 'spain_laliga/2014-2015/2015-02-14 - 20-00 Real Madrid 2 - 0 Dep. La Coruna', 'annotation': {'gameTime': '2 - 32:45', 'label': 'y-card', 'team': 'home'}, 'label': 0, 'lang': {'lang': 'eng'}, 'idx': 313, 'ms': None, 'ms_info': None, 'mfcc': None, 'mfcc_info': None, 'resnet': None}\n",
      "{'vidpath': 'spain_laliga/2014-2015/2015-02-14 - 20-00 Real Madrid 2 - 0 Dep. La Coruna', 'annotation': {'gameTime': '2 - 33:52', 'label': 'substitution-in', 'team': 'away'}, 'label': 1, 'lang': {'lang': 'eng'}, 'idx': 314, 'ms': None, 'ms_info': None, 'mfcc': None, 'mfcc_info': None, 'resnet': None}\n",
      "{'vidpath': 'spain_laliga/2014-2015/2015-02-14 - 20-00 Real Madrid 2 - 0 Dep. La Coruna', 'annotation': {'gameTime': '2 - 34:48', 'label': 'substitution-in', 'team': 'home'}, 'label': 1, 'lang': {'lang': 'eng'}, 'idx': 315, 'ms': None, 'ms_info': None, 'mfcc': None, 'mfcc_info': None, 'resnet': None}\n",
      "{'vidpath': 'spain_laliga/2014-2015/2015-02-14 - 20-00 Real Madrid 2 - 0 Dep. La Coruna', 'annotation': {'gameTime': '2 - 37:41', 'label': 'y-card', 'team': 'away'}, 'label': 0, 'lang': {'lang': 'eng'}, 'idx': 316, 'ms': None, 'ms_info': None, 'mfcc': None, 'mfcc_info': None, 'resnet': None}\n",
      "{'vidpath': 'spain_laliga/2014-2015/2015-02-14 - 20-00 Real Madrid 2 - 0 Dep. La Coruna', 'annotation': {'gameTime': '2 - 39:00', 'label': 'substitution-in', 'team': 'away'}, 'label': 1, 'lang': {'lang': 'eng'}, 'idx': 317, 'ms': None, 'ms_info': None, 'mfcc': None, 'mfcc_info': None, 'resnet': None}\n",
      "{'vidpath': 'spain_laliga/2014-2015/2015-02-14 - 20-00 Real Madrid 2 - 0 Dep. La Coruna', 'annotation': {'gameTime': '2 - 40:38', 'label': 'substitution-in', 'team': 'home'}, 'label': 1, 'lang': {'lang': 'eng'}, 'idx': 318, 'ms': None, 'ms_info': None, 'mfcc': None, 'mfcc_info': None, 'resnet': None}\n",
      "{'vidpath': 'spain_laliga/2014-2015/2015-02-14 - 20-00 Real Madrid 2 - 0 Dep. La Coruna', 'annotation': {'gameTime': '2 - 43:18', 'label': 'y-card', 'team': 'away'}, 'label': 0, 'lang': {'lang': 'eng'}, 'idx': 319, 'ms': None, 'ms_info': None, 'mfcc': None, 'mfcc_info': None, 'resnet': None}\n",
      "{'vidpath': 'spain_laliga/2014-2015/2015-04-25 - 17-00 Espanyol 0 - 2 Barcelona', 'annotation': {'gameTime': '1 - 16:30', 'label': 'soccer-ball', 'team': 'away'}, 'label': 2, 'lang': {'lang': 'eng'}, 'idx': 320, 'ms': None, 'ms_info': None, 'mfcc': None, 'mfcc_info': None, 'resnet': None}\n",
      "{'vidpath': 'spain_laliga/2014-2015/2015-04-25 - 17-00 Espanyol 0 - 2 Barcelona', 'annotation': {'gameTime': '1 - 21:59', 'label': 'y-card', 'team': 'home'}, 'label': 0, 'lang': {'lang': 'eng'}, 'idx': 321, 'ms': None, 'ms_info': None, 'mfcc': None, 'mfcc_info': None, 'resnet': None}\n",
      "{'vidpath': 'spain_laliga/2014-2015/2015-04-25 - 17-00 Espanyol 0 - 2 Barcelona', 'annotation': {'gameTime': '1 - 24:37', 'label': 'soccer-ball', 'team': 'away'}, 'label': 2, 'lang': {'lang': 'eng'}, 'idx': 322, 'ms': None, 'ms_info': None, 'mfcc': None, 'mfcc_info': None, 'resnet': None}\n",
      "{'vidpath': 'spain_laliga/2014-2015/2015-04-25 - 17-00 Espanyol 0 - 2 Barcelona', 'annotation': {'gameTime': '2 - 08:20', 'label': 'y-card', 'team': 'away'}, 'label': 0, 'lang': {'lang': 'eng'}, 'idx': 323, 'ms': None, 'ms_info': None, 'mfcc': None, 'mfcc_info': None, 'resnet': None}\n",
      "{'vidpath': 'spain_laliga/2014-2015/2015-04-25 - 17-00 Espanyol 0 - 2 Barcelona', 'annotation': {'gameTime': '2 - 09:09', 'label': 'r-card', 'team': 'away'}, 'label': 0, 'lang': {'lang': 'eng'}, 'idx': 324, 'ms': None, 'ms_info': None, 'mfcc': None, 'mfcc_info': None, 'resnet': None}\n",
      "{'vidpath': 'spain_laliga/2014-2015/2015-04-25 - 17-00 Espanyol 0 - 2 Barcelona', 'annotation': {'gameTime': '2 - 12:50', 'label': 'y-card', 'team': 'home'}, 'label': 0, 'lang': {'lang': 'eng'}, 'idx': 325, 'ms': None, 'ms_info': None, 'mfcc': None, 'mfcc_info': None, 'resnet': None}\n",
      "{'vidpath': 'spain_laliga/2014-2015/2015-04-25 - 17-00 Espanyol 0 - 2 Barcelona', 'annotation': {'gameTime': '2 - 13:26', 'label': 'y-card', 'team': 'away'}, 'label': 0, 'lang': {'lang': 'eng'}, 'idx': 326, 'ms': None, 'ms_info': None, 'mfcc': None, 'mfcc_info': None, 'resnet': None}\n",
      "{'vidpath': 'spain_laliga/2014-2015/2015-04-25 - 17-00 Espanyol 0 - 2 Barcelona', 'annotation': {'gameTime': '2 - 15:07', 'label': 'substitution-in', 'team': 'home'}, 'label': 1, 'lang': {'lang': 'eng'}, 'idx': 327, 'ms': None, 'ms_info': None, 'mfcc': None, 'mfcc_info': None, 'resnet': None}\n",
      "{'vidpath': 'spain_laliga/2014-2015/2015-04-25 - 17-00 Espanyol 0 - 2 Barcelona', 'annotation': {'gameTime': '2 - 16:40', 'label': 'y-card', 'team': 'home'}, 'label': 0, 'lang': {'lang': 'eng'}, 'idx': 328, 'ms': None, 'ms_info': None, 'mfcc': None, 'mfcc_info': None, 'resnet': None}\n",
      "{'vidpath': 'spain_laliga/2014-2015/2015-04-25 - 17-00 Espanyol 0 - 2 Barcelona', 'annotation': {'gameTime': '2 - 19:09', 'label': 'substitution-in', 'team': 'away'}, 'label': 1, 'lang': {'lang': 'eng'}, 'idx': 329, 'ms': None, 'ms_info': None, 'mfcc': None, 'mfcc_info': None, 'resnet': None}\n",
      "{'vidpath': 'spain_laliga/2014-2015/2015-04-25 - 17-00 Espanyol 0 - 2 Barcelona', 'annotation': {'gameTime': '2 - 24:34', 'label': 'substitution-in', 'team': 'home'}, 'label': 1, 'lang': {'lang': 'eng'}, 'idx': 330, 'ms': None, 'ms_info': None, 'mfcc': None, 'mfcc_info': None, 'resnet': None}\n",
      "{'vidpath': 'spain_laliga/2014-2015/2015-04-25 - 17-00 Espanyol 0 - 2 Barcelona', 'annotation': {'gameTime': '2 - 26:54', 'label': 'y-card', 'team': 'home'}, 'label': 0, 'lang': {'lang': 'eng'}, 'idx': 331, 'ms': None, 'ms_info': None, 'mfcc': None, 'mfcc_info': None, 'resnet': None}\n",
      "{'vidpath': 'spain_laliga/2014-2015/2015-04-25 - 17-00 Espanyol 0 - 2 Barcelona', 'annotation': {'gameTime': '2 - 28:36', 'label': 'substitution-in', 'team': 'home'}, 'label': 1, 'lang': {'lang': 'eng'}, 'idx': 332, 'ms': None, 'ms_info': None, 'mfcc': None, 'mfcc_info': None, 'resnet': None}\n",
      "{'vidpath': 'spain_laliga/2014-2015/2015-04-25 - 17-00 Espanyol 0 - 2 Barcelona', 'annotation': {'gameTime': '2 - 34:07', 'label': 'substitution-in', 'team': 'away'}, 'label': 1, 'lang': {'lang': 'eng'}, 'idx': 333, 'ms': None, 'ms_info': None, 'mfcc': None, 'mfcc_info': None, 'resnet': None}\n",
      "{'vidpath': 'spain_laliga/2014-2015/2015-04-25 - 17-00 Espanyol 0 - 2 Barcelona', 'annotation': {'gameTime': '2 - 34:31', 'label': 'y-card', 'team': 'home'}, 'label': 0, 'lang': {'lang': 'eng'}, 'idx': 334, 'ms': None, 'ms_info': None, 'mfcc': None, 'mfcc_info': None, 'resnet': None}\n",
      "{'vidpath': 'spain_laliga/2014-2015/2015-04-25 - 17-00 Espanyol 0 - 2 Barcelona', 'annotation': {'gameTime': '2 - 37:40', 'label': 'y-card', 'team': 'away'}, 'label': 0, 'lang': {'lang': 'eng'}, 'idx': 335, 'ms': None, 'ms_info': None, 'mfcc': None, 'mfcc_info': None, 'resnet': None}\n",
      "{'vidpath': 'spain_laliga/2014-2015/2015-04-25 - 17-00 Espanyol 0 - 2 Barcelona', 'annotation': {'gameTime': '2 - 42:13', 'label': 'substitution-in', 'team': 'away'}, 'label': 1, 'lang': {'lang': 'eng'}, 'idx': 336, 'ms': None, 'ms_info': None, 'mfcc': None, 'mfcc_info': None, 'resnet': None}\n",
      "{'vidpath': 'spain_laliga/2014-2015/2015-04-25 - 17-00 Espanyol 0 - 2 Barcelona', 'annotation': {'gameTime': '2 - 45:52', 'label': 'y-card', 'team': 'home'}, 'label': 0, 'lang': {'lang': 'eng'}, 'idx': 337, 'ms': None, 'ms_info': None, 'mfcc': None, 'mfcc_info': None, 'resnet': None}\n",
      "{'vidpath': 'spain_laliga/2014-2015/2015-04-25 - 17-00 Espanyol 0 - 2 Barcelona', 'annotation': {'gameTime': '2 - 46:00', 'label': 'yr-card', 'team': 'home'}, 'label': 0, 'lang': {'lang': 'eng'}, 'idx': 338, 'ms': None, 'ms_info': None, 'mfcc': None, 'mfcc_info': None, 'resnet': None}\n",
      "{'vidpath': 'spain_laliga/2014-2015/2015-05-02 - 17-00 Cordoba 0 - 8 Barcelona', 'annotation': {'gameTime': '1 - 41:48', 'label': 'soccer-ball', 'team': 'away'}, 'label': 2, 'lang': {'lang': 'eng'}, 'idx': 339, 'ms': None, 'ms_info': None, 'mfcc': None, 'mfcc_info': None, 'resnet': None}\n",
      "{'vidpath': 'spain_laliga/2014-2015/2015-05-02 - 17-00 Cordoba 0 - 8 Barcelona', 'annotation': {'gameTime': '1 - 46:54', 'label': 'soccer-ball', 'team': 'away'}, 'label': 2, 'lang': {'lang': 'eng'}, 'idx': 340, 'ms': None, 'ms_info': None, 'mfcc': None, 'mfcc_info': None, 'resnet': None}\n",
      "{'vidpath': 'spain_laliga/2014-2015/2015-05-02 - 17-00 Cordoba 0 - 8 Barcelona', 'annotation': {'gameTime': '2 - 00:00', 'label': 'substitution-in', 'team': 'home'}, 'label': 1, 'lang': {'lang': 'eng'}, 'idx': 341, 'ms': None, 'ms_info': None, 'mfcc': None, 'mfcc_info': None, 'resnet': None}\n",
      "{'vidpath': 'spain_laliga/2014-2015/2015-05-02 - 17-00 Cordoba 0 - 8 Barcelona', 'annotation': {'gameTime': '2 - 00:59', 'label': 'soccer-ball', 'team': 'away'}, 'label': 2, 'lang': {'lang': 'eng'}, 'idx': 342, 'ms': None, 'ms_info': None, 'mfcc': None, 'mfcc_info': None, 'resnet': None}\n",
      "{'vidpath': 'spain_laliga/2014-2015/2015-05-02 - 17-00 Cordoba 0 - 8 Barcelona', 'annotation': {'gameTime': '2 - 06:31', 'label': 'y-card', 'team': 'home'}, 'label': 0, 'lang': {'lang': 'eng'}, 'idx': 343, 'ms': None, 'ms_info': None, 'mfcc': None, 'mfcc_info': None, 'resnet': None}\n",
      "{'vidpath': 'spain_laliga/2014-2015/2015-05-02 - 17-00 Cordoba 0 - 8 Barcelona', 'annotation': {'gameTime': '2 - 07:43', 'label': 'soccer-ball', 'team': 'away'}, 'label': 2, 'lang': {'lang': 'eng'}, 'idx': 344, 'ms': None, 'ms_info': None, 'mfcc': None, 'mfcc_info': None, 'resnet': None}\n",
      "{'vidpath': 'spain_laliga/2014-2015/2015-05-02 - 17-00 Cordoba 0 - 8 Barcelona', 'annotation': {'gameTime': '2 - 12:39', 'label': 'substitution-in', 'team': 'home'}, 'label': 1, 'lang': {'lang': 'eng'}, 'idx': 345, 'ms': None, 'ms_info': None, 'mfcc': None, 'mfcc_info': None, 'resnet': None}\n",
      "{'vidpath': 'spain_laliga/2014-2015/2015-05-02 - 17-00 Cordoba 0 - 8 Barcelona', 'annotation': {'gameTime': '2 - 15:28', 'label': 'substitution-in', 'team': 'away'}, 'label': 1, 'lang': {'lang': 'eng'}, 'idx': 346, 'ms': None, 'ms_info': None, 'mfcc': None, 'mfcc_info': None, 'resnet': None}\n",
      "{'vidpath': 'spain_laliga/2014-2015/2015-05-02 - 17-00 Cordoba 0 - 8 Barcelona', 'annotation': {'gameTime': '2 - 15:49', 'label': 'substitution-in', 'team': 'home'}, 'label': 1, 'lang': {'lang': 'eng'}, 'idx': 347, 'ms': None, 'ms_info': None, 'mfcc': None, 'mfcc_info': None, 'resnet': None}\n",
      "{'vidpath': 'spain_laliga/2014-2015/2015-05-02 - 17-00 Cordoba 0 - 8 Barcelona', 'annotation': {'gameTime': '2 - 16:00', 'label': 'substitution-in', 'team': 'away'}, 'label': 1, 'lang': {'lang': 'eng'}, 'idx': 348, 'ms': None, 'ms_info': None, 'mfcc': None, 'mfcc_info': None, 'resnet': None}\n",
      "{'vidpath': 'spain_laliga/2014-2015/2015-05-02 - 17-00 Cordoba 0 - 8 Barcelona', 'annotation': {'gameTime': '2 - 19:49', 'label': 'soccer-ball', 'team': 'away'}, 'label': 2, 'lang': {'lang': 'eng'}, 'idx': 349, 'ms': None, 'ms_info': None, 'mfcc': None, 'mfcc_info': None, 'resnet': None}\n",
      "{'vidpath': 'spain_laliga/2014-2015/2015-05-02 - 17-00 Cordoba 0 - 8 Barcelona', 'annotation': {'gameTime': '2 - 23:02', 'label': 'substitution-in', 'team': 'away'}, 'label': 1, 'lang': {'lang': 'eng'}, 'idx': 350, 'ms': None, 'ms_info': None, 'mfcc': None, 'mfcc_info': None, 'resnet': None}\n",
      "{'vidpath': 'spain_laliga/2014-2015/2015-05-02 - 17-00 Cordoba 0 - 8 Barcelona', 'annotation': {'gameTime': '2 - 34:13', 'label': 'soccer-ball', 'team': 'away'}, 'label': 2, 'lang': {'lang': 'eng'}, 'idx': 351, 'ms': None, 'ms_info': None, 'mfcc': None, 'mfcc_info': None, 'resnet': None}\n",
      "{'vidpath': 'spain_laliga/2014-2015/2015-05-02 - 17-00 Cordoba 0 - 8 Barcelona', 'annotation': {'gameTime': '2 - 39:16', 'label': 'soccer-ball', 'team': 'away'}, 'label': 2, 'lang': {'lang': 'eng'}, 'idx': 352, 'ms': None, 'ms_info': None, 'mfcc': None, 'mfcc_info': None, 'resnet': None}\n",
      "{'vidpath': 'spain_laliga/2014-2015/2015-05-02 - 17-00 Cordoba 0 - 8 Barcelona', 'annotation': {'gameTime': '2 - 42:10', 'label': 'soccer-ball', 'team': 'away'}, 'label': 2, 'lang': {'lang': 'eng'}, 'idx': 353, 'ms': None, 'ms_info': None, 'mfcc': None, 'mfcc_info': None, 'resnet': None}\n"
     ]
    }
   ],
   "source": [
    "for i,d in enumerate(ds):\n",
    "    print(d)"
   ]
  },
  {
   "cell_type": "code",
   "execution_count": 85,
   "metadata": {},
   "outputs": [
    {
     "data": {
      "text/plain": [
       "354"
      ]
     },
     "execution_count": 85,
     "metadata": {},
     "output_type": "execute_result"
    }
   ],
   "source": [
    "len(ds)"
   ]
  },
  {
   "cell_type": "code",
   "execution_count": 61,
   "metadata": {},
   "outputs": [
    {
     "data": {
      "text/plain": [
       "81"
      ]
     },
     "execution_count": 61,
     "metadata": {},
     "output_type": "execute_result"
    }
   ],
   "source": [
    "len(samples)"
   ]
  },
  {
   "cell_type": "code",
   "execution_count": 27,
   "metadata": {},
   "outputs": [],
   "source": [
    "\n",
    "with open('/work/oarongve/project-daredevil/project-daredevil/language-annotations/annotations/test_lang_dict.json') as file:\n",
    "    \n",
    "    lang_annotations_test = json.load(file)"
   ]
  },
  {
   "cell_type": "code",
   "execution_count": null,
   "metadata": {},
   "outputs": [],
   "source": [
    "samples = list()\n",
    "for e in Testlist:\n",
    "    samples.append(np.load(root_dir+e+\"/1_wave.npy\"))\n",
    "    "
   ]
  },
  {
   "cell_type": "code",
   "execution_count": null,
   "metadata": {},
   "outputs": [],
   "source": [
    "%%time\n",
    "spectrograms = list()\n",
    "for e in samples:\n",
    "    spectrograms.append(torchaudio.transforms.MelSpectrogram(sample_rate=8000,win_length=400,hop_length=400,n_fft=512)(torch.Tensor(e)).log2())"
   ]
  },
  {
   "cell_type": "code",
   "execution_count": null,
   "metadata": {},
   "outputs": [],
   "source": [
    "spectrograms[0].size()[1] / 20"
   ]
  },
  {
   "cell_type": "code",
   "execution_count": null,
   "metadata": {},
   "outputs": [],
   "source": [
    "del spectrograms"
   ]
  },
  {
   "cell_type": "code",
   "execution_count": null,
   "metadata": {},
   "outputs": [],
   "source": [
    "del samples"
   ]
  },
  {
   "cell_type": "code",
   "execution_count": null,
   "metadata": {},
   "outputs": [],
   "source": [
    "spectrograms[0].size()"
   ]
  },
  {
   "cell_type": "code",
   "execution_count": null,
   "metadata": {},
   "outputs": [],
   "source": [
    "spectrograms[0].view(13824128).size()"
   ]
  },
  {
   "cell_type": "code",
   "execution_count": null,
   "metadata": {},
   "outputs": [],
   "source": [
    "X = torch.rand((12,4,8,10))"
   ]
  },
  {
   "cell_type": "code",
   "execution_count": null,
   "metadata": {},
   "outputs": [],
   "source": [
    "X.view((X.size()[0],-1)).size()"
   ]
  },
  {
   "cell_type": "code",
   "execution_count": null,
   "metadata": {},
   "outputs": [],
   "source": [
    "8000 / 400"
   ]
  },
  {
   "cell_type": "code",
   "execution_count": null,
   "metadata": {},
   "outputs": [],
   "source": [
    "for e in samples:\n",
    "    print(e.shape[0] / 8000 * 20) "
   ]
  },
  {
   "cell_type": "code",
   "execution_count": null,
   "metadata": {},
   "outputs": [],
   "source": [
    "samples[0].shape[0] / 16000"
   ]
  },
  {
   "cell_type": "code",
   "execution_count": null,
   "metadata": {},
   "outputs": [],
   "source": [
    "X.shape"
   ]
  },
  {
   "cell_type": "markdown",
   "metadata": {},
   "source": []
  },
  {
   "cell_type": "code",
   "execution_count": null,
   "metadata": {},
   "outputs": [],
   "source": [
    "import matplotlib.pyplot as plt"
   ]
  },
  {
   "cell_type": "code",
   "execution_count": null,
   "metadata": {},
   "outputs": [],
   "source": [
    "plt.plot(X[:6000])"
   ]
  },
  {
   "cell_type": "code",
   "execution_count": null,
   "metadata": {},
   "outputs": [],
   "source": [
    "%%time\n",
    "ms = torchaudio.transforms.MelSpectrogram(sample_rate=8000,win_length=400,hop_length=400,n_fft=512)(torch.Tensor(X)).log2()"
   ]
  },
  {
   "cell_type": "code",
   "execution_count": null,
   "metadata": {},
   "outputs": [],
   "source": [
    "plt.imshow(ms)"
   ]
  },
  {
   "cell_type": "code",
   "execution_count": null,
   "metadata": {},
   "outputs": [],
   "source": [
    "ms.size()"
   ]
  },
  {
   "cell_type": "code",
   "execution_count": null,
   "metadata": {},
   "outputs": [],
   "source": [
    "ms_numpy = ms.numpy()"
   ]
  },
  {
   "cell_type": "code",
   "execution_count": null,
   "metadata": {},
   "outputs": [],
   "source": [
    "ms_numpy.nbytes / 1E6"
   ]
  },
  {
   "cell_type": "code",
   "execution_count": null,
   "metadata": {},
   "outputs": [],
   "source": [
    "help(torchaudio.transforms.MelSpectrogram())"
   ]
  },
  {
   "cell_type": "code",
   "execution_count": 42,
   "metadata": {},
   "outputs": [],
   "source": [
    "X = {\"1\":\"a\",\"2\":\"b\"}"
   ]
  },
  {
   "cell_type": "code",
   "execution_count": 44,
   "metadata": {},
   "outputs": [
    {
     "name": "stdout",
     "output_type": "stream",
     "text": [
      "a\n",
      "b\n"
     ]
    }
   ],
   "source": [
    "for key in X:\n",
    "    print(X[key])"
   ]
  },
  {
   "cell_type": "code",
   "execution_count": null,
   "metadata": {},
   "outputs": [],
   "source": []
  }
 ],
 "metadata": {
  "kernelspec": {
   "display_name": "project-daredevil",
   "language": "python",
   "name": "project-daredevil"
  },
  "language_info": {
   "codemirror_mode": {
    "name": "ipython",
    "version": 3
   },
   "file_extension": ".py",
   "mimetype": "text/x-python",
   "name": "python",
   "nbconvert_exporter": "python",
   "pygments_lexer": "ipython3",
   "version": "3.6.9"
  }
 },
 "nbformat": 4,
 "nbformat_minor": 4
}
