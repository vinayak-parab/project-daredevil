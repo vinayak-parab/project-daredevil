{
 "cells": [
  {
   "cell_type": "code",
   "execution_count": 1,
   "metadata": {},
   "outputs": [
    {
     "name": "stderr",
     "output_type": "stream",
     "text": [
      "/home/oarongve/.local/share/virtualenvs/project-daredevil-8eBKzQn6/lib/python3.6/site-packages/torchaudio/backend/utils.py:54: UserWarning: \"sox\" backend is being deprecated. The default backend will be changed to \"sox_io\" backend in 0.8.0 and \"sox\" backend will be removed in 0.9.0. Please migrate to \"sox_io\" backend. Please refer to https://github.com/pytorch/audio/issues/903 for the detail.\n",
      "  '\"sox\" backend is being deprecated. '\n"
     ]
    }
   ],
   "source": [
    "import numpy as np\n",
    "import os, sys\n",
    "sys.path.append('../')\n",
    "from src.datasets.soccernet_generic import soccernet_dataset_generic\n",
    "from src.utils.helper import samples_by_language\n",
    "import src.utils.training_helper as training_helper\n",
    "import torch\n",
    "from torch.utils.data import Dataset, DataLoader"
   ]
  },
  {
   "cell_type": "code",
   "execution_count": 2,
   "metadata": {},
   "outputs": [],
   "source": [
    "root_dir = \"/work/oarongve/data/sound_dataset/SoccerNet-code/data/\"\n",
    "train_list = \"/work/oarongve/data/sound_dataset/SoccerNet-code/data/listgame_Train_300.npy\"\n",
    "valid_list = \"/work/oarongve/data/sound_dataset/SoccerNet-code/data/listgame_Valid_100.npy\"\n",
    "test_list = \"/work/oarongve/data/sound_dataset/SoccerNet-code/data/listgame_Test_100.npy\"\n"
   ]
  },
  {
   "cell_type": "code",
   "execution_count": 3,
   "metadata": {},
   "outputs": [],
   "source": [
    "# Disable warnings\n",
    "import warnings\n",
    "warnings.filterwarnings('ignore')"
   ]
  },
  {
   "cell_type": "code",
   "execution_count": 4,
   "metadata": {},
   "outputs": [
    {
     "name": "stdout",
     "output_type": "stream",
     "text": [
      "Tue Dec  1 00:40:52 2020       \n",
      "+-----------------------------------------------------------------------------+\n",
      "| NVIDIA-SMI 418.165.02   Driver Version: 418.165.02   CUDA Version: 10.1     |\n",
      "|-------------------------------+----------------------+----------------------+\n",
      "| GPU  Name        Persistence-M| Bus-Id        Disp.A | Volatile Uncorr. ECC |\n",
      "| Fan  Temp  Perf  Pwr:Usage/Cap|         Memory-Usage | GPU-Util  Compute M. |\n",
      "|===============================+======================+======================|\n",
      "|   0  Tesla V100-SXM3...  On   | 00000000:E2:00.0 Off |                    0 |\n",
      "| N/A   34C    P0    67W / 350W |      0MiB / 32480MiB |      0%      Default |\n",
      "+-------------------------------+----------------------+----------------------+\n",
      "                                                                               \n",
      "+-----------------------------------------------------------------------------+\n",
      "| Processes:                                                       GPU Memory |\n",
      "|  GPU       PID   Type   Process name                             Usage      |\n",
      "|=============================================================================|\n",
      "|  No running processes found                                                 |\n",
      "+-----------------------------------------------------------------------------+\n"
     ]
    }
   ],
   "source": [
    "%%bash\n",
    "nvidia-smi"
   ]
  },
  {
   "cell_type": "code",
   "execution_count": 5,
   "metadata": {},
   "outputs": [],
   "source": [
    "langpath_train = '/work/oarongve/project-daredevil/project-daredevil/language-annotations/annotations/train_lang_dict.json'\n",
    "langpath_valid = '/work/oarongve/project-daredevil/project-daredevil/language-annotations/annotations/valid_lang_dict.json'\n",
    "langpath_test = '/work/oarongve/project-daredevil/project-daredevil/language-annotations/annotations/test_lang_dict.json'\n",
    "\n",
    "samples_train_all = samples_by_language(langpath_train,train_list,'all')\n",
    "samples_valid_all = samples_by_language(langpath_valid,valid_list,'all')\n",
    "samples_test_all = samples_by_language(langpath_test,test_list,'all')\n",
    "\n",
    "samples_train_english = samples_by_language(langpath_train,train_list,'eng')\n",
    "samples_valid_english = samples_by_language(langpath_valid,valid_list,'eng')\n",
    "samples_test_english = samples_by_language(langpath_test,test_list,'eng')\n",
    "\n",
    "samples_train_other = samples_by_language(langpath_train,train_list,'other')\n",
    "samples_valid_other = samples_by_language(langpath_valid,valid_list,'other')\n",
    "samples_test_other = samples_by_language(langpath_test,test_list,'other')"
   ]
  },
  {
   "cell_type": "code",
   "execution_count": 6,
   "metadata": {},
   "outputs": [],
   "source": [
    "train_set_all = soccernet_dataset_generic(npy_file=train_list,root_dir=root_dir,lang='all',lang_dict=langpath_train)\n",
    "valid_set_all = soccernet_dataset_generic(npy_file=valid_list,root_dir=root_dir,lang='all',lang_dict=langpath_valid)\n",
    "\n",
    "train_set_english = soccernet_dataset_generic(npy_file=train_list,root_dir=root_dir,lang='eng',lang_dict=langpath_train)\n",
    "valid_set_english = soccernet_dataset_generic(npy_file=valid_list,root_dir=root_dir,lang='eng',lang_dict=langpath_valid)\n",
    "\n",
    "train_set_other = soccernet_dataset_generic(npy_file=train_list,root_dir=root_dir,lang='other',lang_dict=langpath_train)\n",
    "valid_set_other = soccernet_dataset_generic(npy_file=valid_list,root_dir=root_dir,lang='other',lang_dict=langpath_valid)"
   ]
  },
  {
   "cell_type": "code",
   "execution_count": 7,
   "metadata": {},
   "outputs": [],
   "source": [
    "params = {'batch_size': 32,\n",
    "         'shuffle': True,\n",
    "         'num_workers':4}\n",
    "\n",
    "# window size\n",
    "\n",
    "w = 8\n",
    "\n",
    "device = torch.device(\"cuda:0\" if torch.cuda.is_available() else \"cpu\")"
   ]
  },
  {
   "cell_type": "code",
   "execution_count": 8,
   "metadata": {},
   "outputs": [
    {
     "name": "stderr",
     "output_type": "stream",
     "text": [
      "100%|██████████| 300/300 [00:35<00:00,  8.43it/s]\n",
      "100%|██████████| 100/100 [00:11<00:00,  8.74it/s]\n",
      "100%|██████████| 300/300 [00:11<00:00, 26.26it/s]\n",
      "100%|██████████| 100/100 [00:03<00:00, 26.45it/s]\n",
      "100%|██████████| 300/300 [00:02<00:00, 120.55it/s]\n",
      "100%|██████████| 100/100 [00:00<00:00, 122.86it/s]\n",
      "100%|██████████| 219/219 [00:25<00:00,  8.70it/s]\n",
      "100%|██████████| 68/68 [00:07<00:00,  8.75it/s]\n",
      "100%|██████████| 219/219 [00:08<00:00, 26.47it/s]\n",
      "100%|██████████| 68/68 [00:02<00:00, 26.76it/s]\n",
      "100%|██████████| 219/219 [00:01<00:00, 123.19it/s]\n",
      "100%|██████████| 68/68 [00:00<00:00, 124.07it/s]\n",
      "100%|██████████| 81/81 [00:09<00:00,  8.63it/s]\n",
      "100%|██████████| 32/32 [00:03<00:00,  8.74it/s]\n",
      "100%|██████████| 81/81 [00:03<00:00, 25.92it/s]\n",
      "100%|██████████| 32/32 [00:01<00:00, 26.53it/s]\n",
      "100%|██████████| 81/81 [00:00<00:00, 114.60it/s]\n",
      "100%|██████████| 32/32 [00:00<00:00, 113.95it/s]\n"
     ]
    }
   ],
   "source": [
    "train_set_all.load_waves()\n",
    "valid_set_all.load_waves()\n",
    "\n",
    "train_set_all.generate_mel_spectrograms(load_features=True)\n",
    "valid_set_all.generate_mel_spectrograms(load_features=True)\n",
    "\n",
    "train_set_all.load_resnet_features()\n",
    "valid_set_all.load_resnet_features()\n",
    "\n",
    "train_set_other.load_waves()\n",
    "valid_set_other.load_waves()\n",
    "\n",
    "train_set_other.generate_mel_spectrograms(load_features=True)\n",
    "valid_set_other.generate_mel_spectrograms(load_features=True)\n",
    "\n",
    "train_set_other.load_resnet_features()\n",
    "valid_set_other.load_resnet_features()\n",
    "\n",
    "train_set_english.load_waves()\n",
    "valid_set_english.load_waves()\n",
    "\n",
    "train_set_english.generate_mel_spectrograms(load_features=True)\n",
    "valid_set_english.generate_mel_spectrograms(load_features=True)\n",
    "\n",
    "train_set_english.load_resnet_features()\n",
    "valid_set_english.load_resnet_features()\n"
   ]
  },
  {
   "cell_type": "code",
   "execution_count": 9,
   "metadata": {},
   "outputs": [],
   "source": [
    "# window size\n",
    "train_set_all.set_window_size(w)\n",
    "valid_set_all.set_window_size(w)\n",
    "\n",
    "train_set_english.set_window_size(w)\n",
    "valid_set_english.set_window_size(w)\n",
    "\n",
    "train_set_other.set_window_size(w)\n",
    "valid_set_other.set_window_size(w)"
   ]
  },
  {
   "cell_type": "code",
   "execution_count": 10,
   "metadata": {},
   "outputs": [],
   "source": [
    "trainloader_all = DataLoader(train_set_all,**params)\n",
    "validloader_all = DataLoader(valid_set_all,**params)\n",
    "\n",
    "trainloader_eng = DataLoader(train_set_english,**params)\n",
    "validloader_eng = DataLoader(valid_set_english,**params)\n",
    "\n",
    "trainloader_other = DataLoader(train_set_other,**params)\n",
    "validloader_other = DataLoader(valid_set_other,**params)"
   ]
  },
  {
   "cell_type": "markdown",
   "metadata": {},
   "source": [
    "# Case 1: Trained on all, test and evaluate on all, english, other"
   ]
  },
  {
   "cell_type": "code",
   "execution_count": 11,
   "metadata": {},
   "outputs": [],
   "source": [
    "import torchvision\n",
    "import torch.optim as optim\n",
    "import torch.nn as nn\n",
    "resnet_all = torchvision.models.resnet18(pretrained=True)\n",
    "resnet_all.conv1 = nn.Conv2d(1,64,kernel_size=(7,7),stride=(2,2),padding=(3,3),bias=False)\n",
    "resnet_all.fc = nn.Linear(512,4,bias=True)\n",
    "#resnet.features.conv0 = nn.Conv2d(1, 96, kernel_size=(7, 7), stride=(2, 2), padding=(3, 3), bias=False)\n",
    "#resnet.classifier = nn.Linear(in_features=densenet.classifier.in_features, out_features=3,bias=True)\n",
    "\n",
    "\n",
    "criterion_all = nn.CrossEntropyLoss()\n",
    "optimizer_all = optim.SGD(resnet_all.parameters(), lr=0.0001, momentum=0.9)"
   ]
  },
  {
   "cell_type": "code",
   "execution_count": 12,
   "metadata": {},
   "outputs": [
    {
     "name": "stdout",
     "output_type": "stream",
     "text": [
      "new best acc\n",
      " Accuracy : 0.49589744210243225\n",
      "new best acc\n",
      " Accuracy : 0.5615384578704834\n",
      "new best acc\n",
      " Accuracy : 0.5969230532646179\n",
      "new best acc\n",
      " Accuracy : 0.6164102554321289\n",
      "new best acc\n",
      " Accuracy : 0.6215384602546692\n",
      "new best acc\n",
      " Accuracy : 0.6297435760498047\n",
      "new best acc\n",
      " Accuracy : 0.6333333253860474\n",
      "new best acc\n",
      " Accuracy : 0.6384615302085876\n",
      "new best acc\n",
      " Accuracy : 0.653333306312561\n",
      " Accuracy : 0.6430768966674805\n",
      " Accuracy : 0.6502563953399658\n",
      " Accuracy : 0.6528205275535583\n",
      "new best acc\n",
      " Accuracy : 0.6548718214035034\n",
      " Accuracy : 0.6538461446762085\n",
      " Accuracy : 0.6251282095909119\n",
      "Finished Training\n"
     ]
    }
   ],
   "source": [
    "resnet_all,eng_all = training_helper.train_model(model=resnet_all,\n",
    "           epochs=15,\n",
    "           trainloader=trainloader_all,\n",
    "           validloader=validloader_all,\n",
    "           criterion=criterion_all,\n",
    "           optimizer=optimizer_all,\n",
    "           device=device)"
   ]
  },
  {
   "cell_type": "code",
   "execution_count": 13,
   "metadata": {},
   "outputs": [
    {
     "name": "stdout",
     "output_type": "stream",
     "text": [
      "Accuracy : 0.6555023789405823\n",
      "Accuracy : 0.6548718214035034\n",
      "Accuracy : 0.6545729637145996\n"
     ]
    }
   ],
   "source": [
    "acc_all_eng = training_helper.evaluate_model(resnet_all,validloader_eng,device)\n",
    "acc_all_all = training_helper.evaluate_model(resnet_all,validloader_all,device)\n",
    "acc_all_other = training_helper.evaluate_model(resnet_all,validloader_other,device)"
   ]
  },
  {
   "cell_type": "code",
   "execution_count": 14,
   "metadata": {},
   "outputs": [
    {
     "name": "stdout",
     "output_type": "stream",
     "text": [
      "tensor(0.6555)\n",
      "tensor(0.6549)\n",
      "tensor(0.6546)\n"
     ]
    }
   ],
   "source": [
    "print(acc_all_eng)\n",
    "print(acc_all_all)\n",
    "print(acc_all_other)"
   ]
  },
  {
   "cell_type": "markdown",
   "metadata": {},
   "source": [
    "# Case 2: Trained on english, tested on english, other, all"
   ]
  },
  {
   "cell_type": "code",
   "execution_count": 15,
   "metadata": {},
   "outputs": [],
   "source": [
    "import torchvision\n",
    "import torch.optim as optim\n",
    "import torch.nn as nn\n",
    "resnet_eng = torchvision.models.resnet18(pretrained=True)\n",
    "resnet_eng.conv1 = nn.Conv2d(1,64,kernel_size=(7,7),stride=(2,2),padding=(3,3),bias=False)\n",
    "resnet_eng.fc = nn.Linear(512,4,bias=True)\n",
    "#resnet.features.conv0 = nn.Conv2d(1, 96, kernel_size=(7, 7), stride=(2, 2), padding=(3, 3), bias=False)\n",
    "#resnet.classifier = nn.Linear(in_features=densenet.classifier.in_features, out_features=3,bias=True)\n",
    "\n",
    "\n",
    "criterion_eng = nn.CrossEntropyLoss()\n",
    "optimizer_eng = optim.SGD(resnet_eng.parameters(), lr=0.0001, momentum=0.9)"
   ]
  },
  {
   "cell_type": "code",
   "execution_count": 16,
   "metadata": {},
   "outputs": [
    {
     "name": "stdout",
     "output_type": "stream",
     "text": [
      "new best acc\n",
      " Accuracy : 0.30622008442878723\n",
      "new best acc\n",
      " Accuracy : 0.38915470242500305\n",
      "new best acc\n",
      " Accuracy : 0.4370015859603882\n",
      "new best acc\n",
      " Accuracy : 0.4784688949584961\n",
      "new best acc\n",
      " Accuracy : 0.5263158082962036\n",
      "new best acc\n",
      " Accuracy : 0.5326953530311584\n",
      " Accuracy : 0.49920254945755005\n",
      "new best acc\n",
      " Accuracy : 0.5518341064453125\n",
      "new best acc\n",
      " Accuracy : 0.5550239086151123\n",
      "new best acc\n",
      " Accuracy : 0.5741626620292664\n",
      "new best acc\n",
      " Accuracy : 0.5837320685386658\n",
      " Accuracy : 0.5566188097000122\n",
      "new best acc\n",
      " Accuracy : 0.59968101978302\n",
      " Accuracy : 0.5885167717933655\n",
      " Accuracy : 0.5917065143585205\n",
      "Finished Training\n"
     ]
    }
   ],
   "source": [
    "resnet_eng,eng_acc = training_helper.train_model(model=resnet_eng,\n",
    "           epochs=15,\n",
    "           trainloader=trainloader_eng,\n",
    "           validloader=validloader_eng,\n",
    "           criterion=criterion_eng,\n",
    "           optimizer=optimizer_eng,\n",
    "           device=device)"
   ]
  },
  {
   "cell_type": "code",
   "execution_count": 17,
   "metadata": {},
   "outputs": [
    {
     "name": "stdout",
     "output_type": "stream",
     "text": [
      "Accuracy : 0.59968101978302\n",
      "Accuracy : 0.5502564311027527\n",
      "Accuracy : 0.5253212451934814\n"
     ]
    }
   ],
   "source": [
    "acc_eng_eng = training_helper.evaluate_model(resnet_eng,validloader_eng,device)\n",
    "acc_eng_all = training_helper.evaluate_model(resnet_eng,validloader_all,device)\n",
    "acc_eng_other = training_helper.evaluate_model(resnet_eng,validloader_other,device)\n"
   ]
  },
  {
   "cell_type": "code",
   "execution_count": 18,
   "metadata": {},
   "outputs": [
    {
     "name": "stdout",
     "output_type": "stream",
     "text": [
      "tensor(0.5997)\n",
      "tensor(0.5503)\n",
      "tensor(0.5253)\n"
     ]
    }
   ],
   "source": [
    "print(acc_eng_eng)\n",
    "print(acc_eng_all)\n",
    "print(acc_eng_other)"
   ]
  },
  {
   "cell_type": "markdown",
   "metadata": {},
   "source": [
    "# Case 3: trained on other, tested on all, english, other"
   ]
  },
  {
   "cell_type": "code",
   "execution_count": 19,
   "metadata": {},
   "outputs": [],
   "source": [
    "import torchvision\n",
    "import torch.optim as optim\n",
    "import torch.nn as nn\n",
    "resnet_other = torchvision.models.resnet18(pretrained=True)\n",
    "resnet_other.conv1 = nn.Conv2d(1,64,kernel_size=(7,7),stride=(2,2),padding=(3,3),bias=False)\n",
    "resnet_other.fc = nn.Linear(512,4,bias=True)\n",
    "#resnet.features.conv0 = nn.Conv2d(1, 96, kernel_size=(7, 7), stride=(2, 2), padding=(3, 3), bias=False)\n",
    "#resnet.classifier = nn.Linear(in_features=densenet.classifier.in_features, out_features=3,bias=True)\n",
    "\n",
    "\n",
    "criterion_other = nn.CrossEntropyLoss()\n",
    "optimizer_other = optim.SGD(resnet_other.parameters(), lr=0.0001, momentum=0.9)"
   ]
  },
  {
   "cell_type": "code",
   "execution_count": 20,
   "metadata": {},
   "outputs": [
    {
     "name": "stdout",
     "output_type": "stream",
     "text": [
      "new best acc\n",
      " Accuracy : 0.4164777100086212\n",
      "new best acc\n",
      " Accuracy : 0.509448230266571\n",
      "new best acc\n",
      " Accuracy : 0.5820105671882629\n",
      " Accuracy : 0.5789871215820312\n",
      "new best acc\n",
      " Accuracy : 0.6016628742218018\n",
      "new best acc\n",
      " Accuracy : 0.6235827803611755\n",
      "new best acc\n",
      " Accuracy : 0.6515495181083679\n",
      " Accuracy : 0.6356765031814575\n",
      " Accuracy : 0.6409674882888794\n",
      " Accuracy : 0.6500377655029297\n",
      " Accuracy : 0.6364323496818542\n",
      " Accuracy : 0.6485260725021362\n",
      " Accuracy : 0.6500377655029297\n",
      "new best acc\n",
      " Accuracy : 0.6591081023216248\n",
      "new best acc\n",
      " Accuracy : 0.6606197953224182\n",
      "Finished Training\n"
     ]
    }
   ],
   "source": [
    "resnet_eng,eng_acc = training_helper.train_model(model=resnet_other,\n",
    "           epochs=15,\n",
    "           trainloader=trainloader_other,\n",
    "           validloader=validloader_other,\n",
    "           criterion=criterion_other,\n",
    "           optimizer=optimizer_other,\n",
    "           device=device)"
   ]
  },
  {
   "cell_type": "code",
   "execution_count": 21,
   "metadata": {},
   "outputs": [
    {
     "name": "stdout",
     "output_type": "stream",
     "text": [
      "Accuracy : 0.6555023789405823\n",
      "Accuracy : 0.6548718214035034\n",
      "Accuracy : 0.6545729637145996\n"
     ]
    }
   ],
   "source": [
    "acc_other_eng = training_helper.evaluate_model(resnet_eng,validloader_eng,device)\n",
    "acc_other_all = training_helper.evaluate_model(resnet_eng,validloader_all,device)\n",
    "acc_other_other = training_helper.evaluate_model(resnet_eng,validloader_other,device)"
   ]
  }
 ],
 "metadata": {
  "kernelspec": {
   "display_name": "project-daredevil",
   "language": "python",
   "name": "project-daredevil"
  },
  "language_info": {
   "codemirror_mode": {
    "name": "ipython",
    "version": 3
   },
   "file_extension": ".py",
   "mimetype": "text/x-python",
   "name": "python",
   "nbconvert_exporter": "python",
   "pygments_lexer": "ipython3",
   "version": "3.6.9"
  }
 },
 "nbformat": 4,
 "nbformat_minor": 2
}
